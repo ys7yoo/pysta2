{
 "cells": [
  {
   "cell_type": "code",
   "execution_count": 1,
   "metadata": {},
   "outputs": [],
   "source": [
    "import pandas as pd\n",
    "import numpy as np\n",
    "import matplotlib.pyplot as plt\n",
    "import seaborn as sns\n",
    "\n",
    "import pysta\n",
    "import stc\n",
    "\n",
    "import os\n",
    "\n",
    "%load_ext autoreload\n",
    "%autoreload 2"
   ]
  },
  {
   "cell_type": "markdown",
   "metadata": {},
   "source": [
    "# run for all cells (OFF LINE)\n",
    "\n",
    "run \n",
    "```\n",
    "python3 stcl_batch.py [DATASET] --dim D\n",
    "```\n",
    "\n",
    "datasets\n",
    "* 20180618\n",
    "* 20180621\n",
    "* 20180626\n",
    "* 20180828"
   ]
  },
  {
   "cell_type": "markdown",
   "metadata": {},
   "source": [
    "## load stim and spike data"
   ]
  },
  {
   "cell_type": "code",
   "execution_count": 2,
   "metadata": {},
   "outputs": [
    {
     "name": "stdout",
     "output_type": "stream",
     "text": [
      "['dataset_name', 'stim', 'spike_train', 'info']\n",
      "(64, 9000)\n",
      "(156, 9000)\n",
      "{'channel_names': ['12a', '12b', '12c', '13a', '13b', '13c', '13d', '13e', '14a', '14b', '14c', '14d', '16a', '16b', '16c', '17a', '17b', '17c', '17d', '21a', '21b', '21c', '21d', '21e', '22a', '22b', '23a', '23b', '23c', '23d', '25a', '25b', '25c', '26a', '26b', '26c', '26d', '27a', '27b', '27c', '27d', '28a', '28b', '28c', '31a', '31b', '31c', '31d', '32a', '32b', '32c', '33a', '33b', '33c', '33d', '35a', '35b', '35c', '35d', '35e', '35f', '35g', '36a', '36b', '36c', '36d', '37a', '37b', '37c', '37d', '37e', '38a', '41a', '41b', '41c', '41d', '42a', '42b', '42c', '43a', '43b', '43c', '45a', '45b', '45c', '46a', '46b', '47a', '48a', '48b', '48c', '48d', '48e', '51a', '51b', '53a', '53b', '53c', '53d', '54a', '54b', '54c', '54d', '56a', '56b', '58a', '61a', '61b', '62a', '62b', '63a', '63b', '63c', '63d', '63e', '64a', '65a', '65b', '65c', '68a', '68b', '71a', '71b', '71c', '72a', '72b', '72c', '72d', '72e', '73a', '73b', '73c', '74a', '74b', '74c', '74d', '75a', '76a', '76b', '76c', '77a', '82a', '82b', '82c', '83a', '83b', '83c', '85a', '85b', '86a', '86b', '86c', '86d', '87a', '87b', '87c'], 'sampling_rate': 10.0, 'cell_types': ['unknown', 'OFF', 'unknown', 'unknown', 'unknown', 'unknown', 'unknown', 'unknown', 'OFF', 'OFF', 'unknown', 'unknown', 'unknown', 'unknown', 'unknown', 'ON', 'unknown', 'unknown', 'unknown', 'OFF', 'unknown', 'unknown', 'unknown', 'unknown', 'ON/OFF', 'ON/OFF', 'unknown', 'ON/OFF', 'unknown', 'unknown', 'ON', 'ON/OFF', 'unknown', 'ON/OFF', 'ON/OFF', 'unknown', 'unknown', 'ON/OFF', 'ON', 'unknown', 'unknown', 'unknown', 'unknown', 'ON', 'unknown', 'ON', 'unknown', 'unknown', 'unknown', 'unknown', 'unknown', 'ON', 'ON/OFF', 'unknown', 'unknown', 'unknown', 'unknown', 'unknown', 'unknown', 'unknown', 'unknown', 'unknown', 'unknown', 'unknown', 'ON/OFF', 'unknown', 'unknown', 'ON/OFF', 'ON/OFF', 'unknown', 'unknown', 'unknown', 'OFF', 'unknown', 'unknown', 'unknown', 'unknown', 'unknown', 'unknown', 'unknown', 'unknown', 'unknown', 'ON', 'unknown', 'unknown', 'unknown', 'unknown', 'OFF', 'unknown', 'unknown', 'unknown', 'unknown', 'unknown', 'unknown', 'unknown', 'unknown', 'unknown', 'unknown', 'unknown', 'OFF', 'unknown', 'unknown', 'unknown', 'OFF', 'unknown', 'unknown', 'OFF', 'unknown', 'unknown', 'unknown', 'OFF', 'unknown', 'unknown', 'unknown', 'unknown', 'unknown', 'OFF', 'unknown', 'unknown', 'unknown', 'unknown', 'unknown', 'ON/OFF', 'ON/OFF', 'OFF', 'unknown', 'unknown', 'unknown', 'unknown', 'ON', 'unknown', 'unknown', 'OFF', 'OFF', 'unknown', 'unknown', 'ON/OFF', 'unknown', 'unknown', 'unknown', 'unknown', 'unknown', 'ON/OFF', 'unknown', 'ON/OFF', 'unknown', 'ON/OFF', 'unknown', 'unknown', 'ON/OFF', 'unknown', 'unknown', 'unknown', 'ON/OFF', 'unknown', 'unknown']}\n"
     ]
    }
   ],
   "source": [
    "folder_name = \"data\"\n",
    "\n",
    "#dataset_name = \"20180618\"\n",
    "#dataset_name = \"20180621\"\n",
    "dataset_name = \"20180626\"\n",
    "# dataset_name = \"20180828\"\n",
    "\n",
    "stim, spike_train, info = pysta.load_data(dataset_name, folder_name)\n",
    "\n",
    "# channel_names = [ch.replace(\"ch_\",\"\") for ch in info[\"channel_names\"]]   # NOT NEEDED ANYMORE\n",
    "# info[\"channel_names\"]\n",
    "# info[\"cell_types\"]\n"
   ]
  },
  {
   "cell_type": "code",
   "execution_count": 3,
   "metadata": {},
   "outputs": [],
   "source": [
    "# calc number of spikes\n",
    "tap = 8 # -700 ms ~ 0\n",
    "\n",
    "num_samples = list()\n",
    "for idx in range(spike_train.shape[0]):    \n",
    "    spike_triggered_stim, spike_count = pysta.grab_spike_triggered_stim(stim, spike_train[idx], tap)\n",
    "    num_samples.append(spike_triggered_stim.shape[0])\n",
    "\n",
    "num_samples_df = pd.DataFrame({\"channel_name\": info[\"channel_names\"], \"number_of_samples\": num_samples})\n",
    "# num_samples_df"
   ]
  },
  {
   "cell_type": "markdown",
   "metadata": {},
   "source": [
    "## read clustering results (dim=1)"
   ]
  },
  {
   "cell_type": "code",
   "execution_count": null,
   "metadata": {},
   "outputs": [],
   "source": [
    "dim = 1\n",
    "folder_name = \"{}_tap{}_stc_classic_cluster_dim{}\".format(dataset_name, tap, dim)\n",
    "filename = os.path.join(folder_name, \"clusters.csv\")\n",
    "\n",
    "clusters = pd.read_csv(filename)\n",
    "# weights\n",
    "# weights.head()\n",
    "\n",
    "clusters[\"max_weight\"] = np.maximum(clusters[\"weight1\"], clusters[\"weight2\"])\n",
    "\n",
    "clusters = clusters.merge(num_samples_df, on=\"channel_name\") #, how=\"outer\")\n",
    "\n",
    "filename = os.path.join(folder_name, \"clusters_combined.csv\")\n",
    "clusters.to_csv(filename, index=None)"
   ]
  },
  {
   "cell_type": "code",
   "execution_count": null,
   "metadata": {},
   "outputs": [],
   "source": [
    "clusters_with_negative_inner_product = clusters.loc[clusters[\"inner_product\"]<0,:]\n",
    "\n",
    "print(len(clusters_with_negative_inner_product), len(clusters))\n",
    "clusters_with_negative_inner_product"
   ]
  },
  {
   "cell_type": "code",
   "execution_count": null,
   "metadata": {},
   "outputs": [],
   "source": [
    "bins = np.linspace(0.5, 1, 20)\n",
    "plt.hist(clusters[\"max_weight\"], bins=bins)\n",
    "#clusters[\"max_weight\"].hist()\n",
    "#plt.\n",
    "plt.savefig(\"{}/max_weight_hist.png\".format(folder_name))"
   ]
  },
  {
   "cell_type": "code",
   "execution_count": null,
   "metadata": {},
   "outputs": [],
   "source": [
    "clusters[\"inner_product\"].hist()\n",
    "plt.savefig(\"{}/inner_product_hist.png\".format(folder_name))"
   ]
  },
  {
   "cell_type": "markdown",
   "metadata": {},
   "source": [
    "## clustering with 2 dim"
   ]
  },
  {
   "cell_type": "code",
   "execution_count": 4,
   "metadata": {},
   "outputs": [],
   "source": [
    "dim = 2\n",
    "folder_name = \"{}_tap{}_stc_classic_cluster_dim{}\".format(dataset_name, tap, dim)\n",
    "filename = os.path.join(folder_name, \"clusters.csv\")\n",
    "\n",
    "clusters_dim2 = pd.read_csv(filename)\n",
    "# weights\n",
    "# weights.head()\n",
    "\n",
    "clusters_dim2[\"max_weight\"] = np.maximum(clusters_dim2[\"weight1\"], clusters_dim2[\"weight2\"])\n",
    "\n",
    "clusters_dim2 = clusters_dim2.merge(num_samples_df, on=\"channel_name\") #, how=\"outer\")\n",
    "\n",
    "filename = os.path.join(folder_name, \"clusters_combined.csv\")\n",
    "clusters_dim2.to_csv(filename, index=None)"
   ]
  },
  {
   "cell_type": "code",
   "execution_count": 6,
   "metadata": {},
   "outputs": [
    {
     "name": "stdout",
     "output_type": "stream",
     "text": [
      "118 156\n"
     ]
    },
    {
     "data": {
      "text/html": [
       "<div>\n",
       "<style scoped>\n",
       "    .dataframe tbody tr th:only-of-type {\n",
       "        vertical-align: middle;\n",
       "    }\n",
       "\n",
       "    .dataframe tbody tr th {\n",
       "        vertical-align: top;\n",
       "    }\n",
       "\n",
       "    .dataframe thead th {\n",
       "        text-align: right;\n",
       "    }\n",
       "</style>\n",
       "<table border=\"1\" class=\"dataframe\">\n",
       "  <thead>\n",
       "    <tr style=\"text-align: right;\">\n",
       "      <th></th>\n",
       "      <th>channel_name</th>\n",
       "      <th>weight1</th>\n",
       "      <th>weight2</th>\n",
       "      <th>inner_product</th>\n",
       "      <th>max_weight</th>\n",
       "      <th>number_of_samples</th>\n",
       "    </tr>\n",
       "  </thead>\n",
       "  <tbody>\n",
       "    <tr>\n",
       "      <th>0</th>\n",
       "      <td>12a</td>\n",
       "      <td>0.474547</td>\n",
       "      <td>0.525453</td>\n",
       "      <td>-0.131497</td>\n",
       "      <td>0.525453</td>\n",
       "      <td>2868</td>\n",
       "    </tr>\n",
       "    <tr>\n",
       "      <th>1</th>\n",
       "      <td>12b</td>\n",
       "      <td>0.472841</td>\n",
       "      <td>0.527159</td>\n",
       "      <td>-0.100928</td>\n",
       "      <td>0.527159</td>\n",
       "      <td>1123</td>\n",
       "    </tr>\n",
       "    <tr>\n",
       "      <th>3</th>\n",
       "      <td>13a</td>\n",
       "      <td>0.494100</td>\n",
       "      <td>0.505900</td>\n",
       "      <td>-0.202205</td>\n",
       "      <td>0.505900</td>\n",
       "      <td>6610</td>\n",
       "    </tr>\n",
       "    <tr>\n",
       "      <th>6</th>\n",
       "      <td>13d</td>\n",
       "      <td>0.503472</td>\n",
       "      <td>0.496528</td>\n",
       "      <td>-0.317902</td>\n",
       "      <td>0.503472</td>\n",
       "      <td>288</td>\n",
       "    </tr>\n",
       "    <tr>\n",
       "      <th>7</th>\n",
       "      <td>13e</td>\n",
       "      <td>0.491071</td>\n",
       "      <td>0.508929</td>\n",
       "      <td>-0.212121</td>\n",
       "      <td>0.508929</td>\n",
       "      <td>112</td>\n",
       "    </tr>\n",
       "    <tr>\n",
       "      <th>...</th>\n",
       "      <td>...</td>\n",
       "      <td>...</td>\n",
       "      <td>...</td>\n",
       "      <td>...</td>\n",
       "      <td>...</td>\n",
       "      <td>...</td>\n",
       "    </tr>\n",
       "    <tr>\n",
       "      <th>150</th>\n",
       "      <td>86b</td>\n",
       "      <td>0.466216</td>\n",
       "      <td>0.533784</td>\n",
       "      <td>-0.310025</td>\n",
       "      <td>0.533784</td>\n",
       "      <td>1332</td>\n",
       "    </tr>\n",
       "    <tr>\n",
       "      <th>151</th>\n",
       "      <td>86c</td>\n",
       "      <td>0.500000</td>\n",
       "      <td>0.500000</td>\n",
       "      <td>-0.218429</td>\n",
       "      <td>0.500000</td>\n",
       "      <td>526</td>\n",
       "    </tr>\n",
       "    <tr>\n",
       "      <th>152</th>\n",
       "      <td>86d</td>\n",
       "      <td>0.503356</td>\n",
       "      <td>0.496644</td>\n",
       "      <td>-0.124781</td>\n",
       "      <td>0.503356</td>\n",
       "      <td>149</td>\n",
       "    </tr>\n",
       "    <tr>\n",
       "      <th>154</th>\n",
       "      <td>87b</td>\n",
       "      <td>0.488041</td>\n",
       "      <td>0.511959</td>\n",
       "      <td>-0.117703</td>\n",
       "      <td>0.511959</td>\n",
       "      <td>3512</td>\n",
       "    </tr>\n",
       "    <tr>\n",
       "      <th>155</th>\n",
       "      <td>87c</td>\n",
       "      <td>0.497196</td>\n",
       "      <td>0.502804</td>\n",
       "      <td>-0.221364</td>\n",
       "      <td>0.502804</td>\n",
       "      <td>535</td>\n",
       "    </tr>\n",
       "  </tbody>\n",
       "</table>\n",
       "<p>118 rows × 6 columns</p>\n",
       "</div>"
      ],
      "text/plain": [
       "    channel_name   weight1   weight2  inner_product  max_weight  \\\n",
       "0            12a  0.474547  0.525453      -0.131497    0.525453   \n",
       "1            12b  0.472841  0.527159      -0.100928    0.527159   \n",
       "3            13a  0.494100  0.505900      -0.202205    0.505900   \n",
       "6            13d  0.503472  0.496528      -0.317902    0.503472   \n",
       "7            13e  0.491071  0.508929      -0.212121    0.508929   \n",
       "..           ...       ...       ...            ...         ...   \n",
       "150          86b  0.466216  0.533784      -0.310025    0.533784   \n",
       "151          86c  0.500000  0.500000      -0.218429    0.500000   \n",
       "152          86d  0.503356  0.496644      -0.124781    0.503356   \n",
       "154          87b  0.488041  0.511959      -0.117703    0.511959   \n",
       "155          87c  0.497196  0.502804      -0.221364    0.502804   \n",
       "\n",
       "     number_of_samples  \n",
       "0                 2868  \n",
       "1                 1123  \n",
       "3                 6610  \n",
       "6                  288  \n",
       "7                  112  \n",
       "..                 ...  \n",
       "150               1332  \n",
       "151                526  \n",
       "152                149  \n",
       "154               3512  \n",
       "155                535  \n",
       "\n",
       "[118 rows x 6 columns]"
      ]
     },
     "execution_count": 6,
     "metadata": {},
     "output_type": "execute_result"
    }
   ],
   "source": [
    "clusters_with_negative_inner_product_dim2 = clusters_dim2.loc[clusters_dim2[\"inner_product\"]<0,:]\n",
    "\n",
    "print(len(clusters_with_negative_inner_product_dim2), len(clusters_dim2))\n",
    "clusters_with_negative_inner_product_dim2"
   ]
  },
  {
   "cell_type": "code",
   "execution_count": 7,
   "metadata": {},
   "outputs": [
    {
     "data": {
      "image/png": "[encoded data removed]",
      "text/plain": [
       "<Figure size 432x288 with 1 Axes>"
      ]
     },
     "metadata": {
      "needs_background": "light"
     },
     "output_type": "display_data"
    }
   ],
   "source": [
    "bins = np.linspace(0.5, 1, 20)\n",
    "plt.hist(clusters_dim2[\"max_weight\"], bins=bins)\n",
    "plt.xlabel(\"max weight\")\n",
    "plt.ylabel(\"count\")\n",
    "#clusters[\"max_weight\"].hist()\n",
    "#plt.\n",
    "plt.savefig(\"{}/max_weight_hist.png\".format(folder_name))"
   ]
  },
  {
   "cell_type": "code",
   "execution_count": 8,
   "metadata": {},
   "outputs": [
    {
     "data": {
      "image/png": "[encoded data removed]",
      "text/plain": [
       "<Figure size 432x288 with 1 Axes>"
      ]
     },
     "metadata": {
      "needs_background": "light"
     },
     "output_type": "display_data"
    }
   ],
   "source": [
    "clusters_dim2[\"inner_product\"].hist()\n",
    "plt.xlabel(\"inner product\")\n",
    "plt.ylabel(\"count\")\n",
    "plt.savefig(\"{}/inner_product_hist.png\".format(folder_name))"
   ]
  },
  {
   "cell_type": "markdown",
   "metadata": {},
   "source": [
    "## clustering with 3 dim"
   ]
  },
  {
   "cell_type": "code",
   "execution_count": null,
   "metadata": {},
   "outputs": [],
   "source": [
    "dim = 3\n",
    "folder_name = \"{}_tap{}_stc_classic_cluster_dim{}\".format(dataset_name, tap, dim)\n",
    "\n",
    "filename = os.path.join(folder_name, \"clusters.csv\")\n",
    "\n",
    "clusters = pd.read_csv(filename)\n",
    "# weights\n",
    "# weights.head()\n",
    "\n",
    "clusters[\"max_weight\"] = np.maximum(clusters[\"weight1\"], clusters[\"weight2\"])\n",
    "\n",
    "clusters = clusters.merge(num_samples_df, on=\"channel_name\") #, how=\"outer\")\n",
    "\n",
    "filename = os.path.join(folder_name, \"clusters_combined.csv\")\n",
    "clusters.to_csv(filename, index=None)"
   ]
  },
  {
   "cell_type": "code",
   "execution_count": null,
   "metadata": {},
   "outputs": [],
   "source": [
    "clusters_with_negative_inner_product = clusters.loc[clusters[\"inner_product\"]<0,:]\n",
    "\n",
    "print(len(clusters_with_negative_inner_product), len(clusters))\n",
    "clusters_with_negative_inner_product"
   ]
  },
  {
   "cell_type": "code",
   "execution_count": null,
   "metadata": {},
   "outputs": [],
   "source": [
    "bins = np.linspace(0.5, 1, 20)\n",
    "plt.hist(clusters[\"max_weight\"], bins=bins)\n",
    "#clusters[\"max_weight\"].hist()\n",
    "#plt.\n",
    "plt.savefig(\"{}/max_weight_hist.png\".format(folder_name))"
   ]
  },
  {
   "cell_type": "code",
   "execution_count": null,
   "metadata": {},
   "outputs": [],
   "source": [
    "clusters[\"inner_product\"].hist()\n",
    "plt.savefig(\"{}/inner_product_hist.png\".format(folder_name))"
   ]
  },
  {
   "cell_type": "markdown",
   "metadata": {},
   "source": [
    "## paired t-test\n",
    "\n",
    "https://docs.scipy.org/doc/scipy/reference/generated/scipy.stats.ttest_rel.html"
   ]
  },
  {
   "cell_type": "code",
   "execution_count": 10,
   "metadata": {},
   "outputs": [],
   "source": [
    "from scipy import stats"
   ]
  },
  {
   "cell_type": "code",
   "execution_count": 15,
   "metadata": {},
   "outputs": [
    {
     "data": {
      "text/plain": [
       "Ttest_relResult(statistic=nan, pvalue=nan)"
      ]
     },
     "execution_count": 15,
     "metadata": {},
     "output_type": "execute_result"
    }
   ],
   "source": [
    "stats.ttest_rel(clusters_dim2[\"max_weight\"], clusters_dim2[\"max_weight\"])"
   ]
  },
  {
   "cell_type": "code",
   "execution_count": 12,
   "metadata": {},
   "outputs": [
    {
     "data": {
      "text/plain": [
       "Ttest_relResult(statistic=nan, pvalue=nan)"
      ]
     },
     "execution_count": 12,
     "metadata": {},
     "output_type": "execute_result"
    }
   ],
   "source": [
    "stats.ttest_rel(clusters_dim2[\"inner_product\"], clusters_dim2[\"inner_product\"])"
   ]
  },
  {
   "cell_type": "code",
   "execution_count": null,
   "metadata": {},
   "outputs": [],
   "source": []
  }
 ],
 "metadata": {
  "kernelspec": {
   "display_name": "Python 3",
   "language": "python",
   "name": "python3"
  },
  "language_info": {
   "codemirror_mode": {
    "name": "ipython",
    "version": 3
   },
   "file_extension": ".py",
   "mimetype": "text/x-python",
   "name": "python",
   "nbconvert_exporter": "python",
   "pygments_lexer": "ipython3",
   "version": "3.6.9"
  }
 },
 "nbformat": 4,
 "nbformat_minor": 2
}
