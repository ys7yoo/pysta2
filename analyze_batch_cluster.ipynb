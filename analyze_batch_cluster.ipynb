{
 "cells": [
  {
   "cell_type": "code",
   "execution_count": 1,
   "metadata": {},
   "outputs": [],
   "source": [
    "import pandas as pd\n",
    "import numpy as np\n",
    "import matplotlib.pyplot as plt\n",
    "import seaborn as sns\n",
    "\n",
    "import pysta\n",
    "import stc\n",
    "\n",
    "import os\n",
    "\n",
    "%load_ext autoreload\n",
    "%autoreload 2"
   ]
  },
  {
   "cell_type": "markdown",
   "metadata": {},
   "source": [
    "# run for all cells (OFF LINE)\n",
    "\n",
    "run \n",
    "```\n",
    "python3 stcl_batch.py [DATASET] --dim D\n",
    "```\n",
    "\n",
    "datasets\n",
    "* 20180618\n",
    "* 20180621\n",
    "* 20180626\n",
    "* 20180828"
   ]
  },
  {
   "cell_type": "markdown",
   "metadata": {},
   "source": [
    "## load stim and spike data"
   ]
  },
  {
   "cell_type": "code",
   "execution_count": 2,
   "metadata": {},
   "outputs": [
    {
     "name": "stdout",
     "output_type": "stream",
     "text": [
      "['dataset_name', 'stim', 'spike_train', 'info']\n",
      "(64, 9000)\n",
      "(156, 9000)\n",
      "{'channel_names': ['12a', '12b', '12c', '13a', '13b', '13c', '13d', '13e', '14a', '14b', '14c', '14d', '16a', '16b', '16c', '17a', '17b', '17c', '17d', '21a', '21b', '21c', '21d', '21e', '22a', '22b', '23a', '23b', '23c', '23d', '25a', '25b', '25c', '26a', '26b', '26c', '26d', '27a', '27b', '27c', '27d', '28a', '28b', '28c', '31a', '31b', '31c', '31d', '32a', '32b', '32c', '33a', '33b', '33c', '33d', '35a', '35b', '35c', '35d', '35e', '35f', '35g', '36a', '36b', '36c', '36d', '37a', '37b', '37c', '37d', '37e', '38a', '41a', '41b', '41c', '41d', '42a', '42b', '42c', '43a', '43b', '43c', '45a', '45b', '45c', '46a', '46b', '47a', '48a', '48b', '48c', '48d', '48e', '51a', '51b', '53a', '53b', '53c', '53d', '54a', '54b', '54c', '54d', '56a', '56b', '58a', '61a', '61b', '62a', '62b', '63a', '63b', '63c', '63d', '63e', '64a', '65a', '65b', '65c', '68a', '68b', '71a', '71b', '71c', '72a', '72b', '72c', '72d', '72e', '73a', '73b', '73c', '74a', '74b', '74c', '74d', '75a', '76a', '76b', '76c', '77a', '82a', '82b', '82c', '83a', '83b', '83c', '85a', '85b', '86a', '86b', '86c', '86d', '87a', '87b', '87c'], 'sampling_rate': 10.0, 'cell_types': ['ON', 'OFF', 'OFF', 'OFF', 'OFF', 'ON', 'unknown', 'unknown', 'OFF', 'OFF', 'ON', 'unknown', 'unknown', 'unknown', 'unknown', 'ON', 'unknown', 'unknown', 'unknown', 'OFF', 'unknown', 'unknown', 'unknown', 'ON', 'ON', 'unknown', 'unknown', 'OFF', 'OFF', 'OFF', 'ON', 'ON', 'OFF', 'OFF', 'ON', 'OFF', 'unknown', 'OFF', 'ON', 'ON', 'OFF', 'OFF', 'ON', 'ON', 'OFF', 'ON', 'ON', 'ON', 'OFF', 'ON', 'unknown', 'ON', 'OFF', 'unknown', 'unknown', 'OFF', 'OFF', 'unknown', 'OFF', 'OFF', 'OFF', 'unknown', 'OFF', 'OFF', 'unknown', 'OFF', 'OFF', 'OFF', 'ON', 'OFF', 'OFF', 'OFF', 'OFF', 'unknown', 'unknown', 'unknown', 'unknown', 'OFF', 'unknown', 'OFF', 'unknown', 'OFF', 'ON', 'ON', 'OFF', 'OFF', 'OFF', 'OFF', 'unknown', 'ON', 'unknown', 'unknown', 'unknown', 'OFF', 'unknown', 'unknown', 'unknown', 'unknown', 'OFF', 'OFF', 'OFF', 'unknown', 'unknown', 'OFF', 'unknown', 'unknown', 'OFF', 'unknown', 'unknown', 'OFF', 'OFF', 'OFF', 'unknown', 'OFF', 'unknown', 'OFF', 'OFF', 'ON', 'unknown', 'unknown', 'unknown', 'OFF', 'ON', 'ON', 'OFF', 'OFF', 'ON', 'OFF', 'unknown', 'ON', 'ON', 'ON', 'OFF', 'OFF', 'unknown', 'OFF', 'OFF', 'unknown', 'unknown', 'unknown', 'OFF', 'ON', 'OFF', 'OFF', 'OFF', 'OFF', 'OFF', 'OFF', 'OFF', 'ON', 'unknown', 'ON', 'ON', 'OFF', 'ON', 'OFF']}\n"
     ]
    }
   ],
   "source": [
    "folder_name = \"data\"\n",
    "\n",
    "#dataset_name = \"20180618\"\n",
    "#dataset_name = \"20180621\"\n",
    "dataset_name = \"20180626\"\n",
    "# dataset_name = \"20180828\"\n",
    "\n",
    "stim, spike_train, info = pysta.load_data(dataset_name, folder_name)\n",
    "\n",
    "# channel_names = [ch.replace(\"ch_\",\"\") for ch in info[\"channel_names\"]]   # NOT NEEDED ANYMORE\n",
    "# info[\"channel_names\"]\n",
    "# info[\"cell_types\"]\n"
   ]
  },
  {
   "cell_type": "code",
   "execution_count": 3,
   "metadata": {},
   "outputs": [],
   "source": [
    "# calc number of spikes\n",
    "tap = 8 # -700 ms ~ 0\n",
    "\n",
    "num_samples = list()\n",
    "for idx in range(spike_train.shape[0]):    \n",
    "    spike_triggered_stim, spike_count = pysta.grab_spike_triggered_stim(stim, spike_train[idx], tap)\n",
    "    num_samples.append(spike_triggered_stim.shape[0])\n",
    "\n",
    "num_samples_df = pd.DataFrame({\"channel_name\": info[\"channel_names\"], \"number_of_samples\": num_samples})\n",
    "# num_samples_df"
   ]
  },
  {
   "cell_type": "markdown",
   "metadata": {},
   "source": [
    "## read largest eigenvalues from STC results"
   ]
  },
  {
   "cell_type": "code",
   "execution_count": 40,
   "metadata": {},
   "outputs": [
    {
     "data": {
      "text/plain": [
       "array([[<matplotlib.axes._subplots.AxesSubplot object at 0x7f4532e4a7b8>,\n",
       "        <matplotlib.axes._subplots.AxesSubplot object at 0x7f4532e58278>]],\n",
       "      dtype=object)"
      ]
     },
     "execution_count": 40,
     "metadata": {},
     "output_type": "execute_result"
    },
    {
     "data": {
      "image/png": "[encoded data removed]",
      "text/plain": [
       "<Figure size 432x288 with 2 Axes>"
      ]
     },
     "metadata": {
      "needs_background": "light"
     },
     "output_type": "display_data"
    }
   ],
   "source": [
    "folder_name = \"{}_tap{}_stc_classic\".format(dataset_name, tap)\n",
    "\n",
    "largest_eigen_values = list()\n",
    "second_largest_eigen_values = list()\n",
    "for channel_name in info[\"channel_names\"]:\n",
    "    filename = \"ch_{}_eig_val.txt\".format(channel_name)\n",
    "    #print(os.path.join(folder_name,filename))    \n",
    "    eigs = np.loadtxt(os.path.join(folder_name,filename))\n",
    "    largest_eigen_values.append(eigs[0])\n",
    "    second_largest_eigen_values.append(eigs[1])\n",
    "largest_eigen_values_df = pd.DataFrame({\"channel_name\": info[\"channel_names\"], \"eig1\": largest_eigen_values, \"eig2\": second_largest_eigen_values})\n",
    "\n",
    "largest_eigen_values_df.hist()"
   ]
  },
  {
   "cell_type": "markdown",
   "metadata": {},
   "source": [
    "## read clustering results (dim=1)"
   ]
  },
  {
   "cell_type": "code",
   "execution_count": 41,
   "metadata": {},
   "outputs": [],
   "source": [
    "dim = 1\n",
    "folder_name = \"{}_tap{}_stc_classic_cluster_dim{}\".format(dataset_name, tap, dim)\n",
    "filename = os.path.join(folder_name, \"clusters.csv\")\n",
    "\n",
    "clusters = pd.read_csv(filename)\n",
    "# weights\n",
    "# weights.head()\n",
    "\n",
    "clusters[\"max_weight\"] = np.maximum(clusters[\"weight1\"], clusters[\"weight2\"])\n",
    "\n",
    "# combine number of samples\n",
    "clusters = clusters.merge(num_samples_df, on=\"channel_name\") #, how=\"outer\")\n",
    "\n",
    "# combine largest eigen values\n",
    "clusters = clusters.merge(largest_eigen_values_df, on=\"channel_name\", how=\"outer\")\n",
    "\n",
    "\n",
    "filename = os.path.join(folder_name, \"clusters_combined.csv\")\n",
    "clusters.to_csv(filename, index=None)"
   ]
  },
  {
   "cell_type": "code",
   "execution_count": 42,
   "metadata": {},
   "outputs": [
    {
     "name": "stdout",
     "output_type": "stream",
     "text": [
      "120 156\n"
     ]
    },
    {
     "data": {
      "text/html": [
       "<div>\n",
       "<style scoped>\n",
       "    .dataframe tbody tr th:only-of-type {\n",
       "        vertical-align: middle;\n",
       "    }\n",
       "\n",
       "    .dataframe tbody tr th {\n",
       "        vertical-align: top;\n",
       "    }\n",
       "\n",
       "    .dataframe thead th {\n",
       "        text-align: right;\n",
       "    }\n",
       "</style>\n",
       "<table border=\"1\" class=\"dataframe\">\n",
       "  <thead>\n",
       "    <tr style=\"text-align: right;\">\n",
       "      <th></th>\n",
       "      <th>channel_name</th>\n",
       "      <th>weight1</th>\n",
       "      <th>weight2</th>\n",
       "      <th>inner_product</th>\n",
       "      <th>max_weight</th>\n",
       "      <th>number_of_samples</th>\n",
       "      <th>eig1</th>\n",
       "      <th>eig2</th>\n",
       "    </tr>\n",
       "  </thead>\n",
       "  <tbody>\n",
       "    <tr>\n",
       "      <th>0</th>\n",
       "      <td>12a</td>\n",
       "      <td>0.515690</td>\n",
       "      <td>0.484310</td>\n",
       "      <td>-0.128925</td>\n",
       "      <td>0.515690</td>\n",
       "      <td>2868</td>\n",
       "      <td>0.578403</td>\n",
       "      <td>0.552195</td>\n",
       "    </tr>\n",
       "    <tr>\n",
       "      <th>1</th>\n",
       "      <td>12b</td>\n",
       "      <td>0.461264</td>\n",
       "      <td>0.538736</td>\n",
       "      <td>-0.108067</td>\n",
       "      <td>0.538736</td>\n",
       "      <td>1123</td>\n",
       "      <td>0.744122</td>\n",
       "      <td>0.728674</td>\n",
       "    </tr>\n",
       "    <tr>\n",
       "      <th>3</th>\n",
       "      <td>13a</td>\n",
       "      <td>0.491225</td>\n",
       "      <td>0.508775</td>\n",
       "      <td>-0.207087</td>\n",
       "      <td>0.508775</td>\n",
       "      <td>6610</td>\n",
       "      <td>0.432604</td>\n",
       "      <td>0.424380</td>\n",
       "    </tr>\n",
       "    <tr>\n",
       "      <th>6</th>\n",
       "      <td>13d</td>\n",
       "      <td>0.503472</td>\n",
       "      <td>0.496528</td>\n",
       "      <td>-0.346277</td>\n",
       "      <td>0.503472</td>\n",
       "      <td>288</td>\n",
       "      <td>1.776912</td>\n",
       "      <td>1.658930</td>\n",
       "    </tr>\n",
       "    <tr>\n",
       "      <th>7</th>\n",
       "      <td>13e</td>\n",
       "      <td>0.508929</td>\n",
       "      <td>0.491071</td>\n",
       "      <td>-0.257097</td>\n",
       "      <td>0.508929</td>\n",
       "      <td>112</td>\n",
       "      <td>2.438375</td>\n",
       "      <td>2.330179</td>\n",
       "    </tr>\n",
       "    <tr>\n",
       "      <th>...</th>\n",
       "      <td>...</td>\n",
       "      <td>...</td>\n",
       "      <td>...</td>\n",
       "      <td>...</td>\n",
       "      <td>...</td>\n",
       "      <td>...</td>\n",
       "      <td>...</td>\n",
       "      <td>...</td>\n",
       "    </tr>\n",
       "    <tr>\n",
       "      <th>150</th>\n",
       "      <td>86b</td>\n",
       "      <td>0.463213</td>\n",
       "      <td>0.536787</td>\n",
       "      <td>-0.325101</td>\n",
       "      <td>0.536787</td>\n",
       "      <td>1332</td>\n",
       "      <td>0.788005</td>\n",
       "      <td>0.759195</td>\n",
       "    </tr>\n",
       "    <tr>\n",
       "      <th>151</th>\n",
       "      <td>86c</td>\n",
       "      <td>0.498099</td>\n",
       "      <td>0.501901</td>\n",
       "      <td>-0.268531</td>\n",
       "      <td>0.501901</td>\n",
       "      <td>526</td>\n",
       "      <td>1.188350</td>\n",
       "      <td>1.152660</td>\n",
       "    </tr>\n",
       "    <tr>\n",
       "      <th>152</th>\n",
       "      <td>86d</td>\n",
       "      <td>0.496644</td>\n",
       "      <td>0.503356</td>\n",
       "      <td>-0.054230</td>\n",
       "      <td>0.503356</td>\n",
       "      <td>149</td>\n",
       "      <td>2.244849</td>\n",
       "      <td>2.097623</td>\n",
       "    </tr>\n",
       "    <tr>\n",
       "      <th>154</th>\n",
       "      <td>87b</td>\n",
       "      <td>0.497437</td>\n",
       "      <td>0.502563</td>\n",
       "      <td>-0.117087</td>\n",
       "      <td>0.502563</td>\n",
       "      <td>3512</td>\n",
       "      <td>0.487358</td>\n",
       "      <td>0.482080</td>\n",
       "    </tr>\n",
       "    <tr>\n",
       "      <th>155</th>\n",
       "      <td>87c</td>\n",
       "      <td>0.495327</td>\n",
       "      <td>0.504673</td>\n",
       "      <td>-0.231490</td>\n",
       "      <td>0.504673</td>\n",
       "      <td>535</td>\n",
       "      <td>1.103858</td>\n",
       "      <td>1.065057</td>\n",
       "    </tr>\n",
       "  </tbody>\n",
       "</table>\n",
       "<p>120 rows × 8 columns</p>\n",
       "</div>"
      ],
      "text/plain": [
       "    channel_name   weight1   weight2  inner_product  max_weight  \\\n",
       "0            12a  0.515690  0.484310      -0.128925    0.515690   \n",
       "1            12b  0.461264  0.538736      -0.108067    0.538736   \n",
       "3            13a  0.491225  0.508775      -0.207087    0.508775   \n",
       "6            13d  0.503472  0.496528      -0.346277    0.503472   \n",
       "7            13e  0.508929  0.491071      -0.257097    0.508929   \n",
       "..           ...       ...       ...            ...         ...   \n",
       "150          86b  0.463213  0.536787      -0.325101    0.536787   \n",
       "151          86c  0.498099  0.501901      -0.268531    0.501901   \n",
       "152          86d  0.496644  0.503356      -0.054230    0.503356   \n",
       "154          87b  0.497437  0.502563      -0.117087    0.502563   \n",
       "155          87c  0.495327  0.504673      -0.231490    0.504673   \n",
       "\n",
       "     number_of_samples      eig1      eig2  \n",
       "0                 2868  0.578403  0.552195  \n",
       "1                 1123  0.744122  0.728674  \n",
       "3                 6610  0.432604  0.424380  \n",
       "6                  288  1.776912  1.658930  \n",
       "7                  112  2.438375  2.330179  \n",
       "..                 ...       ...       ...  \n",
       "150               1332  0.788005  0.759195  \n",
       "151                526  1.188350  1.152660  \n",
       "152                149  2.244849  2.097623  \n",
       "154               3512  0.487358  0.482080  \n",
       "155                535  1.103858  1.065057  \n",
       "\n",
       "[120 rows x 8 columns]"
      ]
     },
     "execution_count": 42,
     "metadata": {},
     "output_type": "execute_result"
    }
   ],
   "source": [
    "clusters_with_negative_inner_product = clusters.loc[clusters[\"inner_product\"]<0,:]\n",
    "\n",
    "print(len(clusters_with_negative_inner_product), len(clusters))\n",
    "clusters_with_negative_inner_product"
   ]
  },
  {
   "cell_type": "code",
   "execution_count": 43,
   "metadata": {},
   "outputs": [
    {
     "data": {
      "image/png": "[encoded data removed]",
      "text/plain": [
       "<Figure size 432x288 with 1 Axes>"
      ]
     },
     "metadata": {
      "needs_background": "light"
     },
     "output_type": "display_data"
    }
   ],
   "source": [
    "bins = np.linspace(0.5, 1, 20)\n",
    "plt.hist(clusters[\"max_weight\"], bins=bins)\n",
    "#clusters[\"max_weight\"].hist()\n",
    "#plt.\n",
    "plt.savefig(\"{}/max_weight_hist.png\".format(folder_name))"
   ]
  },
  {
   "cell_type": "code",
   "execution_count": 44,
   "metadata": {},
   "outputs": [
    {
     "data": {
      "image/png": "[encoded data removed]",
      "text/plain": [
       "<Figure size 432x288 with 1 Axes>"
      ]
     },
     "metadata": {
      "needs_background": "light"
     },
     "output_type": "display_data"
    }
   ],
   "source": [
    "clusters[\"inner_product\"].hist()\n",
    "plt.savefig(\"{}/inner_product_hist.png\".format(folder_name))"
   ]
  },
  {
   "cell_type": "markdown",
   "metadata": {},
   "source": [
    "## Combine with cell type info"
   ]
  },
  {
   "cell_type": "code",
   "execution_count": 45,
   "metadata": {},
   "outputs": [],
   "source": [
    "cell_type = pd.DataFrame({\"channel_name\": info[\"channel_names\"],\n",
    "                          \"cell_type\":   info[\"cell_types\"]})\n",
    "cell_type\n",
    "\n",
    "clusters = clusters.merge(cell_type, on=\"channel_name\", how=\"outer\")"
   ]
  },
  {
   "cell_type": "code",
   "execution_count": 46,
   "metadata": {},
   "outputs": [],
   "source": [
    "filename = os.path.join(folder_name, \"clusters_combined.csv\")\n",
    "clusters.to_csv(filename, index=None)"
   ]
  },
  {
   "cell_type": "markdown",
   "metadata": {},
   "source": [
    "## repeat for each cell type"
   ]
  },
  {
   "cell_type": "code",
   "execution_count": 47,
   "metadata": {},
   "outputs": [
    {
     "data": {
      "text/plain": [
       "array([[<matplotlib.axes._subplots.AxesSubplot object at 0x7f4532c54d68>,\n",
       "        <matplotlib.axes._subplots.AxesSubplot object at 0x7f4532be8ef0>],\n",
       "       [<matplotlib.axes._subplots.AxesSubplot object at 0x7f4532c054e0>,\n",
       "        <matplotlib.axes._subplots.AxesSubplot object at 0x7f4532c1da58>]],\n",
       "      dtype=object)"
      ]
     },
     "execution_count": 47,
     "metadata": {},
     "output_type": "execute_result"
    },
    {
     "data": {
      "image/png": "[encoded data removed]",
      "text/plain": [
       "<Figure size 432x288 with 4 Axes>"
      ]
     },
     "metadata": {
      "needs_background": "light"
     },
     "output_type": "display_data"
    }
   ],
   "source": [
    "# clusters\n",
    "#info[\"cell_types\"]\n",
    "#clusters.groupby(\"cell_type\").hist()\n",
    "clusters[\"inner_product\"].hist(by=clusters[\"cell_type\"])"
   ]
  },
  {
   "cell_type": "code",
   "execution_count": 73,
   "metadata": {},
   "outputs": [],
   "source": [
    "# helper function to plot histograms of a column by cell_type\n",
    "def plot_histogram_by_cell_type(clusters, col_name):\n",
    "    idx_on = clusters[\"cell_type\"] == \"ON\"\n",
    "    clusters.loc[idx_on, col_name].hist(alpha=0.6)\n",
    "\n",
    "    idx_on = clusters[\"cell_type\"] == \"OFF\"\n",
    "    clusters.loc[idx_on, col_name].hist(alpha=0.6)\n",
    "\n",
    "    idx_unknown = clusters[\"cell_type\"] == \"unknown\"\n",
    "    clusters.loc[idx_unknown, col_name].hist(alpha=0.6)\n",
    "\n",
    "    plt.xlabel(col_name)\n",
    "    plt.ylabel(\"count\")\n",
    "    plt.legend([\"ON\", \"OFF\", \"unknown\"])"
   ]
  },
  {
   "cell_type": "code",
   "execution_count": 82,
   "metadata": {},
   "outputs": [
    {
     "data": {
      "image/png": "[encoded data removed]",
      "text/plain": [
       "<Figure size 1080x720 with 4 Axes>"
      ]
     },
     "metadata": {
      "needs_background": "light"
     },
     "output_type": "display_data"
    }
   ],
   "source": [
    "plt.figure(figsize=(15,10))\n",
    "plt.subplot(221)\n",
    "plot_histogram_by_cell_type(clusters, \"number_of_samples\")\n",
    "plt.subplot(222)\n",
    "plot_histogram_by_cell_type(clusters, \"eig1\")\n",
    "plt.subplot(223)\n",
    "plot_histogram_by_cell_type(clusters, \"inner_product\")\n",
    "plt.subplot(224)\n",
    "plot_histogram_by_cell_type(clusters, \"max_weight\")\n",
    "\n",
    "plt.savefig(\"{}_tap{}_cluster_dim{}.pdf\".format(dataset_name, tap, dim))\n",
    "plt.savefig(\"{}_tap{}_cluster_dim{}.png\".format(dataset_name, tap, dim))"
   ]
  },
  {
   "cell_type": "markdown",
   "metadata": {},
   "source": [
    "## Focus on data with enough samples"
   ]
  },
  {
   "cell_type": "code",
   "execution_count": 67,
   "metadata": {},
   "outputs": [
    {
     "name": "stdout",
     "output_type": "stream",
     "text": [
      "41\n",
      "OFF        27\n",
      "ON         10\n",
      "unknown     4\n",
      "Name: cell_type, dtype: int64\n"
     ]
    },
    {
     "data": {
      "text/plain": [
       "<matplotlib.axes._subplots.AxesSubplot at 0x7f45324a2860>"
      ]
     },
     "execution_count": 67,
     "metadata": {},
     "output_type": "execute_result"
    },
    {
     "data": {
      "image/png": "[encoded data removed]",
      "text/plain": [
       "<Figure size 432x288 with 1 Axes>"
      ]
     },
     "metadata": {
      "needs_background": "light"
     },
     "output_type": "display_data"
    }
   ],
   "source": [
    "idx_enough_samples = clusters[\"number_of_samples\"]>512*4\n",
    "#idx_enough_samples = clusters[\"number_of_samples\"]>512 # eigen values are too large\n",
    "clusters_with_enough_samples = clusters.loc[idx_enough_samples]\n",
    "\n",
    "print(len(clusters_with_enough_samples))\n",
    "\n",
    "print(clusters_with_enough_samples[\"cell_type\"].value_counts())\n",
    "\n",
    "clusters_with_enough_samples[\"cell_type\"].hist()"
   ]
  },
  {
   "cell_type": "code",
   "execution_count": 68,
   "metadata": {},
   "outputs": [
    {
     "data": {
      "text/html": [
       "<div>\n",
       "<style scoped>\n",
       "    .dataframe tbody tr th:only-of-type {\n",
       "        vertical-align: middle;\n",
       "    }\n",
       "\n",
       "    .dataframe tbody tr th {\n",
       "        vertical-align: top;\n",
       "    }\n",
       "\n",
       "    .dataframe thead th {\n",
       "        text-align: right;\n",
       "    }\n",
       "</style>\n",
       "<table border=\"1\" class=\"dataframe\">\n",
       "  <thead>\n",
       "    <tr style=\"text-align: right;\">\n",
       "      <th></th>\n",
       "      <th>channel_name</th>\n",
       "      <th>weight1</th>\n",
       "      <th>weight2</th>\n",
       "      <th>inner_product</th>\n",
       "      <th>max_weight</th>\n",
       "      <th>number_of_samples</th>\n",
       "      <th>eig1</th>\n",
       "      <th>eig2</th>\n",
       "      <th>cell_type</th>\n",
       "    </tr>\n",
       "  </thead>\n",
       "  <tbody>\n",
       "    <tr>\n",
       "      <th>64</th>\n",
       "      <td>36c</td>\n",
       "      <td>0.524176</td>\n",
       "      <td>0.475824</td>\n",
       "      <td>-0.560819</td>\n",
       "      <td>0.524176</td>\n",
       "      <td>2337</td>\n",
       "      <td>0.798256</td>\n",
       "      <td>0.620102</td>\n",
       "      <td>unknown</td>\n",
       "    </tr>\n",
       "    <tr>\n",
       "      <th>76</th>\n",
       "      <td>42a</td>\n",
       "      <td>0.501003</td>\n",
       "      <td>0.498997</td>\n",
       "      <td>-0.226843</td>\n",
       "      <td>0.501003</td>\n",
       "      <td>8822</td>\n",
       "      <td>0.396756</td>\n",
       "      <td>0.395866</td>\n",
       "      <td>unknown</td>\n",
       "    </tr>\n",
       "    <tr>\n",
       "      <th>104</th>\n",
       "      <td>56b</td>\n",
       "      <td>0.513731</td>\n",
       "      <td>0.486269</td>\n",
       "      <td>-0.263788</td>\n",
       "      <td>0.513731</td>\n",
       "      <td>2731</td>\n",
       "      <td>0.521560</td>\n",
       "      <td>0.518974</td>\n",
       "      <td>unknown</td>\n",
       "    </tr>\n",
       "    <tr>\n",
       "      <th>108</th>\n",
       "      <td>62a</td>\n",
       "      <td>0.505115</td>\n",
       "      <td>0.494885</td>\n",
       "      <td>-0.236699</td>\n",
       "      <td>0.505115</td>\n",
       "      <td>3910</td>\n",
       "      <td>0.491259</td>\n",
       "      <td>0.482335</td>\n",
       "      <td>unknown</td>\n",
       "    </tr>\n",
       "  </tbody>\n",
       "</table>\n",
       "</div>"
      ],
      "text/plain": [
       "    channel_name   weight1   weight2  inner_product  max_weight  \\\n",
       "64           36c  0.524176  0.475824      -0.560819    0.524176   \n",
       "76           42a  0.501003  0.498997      -0.226843    0.501003   \n",
       "104          56b  0.513731  0.486269      -0.263788    0.513731   \n",
       "108          62a  0.505115  0.494885      -0.236699    0.505115   \n",
       "\n",
       "     number_of_samples      eig1      eig2 cell_type  \n",
       "64                2337  0.798256  0.620102   unknown  \n",
       "76                8822  0.396756  0.395866   unknown  \n",
       "104               2731  0.521560  0.518974   unknown  \n",
       "108               3910  0.491259  0.482335   unknown  "
      ]
     },
     "execution_count": 68,
     "metadata": {},
     "output_type": "execute_result"
    }
   ],
   "source": [
    "idx_unknown = clusters_with_enough_samples[\"cell_type\"]==\"unknown\"\n",
    "clusters_with_enough_samples.loc[idx_unknown]"
   ]
  },
  {
   "cell_type": "code",
   "execution_count": 83,
   "metadata": {},
   "outputs": [
    {
     "data": {
      "image/png": "[encoded data removed]",
      "text/plain": [
       "<Figure size 1080x720 with 4 Axes>"
      ]
     },
     "metadata": {
      "needs_background": "light"
     },
     "output_type": "display_data"
    }
   ],
   "source": [
    "plt.figure(figsize=(15,10))\n",
    "plt.subplot(221)\n",
    "plot_histogram_by_cell_type(clusters_with_enough_samples, \"number_of_samples\")\n",
    "plt.subplot(222)\n",
    "plot_histogram_by_cell_type(clusters_with_enough_samples, \"eig1\")\n",
    "plt.subplot(223)\n",
    "plot_histogram_by_cell_type(clusters_with_enough_samples, \"inner_product\")\n",
    "plt.subplot(224)\n",
    "plot_histogram_by_cell_type(clusters_with_enough_samples, \"max_weight\")\n",
    "\n",
    "plt.savefig(\"{}_tap{}_cluster_with_enough_samples_dim{}.pdf\".format(dataset_name, tap, dim))\n",
    "plt.savefig(\"{}_tap{}_cluster_with_enough_samples_dim{}.png\".format(dataset_name, tap, dim))"
   ]
  },
  {
   "cell_type": "code",
   "execution_count": null,
   "metadata": {},
   "outputs": [],
   "source": []
  },
  {
   "cell_type": "code",
   "execution_count": null,
   "metadata": {},
   "outputs": [],
   "source": []
  },
  {
   "cell_type": "markdown",
   "metadata": {},
   "source": [
    "## paired t-test\n",
    "\n",
    "https://docs.scipy.org/doc/scipy/reference/generated/scipy.stats.ttest_rel.html"
   ]
  },
  {
   "cell_type": "code",
   "execution_count": null,
   "metadata": {},
   "outputs": [],
   "source": [
    "# from scipy import stats"
   ]
  },
  {
   "cell_type": "code",
   "execution_count": null,
   "metadata": {},
   "outputs": [],
   "source": [
    "# stats.ttest_rel(clusters_dim2[\"max_weight\"], clusters_dim2[\"max_weight\"])"
   ]
  },
  {
   "cell_type": "code",
   "execution_count": null,
   "metadata": {},
   "outputs": [],
   "source": [
    "# stats.ttest_rel(clusters_dim2[\"inner_product\"], clusters_dim2[\"inner_product\"])"
   ]
  },
  {
   "cell_type": "code",
   "execution_count": null,
   "metadata": {},
   "outputs": [],
   "source": []
  }
 ],
 "metadata": {
  "kernelspec": {
   "display_name": "Python 3",
   "language": "python",
   "name": "python3"
  },
  "language_info": {
   "codemirror_mode": {
    "name": "ipython",
    "version": 3
   },
   "file_extension": ".py",
   "mimetype": "text/x-python",
   "name": "python",
   "nbconvert_exporter": "python",
   "pygments_lexer": "ipython3",
   "version": "3.6.9"
  }
 },
 "nbformat": 4,
 "nbformat_minor": 2
}
