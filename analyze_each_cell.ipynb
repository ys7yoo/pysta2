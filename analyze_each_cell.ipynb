{
 "cells": [
  {
   "cell_type": "markdown",
   "metadata": {},
   "source": [
    "# analyze each cell"
   ]
  },
  {
   "cell_type": "code",
   "execution_count": 1,
   "metadata": {},
   "outputs": [],
   "source": [
    "import pandas as pd\n",
    "import numpy as np\n",
    "import matplotlib.pyplot as plt\n",
    "import os\n",
    "\n",
    "import pysta\n",
    "import stc\n",
    "import stcl\n",
    "%load_ext autoreload\n",
    "%autoreload 2"
   ]
  },
  {
   "cell_type": "markdown",
   "metadata": {},
   "source": [
    "## To Do\n",
    "1. visualization: plot un-related stims (black dots)\n",
    "  * boosting?\n",
    "  * gray code\n",
    "  * typical sequence\n",
    "2. apply techniques: https://github.com/ys7yoo/hands-on/blob/master/anomaly_comparison.ipynb\n",
    "  * robust covariance: uni-modal\n",
    "  * GMM: multi-modal\n",
    "  * isolation forest: more complex RFs"
   ]
  },
  {
   "cell_type": "code",
   "execution_count": 2,
   "metadata": {},
   "outputs": [
    {
     "name": "stdout",
     "output_type": "stream",
     "text": [
      "['dataset_name', 'stim', 'spike_train', 'info']\n",
      "(64, 9000)\n",
      "(156, 9000)\n",
      "{'channel_names': ['12a', '12b', '12c', '13a', '13b', '13c', '13d', '13e', '14a', '14b', '14c', '14d', '16a', '16b', '16c', '17a', '17b', '17c', '17d', '21a', '21b', '21c', '21d', '21e', '22a', '22b', '23a', '23b', '23c', '23d', '25a', '25b', '25c', '26a', '26b', '26c', '26d', '27a', '27b', '27c', '27d', '28a', '28b', '28c', '31a', '31b', '31c', '31d', '32a', '32b', '32c', '33a', '33b', '33c', '33d', '35a', '35b', '35c', '35d', '35e', '35f', '35g', '36a', '36b', '36c', '36d', '37a', '37b', '37c', '37d', '37e', '38a', '41a', '41b', '41c', '41d', '42a', '42b', '42c', '43a', '43b', '43c', '45a', '45b', '45c', '46a', '46b', '47a', '48a', '48b', '48c', '48d', '48e', '51a', '51b', '53a', '53b', '53c', '53d', '54a', '54b', '54c', '54d', '56a', '56b', '58a', '61a', '61b', '62a', '62b', '63a', '63b', '63c', '63d', '63e', '64a', '65a', '65b', '65c', '68a', '68b', '71a', '71b', '71c', '72a', '72b', '72c', '72d', '72e', '73a', '73b', '73c', '74a', '74b', '74c', '74d', '75a', '76a', '76b', '76c', '77a', '82a', '82b', '82c', '83a', '83b', '83c', '85a', '85b', '86a', '86b', '86c', '86d', '87a', '87b', '87c'], 'sampling_rate': 10.0, 'cell_types': ['ON', 'OFF', 'OFF', 'OFF', 'OFF', 'ON', 'unknown', 'unknown', 'OFF', 'OFF', 'ON', 'unknown', 'unknown', 'unknown', 'unknown', 'ON', 'unknown', 'unknown', 'unknown', 'OFF', 'unknown', 'unknown', 'unknown', 'ON', 'ON', 'unknown', 'unknown', 'OFF', 'OFF', 'OFF', 'ON', 'ON', 'OFF', 'OFF', 'ON', 'OFF', 'unknown', 'OFF', 'ON', 'ON', 'OFF', 'OFF', 'ON', 'ON', 'OFF', 'ON', 'ON', 'ON', 'OFF', 'ON', 'unknown', 'ON', 'OFF', 'unknown', 'unknown', 'OFF', 'OFF', 'unknown', 'OFF', 'OFF', 'OFF', 'unknown', 'OFF', 'OFF', 'unknown', 'OFF', 'OFF', 'OFF', 'ON', 'OFF', 'OFF', 'OFF', 'OFF', 'unknown', 'unknown', 'unknown', 'unknown', 'OFF', 'unknown', 'OFF', 'unknown', 'OFF', 'ON', 'ON', 'OFF', 'OFF', 'OFF', 'OFF', 'unknown', 'ON', 'unknown', 'unknown', 'unknown', 'OFF', 'unknown', 'unknown', 'unknown', 'unknown', 'OFF', 'OFF', 'OFF', 'unknown', 'unknown', 'OFF', 'unknown', 'unknown', 'OFF', 'unknown', 'unknown', 'OFF', 'OFF', 'OFF', 'unknown', 'OFF', 'unknown', 'OFF', 'OFF', 'ON', 'unknown', 'unknown', 'unknown', 'OFF', 'ON', 'ON', 'OFF', 'OFF', 'ON', 'OFF', 'unknown', 'ON', 'ON', 'ON', 'OFF', 'OFF', 'unknown', 'OFF', 'OFF', 'unknown', 'unknown', 'unknown', 'OFF', 'ON', 'OFF', 'OFF', 'OFF', 'OFF', 'OFF', 'OFF', 'OFF', 'ON', 'unknown', 'ON', 'ON', 'OFF', 'ON', 'OFF']}\n"
     ]
    }
   ],
   "source": [
    "folder_name = \"data\"\n",
    "\n",
    "#dataset_name = \"20180618\"\n",
    "#dataset_name = \"20180621\"\n",
    "dataset_name = \"20180626\"\n",
    "#dataset_name = \"20180828\"\n",
    "\n",
    "stim, spike_train, info = pysta.load_data(dataset_name, folder_name)\n",
    "\n",
    "info[\"channel_names\"]\n",
    "\n",
    "dt = 1000/info[\"sampling_rate\"] # in ms\n",
    "\n",
    "# load cell type\n",
    "cell_types = pd.read_csv(os.path.join(folder_name, \"{}_cell_type.csv\".format(dataset_name)))"
   ]
  },
  {
   "cell_type": "code",
   "execution_count": 3,
   "metadata": {},
   "outputs": [
    {
     "data": {
      "text/plain": [
       "(array([34.,  0.,  0.,  0.,  0., 70.,  0.,  0.,  0., 52.]),\n",
       " array([0. , 0.2, 0.4, 0.6, 0.8, 1. , 1.2, 1.4, 1.6, 1.8, 2. ]),\n",
       " <a list of 10 Patch objects>)"
      ]
     },
     "execution_count": 3,
     "metadata": {},
     "output_type": "execute_result"
    },
    {
     "data": {
      "image/png": "[encoded data removed]",
      "text/plain": [
       "<Figure size 432x288 with 1 Axes>"
      ]
     },
     "metadata": {
      "needs_background": "light"
     },
     "output_type": "display_data"
    }
   ],
   "source": [
    "#cell_type[\"cell_type\"].hist()\n",
    "plt.hist(cell_types[\"cell_type\"])"
   ]
  },
  {
   "cell_type": "code",
   "execution_count": 4,
   "metadata": {},
   "outputs": [
    {
     "name": "stdout",
     "output_type": "stream",
     "text": [
      "[34, 70, 52]\n"
     ]
    },
    {
     "data": {
      "image/png": "[encoded data removed]",
      "text/plain": [
       "<Figure size 432x288 with 1 Axes>"
      ]
     },
     "metadata": {
      "needs_background": "light"
     },
     "output_type": "display_data"
    }
   ],
   "source": [
    "# re-plot with the order that I WANT\n",
    "# https://stackoverflow.com/questions/28418988/how-to-make-a-histogram-from-a-list-of-strings-in-python\n",
    "from collections import Counter\n",
    "cell_type_counts = Counter(cell_types[\"cell_type\"])\n",
    "\n",
    "types=[\"ON\", \"OFF\", \"unknown\"]\n",
    "cell_type_counts = [cell_type_counts[type] for type in types]\n",
    "print(cell_type_counts)\n",
    "\n",
    "plt.figure(figsize=(6,4))\n",
    "plt.bar(types, cell_type_counts, width=0.3)\n",
    "# plt.ylim(0,25)\n",
    "plt.ylabel('count')\n",
    "plt.xlabel('cell type')\n",
    "\n",
    "\n",
    "result_folder_name = \"result_{}\".format(dataset_name)\n",
    "if not os.path.exists(result_folder_name):\n",
    "    os.makedirs(result_folder_name)\n",
    "\n",
    "plt.savefig(os.path.join(result_folder_name, \"cell_type_count.pdf\"))\n",
    "plt.savefig(os.path.join(result_folder_name, \"cell_type_count.png\"))"
   ]
  },
  {
   "cell_type": "code",
   "execution_count": 5,
   "metadata": {},
   "outputs": [
    {
     "data": {
      "text/plain": [
       "[<matplotlib.lines.Line2D at 0x7ff0621325f8>]"
      ]
     },
     "execution_count": 5,
     "metadata": {},
     "output_type": "execute_result"
    },
    {
     "data": {
      "image/png": "[encoded data removed]",
      "text/plain": [
       "<Figure size 432x288 with 1 Axes>"
      ]
     },
     "metadata": {
      "needs_background": "light"
     },
     "output_type": "display_data"
    }
   ],
   "source": [
    "# chose a cell to anlayze\n",
    "# channel_name = \"12a\" # ON cell\n",
    "#channel_name = \"14b\"  # OFF cell\n",
    "\n",
    "# channel_name = \"22a\" # ON/OFF\n",
    "# channel_name = \"22b\" # ON/OFF two significant eigenvalues\n",
    "\n",
    "# channel_name = \"36c\" # ON/OFF \n",
    "# channel_name = \"74b\" # ON/OFF, very large kurtosis\n",
    "\n",
    "channel_name = \"87a\"  # OFF cell\n",
    "idx = pysta.find_channel_index(info[\"channel_names\"], channel_name)\n",
    "\n",
    "stim.shape\n",
    "plt.plot(spike_train[idx])"
   ]
  },
  {
   "cell_type": "markdown",
   "metadata": {},
   "source": [
    "## grab spike-trigerred stim"
   ]
  },
  {
   "cell_type": "code",
   "execution_count": 6,
   "metadata": {},
   "outputs": [
    {
     "name": "stdout",
     "output_type": "stream",
     "text": [
      "(3872, 64, 8)\n",
      "(3872,)\n",
      "9120\n"
     ]
    }
   ],
   "source": [
    "# grab spike-trigerred stim\n",
    "#tap = 10\n",
    "# tap = 6 # -500ms ~ 0\n",
    "#tap = 7 # -600 ms ~ 0\n",
    "tap = 8 # -700 ms ~ 0\n",
    "spike_triggered_stim, spike_count = pysta.grab_spike_triggered_stim(stim, spike_train[idx], tap)\n",
    "print(spike_triggered_stim.shape)\n",
    "print(spike_count.shape)\n",
    "print(np.sum(spike_count))"
   ]
  },
  {
   "cell_type": "code",
   "execution_count": 7,
   "metadata": {},
   "outputs": [],
   "source": [
    "if spike_triggered_stim.shape[0] < spike_triggered_stim.shape[1]*spike_triggered_stim.shape[2]:\n",
    "    print(\"[WARNING] NOT ENOUGH SPIKES!\")"
   ]
  },
  {
   "cell_type": "markdown",
   "metadata": {},
   "source": [
    "## STA"
   ]
  },
  {
   "cell_type": "code",
   "execution_count": 84,
   "metadata": {},
   "outputs": [
    {
     "data": {
      "text/plain": [
       "(64, 8)"
      ]
     },
     "execution_count": 84,
     "metadata": {},
     "output_type": "execute_result"
    }
   ],
   "source": [
    "# sta\n",
    "sta = np.average(spike_triggered_stim, weights=spike_count, axis=0)\n",
    "# sta = np.mean(spike_triggered_stim, axis=0)\n",
    "sta.shape"
   ]
  },
  {
   "cell_type": "code",
   "execution_count": 86,
   "metadata": {},
   "outputs": [
    {
     "data": {
      "image/png": "[encoded data removed]",
      "text/plain": [
       "<Figure size 576x288 with 8 Axes>"
      ]
     },
     "metadata": {
      "needs_background": "light"
     },
     "output_type": "display_data"
    }
   ],
   "source": [
    "axes = pysta.plot_stim_slices(sta, dt=100)"
   ]
  },
  {
   "cell_type": "code",
   "execution_count": 87,
   "metadata": {},
   "outputs": [
    {
     "data": {
      "text/plain": [
       "(0, 1)"
      ]
     },
     "execution_count": 87,
     "metadata": {},
     "output_type": "execute_result"
    },
    {
     "data": {
      "image/png": "[encoded data removed]",
      "text/plain": [
       "<Figure size 432x288 with 1 Axes>"
      ]
     },
     "metadata": {
      "needs_background": "light"
     },
     "output_type": "display_data"
    }
   ],
   "source": [
    "grid_T = np.linspace(-tap+1,0,tap)*dt\n",
    "plt.plot(grid_T, sta.T)\n",
    "plt.ylim([0, 1])\n",
    "# plt.savefig(os.path.join(result_folder_name, \"{}_sta.pdf\".format(channel_name)))"
   ]
  },
  {
   "cell_type": "code",
   "execution_count": 99,
   "metadata": {},
   "outputs": [
    {
     "data": {
      "text/plain": [
       "{'type': 'OFF',\n",
       " 'center': array([5.62026336, 2.32129318]),\n",
       " 'cov': array([[ 0.33681308, -0.01610127],\n",
       "        [-0.01610127,  0.31182723]])}"
      ]
     },
     "execution_count": 99,
     "metadata": {},
     "output_type": "execute_result"
    },
    {
     "data": {
      "image/png": "[encoded data removed]",
      "text/plain": [
       "<Figure size 432x288 with 1 Axes>"
      ]
     },
     "metadata": {
      "needs_background": "light"
     },
     "output_type": "display_data"
    }
   ],
   "source": [
    "# plot RF at -200 ms\n",
    "pysta.plot_RF(sta, 5, (8,8))"
   ]
  },
  {
   "cell_type": "code",
   "execution_count": 100,
   "metadata": {},
   "outputs": [
    {
     "data": {
      "text/plain": [
       "[None,\n",
       " None,\n",
       " None,\n",
       " {'type': 'ON', 'center': array([6., 2.]), 'cov': array([[0., 0.],\n",
       "         [0., 0.]])},\n",
       " {'type': 'ON',\n",
       "  'center': array([5.69771955, 2.194868  ]),\n",
       "  'cov': array([[0.3413876 , 0.09534708],\n",
       "         [0.09534708, 0.25395947]])},\n",
       " {'type': 'OFF',\n",
       "  'center': array([5.62026336, 2.32129318]),\n",
       "  'cov': array([[ 0.33681308, -0.01610127],\n",
       "         [-0.01610127,  0.31182723]])},\n",
       " None,\n",
       " None]"
      ]
     },
     "execution_count": 100,
     "metadata": {},
     "output_type": "execute_result"
    },
    {
     "data": {
      "image/png": "[encoded data removed]",
      "text/plain": [
       "<Figure size 576x288 with 8 Axes>"
      ]
     },
     "metadata": {
      "needs_background": "light"
     },
     "output_type": "display_data"
    }
   ],
   "source": [
    "# plot for all time bin\n",
    "axes = pysta.plot_stim_slices(sta, dt=100)\n",
    "RFs = list()\n",
    "for t in range(8):    \n",
    "    # set the current axes\n",
    "    plt.sca(axes[t])\n",
    "    # plt.subplot(2,4,t+1)\n",
    "\n",
    "    RFs.append(pysta.plot_RF(sta, t, (8,8), False))\n",
    "    plt.axis('off')\n",
    "RFs    "
   ]
  },
  {
   "cell_type": "code",
   "execution_count": null,
   "metadata": {},
   "outputs": [],
   "source": []
  },
  {
   "cell_type": "code",
   "execution_count": null,
   "metadata": {},
   "outputs": [],
   "source": []
  },
  {
   "cell_type": "markdown",
   "metadata": {},
   "source": [
    "## testing smoothing"
   ]
  },
  {
   "cell_type": "code",
   "execution_count": null,
   "metadata": {},
   "outputs": [],
   "source": [
    "sig=0.5\n",
    "pysta.plot_stim_slices(pysta.smoothe_each_slice(sta,sigma=sig))"
   ]
  },
  {
   "cell_type": "code",
   "execution_count": null,
   "metadata": {},
   "outputs": [],
   "source": [
    "#pysta.smoothe_each_slice(sta).shape\n",
    "plt.plot(grid_T, pysta.smoothe_each_slice(sta, sigma=sig).T)\n",
    "plt.ylim([0, 1])"
   ]
  },
  {
   "cell_type": "markdown",
   "metadata": {},
   "source": [
    "## smooth stim"
   ]
  },
  {
   "cell_type": "code",
   "execution_count": null,
   "metadata": {},
   "outputs": [],
   "source": [
    "spike_triggered_stim.shape"
   ]
  },
  {
   "cell_type": "code",
   "execution_count": null,
   "metadata": {},
   "outputs": [],
   "source": [
    "## smooth stim\n",
    "num_samples = spike_triggered_stim.shape[0]\n",
    "sig=np.sqrt(0.25)\n",
    "smoothed_spike_triggered_stim = [pysta.smoothe_each_slice(spike_triggered_stim[i,:,:],sigma=sig) for i in range(num_samples)]\n",
    "smoothed_spike_triggered_stim = np.array(smoothed_spike_triggered_stim)"
   ]
  },
  {
   "cell_type": "code",
   "execution_count": null,
   "metadata": {},
   "outputs": [],
   "source": [
    "smoothed_spike_triggered_stim.shape"
   ]
  },
  {
   "cell_type": "code",
   "execution_count": null,
   "metadata": {},
   "outputs": [],
   "source": []
  },
  {
   "cell_type": "code",
   "execution_count": null,
   "metadata": {},
   "outputs": [],
   "source": [
    "# smoothted\n",
    "spike_triggered_stim_row = smoothed_spike_triggered_stim.reshape([num_samples,-1])\n",
    "# un-smoothed\n",
    "# spike_triggered_stim_row = spike_triggered_stim.reshape([num_samples,-1])\n",
    "spike_triggered_stim_row.shape"
   ]
  },
  {
   "cell_type": "code",
   "execution_count": null,
   "metadata": {},
   "outputs": [],
   "source": []
  },
  {
   "cell_type": "code",
   "execution_count": null,
   "metadata": {},
   "outputs": [],
   "source": []
  },
  {
   "cell_type": "code",
   "execution_count": null,
   "metadata": {},
   "outputs": [],
   "source": []
  },
  {
   "cell_type": "code",
   "execution_count": null,
   "metadata": {},
   "outputs": [],
   "source": [
    "## PCA\n",
    "from sklearn.decomposition import PCA\n",
    "\n",
    "# pca = PCA(n_components = 2)\n",
    "# projected = pca.fit_transform(spike_triggered_stim_row)\n",
    "\n",
    "dim = spike_triggered_stim_row.shape[1]\n",
    "center = 0.5*np.ones((1,dim))\n",
    "\n",
    "\n",
    "pca = PCA(whiten=True)\n",
    "#pca = PCA(n_components = 2, whiten=True)\n",
    "projected = pca.fit_transform(spike_triggered_stim_row-center)\n",
    "# projected += pca.transform(center)"
   ]
  },
  {
   "cell_type": "code",
   "execution_count": null,
   "metadata": {},
   "outputs": [],
   "source": [
    "# switch to my code\n",
    "\n",
    "cov0 = stc.calc_covariance_matrix(spike_triggered_stim_row-center)\n",
    "cov1 = stc.calc_covariance_matrix(spike_triggered_stim_row-center, spike_count)\n",
    "cov2 = stc.calc_covariance_matrix(spike_triggered_stim_row-center, centered=True)\n",
    "cov3 = stc.calc_covariance_matrix(spike_triggered_stim_row-center, spike_count, centered=True)  # <= I will use this\n",
    "\n",
    "# robust covariance\n",
    "cov4 = stc.calc_robust_covariance_matrix(spike_triggered_stim_row-center, centered=True)\n",
    "cov5 = stc.calc_robust_covariance_matrix(spike_triggered_stim_row-center, spike_count, centered=True)\n",
    "\n",
    "# pca.explained_variance_ratio_"
   ]
  },
  {
   "cell_type": "code",
   "execution_count": null,
   "metadata": {},
   "outputs": [],
   "source": [
    "# compare effect of weights\n",
    "plt.figure(figsize=(12,5))\n",
    "plt.subplot(121)\n",
    "plt.scatter(cov0.ravel(), cov1.ravel(), alpha=0.5)\n",
    "plt.xlabel(\"cov0\")\n",
    "plt.ylabel(\"cov1\")\n",
    "plt.title('without centering')\n",
    "plt.subplot(122)\n",
    "plt.scatter(cov2.ravel(), cov3.ravel(), alpha=0.5)\n",
    "plt.xlabel(\"cov2\")\n",
    "plt.ylabel(\"cov3\")\n",
    "plt.title('with centering')"
   ]
  },
  {
   "cell_type": "code",
   "execution_count": null,
   "metadata": {},
   "outputs": [],
   "source": [
    "# compare effects of centering\n",
    "plt.figure(figsize=(12,5))\n",
    "plt.subplot(121)\n",
    "plt.scatter(cov0.ravel(), cov2.ravel(), alpha=0.5)\n",
    "plt.xlabel(\"cov0\")\n",
    "plt.ylabel(\"cov2\")\n",
    "plt.title('without weights')\n",
    "plt.subplot(122)\n",
    "plt.scatter(cov1.ravel(), cov3.ravel(), alpha=0.5)\n",
    "plt.xlabel(\"cov1\")\n",
    "plt.ylabel(\"cov3\")\n",
    "plt.title('with weights')"
   ]
  },
  {
   "cell_type": "code",
   "execution_count": null,
   "metadata": {},
   "outputs": [],
   "source": [
    "# compare classic vs. robust PCAs\n",
    "plt.figure(figsize=(12,5))\n",
    "plt.subplot(121)\n",
    "plt.scatter(cov2.ravel(), cov4.ravel(), alpha=0.5)\n",
    "plt.xlabel(\"cov2\")\n",
    "plt.ylabel(\"cov4\")\n",
    "plt.title('without weights')\n",
    "plt.subplot(122)\n",
    "plt.scatter(cov3.ravel(), cov5.ravel(), alpha=0.5)\n",
    "plt.xlabel(\"cov3\")\n",
    "plt.ylabel(\"cov5\")\n",
    "plt.title('with weights')"
   ]
  },
  {
   "cell_type": "code",
   "execution_count": null,
   "metadata": {},
   "outputs": [],
   "source": [
    "# data_row = \n",
    "# data_row.shape\n",
    "# np.concatenate((data_row,data_row)).shape\n",
    "\n",
    "\n",
    "# #plt.hist()\n",
    "\n",
    "# print(np.max(spike_count))\n",
    "data_stacked = stc.inflate_data_using_weights(spike_triggered_stim_row-center, spike_count)\n",
    "# print(np.max(spike_count))\n",
    "print(data_stacked.shape)\n",
    "print(np.sum(spike_count))"
   ]
  },
  {
   "cell_type": "code",
   "execution_count": null,
   "metadata": {},
   "outputs": [],
   "source": [
    "#eig_values, eig_vectors = stc.calc_eig_values_and_vectors(cov0) # same as sklearn PCA\n",
    "#eig_values, eig_vectors = stc.calc_eig_values_and_vectors(cov1) \n",
    "#eig_values, eig_vectors = stc.calc_eig_values_and_vectors(cov2)  # similar to sklean PCA\n",
    "eig_values, eig_vectors = stc.calc_eig_values_and_vectors(cov3)   # everyting becomes larger\n",
    "\n",
    "\n",
    "\n",
    "# eigenvalues (sklena PCA)\n",
    "plt.plot(pca.explained_variance_, \"o--\")\n",
    "plt.ylabel('eigenvalues')\n",
    "\n",
    "# my code \n",
    "plt.plot(eig_values, \"s--\")"
   ]
  },
  {
   "cell_type": "code",
   "execution_count": null,
   "metadata": {},
   "outputs": [],
   "source": [
    "# the 1st eigen vector\n",
    "pysta.plot_stim_slices(eig_vectors[:,0], vmin=-0.1, vmax=0.1, dt=dt)\n",
    "# pysta.plot_stim_slices(pca.components_[0], dt=dt)"
   ]
  },
  {
   "cell_type": "code",
   "execution_count": null,
   "metadata": {},
   "outputs": [],
   "source": [
    "# the 2nd eigen vector\n",
    "pysta.plot_stim_slices(eig_vectors[:,1], vmin=-0.1, vmax=0.1, dt=dt)\n",
    "# pysta.plot_stim_slices(pca.components_[0], dt=dt)"
   ]
  },
  {
   "cell_type": "code",
   "execution_count": null,
   "metadata": {},
   "outputs": [],
   "source": [
    "# the 2nd eigen vector\n",
    "pysta.plot_stim_slices(eig_vectors[:,-1], vmin=-0.1, vmax=0.1, dt=dt) # something?\n",
    "# pysta.plot_stim_slices(pca.components_[1], dt=dt)"
   ]
  },
  {
   "cell_type": "code",
   "execution_count": null,
   "metadata": {},
   "outputs": [],
   "source": [
    "projected = stc.project(spike_triggered_stim_row-center, eig_vectors)"
   ]
  },
  {
   "cell_type": "code",
   "execution_count": null,
   "metadata": {},
   "outputs": [],
   "source": [
    "# projected scores \n",
    "num_figs = 4\n",
    "plt.figure(figsize=(4*num_figs, 3))\n",
    "for i in range(num_figs):\n",
    "    plt.subplot(1, num_figs, i+1)\n",
    "    plt.hist(projected[:,i], 50)\n",
    "    plt.xlabel(\"$c_{}$\".format(i+1))\n",
    "    plt.ylabel('count')\n",
    "\n",
    "plt.savefig(os.path.join(result_folder_name, \"{}_coef_hist.pdf\".format(channel_name)))    \n"
   ]
  },
  {
   "cell_type": "code",
   "execution_count": null,
   "metadata": {},
   "outputs": [],
   "source": [
    "# compare eigenvalue vs actual variance\n",
    "plt.plot(eig_values)\n",
    "\n",
    "v = [np.var(projected[:,i]) for i in range(len(eig_values))]\n",
    "plt.plot(v)"
   ]
  },
  {
   "cell_type": "code",
   "execution_count": null,
   "metadata": {},
   "outputs": [],
   "source": []
  },
  {
   "cell_type": "code",
   "execution_count": null,
   "metadata": {},
   "outputs": [],
   "source": [
    "# calc & plot kurtosis\n",
    "from scipy.stats import kurtosis\n",
    "\n",
    "Ks = list()\n",
    "dim = projected.shape[1]\n",
    "for i in range(dim):    \n",
    "    Ks.append(kurtosis(projected[:,i]))\n",
    "\n",
    "plt.figure(figsize=(12,5))\n",
    "plt.subplot(121)\n",
    "plt.plot(np.linspace(1,dim,dim), Ks)\n",
    "plt.plot([0,dim], [0,0], 'r--')\n",
    "plt.ylabel('kurtosis')\n",
    "plt.xlabel('dimension')\n",
    "\n",
    "plt.subplot(122)\n",
    "plt.plot(np.linspace(1,dim,dim), Ks, 'o-')\n",
    "plt.plot([0,dim], [0,0], 'r--')\n",
    "plt.xlim(0, 10)\n",
    "plt.ylabel('kurtosis')\n",
    "plt.xlabel('dimension') \n",
    "\n",
    "plt.savefig(os.path.join(result_folder_name, \"{}_kurtosis.pdf\".format(channel_name)))"
   ]
  },
  {
   "cell_type": "code",
   "execution_count": null,
   "metadata": {},
   "outputs": [],
   "source": [
    "projected_center = stc.project(center-center, eig_vectors)\n",
    "print(\"projected center\", projected_center[:,0:2])\n",
    "\n",
    "projected_sta = stc.project(sta.reshape([1,dim])-center, eig_vectors) # + pca.transform(center)\n",
    "print(\"projected sta\", projected_sta[:,0:2])\n",
    "\n",
    "projected_zeros = stc.project(np.zeros([1,dim])-center, eig_vectors) # + pca.transform(center)\n",
    "print(\"projected zeros\", projected_zeros[:,0:2])\n",
    "\n",
    "projected_halfs = stc.project(0.5*np.ones([1,dim])-center, eig_vectors) # + pca.transform(center)\n",
    "print(\"projected sta\", projected_halfs[:,0:2])\n",
    "\n",
    "projected_ones = stc.project(np.ones([1,dim])-center, eig_vectors) # + pca.transform(center)\n",
    "print(\"projected ones\", projected_ones[:,0:2])\n",
    "\n",
    "\n",
    "fig = plt.figure(figsize=(8,6.6))\n",
    "ax = fig.add_subplot(111, aspect='equal')\n",
    "\n",
    "plt.scatter(projected[:,0], projected[:,1], c='k', alpha=0.2)\n",
    "#plt.scatter(projected[:,0], projected[:,1], alpha=0.2)\n",
    "\n",
    "plt.xlabel(\"$c_1$\")\n",
    "plt.ylabel(\"$c_2$\")\n",
    "    \n",
    "\n",
    "# plt.scatter(projected_zeros[:,0], projected_zeros[:,1], c='r', marker='^')\n",
    "plt.scatter(projected_halfs[:,0], projected_halfs[:,1], c='r', marker='o')\n",
    "# plt.scatter(projected_ones[:,0], projected_ones[:,1], c='r', marker=\"v\")\n",
    "\n",
    "plt.scatter(projected_sta[:,0], projected_sta[:,1], c='r', marker=\"s\")\n",
    "\n",
    "plt.legend([\"spike-triggered stim\", \"all-0.5\", \"sta\"])\n",
    "# plt.legend([\"spike-triggered stim\", \"all-zero\", \"all-0.5\", \"all-one\", \"sta\"])\n",
    "plt.axis('tight')\n",
    "plt.axis('equal')\n",
    "\n",
    "x = projected_center[0][0]\n",
    "y = projected_center[0][1]\n",
    "ax.arrow(x, y, 1, 0, head_width=0.05, length_includes_head=True, head_length=0.1, fc='r', ec='r')\n",
    "ax.arrow(x, y, 0, 0.75, head_width=0.05, length_includes_head=True, head_length=0.1, fc='r', ec='r')\n",
    "\n",
    "\n",
    "plt.savefig(os.path.join(result_folder_name, \"{}_pca.pdf\".format(channel_name)))\n",
    "plt.savefig(os.path.join(result_folder_name, \"{}_pca.png\".format(channel_name)))"
   ]
  },
  {
   "cell_type": "code",
   "execution_count": null,
   "metadata": {},
   "outputs": [],
   "source": [
    "## replot with rotation!\n",
    "\n",
    "R = pysta.calc_rotation_matrix(projected_zeros)\n",
    "print(R)\n",
    "print(np.dot(projected_zeros[:,:2],R.T))\n",
    "print(np.dot(projected_ones[:,:2],R.T))\n",
    "\n",
    "scale = -1/np.dot(projected_zeros[:,:2],R.T)[0][0]\n",
    "print(scale)\n",
    "# looks good\n",
    "\n",
    "# re-plot with rotation\n",
    "def plot_with_rotation(projected, R, c='k', alpha=1, marker='o'):\n",
    "    \n",
    "    rotated = np.dot(projected[:,:2], R.T)\n",
    "    \n",
    "    plt.scatter(rotated[:,0], rotated[:,1], c=c, marker=marker, alpha=alpha)\n",
    "\n",
    "fig = plt.figure(figsize=(8,6.6))\n",
    "ax = fig.add_subplot(111, aspect='equal')\n",
    "\n",
    "\n",
    "plot_with_rotation(projected, R*scale, alpha=0.2)\n",
    "# plt.xlabel(\"$c_1$\")\n",
    "# plt.ylabel(\"$c_2$\")\n",
    "    \n",
    "plot_with_rotation(projected_zeros, R*scale, c='c', marker='^')\n",
    "plot_with_rotation(projected_halfs, R*scale, c='c', marker='o')\n",
    "plot_with_rotation(projected_ones, R*scale, c='c', marker='v')\n",
    "\n",
    "plot_with_rotation(projected_sta, R*scale, c='r', marker='s')\n",
    "\n",
    "plt.legend([\"spike-triggered stim\", \"all-zero\", \"all-half\", \"all-one\", \"sta\"])\n",
    "plt.axis('tight')\n",
    "plt.axis('equal')\n",
    "\n",
    "x = projected_center[0][0]\n",
    "y = projected_center[0][1]\n",
    "\n",
    "rotated_xy = np.dot([x,y],scale*R.T)\n",
    "rotated_arrow_head = np.dot([1,0], scale*R.T)\n",
    "ax.arrow(rotated_xy[0], rotated_xy[1], rotated_arrow_head[0], rotated_arrow_head[1], head_width=0.05, length_includes_head=True, head_length=0.1, fc='r', ec='r')\n",
    "rotated_arrow_head = np.dot([0,0.75], scale*R.T)\n",
    "ax.arrow(rotated_xy[0], rotated_xy[1], rotated_arrow_head[0], rotated_arrow_head[1], head_width=0.05, length_includes_head=True, head_length=0.1, fc='b', ec='b')\n",
    "\n",
    "plt.savefig(os.path.join(result_folder_name, \"{}_pca_rotated.png\".format(channel_name)))\n",
    "plt.savefig(os.path.join(result_folder_name, \"{}_pca_rotated.pdf\".format(channel_name)))"
   ]
  },
  {
   "cell_type": "code",
   "execution_count": null,
   "metadata": {},
   "outputs": [],
   "source": [
    "# further analyze the projected coefficients\n",
    "coef = projected[:,0]\n",
    "#np.savetxt('projected_coef.txt', projected[:,0])\n",
    "plt.hist(coef, 50)\n",
    "plt.xlabel(\"$c_1$\")\n",
    "plt.ylabel(\"count\")\n",
    "    \n",
    "\n",
    "from scipy.stats import kurtosis\n",
    "#scipy.stats.kurtosis\n",
    "kurtosis(coef)\n",
    "\n",
    "plt.title(\"{}, kurtosis={:.2f}\".format(channel_name,kurtosis(coef)))\n",
    "\n",
    "plt.savefig(os.path.join(result_folder_name, \"{}_c1.pdf\".format(channel_name)))"
   ]
  },
  {
   "cell_type": "code",
   "execution_count": null,
   "metadata": {},
   "outputs": [],
   "source": [
    "# fit mixture of Gaussians\n",
    "from sklearn.mixture import GaussianMixture\n",
    "gm = GaussianMixture(n_components=2, n_init=10, means_init=[[np.mean(coef[coef<0])],[np.mean(coef[coef>0])]])\n",
    "gm.fit(coef.reshape(-1, 1))"
   ]
  },
  {
   "cell_type": "code",
   "execution_count": null,
   "metadata": {},
   "outputs": [],
   "source": [
    "gm.weights_"
   ]
  },
  {
   "cell_type": "code",
   "execution_count": null,
   "metadata": {},
   "outputs": [],
   "source": [
    "gm.means_"
   ]
  },
  {
   "cell_type": "code",
   "execution_count": null,
   "metadata": {},
   "outputs": [],
   "source": [
    "gm.covariances_"
   ]
  },
  {
   "cell_type": "code",
   "execution_count": null,
   "metadata": {},
   "outputs": [],
   "source": [
    "gm.covariances_[0][0,0]"
   ]
  },
  {
   "cell_type": "code",
   "execution_count": null,
   "metadata": {},
   "outputs": [],
   "source": [
    "gm.covariances_[1][0,0]"
   ]
  },
  {
   "cell_type": "code",
   "execution_count": null,
   "metadata": {},
   "outputs": [],
   "source": [
    "gm.means_[0][0]"
   ]
  },
  {
   "cell_type": "code",
   "execution_count": null,
   "metadata": {},
   "outputs": [],
   "source": [
    "gm.means_[1][0]"
   ]
  },
  {
   "cell_type": "code",
   "execution_count": null,
   "metadata": {},
   "outputs": [],
   "source": [
    "gm.converged_"
   ]
  },
  {
   "cell_type": "code",
   "execution_count": null,
   "metadata": {},
   "outputs": [],
   "source": [
    "gm.n_iter_"
   ]
  },
  {
   "cell_type": "code",
   "execution_count": null,
   "metadata": {},
   "outputs": [],
   "source": []
  },
  {
   "cell_type": "code",
   "execution_count": null,
   "metadata": {},
   "outputs": [],
   "source": [
    "pred = gm.predict(coef.reshape(-1,1))\n",
    "set(pred)"
   ]
  },
  {
   "cell_type": "code",
   "execution_count": null,
   "metadata": {},
   "outputs": [],
   "source": [
    "# calc centers from stim\n",
    "stim0 = spike_triggered_stim_row[pred==0,:]\n",
    "stim1 = spike_triggered_stim_row[pred==1,:]"
   ]
  },
  {
   "cell_type": "code",
   "execution_count": null,
   "metadata": {},
   "outputs": [],
   "source": [
    "sta0 = np.average(spike_triggered_stim_row[pred==0,:], axis=0, weights=spike_count[pred==0])\n",
    "sta1 = np.average(spike_triggered_stim_row[pred==1,:], axis=0, weights=spike_count[pred==1])"
   ]
  },
  {
   "cell_type": "code",
   "execution_count": null,
   "metadata": {},
   "outputs": [],
   "source": [
    "pysta.plot_stim_slices(sta0, dt=dt)\n",
    "plt.savefig(os.path.join(result_folder_name, \"{}_center_1.png\".format(channel_name)))"
   ]
  },
  {
   "cell_type": "code",
   "execution_count": null,
   "metadata": {},
   "outputs": [],
   "source": [
    "pysta.plot_stim_slices(sta1, dt=dt)\n",
    "plt.savefig(os.path.join(result_folder_name, \"{}_center_2.png\".format(channel_name)))"
   ]
  },
  {
   "cell_type": "code",
   "execution_count": null,
   "metadata": {
    "scrolled": true
   },
   "outputs": [],
   "source": [
    "plt.figure(figsize=(12,5))\n",
    "ax=plt.subplot(121)\n",
    "plt.plot(grid_T, sta0.reshape([8*8,-1]).T, 'b', alpha=0.3)\n",
    "ax.set_ylim(0.2,0.8)\n",
    "plt.title(\"average stim group 1 (weight={:.2f})\".format(gm.weights_[0]))\n",
    "\n",
    "ax=plt.subplot(122)\n",
    "plt.plot(grid_T,sta1.reshape([8*8,-1]).T, 'r', alpha=0.3)\n",
    "ax.set_ylim(0.2,0.8)\n",
    "plt.title(\"average stim group 2 (weight={:.2f})\".format(gm.weights_[1]))\n",
    "\n",
    "\n",
    "plt.savefig(os.path.join(result_folder_name, \"{}_centers_temporal.pdf\".format(channel_name)))\n",
    "plt.savefig(os.path.join(result_folder_name, \"{}_centers_temporal.png\".format(channel_name)))"
   ]
  },
  {
   "cell_type": "code",
   "execution_count": null,
   "metadata": {},
   "outputs": [],
   "source": [
    "gm.weights_[0]"
   ]
  },
  {
   "cell_type": "code",
   "execution_count": null,
   "metadata": {},
   "outputs": [],
   "source": []
  },
  {
   "cell_type": "code",
   "execution_count": null,
   "metadata": {},
   "outputs": [],
   "source": []
  },
  {
   "cell_type": "code",
   "execution_count": null,
   "metadata": {},
   "outputs": [],
   "source": []
  },
  {
   "cell_type": "markdown",
   "metadata": {},
   "source": [
    "## further analysis"
   ]
  },
  {
   "cell_type": "code",
   "execution_count": null,
   "metadata": {},
   "outputs": [],
   "source": [
    "# is there a temporal pattern?\n",
    "#plt.hist(pred)\n",
    "from collections import Counter\n",
    "pred_counts = Counter(pred)\n",
    "print(pred_counts)\n",
    "df = pd.DataFrame.from_dict(pred_counts, orient='index')\n",
    "df.plot(kind='bar')\n",
    "\n",
    "plt.title(pred_counts)\n",
    "\n",
    "plt.savefig(os.path.join(result_folder_name, \"{}_group_hist.pdf\".format(channel_name)))\n",
    "plt.savefig(os.path.join(result_folder_name, \"{}_group_hist.png\".format(channel_name)))"
   ]
  },
  {
   "cell_type": "markdown",
   "metadata": {},
   "source": [
    "## use more dimensions"
   ]
  },
  {
   "cell_type": "code",
   "execution_count": null,
   "metadata": {},
   "outputs": [],
   "source": [
    "dim = 1\n",
    "cl = stcl.fit(projected[:,:dim], coef)\n",
    "\n",
    "pred1 = cl.predict(projected[:,:dim])\n",
    "# set(pred2)\n",
    "\n",
    "centers1 = stcl.calc_centers(spike_triggered_stim_row, spike_count, pred1)"
   ]
  },
  {
   "cell_type": "code",
   "execution_count": null,
   "metadata": {},
   "outputs": [],
   "source": [
    "pysta.plot_stim_slices(centers1[0], dt=dt)\n",
    "# plt.savefig(\"{}_1d_center_0.png\".format(channel_name))"
   ]
  },
  {
   "cell_type": "code",
   "execution_count": null,
   "metadata": {},
   "outputs": [],
   "source": [
    "pysta.plot_stim_slices(centers1[1], dt=dt)\n",
    "# plt.savefig(\"{}_1d_center_1.png\".format(channel_name))"
   ]
  },
  {
   "cell_type": "code",
   "execution_count": null,
   "metadata": {},
   "outputs": [],
   "source": [
    "stcl.plot_centers(centers1, grid_T, cl.weights_)"
   ]
  },
  {
   "cell_type": "code",
   "execution_count": null,
   "metadata": {},
   "outputs": [],
   "source": [
    "dim = 2\n",
    "cl = stcl.fit(projected[:,:dim], coef)\n",
    "\n",
    "pred2 = cl.predict(projected[:,:dim])\n",
    "# set(pred2)\n",
    "\n",
    "centers2 = stcl.calc_centers(spike_triggered_stim_row, spike_count, pred2)"
   ]
  },
  {
   "cell_type": "code",
   "execution_count": null,
   "metadata": {},
   "outputs": [],
   "source": [
    "pysta.plot_stim_slices(centers2[0], dt=dt)\n",
    "plt.savefig(os.path.join(result_folder_name, \"{}_center_2d_1.png\".format(channel_name)))"
   ]
  },
  {
   "cell_type": "code",
   "execution_count": null,
   "metadata": {},
   "outputs": [],
   "source": [
    "pysta.plot_stim_slices(centers2[1], dt=dt)\n",
    "plt.savefig(os.path.join(result_folder_name, \"{}_center_2d_2.png\".format(channel_name)))"
   ]
  },
  {
   "cell_type": "code",
   "execution_count": null,
   "metadata": {},
   "outputs": [],
   "source": [
    "stcl.plot_centers(centers2, grid_T, cl.weights_)"
   ]
  },
  {
   "cell_type": "code",
   "execution_count": null,
   "metadata": {},
   "outputs": [],
   "source": [
    "from sklearn.metrics import confusion_matrix\n",
    "\n",
    "confusion_matrix(pred1,pred2)"
   ]
  },
  {
   "cell_type": "code",
   "execution_count": null,
   "metadata": {},
   "outputs": [],
   "source": [
    "dim = 3\n",
    "cl = stcl.fit(projected[:,:dim], coef)\n",
    "\n",
    "pred3 = cl.predict(projected[:,:dim])\n",
    "set(pred3)\n",
    "\n",
    "centers3 = stcl.calc_centers(spike_triggered_stim_row, spike_count, pred3)"
   ]
  },
  {
   "cell_type": "code",
   "execution_count": null,
   "metadata": {},
   "outputs": [],
   "source": [
    "pysta.plot_stim_slices(centers3[0], dt=dt)\n",
    "plt.savefig(os.path.join(result_folder_name, \"{}_center_3d_1.png\".format(channel_name)))"
   ]
  },
  {
   "cell_type": "code",
   "execution_count": null,
   "metadata": {},
   "outputs": [],
   "source": [
    "pysta.plot_stim_slices(centers3[1], dt=dt)\n",
    "plt.savefig(os.path.join(result_folder_name, \"{}_center_3d_2.png\".format(channel_name)))"
   ]
  },
  {
   "cell_type": "code",
   "execution_count": null,
   "metadata": {},
   "outputs": [],
   "source": [
    "stcl.plot_centers(centers3, grid_T, cl.weights_)"
   ]
  },
  {
   "cell_type": "code",
   "execution_count": null,
   "metadata": {},
   "outputs": [],
   "source": [
    "from sklearn.metrics import confusion_matrix\n",
    "\n",
    "confusion_matrix(pred2,pred3)"
   ]
  },
  {
   "cell_type": "code",
   "execution_count": null,
   "metadata": {},
   "outputs": [],
   "source": [
    "# increase dimension to 5\n",
    "\n",
    "dim = 5\n",
    "cl = stcl.fit(projected[:,:dim], coef)\n",
    "\n",
    "pred3 = cl.predict(projected[:,:dim])\n",
    "set(pred3)\n",
    "\n",
    "centers3 = stcl.calc_centers(spike_triggered_stim_row, spike_count, pred3)"
   ]
  },
  {
   "cell_type": "code",
   "execution_count": null,
   "metadata": {},
   "outputs": [],
   "source": [
    "cl.covariances_[0]"
   ]
  },
  {
   "cell_type": "code",
   "execution_count": null,
   "metadata": {},
   "outputs": [],
   "source": [
    "cl.covariances_[1]"
   ]
  },
  {
   "cell_type": "code",
   "execution_count": null,
   "metadata": {},
   "outputs": [],
   "source": [
    "dims = np.linspace(1,dim,dim)\n",
    "plt.plot(dims, np.diag(cl.covariances_[0]), '-bo')\n",
    "plt.plot(dims, np.diag(cl.covariances_[1]), '-ro')\n",
    "dims = np.linspace(1,len(eig_values), len(eig_values))\n",
    "plt.plot(dims, eig_values, '--ks')\n",
    "\n",
    "plt.xlim(0.5,5.5)\n",
    "plt.xlabel('dimension')\n",
    "plt.ylabel('variance')\n",
    "\n",
    "plt.legend(['group 1', 'group 2', 'eigenvalue'], loc='lower right')\n",
    "\n",
    "plt.savefig(os.path.join(result_folder_name, \"{}_variances.png\".format(channel_name)))\n",
    "plt.savefig(os.path.join(result_folder_name, \"{}_variances.pdf\".format(channel_name)))"
   ]
  },
  {
   "cell_type": "code",
   "execution_count": null,
   "metadata": {},
   "outputs": [],
   "source": []
  },
  {
   "cell_type": "code",
   "execution_count": null,
   "metadata": {},
   "outputs": [],
   "source": []
  },
  {
   "cell_type": "code",
   "execution_count": null,
   "metadata": {},
   "outputs": [],
   "source": []
  },
  {
   "cell_type": "code",
   "execution_count": null,
   "metadata": {},
   "outputs": [],
   "source": []
  },
  {
   "cell_type": "markdown",
   "metadata": {},
   "source": [
    "## Isolation forest\n",
    "https://github.com/ys7yoo/hands-on/blob/master/anomaly_comparison.ipynb"
   ]
  },
  {
   "cell_type": "code",
   "execution_count": null,
   "metadata": {},
   "outputs": [],
   "source": []
  },
  {
   "cell_type": "code",
   "execution_count": null,
   "metadata": {},
   "outputs": [],
   "source": [
    "# from sklearn.ensemble import IsolationForest\n",
    "\n",
    "# outliers_fraction = 0.15\n",
    "# iso = IsolationForest(contamination=outliers_fraction, behaviour=\"new\", random_state=42)\n",
    "\n",
    "# # iso.fit(spike_triggered_stim_row-0.5)\n",
    "# # pred=iso.predict(spike_triggered_stim_row-0.5)\n",
    "# pred = iso.fit_predict(spike_triggered_stim_row-0.5)"
   ]
  },
  {
   "cell_type": "code",
   "execution_count": null,
   "metadata": {},
   "outputs": [],
   "source": [
    "# # re-fit PCA with inliers\n",
    "# #pca = PCA(n_components = 2, whiten=True)\n",
    "# pca = PCA(n_components = 2)\n",
    "# projected = pca.fit_transform(spike_triggered_stim_row[pred>0,:]-0.5)\n",
    "# projected += pca.transform(0.5*np.ones([1,640]))\n",
    "\n",
    "# pca.explained_variance_ratio_"
   ]
  },
  {
   "cell_type": "code",
   "execution_count": null,
   "metadata": {},
   "outputs": [],
   "source": []
  },
  {
   "cell_type": "code",
   "execution_count": null,
   "metadata": {},
   "outputs": [],
   "source": [
    "# projected_sta = pca.transform(sta.reshape([1,640])-0.5) + pca.transform(0.5*np.ones([1,640]))\n",
    "\n",
    "\n",
    "# projected_zero = pca.transform(np.zeros([1,640])-0.5) + pca.transform(0.5*np.ones([1,640]))\n",
    "# projected_ones = pca.transform(np.ones([1,640])-0.5) + pca.transform(0.5*np.ones([1,640]))\n",
    "\n",
    "# plt.figure(figsize=(8,6.6))\n",
    "\n",
    "# plt.scatter(projected[:,0], projected[:,1], alpha=0.5)\n",
    "# # plt.scatter(projected[pred>0,0], projected[pred>0,1], alpha=0.5)\n",
    "# # plt.scatter(projected[pred<0,0], projected[pred<0,1], alpha=0.5, c=\"k\")\n",
    "\n",
    "# plt.scatter(projected_sta[:,0], projected_sta[:,1], c='k', marker=\"*\")\n",
    "# plt.scatter(projected_zero[:,0], projected_zero[:,1], c='r', marker='o')\n",
    "# plt.scatter(projected_ones[:,0], projected_ones[:,1], c='r', marker=\"s\")\n",
    "# #plt.scatter(projected_negative_ones[:,0], projected_negative_ones[:,1], c='r', marker=\"^\")\n",
    "\n",
    "# plt.legend([\"spike-triggered stim\", \"sta\", \"all-zero\", \"all-one\"])\n",
    "\n",
    "# x = projected_sta[0][0]\n",
    "# y = projected_sta[0][1]\n",
    "# ax.arrow(x, y, 0, 0.5, head_width=0.05, length_includes_head=True, head_length=0.1, fc='k', ec='k')\n",
    "# ax.arrow(x, y, 0.5, 0, head_width=0.05, length_includes_head=True, head_length=0.1, fc='k', ec='k')\n",
    "\n",
    "\n",
    "# #plt.scatter(projected_negative_ones[:,0], projected_negative_ones[:,1], c='r', marker=\"^\")\n",
    "# plt.axis('tight')\n",
    "# plt.axis('equal')\n",
    "\n",
    "# # plt.savefig(\"iso_forest_pca_{}.png\".format(channel_name))"
   ]
  },
  {
   "cell_type": "code",
   "execution_count": null,
   "metadata": {},
   "outputs": [],
   "source": [
    "# projected.shape"
   ]
  },
  {
   "cell_type": "markdown",
   "metadata": {},
   "source": [
    "## How about STC?"
   ]
  },
  {
   "cell_type": "code",
   "execution_count": null,
   "metadata": {},
   "outputs": [],
   "source": [
    "# # calc covariance matrix\n",
    "# num_samples = smoothed_spike_triggered_stim.shape[0]\n",
    "\n",
    "# center = np.mean(spike_triggered_stim_row, axis=0, keepdims=True)\n",
    "# data_centered = spike_triggered_stim_row - center\n",
    "\n",
    "\n",
    "# covariance_mat = stc.calc_covariance_matrix(data_centered)\n",
    "# #robust_covariance_mat = make_robust_covariance_mat(data_centered, centered=True)"
   ]
  },
  {
   "cell_type": "code",
   "execution_count": null,
   "metadata": {},
   "outputs": [],
   "source": [
    "# eig_values, eig_vectors = stc.calc_eig_values_and_vectors(covariance_mat)\n",
    "\n",
    "# plt.plot(eig_values, 'o--')\n",
    "# plt.plot(pca.explained_variance_, 's:')  # to compare with sklearn PCA\n",
    "# print(eig_values[-1])"
   ]
  },
  {
   "cell_type": "code",
   "execution_count": null,
   "metadata": {},
   "outputs": [],
   "source": [
    "# pysta.plot_stim_slices(eig_vectors[:,0])"
   ]
  },
  {
   "cell_type": "code",
   "execution_count": null,
   "metadata": {},
   "outputs": [],
   "source": [
    "# plt.scatter(pca.components_[0], eig_vectors[:,0])"
   ]
  },
  {
   "cell_type": "code",
   "execution_count": null,
   "metadata": {},
   "outputs": [],
   "source": []
  },
  {
   "cell_type": "code",
   "execution_count": null,
   "metadata": {},
   "outputs": [],
   "source": [
    "# # project \n",
    "# projected = stc.project(data_centered, eig_vectors)# [:,0:7]\n",
    "\n",
    "# dim = data_centered.shape[1]\n",
    "# projected_all_one = stc.project(np.ones([1,dim]) - center, eig_vectors)\n",
    "# projected_all_zero = stc.project(np.zeros([1,dim]) - center, eig_vectors)\n",
    "\n",
    "# plt.scatter(projected[:,0], projected[:,1], color='k')\n",
    "# plt.scatter(projected_all_one[:,0], projected_all_one[:,1], color='r', marker='^')\n",
    "# plt.scatter(projected_all_zero[:,0], projected_all_zero[:,1], color='b', marker='v')"
   ]
  },
  {
   "cell_type": "code",
   "execution_count": null,
   "metadata": {},
   "outputs": [],
   "source": [
    "# num_figs = 4\n",
    "# plt.figure(figsize=(4*num_figs, 3))\n",
    "# for i in range(num_figs):\n",
    "#     plt.subplot(1, num_figs, i+1)\n",
    "#     plt.hist(projected[:,i], 50)"
   ]
  },
  {
   "cell_type": "code",
   "execution_count": null,
   "metadata": {},
   "outputs": [],
   "source": []
  }
 ],
 "metadata": {
  "kernelspec": {
   "display_name": "Python 3",
   "language": "python",
   "name": "python3"
  },
  "language_info": {
   "codemirror_mode": {
    "name": "ipython",
    "version": 3
   },
   "file_extension": ".py",
   "mimetype": "text/x-python",
   "name": "python",
   "nbconvert_exporter": "python",
   "pygments_lexer": "ipython3",
   "version": "3.6.9"
  }
 },
 "nbformat": 4,
 "nbformat_minor": 2
}
