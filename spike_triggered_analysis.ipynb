{
 "cells": [
  {
   "cell_type": "code",
   "execution_count": 1,
   "metadata": {},
   "outputs": [],
   "source": [
    "import numpy as np\n",
    "import matplotlib.pyplot as plt\n",
    "\n",
    "import pysta\n",
    "import stc\n",
    "%load_ext autoreload\n",
    "%autoreload 2\n"
   ]
  },
  {
   "cell_type": "markdown",
   "metadata": {},
   "source": [
    "## load data"
   ]
  },
  {
   "cell_type": "markdown",
   "metadata": {},
   "source": [
    "Saved data in Matlab using the following command:\n",
    "```\n",
    "save 0626.mat stim spike_train channel_names sampling_rate width height -v7.3\n",
    "```"
   ]
  },
  {
   "cell_type": "code",
   "execution_count": 2,
   "metadata": {},
   "outputs": [
    {
     "name": "stdout",
     "output_type": "stream",
     "text": [
      "List of arrays in this file: \n",
      " <KeysViewHDF5 ['#refs#', 'channel_names', 'height', 'sampling_rate', 'spike_train', 'stim', 'width']>\n",
      "Shape of the array stim:  (64, 9000)\n",
      "Shape of the array spike_train:  (156, 9000)\n",
      "length of the list channel_names:  156\n",
      "sampling_rate:  10.0\n"
     ]
    }
   ],
   "source": [
    "# load stim and spike data\n",
    "filename = \"data/0626.mat\"\n",
    "\n",
    "stim, spike_train, info = pysta.load_data(filename)"
   ]
  },
  {
   "cell_type": "code",
   "execution_count": null,
   "metadata": {},
   "outputs": [],
   "source": []
  },
  {
   "cell_type": "code",
   "execution_count": 3,
   "metadata": {},
   "outputs": [
    {
     "data": {
      "text/plain": [
       "(-0.5, 7.5, 7.5, -0.5)"
      ]
     },
     "execution_count": 3,
     "metadata": {},
     "output_type": "execute_result"
    },
    {
     "data": {
      "image/png": "[encoded data removed]",
      "text/plain": [
       "<Figure size 432x288 with 1 Axes>"
      ]
     },
     "metadata": {
      "needs_background": "light"
     },
     "output_type": "display_data"
    }
   ],
   "source": [
    "# plot stim\n",
    "plt.imshow(stim.reshape([8,8,-1])[:,:,0], cmap=\"gray\")\n",
    "plt.axis('off')"
   ]
  },
  {
   "cell_type": "code",
   "execution_count": 4,
   "metadata": {},
   "outputs": [
    {
     "data": {
      "text/plain": [
       "<matplotlib.image.AxesImage at 0x1a1c168d90>"
      ]
     },
     "execution_count": 4,
     "metadata": {},
     "output_type": "execute_result"
    },
    {
     "data": {
      "image/png": "[encoded data removed]",
      "text/plain": [
       "<Figure size 1440x1080 with 1 Axes>"
      ]
     },
     "metadata": {
      "needs_background": "light"
     },
     "output_type": "display_data"
    }
   ],
   "source": [
    "# plot spike trains\n",
    "plt.figure(figsize=(20,15))\n",
    "plt.imshow(spike_train, cmap='gray', vmin=0, vmax=1)"
   ]
  },
  {
   "cell_type": "code",
   "execution_count": 5,
   "metadata": {},
   "outputs": [
    {
     "data": {
      "text/plain": [
       "(array([1.315737e+06, 5.875900e+04, 1.880800e+04, 8.754000e+03,\n",
       "        1.100000e+03, 4.480000e+02, 3.350000e+02, 3.500000e+01,\n",
       "        1.600000e+01, 8.000000e+00]),\n",
       " array([ 0. ,  1.3,  2.6,  3.9,  5.2,  6.5,  7.8,  9.1, 10.4, 11.7, 13. ]),\n",
       " <a list of 10 Patch objects>)"
      ]
     },
     "execution_count": 5,
     "metadata": {},
     "output_type": "execute_result"
    },
    {
     "data": {
      "image/png": "[encoded data removed]",
      "text/plain": [
       "<Figure size 432x288 with 2 Axes>"
      ]
     },
     "metadata": {
      "needs_background": "light"
     },
     "output_type": "display_data"
    }
   ],
   "source": [
    "# plot for one channel\n",
    "plt.subplot(121)\n",
    "plt.plot(spike_train[0,:])\n",
    "plt.subplot(122)\n",
    "plt.hist(spike_train.reshape([-1,1]))"
   ]
  },
  {
   "cell_type": "code",
   "execution_count": 6,
   "metadata": {},
   "outputs": [
    {
     "data": {
      "text/plain": [
       "['ch_12a',\n",
       " 'ch_12b',\n",
       " 'ch_12c',\n",
       " 'ch_13a',\n",
       " 'ch_13b',\n",
       " 'ch_13c',\n",
       " 'ch_13d',\n",
       " 'ch_13e',\n",
       " 'ch_14a',\n",
       " 'ch_14b',\n",
       " 'ch_14c',\n",
       " 'ch_14d',\n",
       " 'ch_16a',\n",
       " 'ch_16b',\n",
       " 'ch_16c',\n",
       " 'ch_17a',\n",
       " 'ch_17b',\n",
       " 'ch_17c',\n",
       " 'ch_17d',\n",
       " 'ch_21a',\n",
       " 'ch_21b',\n",
       " 'ch_21c',\n",
       " 'ch_21d',\n",
       " 'ch_21e',\n",
       " 'ch_22a',\n",
       " 'ch_22b',\n",
       " 'ch_23a',\n",
       " 'ch_23b',\n",
       " 'ch_23c',\n",
       " 'ch_23d',\n",
       " 'ch_25a',\n",
       " 'ch_25b',\n",
       " 'ch_25c',\n",
       " 'ch_26a',\n",
       " 'ch_26b',\n",
       " 'ch_26c',\n",
       " 'ch_26d',\n",
       " 'ch_27a',\n",
       " 'ch_27b',\n",
       " 'ch_27c',\n",
       " 'ch_27d',\n",
       " 'ch_28a',\n",
       " 'ch_28b',\n",
       " 'ch_28c',\n",
       " 'ch_31a',\n",
       " 'ch_31b',\n",
       " 'ch_31c',\n",
       " 'ch_31d',\n",
       " 'ch_32a',\n",
       " 'ch_32b',\n",
       " 'ch_32c',\n",
       " 'ch_33a',\n",
       " 'ch_33b',\n",
       " 'ch_33c',\n",
       " 'ch_33d',\n",
       " 'ch_35a',\n",
       " 'ch_35b',\n",
       " 'ch_35c',\n",
       " 'ch_35d',\n",
       " 'ch_35e',\n",
       " 'ch_35f',\n",
       " 'ch_35g',\n",
       " 'ch_36a',\n",
       " 'ch_36b',\n",
       " 'ch_36c',\n",
       " 'ch_36d',\n",
       " 'ch_37a',\n",
       " 'ch_37b',\n",
       " 'ch_37c',\n",
       " 'ch_37d',\n",
       " 'ch_37e',\n",
       " 'ch_38a',\n",
       " 'ch_41a',\n",
       " 'ch_41b',\n",
       " 'ch_41c',\n",
       " 'ch_41d',\n",
       " 'ch_42a',\n",
       " 'ch_42b',\n",
       " 'ch_42c',\n",
       " 'ch_43a',\n",
       " 'ch_43b',\n",
       " 'ch_43c',\n",
       " 'ch_45a',\n",
       " 'ch_45b',\n",
       " 'ch_45c',\n",
       " 'ch_46a',\n",
       " 'ch_46b',\n",
       " 'ch_47a',\n",
       " 'ch_48a',\n",
       " 'ch_48b',\n",
       " 'ch_48c',\n",
       " 'ch_48d',\n",
       " 'ch_48e',\n",
       " 'ch_51a',\n",
       " 'ch_51b',\n",
       " 'ch_53a',\n",
       " 'ch_53b',\n",
       " 'ch_53c',\n",
       " 'ch_53d',\n",
       " 'ch_54a',\n",
       " 'ch_54b',\n",
       " 'ch_54c',\n",
       " 'ch_54d',\n",
       " 'ch_56a',\n",
       " 'ch_56b',\n",
       " 'ch_58a',\n",
       " 'ch_61a',\n",
       " 'ch_61b',\n",
       " 'ch_62a',\n",
       " 'ch_62b',\n",
       " 'ch_63a',\n",
       " 'ch_63b',\n",
       " 'ch_63c',\n",
       " 'ch_63d',\n",
       " 'ch_63e',\n",
       " 'ch_64a',\n",
       " 'ch_65a',\n",
       " 'ch_65b',\n",
       " 'ch_65c',\n",
       " 'ch_68a',\n",
       " 'ch_68b',\n",
       " 'ch_71a',\n",
       " 'ch_71b',\n",
       " 'ch_71c',\n",
       " 'ch_72a',\n",
       " 'ch_72b',\n",
       " 'ch_72c',\n",
       " 'ch_72d',\n",
       " 'ch_72e',\n",
       " 'ch_73a',\n",
       " 'ch_73b',\n",
       " 'ch_73c',\n",
       " 'ch_74a',\n",
       " 'ch_74b',\n",
       " 'ch_74c',\n",
       " 'ch_74d',\n",
       " 'ch_75a',\n",
       " 'ch_76a',\n",
       " 'ch_76b',\n",
       " 'ch_76c',\n",
       " 'ch_77a',\n",
       " 'ch_82a',\n",
       " 'ch_82b',\n",
       " 'ch_82c',\n",
       " 'ch_83a',\n",
       " 'ch_83b',\n",
       " 'ch_83c',\n",
       " 'ch_85a',\n",
       " 'ch_85b',\n",
       " 'ch_86a',\n",
       " 'ch_86b',\n",
       " 'ch_86c',\n",
       " 'ch_86d',\n",
       " 'ch_87a',\n",
       " 'ch_87b',\n",
       " 'ch_87c']"
      ]
     },
     "execution_count": 6,
     "metadata": {},
     "output_type": "execute_result"
    }
   ],
   "source": [
    "info[\"channel_names\"]"
   ]
  },
  {
   "cell_type": "code",
   "execution_count": null,
   "metadata": {},
   "outputs": [],
   "source": []
  },
  {
   "cell_type": "markdown",
   "metadata": {},
   "source": [
    "## grab spike-triggered stim"
   ]
  },
  {
   "cell_type": "code",
   "execution_count": 7,
   "metadata": {},
   "outputs": [],
   "source": [
    "tap = 10\n",
    "\n",
    "spike_triggered_stim_all_channels, spike_count_all_channels = pysta.grab_spike_triggered_stim_all_channels(stim, spike_train,tap)\n"
   ]
  },
  {
   "cell_type": "code",
   "execution_count": 8,
   "metadata": {},
   "outputs": [
    {
     "name": "stdout",
     "output_type": "stream",
     "text": [
      "156\n",
      "(2867, 64, 10)\n"
     ]
    }
   ],
   "source": [
    "print(len(spike_triggered_stim_all_channels))\n",
    "\n",
    "print(spike_triggered_stim_all_channels[0].shape)\n",
    "\n",
    "# print(len(spike_trigered_stim))\n",
    "# print(spike_trigered_stim[0].shape)\n",
    "# print(np.sum(spike_count))"
   ]
  },
  {
   "cell_type": "markdown",
   "metadata": {},
   "source": [
    "## STA"
   ]
  },
  {
   "cell_type": "code",
   "execution_count": 10,
   "metadata": {},
   "outputs": [
    {
     "name": "stdout",
     "output_type": "stream",
     "text": [
      "ch_12a\n",
      "(2867, 64, 10)\n"
     ]
    }
   ],
   "source": [
    "# choose channel\n",
    "channel_name = \"12a\"\n",
    "#channel_name = \"14b\"\n",
    "#channel_name = \"54a\"\n",
    "#channel_name = \"33b\"\n",
    "#channel_name = \"36c\"  # for STC\n",
    "\n",
    "ch_idx = pysta.find_channel_index(info[\"channel_names\"], channel_name)\n",
    "\n",
    "#ch_idx = 52  # ch_33b\n",
    "# ch_idx = 64  # ch_36c\n",
    "print(info[\"channel_names\"][ch_idx])\n",
    "\n",
    "print(spike_triggered_stim_all_channels[ch_idx].shape)\n"
   ]
  },
  {
   "cell_type": "code",
   "execution_count": 11,
   "metadata": {},
   "outputs": [
    {
     "name": "stdout",
     "output_type": "stream",
     "text": [
      "(64, 10)\n"
     ]
    }
   ],
   "source": [
    "# calc sta\n",
    "#sta = np.mean(spike_triggered_stim_all_channels[ch_idx],axis=0)\n",
    "sta = np.average(spike_triggered_stim_all_channels[ch_idx], weights=spike_count_all_channels[ch_idx], axis=0)\n",
    "print(sta.shape)"
   ]
  },
  {
   "cell_type": "code",
   "execution_count": 12,
   "metadata": {},
   "outputs": [
    {
     "name": "stdout",
     "output_type": "stream",
     "text": [
      "0.4993082604266538 0.018414242021382102\n"
     ]
    },
    {
     "data": {
      "text/plain": [
       "Text(0.5, 1.0, '12a, mean=0.50, std=0.02')"
      ]
     },
     "execution_count": 12,
     "metadata": {},
     "output_type": "execute_result"
    },
    {
     "data": {
      "image/png": "[encoded data removed]",
      "text/plain": [
       "<Figure size 432x288 with 1 Axes>"
      ]
     },
     "metadata": {
      "needs_background": "light"
     },
     "output_type": "display_data"
    }
   ],
   "source": [
    "# calc mean and std of sta\n",
    "m = np.mean(sta.ravel())\n",
    "sig = np.std(sta.ravel())\n",
    "\n",
    "print(m, sig)\n",
    "plt.hist(sta.reshape([-1,1]))\n",
    "plt.title(\"{}, mean={:.2f}, std={:.2f}\".format(channel_name,m,sig))"
   ]
  },
  {
   "cell_type": "code",
   "execution_count": 18,
   "metadata": {},
   "outputs": [
    {
     "data": {
      "image/png": "[encoded data removed]",
      "text/plain": [
       "<Figure size 576x288 with 10 Axes>"
      ]
     },
     "metadata": {
      "needs_background": "light"
     },
     "output_type": "display_data"
    }
   ],
   "source": [
    "pysta.plot_stim_slices(sta, 8, 8, dt=100)\n",
    "# plt.savefig"
   ]
  },
  {
   "cell_type": "code",
   "execution_count": null,
   "metadata": {},
   "outputs": [],
   "source": []
  },
  {
   "cell_type": "code",
   "execution_count": null,
   "metadata": {},
   "outputs": [],
   "source": []
  },
  {
   "cell_type": "code",
   "execution_count": 13,
   "metadata": {},
   "outputs": [],
   "source": [
    "## calc STA for all channels"
   ]
  },
  {
   "cell_type": "code",
   "execution_count": 14,
   "metadata": {},
   "outputs": [
    {
     "name": "stdout",
     "output_type": "stream",
     "text": [
      "655\n",
      "(655, 640)\n",
      "(655,)\n"
     ]
    }
   ],
   "source": [
    "num_samples = spike_triggered_stim_all_channels[ch_idx].shape[0]\n",
    "print(num_samples)\n",
    "\n",
    "data = spike_triggered_stim_all_channels[ch_idx].reshape(num_samples, -1)\n",
    "print(data.shape)\n",
    "\n",
    "dim = data.shape[1]\n",
    "\n",
    "weights = spike_count_all_channels[ch_idx]\n",
    "print(weights.shape)"
   ]
  },
  {
   "cell_type": "code",
   "execution_count": 15,
   "metadata": {},
   "outputs": [],
   "source": [
    "# add some reference points\n",
    "#sta = np.mean(data,axis=0, keepdims=True)\n",
    "sta = np.average(data, weights=spike_count_all_channels[ch_idx], axis=0)\n",
    "all_one = np.ones([1,dim])\n",
    "all_zero = np.zeros([1,dim])"
   ]
  },
  {
   "cell_type": "code",
   "execution_count": 16,
   "metadata": {},
   "outputs": [
    {
     "data": {
      "text/plain": [
       "(655, 640)"
      ]
     },
     "execution_count": 16,
     "metadata": {},
     "output_type": "execute_result"
    }
   ],
   "source": [
    "data.shape"
   ]
  },
  {
   "cell_type": "code",
   "execution_count": 17,
   "metadata": {},
   "outputs": [
    {
     "data": {
      "text/plain": [
       "(640,)"
      ]
     },
     "execution_count": 17,
     "metadata": {},
     "output_type": "execute_result"
    }
   ],
   "source": [
    "sta.shape"
   ]
  },
  {
   "cell_type": "markdown",
   "metadata": {},
   "source": [
    "## run sta_batch.py\n",
    "```\n",
    "python3 sta_batch.py \n",
    "```"
   ]
  },
  {
   "cell_type": "code",
   "execution_count": 18,
   "metadata": {},
   "outputs": [
    {
     "name": "stdout",
     "output_type": "stream",
     "text": [
      "(156,)\n",
      "(156,)\n"
     ]
    },
    {
     "data": {
      "text/plain": [
       "Text(0, 0.5, 'log var')"
      ]
     },
     "execution_count": 18,
     "metadata": {},
     "output_type": "execute_result"
    },
    {
     "data": {
      "image/png": "[encoded data removed]",
      "text/plain": [
       "<Figure size 432x288 with 1 Axes>"
      ]
     },
     "metadata": {
      "needs_background": "light"
     },
     "output_type": "display_data"
    }
   ],
   "source": [
    "# load & analyze results\n",
    "sigs= np.loadtxt(\"sta/sta_sigs.txt\") #.reshape([-1,1])\n",
    "print(sigs.shape)\n",
    "num_samples = np.loadtxt(\"sta/num_samples.txt\") # .reshape([-1,1])\n",
    "print(num_samples.shape)\n",
    "\n",
    "plt.scatter(np.log10(num_samples), 2*np.log10(sigs))\n",
    "plt.xlabel(\"log n\")\n",
    "plt.ylabel(\"log var\")\n",
    "\n"
   ]
  },
  {
   "cell_type": "code",
   "execution_count": null,
   "metadata": {},
   "outputs": [],
   "source": []
  },
  {
   "cell_type": "code",
   "execution_count": 19,
   "metadata": {},
   "outputs": [
    {
     "name": "stdout",
     "output_type": "stream",
     "text": [
      "0.6508036074759929\n"
     ]
    },
    {
     "data": {
      "text/plain": [
       "Text(0.5, 0, 'n var(S)')"
      ]
     },
     "execution_count": 19,
     "metadata": {},
     "output_type": "execute_result"
    },
    {
     "data": {
      "image/png": "[encoded data removed]",
      "text/plain": [
       "<Figure size 864x360 with 2 Axes>"
      ]
     },
     "metadata": {
      "needs_background": "light"
     },
     "output_type": "display_data"
    }
   ],
   "source": [
    "print(np.mean(sigs**2 * num_samples))\n",
    "\n",
    "plt.figure(figsize=(12,5))\n",
    "plt.subplot(1,2,1)\n",
    "plt.plot(sigs**2 * num_samples, 'o')\n",
    "plt.ylabel(\"n var(S)\")\n",
    "plt.xlabel(\"channel index\")\n",
    "plt.ylim([0,1.5])\n",
    "\n",
    "plt.subplot(1,2,2)\n",
    "plt.hist(sigs**2 * num_samples, 20)\n",
    "plt.xlabel(\"n var(S)\")"
   ]
  },
  {
   "cell_type": "code",
   "execution_count": 20,
   "metadata": {},
   "outputs": [
    {
     "name": "stdout",
     "output_type": "stream",
     "text": [
      "156\n"
     ]
    },
    {
     "data": {
      "text/plain": [
       "<matplotlib.colorbar.Colorbar at 0x1a6d21c990>"
      ]
     },
     "execution_count": 20,
     "metadata": {},
     "output_type": "execute_result"
    },
    {
     "data": {
      "image/png": "[encoded data removed]",
      "text/plain": [
       "<Figure size 576x504 with 2 Axes>"
      ]
     },
     "metadata": {
      "needs_background": "light"
     },
     "output_type": "display_data"
    }
   ],
   "source": [
    "# plot var_num values on MEA\n",
    "var_num = sigs**2 * num_samples\n",
    "print(len(var_num))\n",
    "\n",
    "plt.figure(figsize=(8,7))\n",
    "pysta.plot_on_MEA(info[\"channel_names\"], var_num)\n",
    "plt.colorbar()"
   ]
  },
  {
   "cell_type": "code",
   "execution_count": 21,
   "metadata": {},
   "outputs": [
    {
     "name": "stdout",
     "output_type": "stream",
     "text": [
      "11\n",
      "['ch_26a', 'ch_28a', 'ch_36b', 'ch_54a', 'ch_56a', 'ch_61a', 'ch_72a', 'ch_75a', 'ch_83a', 'ch_86a', 'ch_87a']\n",
      "[1.92899492 1.7479277  1.8005571  2.44336884 2.11602912 2.13681751\n",
      " 1.98431442 2.23197376 2.11230873 1.7307593  2.46414066]\n"
     ]
    },
    {
     "data": {
      "text/plain": [
       "<matplotlib.colorbar.Colorbar at 0x1a6d3ace90>"
      ]
     },
     "execution_count": 21,
     "metadata": {},
     "output_type": "execute_result"
    },
    {
     "data": {
      "image/png": "[encoded data removed]",
      "text/plain": [
       "<Figure size 576x504 with 2 Axes>"
      ]
     },
     "metadata": {
      "needs_background": "light"
     },
     "output_type": "display_data"
    }
   ],
   "source": [
    "# look at those channels with high var*num product\n",
    "th = 1.6\n",
    "idx = np.where(var_num.ravel() > th)\n",
    "\n",
    "# num_idx = len(idx[0])\n",
    "# print(num_idx)\n",
    "chosen_channel_names = [info[\"channel_names\"][i] for i in idx[0]]\n",
    "print(len(chosen_channel_names))\n",
    "print(chosen_channel_names)\n",
    "\n",
    "print(var_num[idx])\n",
    "\n",
    "plt.figure(figsize=(8,7))\n",
    "ticks = np.linspace(1,8,8)\n",
    "pysta.plot_on_MEA(chosen_channel_names, var_num[idx], perturbation_size=0, xticks=ticks, yticks=ticks)\n",
    "plt.colorbar()\n",
    "\n",
    "# pert = 0.3*np.random.randn(len(idx[0]),2)\n",
    "# plt.scatter(X[idx]+pert[:,0], Y[idx]+pert[:,1], c=var_num[idx])\n",
    "# plt.colorbar()"
   ]
  },
  {
   "cell_type": "code",
   "execution_count": null,
   "metadata": {},
   "outputs": [],
   "source": []
  },
  {
   "cell_type": "code",
   "execution_count": 22,
   "metadata": {},
   "outputs": [
    {
     "name": "stdout",
     "output_type": "stream",
     "text": [
      "99\n"
     ]
    },
    {
     "data": {
      "text/plain": [
       "'ch_54a'"
      ]
     },
     "execution_count": 22,
     "metadata": {},
     "output_type": "execute_result"
    }
   ],
   "source": [
    "idx = pysta.find_channel_index(info[\"channel_names\"], \"54\")\n",
    "print(idx)\n",
    "\n",
    "info[\"channel_names\"][idx]"
   ]
  },
  {
   "cell_type": "code",
   "execution_count": 23,
   "metadata": {},
   "outputs": [
    {
     "data": {
      "text/plain": [
       "(2.443368842270157,\n",
       " 0.818067382930895,\n",
       " 0.32729750409508185,\n",
       " 0.32729750409508185)"
      ]
     },
     "execution_count": 23,
     "metadata": {},
     "output_type": "execute_result"
    }
   ],
   "source": [
    "var_num[99], var_num[100],var_num[101],var_num[101] # ch_54a "
   ]
  },
  {
   "cell_type": "code",
   "execution_count": 24,
   "metadata": {},
   "outputs": [
    {
     "data": {
      "text/plain": [
       "3138.0"
      ]
     },
     "execution_count": 24,
     "metadata": {},
     "output_type": "execute_result"
    }
   ],
   "source": [
    "num_samples[idx]"
   ]
  },
  {
   "cell_type": "code",
   "execution_count": null,
   "metadata": {},
   "outputs": [],
   "source": []
  },
  {
   "cell_type": "code",
   "execution_count": null,
   "metadata": {},
   "outputs": [],
   "source": []
  },
  {
   "cell_type": "code",
   "execution_count": null,
   "metadata": {},
   "outputs": [],
   "source": []
  },
  {
   "cell_type": "markdown",
   "metadata": {},
   "source": [
    "## visualization by t-SNE  (VERY SLOW)"
   ]
  },
  {
   "cell_type": "code",
   "execution_count": 25,
   "metadata": {},
   "outputs": [
    {
     "ename": "ValueError",
     "evalue": "all the input arrays must have same number of dimensions, but the array at index 0 has 1 dimension(s) and the array at index 1 has 2 dimension(s)",
     "output_type": "error",
     "traceback": [
      "\u001b[0;31m---------------------------------------------------------------------------\u001b[0m",
      "\u001b[0;31mValueError\u001b[0m                                Traceback (most recent call last)",
      "\u001b[0;32m<ipython-input-25-9c12e625b866>\u001b[0m in \u001b[0;36m<module>\u001b[0;34m\u001b[0m\n\u001b[0;32m----> 1\u001b[0;31m \u001b[0mconcatenated_data\u001b[0m \u001b[0;34m=\u001b[0m \u001b[0mnp\u001b[0m\u001b[0;34m.\u001b[0m\u001b[0mconcatenate\u001b[0m\u001b[0;34m(\u001b[0m\u001b[0;34m[\u001b[0m\u001b[0msta\u001b[0m\u001b[0;34m,\u001b[0m \u001b[0mall_one\u001b[0m\u001b[0;34m,\u001b[0m \u001b[0mall_zero\u001b[0m\u001b[0;34m,\u001b[0m \u001b[0;34m-\u001b[0m\u001b[0mall_one\u001b[0m\u001b[0;34m,\u001b[0m \u001b[0mdata\u001b[0m\u001b[0;34m]\u001b[0m\u001b[0;34m,\u001b[0m \u001b[0maxis\u001b[0m\u001b[0;34m=\u001b[0m\u001b[0;36m0\u001b[0m\u001b[0;34m)\u001b[0m\u001b[0;34m\u001b[0m\u001b[0;34m\u001b[0m\u001b[0m\n\u001b[0m",
      "\u001b[0;32m<__array_function__ internals>\u001b[0m in \u001b[0;36mconcatenate\u001b[0;34m(*args, **kwargs)\u001b[0m\n",
      "\u001b[0;31mValueError\u001b[0m: all the input arrays must have same number of dimensions, but the array at index 0 has 1 dimension(s) and the array at index 1 has 2 dimension(s)"
     ]
    }
   ],
   "source": [
    "concatenated_data = np.concatenate([sta, all_one, all_zero, -all_one, data], axis=0)"
   ]
  },
  {
   "cell_type": "code",
   "execution_count": null,
   "metadata": {},
   "outputs": [],
   "source": [
    "from tsne.tsne_python.tsne import *"
   ]
  },
  {
   "cell_type": "code",
   "execution_count": null,
   "metadata": {},
   "outputs": [],
   "source": [
    "tsne = tsne(concatenated_data)"
   ]
  },
  {
   "cell_type": "code",
   "execution_count": null,
   "metadata": {},
   "outputs": [],
   "source": [
    "def plot_tsne_result(tsne):\n",
    "    plt.figure(figsize=(15,13))\n",
    "    \n",
    "    plt.scatter(tsne[3:,0],tsne[3:,1], c=(0.5,0.5,0.5))#colors=(0,0,0))\n",
    "    plt.scatter(tsne[0,0],tsne[0,1], c=(0,0,0), marker='s')  # sta\n",
    "    plt.scatter(tsne[1,0],tsne[1,1], c=(1,0,0), marker=\"^\")  # all one\n",
    "    plt.scatter(tsne[2,0],tsne[2,1], c=(0,1,0), marker=\"o\")  # all zero\n",
    "    plt.scatter(tsne[3,0],tsne[3,1], c=(0,0,1), marker=\"v\")  # all negative one\n",
    "\n",
    "    plt.legend([\"stim\", \"sta\", \"all one\", \"all zero\", \"all negative one\"])\n",
    "\n",
    "\n",
    "plot_tsne_result(tsne)    \n",
    "plt.savefig(\"figure/{}_tsne.pdf\".format(channel_names[ch_idx]))\n",
    "plt.savefig(\"figure/{}_tsne.png\".format(channel_names[ch_idx]))"
   ]
  },
  {
   "cell_type": "markdown",
   "metadata": {},
   "source": [
    "## STC"
   ]
  },
  {
   "cell_type": "code",
   "execution_count": null,
   "metadata": {},
   "outputs": [],
   "source": [
    "center = np.mean(data, axis=0, keepdims=True)\n",
    "data_centered = data - center"
   ]
  },
  {
   "cell_type": "code",
   "execution_count": null,
   "metadata": {},
   "outputs": [],
   "source": [
    "covariance_mat = stc.calc_covariance_matrix(data_centered)\n",
    "#robust_covariance_mat = make_robust_covariance_mat(data_centered, centered=True)"
   ]
  },
  {
   "cell_type": "code",
   "execution_count": null,
   "metadata": {},
   "outputs": [],
   "source": [
    "plt.figure(figsize=(15,7))\n",
    "plt.subplot(121)\n",
    "plt.hist(covariance_mat.reshape(-1,1))\n",
    "plt.subplot(122)\n",
    "cc = covariance_mat.copy()\n",
    "cc[range(dim),range(dim)] = np.nan  # remove diagonal element\n",
    "plt.imshow(cc)"
   ]
  },
  {
   "cell_type": "code",
   "execution_count": null,
   "metadata": {},
   "outputs": [],
   "source": [
    "eig_values, eig_vectors = stc.calc_eig_values_and_vectors(covariance_mat)\n",
    "\n",
    "plt.plot(eig_values, '*:')\n",
    "\n",
    "print(eig_values[-1])"
   ]
  },
  {
   "cell_type": "code",
   "execution_count": null,
   "metadata": {},
   "outputs": [],
   "source": [
    "# project \n",
    "projected = stc.project(data_centered, eig_vectors)# [:,0:7]\n",
    "\n",
    "projected_all_one = stc.project(np.ones([1,dim]) - center, eig_vectors)\n",
    "projected_all_zero = stc.project(np.zeros([1,dim]) - center, eig_vectors)\n",
    "\n",
    "plt.scatter(projected[:,0], projected[:,1], color='k')\n",
    "plt.scatter(projected_all_one[:,0], projected_all_one[:,1], color='r', marker='^')\n",
    "plt.scatter(projected_all_zero[:,0], projected_all_zero[:,1], color='b', marker='v')"
   ]
  },
  {
   "cell_type": "code",
   "execution_count": null,
   "metadata": {},
   "outputs": [],
   "source": []
  },
  {
   "cell_type": "code",
   "execution_count": null,
   "metadata": {},
   "outputs": [],
   "source": [
    "# plot STA\n",
    "plot_stim_slices(sta, 8,8)"
   ]
  },
  {
   "cell_type": "code",
   "execution_count": null,
   "metadata": {},
   "outputs": [],
   "source": [
    "# plot 1st eigenvector of STC\n",
    "plot_stim_slices(eig_vectors[:,0], 8, 8, -0.1, 0.1)"
   ]
  },
  {
   "cell_type": "code",
   "execution_count": null,
   "metadata": {},
   "outputs": [],
   "source": [
    "# plot last eigenvector of STC\n",
    "plot_stim_slices(eig_vectors[:,-1], 8, 8, -0.1, 0.1)"
   ]
  },
  {
   "cell_type": "markdown",
   "metadata": {},
   "source": [
    "## robust STC"
   ]
  },
  {
   "cell_type": "code",
   "execution_count": null,
   "metadata": {},
   "outputs": [],
   "source": [
    "robust_covariance_mat = stc.calc_robust_covariance_mat(data_centered, centered=True)\n",
    "\n"
   ]
  },
  {
   "cell_type": "code",
   "execution_count": null,
   "metadata": {},
   "outputs": [],
   "source": [
    "def plot_covariance_matrix(covariance_mat):\n",
    "    plt.figure(figsize=(15,7))\n",
    "    plt.subplot(121)\n",
    "    plt.hist(covariance_mat.reshape(-1,1))\n",
    "    plt.subplot(122)\n",
    "    cc = covariance_mat.copy()\n",
    "    cc[range(dim),range(dim)] = np.nan  # remove diagonal element\n",
    "    plt.imshow(cc)\n",
    "\n",
    "plot_covariance_matrix(robust_covariance_mat)"
   ]
  },
  {
   "cell_type": "code",
   "execution_count": null,
   "metadata": {},
   "outputs": [],
   "source": [
    "plt.scatter(covariance_mat, robust_covariance_mat)\n",
    "plt.xlabel('classical cov')\n",
    "plt.ylabel('robust cov')"
   ]
  },
  {
   "cell_type": "code",
   "execution_count": null,
   "metadata": {},
   "outputs": [],
   "source": [
    "robust_eig_values, robust_eig_vectors = stc.calc_eig_values_and_vectors(robust_covariance_mat)\n",
    "\n",
    "plt.plot(eig_values, '*:')\n",
    "plt.plot(robust_eig_values, '*:')\n",
    "plt.legend(['classic', 'robust'])"
   ]
  },
  {
   "cell_type": "code",
   "execution_count": null,
   "metadata": {},
   "outputs": [],
   "source": [
    "robust_projected = stc.project(data_centered, robust_eig_vectors)# [:,0:7]\n",
    "\n",
    "robust_projected_all_one = project(np.ones([1,dim])-np.mean(data_centered,axis=0,keepdims=True), robust_eig_vectors)# [:,0:7]\n",
    "robust_projected_all_one = project(np.ones([1,dim])-np.mean(data_centered,axis=0,keepdims=True), robust_eig_vectors)# [:,0:7]\n",
    "robust_projected_all_negative_one = project(-np.ones([1,dim])-np.mean(data_centered,axis=0,keepdims=True), robust_eig_vectors)# [:,0:7]"
   ]
  },
  {
   "cell_type": "code",
   "execution_count": null,
   "metadata": {},
   "outputs": [],
   "source": [
    "plt.scatter(robust_projected[:,0], robust_projected[:,1], color='k')\n",
    "plt.scatter(robust_projected_all_one[:,0], robust_projected_all_one[:,1], color='r', marker='^')\n",
    "plt.scatter(robust_projected_all_negative_one[:,0], robust_projected_all_negative_one[:,1], color='b', marker='v')"
   ]
  },
  {
   "cell_type": "code",
   "execution_count": null,
   "metadata": {},
   "outputs": [],
   "source": [
    "plot_stim_slices(robust_eig_vectors[:,0], 8, 8, -0.1, 0.1)"
   ]
  },
  {
   "cell_type": "code",
   "execution_count": null,
   "metadata": {},
   "outputs": [],
   "source": [
    "plot_stim_slices(robust_eig_vectors[:,-1], 8, 8, -0.1, 0.1)"
   ]
  },
  {
   "cell_type": "markdown",
   "metadata": {},
   "source": [
    "## for batch\n",
    "\n",
    "run\n",
    "```\n",
    "python3 sta_batch.py\n",
    "```"
   ]
  },
  {
   "cell_type": "markdown",
   "metadata": {},
   "source": [
    "## analyze results"
   ]
  },
  {
   "cell_type": "code",
   "execution_count": null,
   "metadata": {},
   "outputs": [],
   "source": [
    "stc_eigenvalues = np.loadtxt(\"stc/eigen_values.txt\")\n",
    "stc_eigenvalues.shape"
   ]
  },
  {
   "cell_type": "code",
   "execution_count": null,
   "metadata": {},
   "outputs": [],
   "source": [
    "stc_eigenvalues[stc_eigenvalues < 1e-12] = np.nan\n",
    "\n",
    "plt.plot(np.log10(stc_eigenvalues.T))"
   ]
  },
  {
   "cell_type": "code",
   "execution_count": null,
   "metadata": {},
   "outputs": [],
   "source": [
    "plt.plot(stc_eigenvalues[3,:])"
   ]
  },
  {
   "cell_type": "code",
   "execution_count": null,
   "metadata": {},
   "outputs": [],
   "source": [
    "\n"
   ]
  },
  {
   "cell_type": "code",
   "execution_count": null,
   "metadata": {},
   "outputs": [],
   "source": []
  }
 ],
 "metadata": {
  "kernelspec": {
   "display_name": "Python 3",
   "language": "python",
   "name": "python3"
  },
  "language_info": {
   "codemirror_mode": {
    "name": "ipython",
    "version": 3
   },
   "file_extension": ".py",
   "mimetype": "text/x-python",
   "name": "python",
   "nbconvert_exporter": "python",
   "pygments_lexer": "ipython3",
   "version": "3.7.5"
  }
 },
 "nbformat": 4,
 "nbformat_minor": 2
}
