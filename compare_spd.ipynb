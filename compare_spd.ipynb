{
 "cells": [
  {
   "cell_type": "code",
   "execution_count": 1,
   "metadata": {},
   "outputs": [],
   "source": [
    "import pandas as pd\n",
    "import numpy as np\n",
    "import matplotlib.pyplot as plt"
   ]
  },
  {
   "cell_type": "code",
   "execution_count": 2,
   "metadata": {},
   "outputs": [
    {
     "data": {
      "text/html": [
       "<div>\n",
       "<style scoped>\n",
       "    .dataframe tbody tr th:only-of-type {\n",
       "        vertical-align: middle;\n",
       "    }\n",
       "\n",
       "    .dataframe tbody tr th {\n",
       "        vertical-align: top;\n",
       "    }\n",
       "\n",
       "    .dataframe thead th {\n",
       "        text-align: right;\n",
       "    }\n",
       "</style>\n",
       "<table border=\"1\" class=\"dataframe\">\n",
       "  <thead>\n",
       "    <tr style=\"text-align: right;\">\n",
       "      <th></th>\n",
       "      <th>channel_name</th>\n",
       "      <th>num_spikes</th>\n",
       "      <th>cell_type</th>\n",
       "      <th>PSNR</th>\n",
       "      <th>eig1</th>\n",
       "      <th>eig2</th>\n",
       "      <th>eig3</th>\n",
       "      <th>converged</th>\n",
       "      <th>PSNR1</th>\n",
       "      <th>PSNR2</th>\n",
       "      <th>weight1</th>\n",
       "      <th>weight2</th>\n",
       "      <th>inner_product</th>\n",
       "      <th>dataset</th>\n",
       "      <th>cell_type_on_and_off</th>\n",
       "      <th>cell_type_combined</th>\n",
       "    </tr>\n",
       "  </thead>\n",
       "  <tbody>\n",
       "    <tr>\n",
       "      <th>0</th>\n",
       "      <td>12a</td>\n",
       "      <td>1978</td>\n",
       "      <td>OFF</td>\n",
       "      <td>12.186541</td>\n",
       "      <td>0.971392</td>\n",
       "      <td>0.754007</td>\n",
       "      <td>0.737358</td>\n",
       "      <td>True</td>\n",
       "      <td>11.450823</td>\n",
       "      <td>10.235904</td>\n",
       "      <td>0.636834</td>\n",
       "      <td>0.363166</td>\n",
       "      <td>0.420599</td>\n",
       "      <td>20180618</td>\n",
       "      <td>False</td>\n",
       "      <td>OFF</td>\n",
       "    </tr>\n",
       "    <tr>\n",
       "      <th>1</th>\n",
       "      <td>12b</td>\n",
       "      <td>1228</td>\n",
       "      <td>ON</td>\n",
       "      <td>9.526389</td>\n",
       "      <td>0.920008</td>\n",
       "      <td>0.895442</td>\n",
       "      <td>0.871839</td>\n",
       "      <td>True</td>\n",
       "      <td>9.419680</td>\n",
       "      <td>7.839765</td>\n",
       "      <td>0.662558</td>\n",
       "      <td>0.337442</td>\n",
       "      <td>0.255689</td>\n",
       "      <td>20180618</td>\n",
       "      <td>False</td>\n",
       "      <td>ON</td>\n",
       "    </tr>\n",
       "    <tr>\n",
       "      <th>2</th>\n",
       "      <td>13a</td>\n",
       "      <td>963</td>\n",
       "      <td>OFF</td>\n",
       "      <td>11.134041</td>\n",
       "      <td>1.113298</td>\n",
       "      <td>1.056309</td>\n",
       "      <td>1.029772</td>\n",
       "      <td>True</td>\n",
       "      <td>11.420736</td>\n",
       "      <td>7.257810</td>\n",
       "      <td>0.897316</td>\n",
       "      <td>0.102684</td>\n",
       "      <td>0.466382</td>\n",
       "      <td>20180618</td>\n",
       "      <td>False</td>\n",
       "      <td>OFF</td>\n",
       "    </tr>\n",
       "    <tr>\n",
       "      <th>3</th>\n",
       "      <td>13c</td>\n",
       "      <td>587</td>\n",
       "      <td>OFF</td>\n",
       "      <td>13.840240</td>\n",
       "      <td>1.727560</td>\n",
       "      <td>1.556638</td>\n",
       "      <td>1.542630</td>\n",
       "      <td>True</td>\n",
       "      <td>13.558722</td>\n",
       "      <td>5.903613</td>\n",
       "      <td>0.961121</td>\n",
       "      <td>0.038879</td>\n",
       "      <td>0.484240</td>\n",
       "      <td>20180618</td>\n",
       "      <td>False</td>\n",
       "      <td>OFF</td>\n",
       "    </tr>\n",
       "    <tr>\n",
       "      <th>4</th>\n",
       "      <td>14a</td>\n",
       "      <td>5973</td>\n",
       "      <td>ON</td>\n",
       "      <td>25.775064</td>\n",
       "      <td>0.620785</td>\n",
       "      <td>0.571746</td>\n",
       "      <td>0.562778</td>\n",
       "      <td>True</td>\n",
       "      <td>25.702134</td>\n",
       "      <td>15.884281</td>\n",
       "      <td>0.598530</td>\n",
       "      <td>0.401470</td>\n",
       "      <td>-0.206751</td>\n",
       "      <td>20180618</td>\n",
       "      <td>True</td>\n",
       "      <td>ON/OFF</td>\n",
       "    </tr>\n",
       "    <tr>\n",
       "      <th>...</th>\n",
       "      <td>...</td>\n",
       "      <td>...</td>\n",
       "      <td>...</td>\n",
       "      <td>...</td>\n",
       "      <td>...</td>\n",
       "      <td>...</td>\n",
       "      <td>...</td>\n",
       "      <td>...</td>\n",
       "      <td>...</td>\n",
       "      <td>...</td>\n",
       "      <td>...</td>\n",
       "      <td>...</td>\n",
       "      <td>...</td>\n",
       "      <td>...</td>\n",
       "      <td>...</td>\n",
       "      <td>...</td>\n",
       "    </tr>\n",
       "    <tr>\n",
       "      <th>260</th>\n",
       "      <td>86b</td>\n",
       "      <td>1684</td>\n",
       "      <td>unknown</td>\n",
       "      <td>6.779709</td>\n",
       "      <td>0.788005</td>\n",
       "      <td>0.759195</td>\n",
       "      <td>0.735989</td>\n",
       "      <td>True</td>\n",
       "      <td>6.928302</td>\n",
       "      <td>6.117002</td>\n",
       "      <td>0.336812</td>\n",
       "      <td>0.663188</td>\n",
       "      <td>-0.003025</td>\n",
       "      <td>20180626</td>\n",
       "      <td>False</td>\n",
       "      <td>unknown</td>\n",
       "    </tr>\n",
       "    <tr>\n",
       "      <th>261</th>\n",
       "      <td>86c</td>\n",
       "      <td>705</td>\n",
       "      <td>ON</td>\n",
       "      <td>10.238226</td>\n",
       "      <td>1.188350</td>\n",
       "      <td>1.152660</td>\n",
       "      <td>1.125220</td>\n",
       "      <td>True</td>\n",
       "      <td>10.878715</td>\n",
       "      <td>6.213090</td>\n",
       "      <td>0.955128</td>\n",
       "      <td>0.044872</td>\n",
       "      <td>0.117121</td>\n",
       "      <td>20180626</td>\n",
       "      <td>False</td>\n",
       "      <td>ON</td>\n",
       "    </tr>\n",
       "    <tr>\n",
       "      <th>262</th>\n",
       "      <td>87a</td>\n",
       "      <td>9120</td>\n",
       "      <td>OFF</td>\n",
       "      <td>21.676952</td>\n",
       "      <td>0.590420</td>\n",
       "      <td>0.517161</td>\n",
       "      <td>0.512286</td>\n",
       "      <td>True</td>\n",
       "      <td>19.043271</td>\n",
       "      <td>14.230278</td>\n",
       "      <td>0.600327</td>\n",
       "      <td>0.399673</td>\n",
       "      <td>0.056832</td>\n",
       "      <td>20180626</td>\n",
       "      <td>False</td>\n",
       "      <td>OFF</td>\n",
       "    </tr>\n",
       "    <tr>\n",
       "      <th>263</th>\n",
       "      <td>87b</td>\n",
       "      <td>3797</td>\n",
       "      <td>ON</td>\n",
       "      <td>16.662341</td>\n",
       "      <td>0.487358</td>\n",
       "      <td>0.482080</td>\n",
       "      <td>0.475510</td>\n",
       "      <td>True</td>\n",
       "      <td>9.090881</td>\n",
       "      <td>12.160747</td>\n",
       "      <td>0.469121</td>\n",
       "      <td>0.530879</td>\n",
       "      <td>-0.128974</td>\n",
       "      <td>20180626</td>\n",
       "      <td>False</td>\n",
       "      <td>ON</td>\n",
       "    </tr>\n",
       "    <tr>\n",
       "      <th>264</th>\n",
       "      <td>87c</td>\n",
       "      <td>595</td>\n",
       "      <td>OFF</td>\n",
       "      <td>10.290554</td>\n",
       "      <td>1.103858</td>\n",
       "      <td>1.065057</td>\n",
       "      <td>1.060395</td>\n",
       "      <td>True</td>\n",
       "      <td>5.985814</td>\n",
       "      <td>9.968648</td>\n",
       "      <td>0.056081</td>\n",
       "      <td>0.943919</td>\n",
       "      <td>0.222600</td>\n",
       "      <td>20180626</td>\n",
       "      <td>False</td>\n",
       "      <td>OFF</td>\n",
       "    </tr>\n",
       "  </tbody>\n",
       "</table>\n",
       "<p>265 rows × 16 columns</p>\n",
       "</div>"
      ],
      "text/plain": [
       "    channel_name  num_spikes cell_type       PSNR      eig1      eig2  \\\n",
       "0            12a        1978       OFF  12.186541  0.971392  0.754007   \n",
       "1            12b        1228        ON   9.526389  0.920008  0.895442   \n",
       "2            13a         963       OFF  11.134041  1.113298  1.056309   \n",
       "3            13c         587       OFF  13.840240  1.727560  1.556638   \n",
       "4            14a        5973        ON  25.775064  0.620785  0.571746   \n",
       "..           ...         ...       ...        ...       ...       ...   \n",
       "260          86b        1684   unknown   6.779709  0.788005  0.759195   \n",
       "261          86c         705        ON  10.238226  1.188350  1.152660   \n",
       "262          87a        9120       OFF  21.676952  0.590420  0.517161   \n",
       "263          87b        3797        ON  16.662341  0.487358  0.482080   \n",
       "264          87c         595       OFF  10.290554  1.103858  1.065057   \n",
       "\n",
       "         eig3  converged      PSNR1      PSNR2   weight1   weight2  \\\n",
       "0    0.737358       True  11.450823  10.235904  0.636834  0.363166   \n",
       "1    0.871839       True   9.419680   7.839765  0.662558  0.337442   \n",
       "2    1.029772       True  11.420736   7.257810  0.897316  0.102684   \n",
       "3    1.542630       True  13.558722   5.903613  0.961121  0.038879   \n",
       "4    0.562778       True  25.702134  15.884281  0.598530  0.401470   \n",
       "..        ...        ...        ...        ...       ...       ...   \n",
       "260  0.735989       True   6.928302   6.117002  0.336812  0.663188   \n",
       "261  1.125220       True  10.878715   6.213090  0.955128  0.044872   \n",
       "262  0.512286       True  19.043271  14.230278  0.600327  0.399673   \n",
       "263  0.475510       True   9.090881  12.160747  0.469121  0.530879   \n",
       "264  1.060395       True   5.985814   9.968648  0.056081  0.943919   \n",
       "\n",
       "     inner_product   dataset  cell_type_on_and_off cell_type_combined  \n",
       "0         0.420599  20180618                 False                OFF  \n",
       "1         0.255689  20180618                 False                 ON  \n",
       "2         0.466382  20180618                 False                OFF  \n",
       "3         0.484240  20180618                 False                OFF  \n",
       "4        -0.206751  20180618                  True             ON/OFF  \n",
       "..             ...       ...                   ...                ...  \n",
       "260      -0.003025  20180626                 False            unknown  \n",
       "261       0.117121  20180626                 False                 ON  \n",
       "262       0.056832  20180626                 False                OFF  \n",
       "263      -0.128974  20180626                 False                 ON  \n",
       "264       0.222600  20180626                 False                OFF  \n",
       "\n",
       "[265 rows x 16 columns]"
      ]
     },
     "execution_count": 2,
     "metadata": {},
     "output_type": "execute_result"
    }
   ],
   "source": [
    "spd5=pd.read_csv(\"cluster_combined_dim2_spd5.csv\")\n",
    "spd4=pd.read_csv(\"cluster_combined_dim2_spd4.csv\")\n",
    "spd3=pd.read_csv(\"cluster_combined_dim2_spd3.csv\")\n",
    "spd2=pd.read_csv(\"cluster_combined_dim2_spd2.csv\")\n",
    "spd1=pd.read_csv(\"cluster_combined_dim2_spd1.csv\")\n",
    "spd1"
   ]
  },
  {
   "cell_type": "code",
   "execution_count": 3,
   "metadata": {},
   "outputs": [],
   "source": [
    "def combine_columns(df, col_names):\n",
    "    \n",
    "    return df[col_names[0]].astype(str) + '_' + df[col_names[1]].astype(str)\n",
    "\n",
    "# combine_columns(spd5.loc[idx_on_and_off], [\"dataset\", \"channel_name\"])"
   ]
  },
  {
   "cell_type": "code",
   "execution_count": 4,
   "metadata": {},
   "outputs": [
    {
     "name": "stdout",
     "output_type": "stream",
     "text": [
      "22\n",
      "23\n",
      "23\n",
      "23\n",
      "23\n"
     ]
    }
   ],
   "source": [
    "idx_on_and_off = spd5.cell_type_on_and_off \n",
    "channel_names_spd5 = set(combine_columns(spd5.loc[idx_on_and_off], [\"dataset\", \"channel_name\"]))\n",
    "print(len(channel_names_spd5))\n",
    "\n",
    "idx_on_and_off = spd4.cell_type_on_and_off \n",
    "channel_names_spd4 = set(combine_columns(spd4.loc[idx_on_and_off], [\"dataset\", \"channel_name\"]))\n",
    "print(len(channel_names_spd4))\n",
    "\n",
    "idx_on_and_off = spd3.cell_type_on_and_off \n",
    "channel_names_spd3 = set(combine_columns(spd3.loc[idx_on_and_off], [\"dataset\", \"channel_name\"]))\n",
    "print(len(channel_names_spd3))\n",
    "\n",
    "idx_on_and_off = spd2.cell_type_on_and_off\n",
    "channel_names_spd2 = set(combine_columns(spd2.loc[idx_on_and_off], [\"dataset\", \"channel_name\"]))\n",
    "print(len(channel_names_spd2))\n",
    "\n",
    "idx_on_and_off = spd1.cell_type_on_and_off\n",
    "channel_names_spd1 = set(combine_columns(spd1.loc[idx_on_and_off], [\"dataset\", \"channel_name\"]))\n",
    "print(len(channel_names_spd1))"
   ]
  },
  {
   "cell_type": "code",
   "execution_count": 5,
   "metadata": {},
   "outputs": [
    {
     "name": "stdout",
     "output_type": "stream",
     "text": [
      "set()\n",
      "set()\n"
     ]
    }
   ],
   "source": [
    "# compare 1 vs 2\n",
    "print(channel_names_spd1 - channel_names_spd2)\n",
    "print(channel_names_spd2 - channel_names_spd1)"
   ]
  },
  {
   "cell_type": "code",
   "execution_count": 6,
   "metadata": {},
   "outputs": [
    {
     "name": "stdout",
     "output_type": "stream",
     "text": [
      "set()\n",
      "set()\n"
     ]
    }
   ],
   "source": [
    "# compare 2 vs 3\n",
    "print(channel_names_spd2 - channel_names_spd3)\n",
    "print(channel_names_spd3 - channel_names_spd2)"
   ]
  },
  {
   "cell_type": "code",
   "execution_count": 7,
   "metadata": {},
   "outputs": [
    {
     "name": "stdout",
     "output_type": "stream",
     "text": [
      "set()\n",
      "set()\n"
     ]
    }
   ],
   "source": [
    "# compare 3 vs 4\n",
    "print(channel_names_spd3 - channel_names_spd4)\n",
    "print(channel_names_spd4 - channel_names_spd3)"
   ]
  },
  {
   "cell_type": "code",
   "execution_count": 8,
   "metadata": {},
   "outputs": [
    {
     "name": "stdout",
     "output_type": "stream",
     "text": [
      "{'20180626_22b'}\n",
      "set()\n"
     ]
    }
   ],
   "source": [
    "# compare 4 vs 5\n",
    "print(channel_names_spd4 - channel_names_spd5)\n",
    "print(channel_names_spd5 - channel_names_spd4)"
   ]
  },
  {
   "cell_type": "code",
   "execution_count": 9,
   "metadata": {
    "scrolled": true
   },
   "outputs": [
    {
     "data": {
      "text/html": [
       "<div>\n",
       "<style scoped>\n",
       "    .dataframe tbody tr th:only-of-type {\n",
       "        vertical-align: middle;\n",
       "    }\n",
       "\n",
       "    .dataframe tbody tr th {\n",
       "        vertical-align: top;\n",
       "    }\n",
       "\n",
       "    .dataframe thead th {\n",
       "        text-align: right;\n",
       "    }\n",
       "</style>\n",
       "<table border=\"1\" class=\"dataframe\">\n",
       "  <thead>\n",
       "    <tr style=\"text-align: right;\">\n",
       "      <th></th>\n",
       "      <th>channel_name</th>\n",
       "      <th>num_spikes</th>\n",
       "      <th>cell_type</th>\n",
       "      <th>PSNR</th>\n",
       "      <th>eig1</th>\n",
       "      <th>eig2</th>\n",
       "      <th>eig3</th>\n",
       "      <th>converged</th>\n",
       "      <th>PSNR1</th>\n",
       "      <th>PSNR2</th>\n",
       "      <th>weight1</th>\n",
       "      <th>weight2</th>\n",
       "      <th>inner_product</th>\n",
       "      <th>dataset</th>\n",
       "      <th>cell_type_on_and_off</th>\n",
       "      <th>cell_type_combined</th>\n",
       "    </tr>\n",
       "  </thead>\n",
       "  <tbody>\n",
       "    <tr>\n",
       "      <th>62</th>\n",
       "      <td>22b</td>\n",
       "      <td>15606</td>\n",
       "      <td>OFF</td>\n",
       "      <td>16.500673</td>\n",
       "      <td>0.443572</td>\n",
       "      <td>0.439005</td>\n",
       "      <td>0.435544</td>\n",
       "      <td>True</td>\n",
       "      <td>12.984921</td>\n",
       "      <td>13.880398</td>\n",
       "      <td>0.510985</td>\n",
       "      <td>0.489015</td>\n",
       "      <td>-0.234519</td>\n",
       "      <td>20180621</td>\n",
       "      <td>True</td>\n",
       "      <td>ON/OFF</td>\n",
       "    </tr>\n",
       "    <tr>\n",
       "      <th>125</th>\n",
       "      <td>22b</td>\n",
       "      <td>2413</td>\n",
       "      <td>unknown</td>\n",
       "      <td>6.267735</td>\n",
       "      <td>0.835159</td>\n",
       "      <td>0.782430</td>\n",
       "      <td>0.732217</td>\n",
       "      <td>True</td>\n",
       "      <td>12.865903</td>\n",
       "      <td>10.592013</td>\n",
       "      <td>0.380812</td>\n",
       "      <td>0.619188</td>\n",
       "      <td>-0.312358</td>\n",
       "      <td>20180626</td>\n",
       "      <td>True</td>\n",
       "      <td>ON/OFF</td>\n",
       "    </tr>\n",
       "  </tbody>\n",
       "</table>\n",
       "</div>"
      ],
      "text/plain": [
       "    channel_name  num_spikes cell_type       PSNR      eig1      eig2  \\\n",
       "62           22b       15606       OFF  16.500673  0.443572  0.439005   \n",
       "125          22b        2413   unknown   6.267735  0.835159  0.782430   \n",
       "\n",
       "         eig3  converged      PSNR1      PSNR2   weight1   weight2  \\\n",
       "62   0.435544       True  12.984921  13.880398  0.510985  0.489015   \n",
       "125  0.732217       True  12.865903  10.592013  0.380812  0.619188   \n",
       "\n",
       "     inner_product   dataset  cell_type_on_and_off cell_type_combined  \n",
       "62       -0.234519  20180621                  True             ON/OFF  \n",
       "125      -0.312358  20180626                  True             ON/OFF  "
      ]
     },
     "execution_count": 9,
     "metadata": {},
     "output_type": "execute_result"
    }
   ],
   "source": [
    "spd4.loc[spd4[\"channel_name\"]==\"22b\"]"
   ]
  },
  {
   "cell_type": "code",
   "execution_count": 10,
   "metadata": {},
   "outputs": [
    {
     "data": {
      "text/plain": [
       "(2048, 2560)"
      ]
     },
     "execution_count": 10,
     "metadata": {},
     "output_type": "execute_result"
    }
   ],
   "source": [
    "512*4, 512*5"
   ]
  },
  {
   "cell_type": "code",
   "execution_count": 11,
   "metadata": {},
   "outputs": [
    {
     "data": {
      "text/plain": [
       "(66, 66, 62, 61, 57)"
      ]
     },
     "execution_count": 11,
     "metadata": {},
     "output_type": "execute_result"
    }
   ],
   "source": [
    "## treshold effects\n",
    "\n",
    "def count_thresholded(cluster_with_enough_spikes, PSNR_threshold=8.5):\n",
    "#     PSNR_threshold = 8.5\n",
    "#     cluster_with_enough_spikes = spd1\n",
    "    idx_thresholded = (cluster_with_enough_spikes[\"inner_product\"] < 0) & (cluster_with_enough_spikes[\"PSNR1\"] > PSNR_threshold) & (cluster_with_enough_spikes[\"PSNR2\"] > PSNR_threshold)\n",
    "\n",
    "    return np.sum(idx_thresholded)\n",
    "\n",
    "count_thresholded(spd1), count_thresholded(spd2), count_thresholded(spd3), count_thresholded(spd4), count_thresholded(spd5)"
   ]
  },
  {
   "cell_type": "code",
   "execution_count": 12,
   "metadata": {},
   "outputs": [
    {
     "data": {
      "image/png": "[encoded data removed]",
      "text/plain": [
       "<Figure size 360x252 with 1 Axes>"
      ]
     },
     "metadata": {
      "needs_background": "light"
     },
     "output_type": "display_data"
    }
   ],
   "source": [
    "plt.figure(figsize=(5,3.5))\n",
    "\n",
    "spike_per_dims = [1, 2, 3, 4, 5]\n",
    "plt.plot(spike_per_dims, [len(spd1), len(spd2), len(spd3), len(spd4), len(spd5)], 'ks:')\n",
    "plt.plot(spike_per_dims, [count_thresholded(spd1), count_thresholded(spd2), count_thresholded(spd3), count_thresholded(spd4), count_thresholded(spd5)], 'k^:')\n",
    "plt.plot(spike_per_dims, [len(channel_names_spd1), len(channel_names_spd2), len(channel_names_spd3), len(channel_names_spd4), len(channel_names_spd5)], 'kD--')\n",
    "plt.xticks(spike_per_dims)\n",
    "\n",
    "plt.xlabel('minimum number of spikes / stimulus dimension')\n",
    "plt.ylabel('number of cells')\n",
    "\n",
    "legends = [\"enough spikes\", \"valid clusters\", \"ON/OFF\"]\n",
    "# , label=\"more than minimum number of spikes\")\n",
    "# , label=\"more than minimum number of spikes\")\n",
    "# , label=\"ON/OFF\"\n",
    "plt.legend(legends, loc=\"upper right\")\n",
    "\n",
    "# YLIM=plt.ylim()\n",
    "# plt.ylim(0, YLIM[1])\n",
    "plt.ylim(0,300)\n",
    "\n",
    "# remove top & right box\n",
    "# https://stackoverflow.com/a/28720127\n",
    "ax=plt.gca()\n",
    "ax.spines['top'].set_visible(False)\n",
    "ax.spines['right'].set_visible(False)\n",
    "\n",
    "plt.savefig(\"figure/number_of_cells_vs_spd.pdf\")"
   ]
  },
  {
   "cell_type": "code",
   "execution_count": 50,
   "metadata": {},
   "outputs": [
    {
     "name": "stdout",
     "output_type": "stream",
     "text": [
      "[56 48 43 39 32]\n",
      "23 171\n",
      "5 39\n",
      "5 56\n",
      "5 48\n",
      "5 43\n",
      "5 39\n",
      "4 32\n"
     ]
    },
    {
     "data": {
      "text/plain": [
       "<BarContainer object of 5 artists>"
      ]
     },
     "execution_count": 50,
     "metadata": {},
     "output_type": "execute_result"
    },
    {
     "data": {
      "image/png": "[encoded data removed]",
      "text/plain": [
       "<Figure size 432x288 with 1 Axes>"
      ]
     },
     "metadata": {
      "needs_background": "light"
     },
     "output_type": "display_data"
    }
   ],
   "source": [
    "# re-plot with ratios\n",
    "\n",
    "# ON/OFF / try cells\n",
    "num_on_off = np.array([len(channel_names_spd1), len(channel_names_spd2), len(channel_names_spd3), len(channel_names_spd4), len(channel_names_spd5)])\n",
    "num_tried =  np.array([len(spd1), len(spd2), len(spd3), len(spd4), len(spd5)])\n",
    "\n",
    "plt.bar(spike_per_dims, num_on_off / num_tried)\n",
    "\n",
    "# count unknowns\n",
    "num_unknowns = np.array([np.sum(spd1.cell_type==\"unknown\"), np.sum(spd2.cell_type==\"unknown\"), np.sum(spd3.cell_type==\"unknown\"), np.sum(spd4.cell_type==\"unknown\"), np.sum(spd5.cell_type==\"unknown\")])\n",
    "print(num_unknowns)\n",
    "\n",
    "# count ON/OFF & unknown & \n",
    "\n",
    "def calc_ratio_of_on_off(df, base_col_name=None):\n",
    "    if base_col_name is not None:\n",
    "        base_idx = df[base_col_name]==\"unknown\"\n",
    "        df = df.loc[base_idx]\n",
    "        \n",
    "#         print(len(df))\n",
    "\n",
    "    idx_on_off = df[\"cell_type_combined\"] == \"ON/OFF\"\n",
    "    \n",
    "    print(np.sum(idx_on_off), len(df))\n",
    "    return np.sum(idx_on_off) / len(df)\n",
    "    \n",
    "    \n",
    "calc_ratio_of_on_off(spd4)\n",
    "calc_ratio_of_on_off(spd4, \"cell_type\")\n",
    "\n",
    "\n",
    "ratio_of_on_off_among_unknown = [calc_ratio_of_on_off(spd1, \"cell_type\"),\n",
    "                                 calc_ratio_of_on_off(spd2, \"cell_type\"),\n",
    "                                 calc_ratio_of_on_off(spd3, \"cell_type\"),\n",
    "                                 calc_ratio_of_on_off(spd4, \"cell_type\"),\n",
    "                                 calc_ratio_of_on_off(spd5, \"cell_type\")]\n",
    "# num_on_off_and_unknowns = np.array([np.sum(spd1.cell_type_combined==\"ON/OFF\" and spd1.cell_type==\"unknown\"), \n",
    "#                                     np.sum(spd2.cell_type==\"unknown\"), np.sum(spd3.cell_type==\"unknown\"), np.sum(spd4.cell_type==\"unknown\"), np.sum(spd5.cell_type==\"unknown\")])\n",
    "# print(num_on_off_and_unknowns)\n",
    "\n",
    "\n",
    "\n",
    "spike_per_dims = [1, 2, 3, 4, 5]\n",
    "\n",
    "\n",
    "plt.bar(spike_per_dims, ratio_of_on_off_among_unknown)\n",
    "\n",
    "\n",
    "# plt.bar(spike_per_dims, )"
   ]
  },
  {
   "cell_type": "code",
   "execution_count": 54,
   "metadata": {},
   "outputs": [
    {
     "data": {
      "image/png": "[encoded data removed]",
      "text/plain": [
       "<Figure size 360x252 with 1 Axes>"
      ]
     },
     "metadata": {
      "needs_background": "light"
     },
     "output_type": "display_data"
    }
   ],
   "source": [
    "def bar_group(xs, bars1, bars2, labels=None, xlabel=None, barWidth = 0.25):\n",
    "    \"\"\"\n",
    "    code from https://python-graph-gallery.com/11-grouped-barplot/\n",
    "    \"\"\"\n",
    "\n",
    "    # Set position of bar on X axis\n",
    "    r1 = np.arange(len(bars1))\n",
    "    r2 = [x + barWidth for x in r1]\n",
    "\n",
    "    # Make the plot\n",
    "    plt.bar(r1, bars1, color='#77f777', width=barWidth, edgecolor='white')\n",
    "    plt.bar(r2, bars2, color='#557f2d', width=barWidth, edgecolor='white')\n",
    "\n",
    "    # Add xticks on the middle of the group bars\n",
    "    plt.xticks([r + barWidth/2 for r in range(len(bars1))], xs)\n",
    "    if xlabel is not None:\n",
    "        plt.xlabel(xlabel)        \n",
    "\n",
    "    # Create legend & Show graphic\n",
    "    if labels is not None:\n",
    "        plt.legend(labels)\n",
    "        \n",
    "    # remove top & right box\n",
    "    # https://stackoverflow.com/a/28720127\n",
    "    ax=plt.gca()\n",
    "    ax.spines['top'].set_visible(False)\n",
    "    ax.spines['right'].set_visible(False)\n",
    "\n",
    "plt.figure(figsize=(5,3.5))\n",
    "bar_group(spike_per_dims, num_on_off / num_tried, ratio_of_on_off_among_unknown, xlabel='spike per dimension')\n",
    "plt.ylabel('ratio')\n",
    "plt.legend([\"ON/OFF / enough spikes\", \"ON/OFF / unknown\"])\n",
    "\n",
    "\n",
    "plt.ylim(0, 0.16)\n",
    "\n",
    "plt.savefig(\"figure/ratio_ON_OFF.pdf\")"
   ]
  },
  {
   "cell_type": "code",
   "execution_count": 15,
   "metadata": {},
   "outputs": [
    {
     "data": {
      "text/plain": [
       "array([0.41071429, 0.47916667, 0.53488372, 0.58974359, 0.6875    ])"
      ]
     },
     "execution_count": 15,
     "metadata": {},
     "output_type": "execute_result"
    }
   ],
   "source": [
    "num_on_off / num_unknowns"
   ]
  },
  {
   "cell_type": "code",
   "execution_count": 16,
   "metadata": {},
   "outputs": [
    {
     "data": {
      "text/plain": [
       "OFF        84\n",
       "ON         48\n",
       "unknown    39\n",
       "Name: cell_type, dtype: int64"
      ]
     },
     "execution_count": 16,
     "metadata": {},
     "output_type": "execute_result"
    }
   ],
   "source": [
    "spd4.cell_type.value_counts()"
   ]
  },
  {
   "cell_type": "code",
   "execution_count": 17,
   "metadata": {},
   "outputs": [
    {
     "data": {
      "text/plain": [
       "OFF        78\n",
       "ON         44\n",
       "unknown    32\n",
       "Name: cell_type, dtype: int64"
      ]
     },
     "execution_count": 17,
     "metadata": {},
     "output_type": "execute_result"
    }
   ],
   "source": [
    "spd5.cell_type.value_counts()"
   ]
  },
  {
   "cell_type": "code",
   "execution_count": 18,
   "metadata": {},
   "outputs": [
    {
     "data": {
      "text/plain": [
       "0.6875"
      ]
     },
     "execution_count": 18,
     "metadata": {},
     "output_type": "execute_result"
    }
   ],
   "source": [
    "22/32"
   ]
  },
  {
   "cell_type": "code",
   "execution_count": null,
   "metadata": {},
   "outputs": [],
   "source": []
  },
  {
   "cell_type": "code",
   "execution_count": 19,
   "metadata": {},
   "outputs": [],
   "source": [
    "idx_on = spd2.groupby(\"cell_type_combined\").groups['ON']\n",
    "idx_off = spd2.groupby(\"cell_type_combined\").groups['OFF']\n",
    "idx_on_off = spd2.groupby(\"cell_type_combined\").groups['ON/OFF']\n",
    "idx_unknown = spd2.groupby(\"cell_type_combined\").groups['unknown']"
   ]
  },
  {
   "cell_type": "code",
   "execution_count": 20,
   "metadata": {},
   "outputs": [
    {
     "data": {
      "text/plain": [
       "<matplotlib.axes._subplots.AxesSubplot at 0x120869750>"
      ]
     },
     "execution_count": 20,
     "metadata": {},
     "output_type": "execute_result"
    },
    {
     "data": {
      "image/png": "[encoded data removed]",
      "text/plain": [
       "<Figure size 432x288 with 1 Axes>"
      ]
     },
     "metadata": {
      "needs_background": "light"
     },
     "output_type": "display_data"
    },
    {
     "data": {
      "image/png": "[encoded data removed]",
      "text/plain": [
       "<Figure size 432x288 with 1 Axes>"
      ]
     },
     "metadata": {
      "needs_background": "light"
     },
     "output_type": "display_data"
    },
    {
     "data": {
      "image/png": "[encoded data removed]",
      "text/plain": [
       "<Figure size 432x288 with 1 Axes>"
      ]
     },
     "metadata": {
      "needs_background": "light"
     },
     "output_type": "display_data"
    }
   ],
   "source": [
    "\n",
    "spd2.loc[idx_on].plot.scatter(\"num_spikes\", \"PSNR\", c=\"r\")\n",
    "spd2.loc[idx_off].plot.scatter(\"num_spikes\", \"PSNR\", c=\"b\")\n",
    "spd2.loc[idx_on_off].plot.scatter(\"num_spikes\", \"PSNR\", c=\"g\")"
   ]
  },
  {
   "cell_type": "markdown",
   "metadata": {},
   "source": [
    "## stats"
   ]
  },
  {
   "cell_type": "code",
   "execution_count": 26,
   "metadata": {},
   "outputs": [
    {
     "data": {
      "text/plain": [
       "OFF        84\n",
       "ON         48\n",
       "unknown    39\n",
       "Name: cell_type, dtype: int64"
      ]
     },
     "execution_count": 26,
     "metadata": {},
     "output_type": "execute_result"
    }
   ],
   "source": [
    "spd4[\"cell_type\"].value_counts()"
   ]
  },
  {
   "cell_type": "code",
   "execution_count": 27,
   "metadata": {},
   "outputs": [
    {
     "data": {
      "text/plain": [
       "171"
      ]
     },
     "execution_count": 27,
     "metadata": {},
     "output_type": "execute_result"
    }
   ],
   "source": [
    "spd4[\"cell_type\"].value_counts().sum()"
   ]
  },
  {
   "cell_type": "code",
   "execution_count": 33,
   "metadata": {},
   "outputs": [
    {
     "data": {
      "text/plain": [
       "OFF        0.491228\n",
       "ON         0.280702\n",
       "unknown    0.228070\n",
       "Name: cell_type, dtype: float64"
      ]
     },
     "execution_count": 33,
     "metadata": {},
     "output_type": "execute_result"
    }
   ],
   "source": [
    "spd4[\"cell_type\"].value_counts() / spd4[\"cell_type\"].value_counts().sum()"
   ]
  },
  {
   "cell_type": "code",
   "execution_count": 29,
   "metadata": {},
   "outputs": [
    {
     "data": {
      "text/plain": [
       "OFF        79\n",
       "ON         35\n",
       "unknown    34\n",
       "ON/OFF     23\n",
       "Name: cell_type_combined, dtype: int64"
      ]
     },
     "execution_count": 29,
     "metadata": {},
     "output_type": "execute_result"
    }
   ],
   "source": [
    "spd4[\"cell_type_combined\"].value_counts()"
   ]
  },
  {
   "cell_type": "code",
   "execution_count": 35,
   "metadata": {},
   "outputs": [
    {
     "data": {
      "text/plain": [
       "OFF        0.461988\n",
       "ON         0.204678\n",
       "unknown    0.198830\n",
       "ON/OFF     0.134503\n",
       "Name: cell_type_combined, dtype: float64"
      ]
     },
     "execution_count": 35,
     "metadata": {},
     "output_type": "execute_result"
    }
   ],
   "source": [
    "spd4[\"cell_type_combined\"].value_counts() / spd4[\"cell_type_combined\"].value_counts().sum()"
   ]
  },
  {
   "cell_type": "code",
   "execution_count": 24,
   "metadata": {},
   "outputs": [
    {
     "data": {
      "text/plain": [
       "cell_type  cell_type_combined\n",
       "OFF        OFF                   79\n",
       "           ON/OFF                 5\n",
       "ON         ON                    35\n",
       "           ON/OFF                13\n",
       "unknown    unknown               34\n",
       "           ON/OFF                 5\n",
       "Name: cell_type_combined, dtype: int64"
      ]
     },
     "execution_count": 24,
     "metadata": {},
     "output_type": "execute_result"
    }
   ],
   "source": [
    "spd4.groupby(\"cell_type\")[\"cell_type_combined\"].value_counts()"
   ]
  },
  {
   "cell_type": "code",
   "execution_count": 31,
   "metadata": {},
   "outputs": [
    {
     "data": {
      "text/plain": [
       "array([[35,  0,  0,  0],\n",
       "       [ 0, 79,  0,  0],\n",
       "       [13,  5,  0,  5],\n",
       "       [ 0,  0,  0, 34]])"
      ]
     },
     "execution_count": 31,
     "metadata": {},
     "output_type": "execute_result"
    }
   ],
   "source": [
    "from sklearn.metrics import confusion_matrix\n",
    "\n",
    "confusion_matrix(spd4[\"cell_type_combined\"], spd4[\"cell_type\"], labels=[\"ON\", \"OFF\", \"ON/OFF\", \"unknown\"])"
   ]
  },
  {
   "cell_type": "code",
   "execution_count": 32,
   "metadata": {},
   "outputs": [
    {
     "data": {
      "text/plain": [
       "array([[35,  0, 13,  0],\n",
       "       [ 0, 79,  5,  0],\n",
       "       [ 0,  0,  0,  0],\n",
       "       [ 0,  0,  5, 34]])"
      ]
     },
     "execution_count": 32,
     "metadata": {},
     "output_type": "execute_result"
    }
   ],
   "source": [
    "confusion_matrix(spd4[\"cell_type\"], spd4[\"cell_type_combined\"], labels=[\"ON\", \"OFF\", \"ON/OFF\", \"unknown\"])"
   ]
  },
  {
   "cell_type": "code",
   "execution_count": null,
   "metadata": {},
   "outputs": [],
   "source": []
  }
 ],
 "metadata": {
  "kernelspec": {
   "display_name": "Python 3",
   "language": "python",
   "name": "python3"
  },
  "language_info": {
   "codemirror_mode": {
    "name": "ipython",
    "version": 3
   },
   "file_extension": ".py",
   "mimetype": "text/x-python",
   "name": "python",
   "nbconvert_exporter": "python",
   "pygments_lexer": "ipython3",
   "version": "3.7.6"
  }
 },
 "nbformat": 4,
 "nbformat_minor": 2
}
