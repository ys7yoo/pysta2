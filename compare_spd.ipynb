{
 "cells": [
  {
   "cell_type": "code",
   "execution_count": 99,
   "metadata": {},
   "outputs": [],
   "source": [
    "import pandas as pd\n",
    "import numpy as np\n",
    "import matplotlib.pyplot as plt"
   ]
  },
  {
   "cell_type": "code",
   "execution_count": 109,
   "metadata": {},
   "outputs": [
    {
     "data": {
      "text/html": [
       "<div>\n",
       "<style scoped>\n",
       "    .dataframe tbody tr th:only-of-type {\n",
       "        vertical-align: middle;\n",
       "    }\n",
       "\n",
       "    .dataframe tbody tr th {\n",
       "        vertical-align: top;\n",
       "    }\n",
       "\n",
       "    .dataframe thead th {\n",
       "        text-align: right;\n",
       "    }\n",
       "</style>\n",
       "<table border=\"1\" class=\"dataframe\">\n",
       "  <thead>\n",
       "    <tr style=\"text-align: right;\">\n",
       "      <th></th>\n",
       "      <th>channel_name</th>\n",
       "      <th>num_spikes</th>\n",
       "      <th>cell_type</th>\n",
       "      <th>PSNR</th>\n",
       "      <th>eig1</th>\n",
       "      <th>eig2</th>\n",
       "      <th>eig3</th>\n",
       "      <th>converged</th>\n",
       "      <th>PSNR1</th>\n",
       "      <th>PSNR2</th>\n",
       "      <th>weight1</th>\n",
       "      <th>weight2</th>\n",
       "      <th>inner_product</th>\n",
       "      <th>dataset</th>\n",
       "      <th>cell_type_on_and_off</th>\n",
       "      <th>cell_type_combined</th>\n",
       "    </tr>\n",
       "  </thead>\n",
       "  <tbody>\n",
       "    <tr>\n",
       "      <td>0</td>\n",
       "      <td>12a</td>\n",
       "      <td>1978</td>\n",
       "      <td>OFF</td>\n",
       "      <td>12.186541</td>\n",
       "      <td>0.971392</td>\n",
       "      <td>0.754007</td>\n",
       "      <td>0.737358</td>\n",
       "      <td>True</td>\n",
       "      <td>11.450823</td>\n",
       "      <td>10.235904</td>\n",
       "      <td>0.636834</td>\n",
       "      <td>0.363166</td>\n",
       "      <td>0.420599</td>\n",
       "      <td>20180618</td>\n",
       "      <td>False</td>\n",
       "      <td>OFF</td>\n",
       "    </tr>\n",
       "    <tr>\n",
       "      <td>1</td>\n",
       "      <td>12b</td>\n",
       "      <td>1228</td>\n",
       "      <td>ON</td>\n",
       "      <td>9.526389</td>\n",
       "      <td>0.920008</td>\n",
       "      <td>0.895442</td>\n",
       "      <td>0.871839</td>\n",
       "      <td>True</td>\n",
       "      <td>9.419680</td>\n",
       "      <td>7.839765</td>\n",
       "      <td>0.662558</td>\n",
       "      <td>0.337442</td>\n",
       "      <td>0.255689</td>\n",
       "      <td>20180618</td>\n",
       "      <td>False</td>\n",
       "      <td>ON</td>\n",
       "    </tr>\n",
       "    <tr>\n",
       "      <td>2</td>\n",
       "      <td>13a</td>\n",
       "      <td>963</td>\n",
       "      <td>OFF</td>\n",
       "      <td>11.134041</td>\n",
       "      <td>1.113298</td>\n",
       "      <td>1.056309</td>\n",
       "      <td>1.029772</td>\n",
       "      <td>True</td>\n",
       "      <td>11.420736</td>\n",
       "      <td>7.257810</td>\n",
       "      <td>0.897316</td>\n",
       "      <td>0.102684</td>\n",
       "      <td>0.466382</td>\n",
       "      <td>20180618</td>\n",
       "      <td>False</td>\n",
       "      <td>OFF</td>\n",
       "    </tr>\n",
       "    <tr>\n",
       "      <td>3</td>\n",
       "      <td>13c</td>\n",
       "      <td>587</td>\n",
       "      <td>OFF</td>\n",
       "      <td>13.840240</td>\n",
       "      <td>1.727560</td>\n",
       "      <td>1.556638</td>\n",
       "      <td>1.542630</td>\n",
       "      <td>True</td>\n",
       "      <td>13.558722</td>\n",
       "      <td>5.903613</td>\n",
       "      <td>0.961121</td>\n",
       "      <td>0.038879</td>\n",
       "      <td>0.484240</td>\n",
       "      <td>20180618</td>\n",
       "      <td>False</td>\n",
       "      <td>OFF</td>\n",
       "    </tr>\n",
       "    <tr>\n",
       "      <td>4</td>\n",
       "      <td>14a</td>\n",
       "      <td>5973</td>\n",
       "      <td>ON</td>\n",
       "      <td>25.775064</td>\n",
       "      <td>0.620785</td>\n",
       "      <td>0.571746</td>\n",
       "      <td>0.562778</td>\n",
       "      <td>True</td>\n",
       "      <td>25.702134</td>\n",
       "      <td>15.884281</td>\n",
       "      <td>0.598530</td>\n",
       "      <td>0.401470</td>\n",
       "      <td>-0.206751</td>\n",
       "      <td>20180618</td>\n",
       "      <td>True</td>\n",
       "      <td>ON/OFF</td>\n",
       "    </tr>\n",
       "    <tr>\n",
       "      <td>...</td>\n",
       "      <td>...</td>\n",
       "      <td>...</td>\n",
       "      <td>...</td>\n",
       "      <td>...</td>\n",
       "      <td>...</td>\n",
       "      <td>...</td>\n",
       "      <td>...</td>\n",
       "      <td>...</td>\n",
       "      <td>...</td>\n",
       "      <td>...</td>\n",
       "      <td>...</td>\n",
       "      <td>...</td>\n",
       "      <td>...</td>\n",
       "      <td>...</td>\n",
       "      <td>...</td>\n",
       "      <td>...</td>\n",
       "    </tr>\n",
       "    <tr>\n",
       "      <td>260</td>\n",
       "      <td>86b</td>\n",
       "      <td>1684</td>\n",
       "      <td>unknown</td>\n",
       "      <td>6.779709</td>\n",
       "      <td>0.788005</td>\n",
       "      <td>0.759195</td>\n",
       "      <td>0.735989</td>\n",
       "      <td>True</td>\n",
       "      <td>6.928302</td>\n",
       "      <td>6.117002</td>\n",
       "      <td>0.336812</td>\n",
       "      <td>0.663188</td>\n",
       "      <td>-0.003025</td>\n",
       "      <td>20180626</td>\n",
       "      <td>False</td>\n",
       "      <td>unknown</td>\n",
       "    </tr>\n",
       "    <tr>\n",
       "      <td>261</td>\n",
       "      <td>86c</td>\n",
       "      <td>705</td>\n",
       "      <td>ON</td>\n",
       "      <td>10.238226</td>\n",
       "      <td>1.188350</td>\n",
       "      <td>1.152660</td>\n",
       "      <td>1.125220</td>\n",
       "      <td>True</td>\n",
       "      <td>10.878715</td>\n",
       "      <td>6.213090</td>\n",
       "      <td>0.955128</td>\n",
       "      <td>0.044872</td>\n",
       "      <td>0.117121</td>\n",
       "      <td>20180626</td>\n",
       "      <td>False</td>\n",
       "      <td>ON</td>\n",
       "    </tr>\n",
       "    <tr>\n",
       "      <td>262</td>\n",
       "      <td>87a</td>\n",
       "      <td>9120</td>\n",
       "      <td>OFF</td>\n",
       "      <td>21.676952</td>\n",
       "      <td>0.590420</td>\n",
       "      <td>0.517161</td>\n",
       "      <td>0.512286</td>\n",
       "      <td>True</td>\n",
       "      <td>19.043271</td>\n",
       "      <td>14.230278</td>\n",
       "      <td>0.600327</td>\n",
       "      <td>0.399673</td>\n",
       "      <td>0.056832</td>\n",
       "      <td>20180626</td>\n",
       "      <td>False</td>\n",
       "      <td>OFF</td>\n",
       "    </tr>\n",
       "    <tr>\n",
       "      <td>263</td>\n",
       "      <td>87b</td>\n",
       "      <td>3797</td>\n",
       "      <td>ON</td>\n",
       "      <td>16.662341</td>\n",
       "      <td>0.487358</td>\n",
       "      <td>0.482080</td>\n",
       "      <td>0.475510</td>\n",
       "      <td>True</td>\n",
       "      <td>9.090881</td>\n",
       "      <td>12.160747</td>\n",
       "      <td>0.469121</td>\n",
       "      <td>0.530879</td>\n",
       "      <td>-0.128974</td>\n",
       "      <td>20180626</td>\n",
       "      <td>False</td>\n",
       "      <td>ON</td>\n",
       "    </tr>\n",
       "    <tr>\n",
       "      <td>264</td>\n",
       "      <td>87c</td>\n",
       "      <td>595</td>\n",
       "      <td>OFF</td>\n",
       "      <td>10.290554</td>\n",
       "      <td>1.103858</td>\n",
       "      <td>1.065057</td>\n",
       "      <td>1.060395</td>\n",
       "      <td>True</td>\n",
       "      <td>5.985814</td>\n",
       "      <td>9.968648</td>\n",
       "      <td>0.056081</td>\n",
       "      <td>0.943919</td>\n",
       "      <td>0.222600</td>\n",
       "      <td>20180626</td>\n",
       "      <td>False</td>\n",
       "      <td>OFF</td>\n",
       "    </tr>\n",
       "  </tbody>\n",
       "</table>\n",
       "<p>265 rows × 16 columns</p>\n",
       "</div>"
      ],
      "text/plain": [
       "    channel_name  num_spikes cell_type       PSNR      eig1      eig2  \\\n",
       "0            12a        1978       OFF  12.186541  0.971392  0.754007   \n",
       "1            12b        1228        ON   9.526389  0.920008  0.895442   \n",
       "2            13a         963       OFF  11.134041  1.113298  1.056309   \n",
       "3            13c         587       OFF  13.840240  1.727560  1.556638   \n",
       "4            14a        5973        ON  25.775064  0.620785  0.571746   \n",
       "..           ...         ...       ...        ...       ...       ...   \n",
       "260          86b        1684   unknown   6.779709  0.788005  0.759195   \n",
       "261          86c         705        ON  10.238226  1.188350  1.152660   \n",
       "262          87a        9120       OFF  21.676952  0.590420  0.517161   \n",
       "263          87b        3797        ON  16.662341  0.487358  0.482080   \n",
       "264          87c         595       OFF  10.290554  1.103858  1.065057   \n",
       "\n",
       "         eig3  converged      PSNR1      PSNR2   weight1   weight2  \\\n",
       "0    0.737358       True  11.450823  10.235904  0.636834  0.363166   \n",
       "1    0.871839       True   9.419680   7.839765  0.662558  0.337442   \n",
       "2    1.029772       True  11.420736   7.257810  0.897316  0.102684   \n",
       "3    1.542630       True  13.558722   5.903613  0.961121  0.038879   \n",
       "4    0.562778       True  25.702134  15.884281  0.598530  0.401470   \n",
       "..        ...        ...        ...        ...       ...       ...   \n",
       "260  0.735989       True   6.928302   6.117002  0.336812  0.663188   \n",
       "261  1.125220       True  10.878715   6.213090  0.955128  0.044872   \n",
       "262  0.512286       True  19.043271  14.230278  0.600327  0.399673   \n",
       "263  0.475510       True   9.090881  12.160747  0.469121  0.530879   \n",
       "264  1.060395       True   5.985814   9.968648  0.056081  0.943919   \n",
       "\n",
       "     inner_product   dataset  cell_type_on_and_off cell_type_combined  \n",
       "0         0.420599  20180618                 False                OFF  \n",
       "1         0.255689  20180618                 False                 ON  \n",
       "2         0.466382  20180618                 False                OFF  \n",
       "3         0.484240  20180618                 False                OFF  \n",
       "4        -0.206751  20180618                  True             ON/OFF  \n",
       "..             ...       ...                   ...                ...  \n",
       "260      -0.003025  20180626                 False            unknown  \n",
       "261       0.117121  20180626                 False                 ON  \n",
       "262       0.056832  20180626                 False                OFF  \n",
       "263      -0.128974  20180626                 False                 ON  \n",
       "264       0.222600  20180626                 False                OFF  \n",
       "\n",
       "[265 rows x 16 columns]"
      ]
     },
     "execution_count": 109,
     "metadata": {},
     "output_type": "execute_result"
    }
   ],
   "source": [
    "spd5=pd.read_csv(\"cluster_combined_dim2_spd5.csv\")\n",
    "spd4=pd.read_csv(\"cluster_combined_dim2_spd4.csv\")\n",
    "spd3=pd.read_csv(\"cluster_combined_dim2_spd3.csv\")\n",
    "spd2=pd.read_csv(\"cluster_combined_dim2_spd2.csv\")\n",
    "spd1=pd.read_csv(\"cluster_combined_dim2_spd1.csv\")\n",
    "spd1"
   ]
  },
  {
   "cell_type": "code",
   "execution_count": 111,
   "metadata": {},
   "outputs": [],
   "source": [
    "def combine_columns(df, col_names):\n",
    "    \n",
    "    return df[col_names[0]].astype(str) + '_' + df[col_names[1]].astype(str)\n",
    "\n",
    "# combine_columns(spd5.loc[idx_on_and_off], [\"dataset\", \"channel_name\"])"
   ]
  },
  {
   "cell_type": "code",
   "execution_count": 112,
   "metadata": {},
   "outputs": [
    {
     "name": "stdout",
     "output_type": "stream",
     "text": [
      "22\n",
      "23\n",
      "23\n",
      "23\n",
      "23\n"
     ]
    }
   ],
   "source": [
    "idx_on_and_off = spd5.cell_type_on_and_off \n",
    "channel_names_spd5 = set(combine_columns(spd5.loc[idx_on_and_off], [\"dataset\", \"channel_name\"]))\n",
    "print(len(channel_names_spd5))\n",
    "\n",
    "idx_on_and_off = spd4.cell_type_on_and_off \n",
    "channel_names_spd4 = set(combine_columns(spd4.loc[idx_on_and_off], [\"dataset\", \"channel_name\"]))\n",
    "print(len(channel_names_spd4))\n",
    "\n",
    "idx_on_and_off = spd3.cell_type_on_and_off \n",
    "channel_names_spd3 = set(combine_columns(spd3.loc[idx_on_and_off], [\"dataset\", \"channel_name\"]))\n",
    "print(len(channel_names_spd3))\n",
    "\n",
    "idx_on_and_off = spd2.cell_type_on_and_off\n",
    "channel_names_spd2 = set(combine_columns(spd2.loc[idx_on_and_off], [\"dataset\", \"channel_name\"]))\n",
    "print(len(channel_names_spd2))\n",
    "\n",
    "idx_on_and_off = spd1.cell_type_on_and_off\n",
    "channel_names_spd1 = set(combine_columns(spd1.loc[idx_on_and_off], [\"dataset\", \"channel_name\"]))\n",
    "print(len(channel_names_spd1))"
   ]
  },
  {
   "cell_type": "code",
   "execution_count": 113,
   "metadata": {},
   "outputs": [
    {
     "name": "stdout",
     "output_type": "stream",
     "text": [
      "set()\n",
      "set()\n"
     ]
    }
   ],
   "source": [
    "# compare 1 vs 2\n",
    "print(channel_names_spd1 - channel_names_spd2)\n",
    "print(channel_names_spd2 - channel_names_spd1)"
   ]
  },
  {
   "cell_type": "code",
   "execution_count": 104,
   "metadata": {},
   "outputs": [
    {
     "name": "stdout",
     "output_type": "stream",
     "text": [
      "set()\n",
      "set()\n"
     ]
    }
   ],
   "source": [
    "# compare 2 vs 3\n",
    "print(channel_names_spd2 - channel_names_spd3)\n",
    "print(channel_names_spd3 - channel_names_spd2)"
   ]
  },
  {
   "cell_type": "code",
   "execution_count": 105,
   "metadata": {},
   "outputs": [
    {
     "name": "stdout",
     "output_type": "stream",
     "text": [
      "set()\n",
      "set()\n"
     ]
    }
   ],
   "source": [
    "# compare 3 vs 4\n",
    "print(channel_names_spd3 - channel_names_spd4)\n",
    "print(channel_names_spd4 - channel_names_spd3)"
   ]
  },
  {
   "cell_type": "code",
   "execution_count": 106,
   "metadata": {},
   "outputs": [
    {
     "name": "stdout",
     "output_type": "stream",
     "text": [
      "{'20180626_22b'}\n",
      "set()\n"
     ]
    }
   ],
   "source": [
    "# compare 4 vs 5\n",
    "print(channel_names_spd4 - channel_names_spd5)\n",
    "print(channel_names_spd5 - channel_names_spd4)"
   ]
  },
  {
   "cell_type": "code",
   "execution_count": 107,
   "metadata": {
    "scrolled": true
   },
   "outputs": [
    {
     "data": {
      "text/html": [
       "<div>\n",
       "<style scoped>\n",
       "    .dataframe tbody tr th:only-of-type {\n",
       "        vertical-align: middle;\n",
       "    }\n",
       "\n",
       "    .dataframe tbody tr th {\n",
       "        vertical-align: top;\n",
       "    }\n",
       "\n",
       "    .dataframe thead th {\n",
       "        text-align: right;\n",
       "    }\n",
       "</style>\n",
       "<table border=\"1\" class=\"dataframe\">\n",
       "  <thead>\n",
       "    <tr style=\"text-align: right;\">\n",
       "      <th></th>\n",
       "      <th>channel_name</th>\n",
       "      <th>num_spikes</th>\n",
       "      <th>cell_type</th>\n",
       "      <th>PSNR</th>\n",
       "      <th>eig1</th>\n",
       "      <th>eig2</th>\n",
       "      <th>eig3</th>\n",
       "      <th>converged</th>\n",
       "      <th>PSNR1</th>\n",
       "      <th>PSNR2</th>\n",
       "      <th>weight1</th>\n",
       "      <th>weight2</th>\n",
       "      <th>inner_product</th>\n",
       "      <th>dataset</th>\n",
       "      <th>cell_type_on_and_off</th>\n",
       "      <th>cell_type_combined</th>\n",
       "    </tr>\n",
       "  </thead>\n",
       "  <tbody>\n",
       "    <tr>\n",
       "      <td>62</td>\n",
       "      <td>22b</td>\n",
       "      <td>15606</td>\n",
       "      <td>OFF</td>\n",
       "      <td>16.500673</td>\n",
       "      <td>0.443572</td>\n",
       "      <td>0.439005</td>\n",
       "      <td>0.435544</td>\n",
       "      <td>True</td>\n",
       "      <td>12.984921</td>\n",
       "      <td>13.880398</td>\n",
       "      <td>0.510985</td>\n",
       "      <td>0.489015</td>\n",
       "      <td>-0.234519</td>\n",
       "      <td>20180621</td>\n",
       "      <td>True</td>\n",
       "      <td>ON/OFF</td>\n",
       "    </tr>\n",
       "    <tr>\n",
       "      <td>125</td>\n",
       "      <td>22b</td>\n",
       "      <td>2413</td>\n",
       "      <td>unknown</td>\n",
       "      <td>6.267735</td>\n",
       "      <td>0.835159</td>\n",
       "      <td>0.782430</td>\n",
       "      <td>0.732217</td>\n",
       "      <td>True</td>\n",
       "      <td>12.865903</td>\n",
       "      <td>10.592013</td>\n",
       "      <td>0.380812</td>\n",
       "      <td>0.619188</td>\n",
       "      <td>-0.312358</td>\n",
       "      <td>20180626</td>\n",
       "      <td>True</td>\n",
       "      <td>ON/OFF</td>\n",
       "    </tr>\n",
       "  </tbody>\n",
       "</table>\n",
       "</div>"
      ],
      "text/plain": [
       "    channel_name  num_spikes cell_type       PSNR      eig1      eig2  \\\n",
       "62           22b       15606       OFF  16.500673  0.443572  0.439005   \n",
       "125          22b        2413   unknown   6.267735  0.835159  0.782430   \n",
       "\n",
       "         eig3  converged      PSNR1      PSNR2   weight1   weight2  \\\n",
       "62   0.435544       True  12.984921  13.880398  0.510985  0.489015   \n",
       "125  0.732217       True  12.865903  10.592013  0.380812  0.619188   \n",
       "\n",
       "     inner_product   dataset  cell_type_on_and_off cell_type_combined  \n",
       "62       -0.234519  20180621                  True             ON/OFF  \n",
       "125      -0.312358  20180626                  True             ON/OFF  "
      ]
     },
     "execution_count": 107,
     "metadata": {},
     "output_type": "execute_result"
    }
   ],
   "source": [
    "spd4.loc[spd4[\"channel_name\"]==\"22b\"]"
   ]
  },
  {
   "cell_type": "code",
   "execution_count": 108,
   "metadata": {},
   "outputs": [
    {
     "data": {
      "text/plain": [
       "(2048, 2560)"
      ]
     },
     "execution_count": 108,
     "metadata": {},
     "output_type": "execute_result"
    }
   ],
   "source": [
    "512*4, 512*5"
   ]
  },
  {
   "cell_type": "code",
   "execution_count": 143,
   "metadata": {},
   "outputs": [
    {
     "data": {
      "text/plain": [
       "(66, 66, 62, 61, 57)"
      ]
     },
     "execution_count": 143,
     "metadata": {},
     "output_type": "execute_result"
    }
   ],
   "source": [
    "## treshold effects\n",
    "\n",
    "def count_thresholded(cluster_with_enough_spikes, PSNR_threshold=8.5):\n",
    "#     PSNR_threshold = 8.5\n",
    "#     cluster_with_enough_spikes = spd1\n",
    "    idx_thresholded = (cluster_with_enough_spikes[\"inner_product\"] < 0) & (cluster_with_enough_spikes[\"PSNR1\"] > PSNR_threshold) & (cluster_with_enough_spikes[\"PSNR2\"] > PSNR_threshold)\n",
    "\n",
    "    return np.sum(idx_thresholded)\n",
    "\n",
    "count_thresholded(spd1), count_thresholded(spd2), count_thresholded(spd3), count_thresholded(spd4), count_thresholded(spd5)"
   ]
  },
  {
   "cell_type": "code",
   "execution_count": 157,
   "metadata": {},
   "outputs": [
    {
     "data": {
      "image/png": "[encoded data removed]",
      "text/plain": [
       "<Figure size 432x288 with 1 Axes>"
      ]
     },
     "metadata": {
      "needs_background": "light"
     },
     "output_type": "display_data"
    }
   ],
   "source": [
    "spike_per_dims = [1, 2, 3, 4, 5]\n",
    "plt.plot(spike_per_dims, [len(spd1), len(spd2), len(spd3), len(spd4), len(spd5)], 'ko:', label=\"more than minimum number of spikes\")\n",
    "plt.plot(spike_per_dims, [count_thresholded(spd1), count_thresholded(spd2), count_thresholded(spd3), count_thresholded(spd4), count_thresholded(spd5)], 'ks:', label=\"PSNR1>8.5, PSNR2>8.5, inner product<0\")\n",
    "plt.plot(spike_per_dims, [len(channel_names_spd1), len(channel_names_spd2), len(channel_names_spd3), len(channel_names_spd4), len(channel_names_spd5)], 'k^--', label=\"ON/OFF\")\n",
    "plt.xticks(spike_per_dims)\n",
    "\n",
    "plt.xlabel('minimum number of spikes / stimulus dimension')\n",
    "plt.ylabel('number of cells')\n",
    "\n",
    "plt.legend(loc=\"upper right\")\n",
    "\n",
    "# YLIM=plt.ylim()\n",
    "# plt.ylim(0, YLIM[1])\n",
    "plt.ylim(0,300)\n",
    "\n",
    "# remove top & right box\n",
    "# https://stackoverflow.com/a/28720127\n",
    "ax=plt.gca()\n",
    "ax.spines['top'].set_visible(False)\n",
    "ax.spines['right'].set_visible(False)\n",
    "\n",
    "plt.savefig(\"number_of_cells_vs_spd.pdf\")"
   ]
  },
  {
   "cell_type": "code",
   "execution_count": null,
   "metadata": {},
   "outputs": [],
   "source": []
  },
  {
   "cell_type": "code",
   "execution_count": null,
   "metadata": {},
   "outputs": [],
   "source": []
  },
  {
   "cell_type": "code",
   "execution_count": null,
   "metadata": {},
   "outputs": [],
   "source": []
  },
  {
   "cell_type": "code",
   "execution_count": null,
   "metadata": {},
   "outputs": [],
   "source": []
  },
  {
   "cell_type": "code",
   "execution_count": null,
   "metadata": {},
   "outputs": [],
   "source": []
  },
  {
   "cell_type": "code",
   "execution_count": 89,
   "metadata": {},
   "outputs": [],
   "source": [
    "idx_on = spd2.groupby(\"cell_type_combined\").groups['ON']\n",
    "idx_off = spd2.groupby(\"cell_type_combined\").groups['OFF']\n",
    "idx_on_off = spd2.groupby(\"cell_type_combined\").groups['ON/OFF']\n",
    "idx_unknown = spd2.groupby(\"cell_type_combined\").groups['unknown']"
   ]
  },
  {
   "cell_type": "code",
   "execution_count": 98,
   "metadata": {},
   "outputs": [
    {
     "ename": "AttributeError",
     "evalue": "module 'matplotlib.pyplot' has no attribute 'hold'",
     "output_type": "error",
     "traceback": [
      "\u001b[0;31m---------------------------------------------------------------------------\u001b[0m",
      "\u001b[0;31mAttributeError\u001b[0m                            Traceback (most recent call last)",
      "\u001b[0;32m<ipython-input-98-3cc82e54a485>\u001b[0m in \u001b[0;36m<module>\u001b[0;34m\u001b[0m\n\u001b[1;32m      1\u001b[0m \u001b[0mspd2\u001b[0m\u001b[0;34m.\u001b[0m\u001b[0mloc\u001b[0m\u001b[0;34m[\u001b[0m\u001b[0midx_on\u001b[0m\u001b[0;34m]\u001b[0m\u001b[0;34m.\u001b[0m\u001b[0mplot\u001b[0m\u001b[0;34m.\u001b[0m\u001b[0mscatter\u001b[0m\u001b[0;34m(\u001b[0m\u001b[0;34m\"num_spikes\"\u001b[0m\u001b[0;34m,\u001b[0m \u001b[0;34m\"PSNR\"\u001b[0m\u001b[0;34m,\u001b[0m \u001b[0mc\u001b[0m\u001b[0;34m=\u001b[0m\u001b[0;34m\"r\"\u001b[0m\u001b[0;34m)\u001b[0m\u001b[0;34m\u001b[0m\u001b[0;34m\u001b[0m\u001b[0m\n\u001b[0;32m----> 2\u001b[0;31m \u001b[0mplt\u001b[0m\u001b[0;34m.\u001b[0m\u001b[0mhold\u001b[0m\u001b[0;34m(\u001b[0m\u001b[0;34m'on'\u001b[0m\u001b[0;34m)\u001b[0m\u001b[0;34m\u001b[0m\u001b[0;34m\u001b[0m\u001b[0m\n\u001b[0m\u001b[1;32m      3\u001b[0m \u001b[0mspd2\u001b[0m\u001b[0;34m.\u001b[0m\u001b[0mloc\u001b[0m\u001b[0;34m[\u001b[0m\u001b[0midx_off\u001b[0m\u001b[0;34m]\u001b[0m\u001b[0;34m.\u001b[0m\u001b[0mplot\u001b[0m\u001b[0;34m.\u001b[0m\u001b[0mscatter\u001b[0m\u001b[0;34m(\u001b[0m\u001b[0;34m\"num_spikes\"\u001b[0m\u001b[0;34m,\u001b[0m \u001b[0;34m\"PSNR\"\u001b[0m\u001b[0;34m,\u001b[0m \u001b[0mc\u001b[0m\u001b[0;34m=\u001b[0m\u001b[0;34m\"b\"\u001b[0m\u001b[0;34m)\u001b[0m\u001b[0;34m\u001b[0m\u001b[0;34m\u001b[0m\u001b[0m\n\u001b[1;32m      4\u001b[0m \u001b[0mspd2\u001b[0m\u001b[0;34m.\u001b[0m\u001b[0mloc\u001b[0m\u001b[0;34m[\u001b[0m\u001b[0midx_on_off\u001b[0m\u001b[0;34m]\u001b[0m\u001b[0;34m.\u001b[0m\u001b[0mplot\u001b[0m\u001b[0;34m.\u001b[0m\u001b[0mscatter\u001b[0m\u001b[0;34m(\u001b[0m\u001b[0;34m\"num_spikes\"\u001b[0m\u001b[0;34m,\u001b[0m \u001b[0;34m\"PSNR\"\u001b[0m\u001b[0;34m,\u001b[0m \u001b[0mc\u001b[0m\u001b[0;34m=\u001b[0m\u001b[0;34m\"g\"\u001b[0m\u001b[0;34m)\u001b[0m\u001b[0;34m\u001b[0m\u001b[0;34m\u001b[0m\u001b[0m\n",
      "\u001b[0;31mAttributeError\u001b[0m: module 'matplotlib.pyplot' has no attribute 'hold'"
     ]
    },
    {
     "data": {
      "image/png": "[encoded data removed]",
      "text/plain": [
       "<Figure size 432x288 with 1 Axes>"
      ]
     },
     "metadata": {
      "needs_background": "light"
     },
     "output_type": "display_data"
    }
   ],
   "source": [
    "\n",
    "spd2.loc[idx_on].plot.scatter(\"num_spikes\", \"PSNR\", c=\"r\")\n",
    "spd2.loc[idx_off].plot.scatter(\"num_spikes\", \"PSNR\", c=\"b\")\n",
    "spd2.loc[idx_on_off].plot.scatter(\"num_spikes\", \"PSNR\", c=\"g\")"
   ]
  },
  {
   "cell_type": "code",
   "execution_count": null,
   "metadata": {},
   "outputs": [],
   "source": []
  }
 ],
 "metadata": {
  "kernelspec": {
   "display_name": "Python 3",
   "language": "python",
   "name": "python3"
  },
  "language_info": {
   "codemirror_mode": {
    "name": "ipython",
    "version": 3
   },
   "file_extension": ".py",
   "mimetype": "text/x-python",
   "name": "python",
   "nbconvert_exporter": "python",
   "pygments_lexer": "ipython3",
   "version": "3.7.4"
  }
 },
 "nbformat": 4,
 "nbformat_minor": 2
}
