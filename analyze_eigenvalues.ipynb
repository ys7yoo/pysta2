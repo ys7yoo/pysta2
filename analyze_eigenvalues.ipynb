{
 "cells": [
  {
   "cell_type": "code",
   "execution_count": 1,
   "metadata": {},
   "outputs": [],
   "source": [
    "import pandas as pd\n",
    "import numpy as np\n",
    "import matplotlib.pyplot as plt\n",
    "# import seaborn as sns\n",
    "\n",
    "import pysta\n",
    "import stc\n",
    "%load_ext autoreload\n",
    "%autoreload 2"
   ]
  },
  {
   "cell_type": "code",
   "execution_count": 2,
   "metadata": {},
   "outputs": [
    {
     "name": "stdout",
     "output_type": "stream",
     "text": [
      "List of arrays in this file: \n",
      " <KeysViewHDF5 ['#refs#', 'channel_names', 'height', 'sampling_rate', 'spike_train', 'stim', 'width']>\n",
      "Shape of the array stim:  (64, 9000)\n",
      "Shape of the array spike_train:  (156, 9000)\n",
      "length of the list channel_names:  156\n",
      "sampling_rate:  10.0\n"
     ]
    }
   ],
   "source": [
    "# load data\n",
    "\n",
    "# load stim and spike data\n",
    "# dataset_name = \"20180618\"\n",
    "# dataset_name = \"20180621\"\n",
    "dataset_name = \"20180626\"\n",
    "#dataset_name = \"20180828\"\n",
    "\n",
    "dataset_filename = \"data/{}.mat\".format(dataset_name)\n",
    "\n",
    "stim, spike_train, info = pysta.load_data(dataset_filename)\n",
    "\n",
    "channel_names = [ch.replace(\"ch_\",\"\") for ch in info[\"channel_names\"]]\n",
    "# info[\"channel_names\"]\n",
    "\n",
    "# load cell type\n",
    "cell_types = pd.read_csv(\"data/{}_cell_type.csv\".format(dataset_name))\n",
    "# cell_types"
   ]
  },
  {
   "cell_type": "code",
   "execution_count": 3,
   "metadata": {},
   "outputs": [],
   "source": [
    "# calc number of spikes\n",
    "tap = 8 # -700 ms ~ 0\n",
    "\n",
    "num_samples = list()\n",
    "for idx in range(spike_train.shape[0]):    \n",
    "    spike_triggered_stim, spike_count = pysta.grab_spike_triggered_stim(stim, spike_train[idx], tap)\n",
    "    num_samples.append(spike_triggered_stim.shape[0])\n",
    "\n",
    "num_samples_df = pd.DataFrame({\"channel_name\": channel_names, \"number_of_samples\": num_samples})\n",
    "# num_samples_df"
   ]
  },
  {
   "cell_type": "code",
   "execution_count": 4,
   "metadata": {},
   "outputs": [],
   "source": [
    "# read eigenvalues\n",
    "\n",
    "# helper function\n",
    "def read_eigen_values(folder_name, channel_names):\n",
    "    all_eig_values = dict()\n",
    "    largest_eig_values = list()\n",
    "\n",
    "    for channel_name in channel_names:\n",
    "        filename = \"{}/ch_{}_eig_val.txt\".format(folder_name,channel_name)\n",
    "        eig_val = np.loadtxt(filename)\n",
    "\n",
    "        all_eig_values[channel_name] = eig_val\n",
    "    #     eigen_values.append(eig_val)\n",
    "        largest_eig_values.append(eig_val[0])\n",
    "    return all_eig_values, largest_eig_values\n",
    "    \n",
    "\n",
    "#folder_name = \"{}_stc_tap{}\".format(dataset_name,tap)\n",
    "folder_name = \"{}_stc_tap{}_smoothed\".format(dataset_name,tap)\n",
    "\n",
    "all_eig_values, largest_eig_values = read_eigen_values(folder_name, channel_names)\n",
    "\n",
    "# convert to DataFrame\n",
    "result_eig_smoothed = pd.DataFrame({\"channel_name\": channel_names, \"largest_eig_values\":largest_eig_values})"
   ]
  },
  {
   "cell_type": "code",
   "execution_count": 5,
   "metadata": {},
   "outputs": [
    {
     "data": {
      "text/plain": [
       "Text(0, 0.5, 'count')"
      ]
     },
     "execution_count": 5,
     "metadata": {},
     "output_type": "execute_result"
    },
    {
     "data": {
      "image/png": "[encoded data removed]",
      "text/plain": [
       "<Figure size 432x288 with 1 Axes>"
      ]
     },
     "metadata": {
      "needs_background": "light"
     },
     "output_type": "display_data"
    }
   ],
   "source": [
    "result_eig_smoothed[\"largest_eig_values\"].hist()\n",
    "plt.xlabel(\"$\\lambda_1$\")\n",
    "plt.ylabel(\"count\")"
   ]
  },
  {
   "cell_type": "code",
   "execution_count": 6,
   "metadata": {},
   "outputs": [
    {
     "data": {
      "text/plain": [
       "Text(0, 0.5, '$\\\\lambda_1$')"
      ]
     },
     "execution_count": 6,
     "metadata": {},
     "output_type": "execute_result"
    },
    {
     "data": {
      "image/png": "[encoded data removed]",
      "text/plain": [
       "<Figure size 432x288 with 1 Axes>"
      ]
     },
     "metadata": {
      "needs_background": "light"
     },
     "output_type": "display_data"
    }
   ],
   "source": [
    "# merge with num_samples\n",
    "num_samples_eig_smoothed = num_samples_df.merge(result_eig_smoothed)\n",
    "\n",
    "plt.scatter(num_samples_eig_smoothed[\"number_of_samples\"], num_samples_eig_smoothed[\"largest_eig_values\"])\n",
    "plt.xlabel('number of samples')\n",
    "#plt.ylabel('largest eigenvalue')\n",
    "plt.ylabel('$\\lambda_1$')\n",
    "# plt.yscale('log')\n",
    "# plt.xscale('log')\n",
    "\n",
    "# see https://arxiv.org/pdf/0901.3245.pdf to understand the effect of # samples on the largest eigenvalue\n",
    "    "
   ]
  },
  {
   "cell_type": "code",
   "execution_count": null,
   "metadata": {},
   "outputs": [],
   "source": []
  }
 ],
 "metadata": {
  "kernelspec": {
   "display_name": "Python 3",
   "language": "python",
   "name": "python3"
  },
  "language_info": {
   "codemirror_mode": {
    "name": "ipython",
    "version": 3
   },
   "file_extension": ".py",
   "mimetype": "text/x-python",
   "name": "python",
   "nbconvert_exporter": "python",
   "pygments_lexer": "ipython3",
   "version": "3.7.5"
  }
 },
 "nbformat": 4,
 "nbformat_minor": 2
}
