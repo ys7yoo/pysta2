{
 "cells": [
  {
   "cell_type": "code",
   "execution_count": 1,
   "metadata": {},
   "outputs": [],
   "source": [
    "import pandas as pd\n",
    "import numpy as np\n",
    "import matplotlib.pyplot as plt\n",
    "import os\n",
    "\n",
    "# add root path (parent folder) to path\n",
    "import os\n",
    "import sys\n",
    "cwd = os.getcwd()\n",
    "root_path = os.path.abspath(os.path.join(cwd, os.pardir))\n",
    "sys.path.insert(0, root_path)\n",
    "\n",
    "import pysta\n",
    "import stc\n",
    "import stcl\n",
    "%load_ext autoreload\n",
    "%autoreload 2"
   ]
  },
  {
   "cell_type": "code",
   "execution_count": 2,
   "metadata": {},
   "outputs": [],
   "source": [
    "def remove_box():\n",
    "    # remove top & right box\n",
    "    # https://stackoverflow.com/a/28720127\n",
    "    ax=plt.gca()\n",
    "    ax.spines['top'].set_visible(False)\n",
    "    ax.spines['right'].set_visible(False)"
   ]
  },
  {
   "cell_type": "code",
   "execution_count": 3,
   "metadata": {},
   "outputs": [],
   "source": [
    "# ANOVA\n",
    "# https://www.pythonfordatascience.org/anova-python/\n",
    "from scipy import stats\n",
    "def do_anova(df, col, key='contrast', key_values=[50, 80, 100]):\n",
    "    return stats.f_oneway(df[col][df[key] == key_values[0]],\n",
    "                           df[col][df[key] == key_values[1]],\n",
    "                           df[col][df[key] == key_values[2]])"
   ]
  },
  {
   "cell_type": "markdown",
   "metadata": {},
   "source": [
    "## Compare across contrasts"
   ]
  },
  {
   "cell_type": "code",
   "execution_count": 4,
   "metadata": {},
   "outputs": [],
   "source": [
    "data_path = os.path.join(root_path,'data/gaussian_stim_data')\n",
    "\n",
    "infos = list()\n",
    "for contrast in [50, 80, 100]:\n",
    "    # info\n",
    "    info = pd.read_csv(os.path.join(data_path, 'contrast{}_sta.csv'.format(contrast)))\n",
    "    info['contrast'] = contrast\n",
    "    \n",
    "    infos.append(info)\n",
    "    \n",
    "infos = pd.concat(infos)"
   ]
  },
  {
   "cell_type": "code",
   "execution_count": 5,
   "metadata": {},
   "outputs": [],
   "source": [
    "infos['sta peak difference'] = infos['sta max'] - infos['sta min']"
   ]
  },
  {
   "cell_type": "code",
   "execution_count": 6,
   "metadata": {},
   "outputs": [
    {
     "data": {
      "text/html": [
       "<div>\n",
       "<style scoped>\n",
       "    .dataframe tbody tr th:only-of-type {\n",
       "        vertical-align: middle;\n",
       "    }\n",
       "\n",
       "    .dataframe tbody tr th {\n",
       "        vertical-align: top;\n",
       "    }\n",
       "\n",
       "    .dataframe thead th {\n",
       "        text-align: right;\n",
       "    }\n",
       "</style>\n",
       "<table border=\"1\" class=\"dataframe\">\n",
       "  <thead>\n",
       "    <tr style=\"text-align: right;\">\n",
       "      <th></th>\n",
       "      <th>channel</th>\n",
       "      <th>cell type</th>\n",
       "      <th>number of spikes</th>\n",
       "      <th>sta std</th>\n",
       "      <th>sta max</th>\n",
       "      <th>sta min</th>\n",
       "      <th>contrast</th>\n",
       "      <th>sta peak difference</th>\n",
       "    </tr>\n",
       "  </thead>\n",
       "  <tbody>\n",
       "    <tr>\n",
       "      <th>0</th>\n",
       "      <td>ch_12a</td>\n",
       "      <td>ON-OFF</td>\n",
       "      <td>2906</td>\n",
       "      <td>0.005827</td>\n",
       "      <td>0.521070</td>\n",
       "      <td>0.484837</td>\n",
       "      <td>50</td>\n",
       "      <td>0.036233</td>\n",
       "    </tr>\n",
       "    <tr>\n",
       "      <th>1</th>\n",
       "      <td>ch_13a</td>\n",
       "      <td>ON</td>\n",
       "      <td>23447</td>\n",
       "      <td>0.002625</td>\n",
       "      <td>0.508134</td>\n",
       "      <td>0.492791</td>\n",
       "      <td>50</td>\n",
       "      <td>0.015343</td>\n",
       "    </tr>\n",
       "    <tr>\n",
       "      <th>2</th>\n",
       "      <td>ch_13b</td>\n",
       "      <td>ON</td>\n",
       "      <td>8302</td>\n",
       "      <td>0.003691</td>\n",
       "      <td>0.517215</td>\n",
       "      <td>0.489712</td>\n",
       "      <td>50</td>\n",
       "      <td>0.027504</td>\n",
       "    </tr>\n",
       "    <tr>\n",
       "      <th>3</th>\n",
       "      <td>ch_14a</td>\n",
       "      <td>ON</td>\n",
       "      <td>15922</td>\n",
       "      <td>0.002606</td>\n",
       "      <td>0.508029</td>\n",
       "      <td>0.492249</td>\n",
       "      <td>50</td>\n",
       "      <td>0.015780</td>\n",
       "    </tr>\n",
       "    <tr>\n",
       "      <th>4</th>\n",
       "      <td>ch_14b</td>\n",
       "      <td>ON-OFF</td>\n",
       "      <td>18073</td>\n",
       "      <td>0.002882</td>\n",
       "      <td>0.510346</td>\n",
       "      <td>0.490118</td>\n",
       "      <td>50</td>\n",
       "      <td>0.020227</td>\n",
       "    </tr>\n",
       "    <tr>\n",
       "      <th>...</th>\n",
       "      <td>...</td>\n",
       "      <td>...</td>\n",
       "      <td>...</td>\n",
       "      <td>...</td>\n",
       "      <td>...</td>\n",
       "      <td>...</td>\n",
       "      <td>...</td>\n",
       "      <td>...</td>\n",
       "    </tr>\n",
       "    <tr>\n",
       "      <th>101</th>\n",
       "      <td>ch_86a</td>\n",
       "      <td>OFF</td>\n",
       "      <td>8918</td>\n",
       "      <td>0.011459</td>\n",
       "      <td>0.685100</td>\n",
       "      <td>0.391667</td>\n",
       "      <td>100</td>\n",
       "      <td>0.293433</td>\n",
       "    </tr>\n",
       "    <tr>\n",
       "      <th>102</th>\n",
       "      <td>ch_86b</td>\n",
       "      <td>OFF</td>\n",
       "      <td>11685</td>\n",
       "      <td>0.006805</td>\n",
       "      <td>0.588128</td>\n",
       "      <td>0.460443</td>\n",
       "      <td>100</td>\n",
       "      <td>0.127686</td>\n",
       "    </tr>\n",
       "    <tr>\n",
       "      <th>103</th>\n",
       "      <td>ch_87a</td>\n",
       "      <td>ON-OFF</td>\n",
       "      <td>23387</td>\n",
       "      <td>0.006672</td>\n",
       "      <td>0.582740</td>\n",
       "      <td>0.455379</td>\n",
       "      <td>100</td>\n",
       "      <td>0.127360</td>\n",
       "    </tr>\n",
       "    <tr>\n",
       "      <th>104</th>\n",
       "      <td>ch_87b</td>\n",
       "      <td>ON-OFF</td>\n",
       "      <td>4304</td>\n",
       "      <td>0.008134</td>\n",
       "      <td>0.554649</td>\n",
       "      <td>0.471234</td>\n",
       "      <td>100</td>\n",
       "      <td>0.083415</td>\n",
       "    </tr>\n",
       "    <tr>\n",
       "      <th>105</th>\n",
       "      <td>ch_87c</td>\n",
       "      <td>ON</td>\n",
       "      <td>5117</td>\n",
       "      <td>0.016004</td>\n",
       "      <td>0.733737</td>\n",
       "      <td>0.338609</td>\n",
       "      <td>100</td>\n",
       "      <td>0.395128</td>\n",
       "    </tr>\n",
       "  </tbody>\n",
       "</table>\n",
       "<p>318 rows × 8 columns</p>\n",
       "</div>"
      ],
      "text/plain": [
       "    channel cell type  number of spikes   sta std   sta max   sta min  \\\n",
       "0    ch_12a    ON-OFF              2906  0.005827  0.521070  0.484837   \n",
       "1    ch_13a        ON             23447  0.002625  0.508134  0.492791   \n",
       "2    ch_13b        ON              8302  0.003691  0.517215  0.489712   \n",
       "3    ch_14a        ON             15922  0.002606  0.508029  0.492249   \n",
       "4    ch_14b    ON-OFF             18073  0.002882  0.510346  0.490118   \n",
       "..      ...       ...               ...       ...       ...       ...   \n",
       "101  ch_86a       OFF              8918  0.011459  0.685100  0.391667   \n",
       "102  ch_86b       OFF             11685  0.006805  0.588128  0.460443   \n",
       "103  ch_87a    ON-OFF             23387  0.006672  0.582740  0.455379   \n",
       "104  ch_87b    ON-OFF              4304  0.008134  0.554649  0.471234   \n",
       "105  ch_87c        ON              5117  0.016004  0.733737  0.338609   \n",
       "\n",
       "     contrast  sta peak difference  \n",
       "0          50             0.036233  \n",
       "1          50             0.015343  \n",
       "2          50             0.027504  \n",
       "3          50             0.015780  \n",
       "4          50             0.020227  \n",
       "..        ...                  ...  \n",
       "101       100             0.293433  \n",
       "102       100             0.127686  \n",
       "103       100             0.127360  \n",
       "104       100             0.083415  \n",
       "105       100             0.395128  \n",
       "\n",
       "[318 rows x 8 columns]"
      ]
     },
     "execution_count": 6,
     "metadata": {},
     "output_type": "execute_result"
    }
   ],
   "source": [
    "infos"
   ]
  },
  {
   "cell_type": "code",
   "execution_count": 7,
   "metadata": {},
   "outputs": [
    {
     "data": {
      "image/png": "[encoded data removed]",
      "text/plain": [
       "<Figure size 576x432 with 1 Axes>"
      ]
     },
     "metadata": {
      "needs_background": "light"
     },
     "output_type": "display_data"
    }
   ],
   "source": [
    "plt.figure(figsize=(8,6))\n",
    "for group, data in infos.groupby('contrast'):\n",
    "    plt.scatter(data['number of spikes'], data['sta std'], label='contrast={}'.format(group))\n",
    "#     print(group, data)\n",
    "plt.legend()\n",
    "plt.xscale('log')\n",
    "plt.yscale('log')\n",
    "plt.xlabel('log(number of spikes)')\n",
    "plt.ylabel('log(STA std)')\n",
    "remove_box()"
   ]
  },
  {
   "cell_type": "code",
   "execution_count": 8,
   "metadata": {},
   "outputs": [
    {
     "data": {
      "image/png": "[encoded data removed]",
      "text/plain": [
       "<Figure size 576x432 with 1 Axes>"
      ]
     },
     "metadata": {
      "needs_background": "light"
     },
     "output_type": "display_data"
    }
   ],
   "source": [
    "plt.figure(figsize=(8,6))\n",
    "for group, data in infos.groupby('contrast'):\n",
    "    plt.scatter(data['number of spikes'], data['sta peak difference'], label='contrast={}'.format(group))\n",
    "#     print(group, data)\n",
    "plt.legend()\n",
    "plt.xscale('log')\n",
    "plt.yscale('log')\n",
    "plt.xlabel('log(number of spikes)')\n",
    "plt.ylabel('log(STA peak difference)')\n",
    "remove_box()"
   ]
  },
  {
   "cell_type": "code",
   "execution_count": 9,
   "metadata": {},
   "outputs": [
    {
     "data": {
      "text/plain": [
       "Text(0.5, 1.0, 'ANOVA p=0.76')"
      ]
     },
     "execution_count": 9,
     "metadata": {},
     "output_type": "execute_result"
    },
    {
     "data": {
      "image/png": "[encoded data removed]",
      "text/plain": [
       "<Figure size 432x288 with 1 Axes>"
      ]
     },
     "metadata": {
      "needs_background": "light"
     },
     "output_type": "display_data"
    }
   ],
   "source": [
    "col = 'number of spikes'\n",
    "infos.boxplot(col, by='contrast', grid=False)\n",
    "plt.title(None)\n",
    "plt.ylabel(col)\n",
    "remove_box()\n",
    "\n",
    "val, p = do_anova(infos, col)\n",
    "plt.suptitle('')\n",
    "plt.title ('ANOVA p={:.2f}'.format(p))"
   ]
  },
  {
   "cell_type": "code",
   "execution_count": 10,
   "metadata": {},
   "outputs": [
    {
     "data": {
      "image/png": "[encoded data removed]",
      "text/plain": [
       "<Figure size 432x288 with 1 Axes>"
      ]
     },
     "metadata": {
      "needs_background": "light"
     },
     "output_type": "display_data"
    }
   ],
   "source": [
    "# plot with error bar\n",
    "col = 'number of spikes'\n",
    "m = infos.groupby('contrast').mean()[col]\n",
    "s = infos.groupby('contrast').sem()[col]\n",
    "\n",
    "plt.errorbar([50, 80, 100], m, s, color='k',  capsize=5)\n",
    "plt.xlabel('contrast')\n",
    "plt.ylabel(col)\n",
    "remove_box()"
   ]
  },
  {
   "cell_type": "code",
   "execution_count": 11,
   "metadata": {},
   "outputs": [
    {
     "data": {
      "text/plain": [
       "Text(0.5, 1.0, 'ANOVA p=0.00')"
      ]
     },
     "execution_count": 11,
     "metadata": {},
     "output_type": "execute_result"
    },
    {
     "data": {
      "image/png": "[encoded data removed]",
      "text/plain": [
       "<Figure size 432x288 with 1 Axes>"
      ]
     },
     "metadata": {
      "needs_background": "light"
     },
     "output_type": "display_data"
    }
   ],
   "source": [
    "col = 'sta std'\n",
    "infos.boxplot(col, by='contrast', grid=False)\n",
    "plt.title(None)\n",
    "plt.ylabel(col)\n",
    "remove_box()\n",
    "\n",
    "val, p = do_anova(infos, col)\n",
    "plt.suptitle('')\n",
    "plt.title ('ANOVA p={:.2f}'.format(p))"
   ]
  },
  {
   "cell_type": "code",
   "execution_count": 12,
   "metadata": {},
   "outputs": [
    {
     "data": {
      "image/png": "[encoded data removed]",
      "text/plain": [
       "<Figure size 432x288 with 1 Axes>"
      ]
     },
     "metadata": {
      "needs_background": "light"
     },
     "output_type": "display_data"
    }
   ],
   "source": [
    "col = 'sta peak difference'\n",
    "infos.boxplot(col, by='contrast', grid=False)\n",
    "plt.title(None)\n",
    "plt.ylabel(col)\n",
    "remove_box()\n",
    "\n",
    "val, p = do_anova(infos, col)\n",
    "plt.suptitle('')\n",
    "plt.title ('ANOVA p={:.2f}'.format(p))\n",
    "\n",
    "plt.savefig(os.path.join(data_path, 'figure', 'sta_p2p_vs_contrast.png'), dpi=150)"
   ]
  },
  {
   "cell_type": "code",
   "execution_count": 13,
   "metadata": {},
   "outputs": [
    {
     "data": {
      "image/png": "[encoded data removed]",
      "text/plain": [
       "<Figure size 432x288 with 1 Axes>"
      ]
     },
     "metadata": {
      "needs_background": "light"
     },
     "output_type": "display_data"
    }
   ],
   "source": [
    "# plot with error bar\n",
    "m = infos.groupby('contrast').mean()[col]\n",
    "s = infos.groupby('contrast').sem()[col]\n",
    "\n",
    "plt.errorbar([50, 80, 100], m, s, color='k',  capsize=5)\n",
    "\n",
    "# YLIM=list(plt.ylim())\n",
    "# YLIM[0] = 0\n",
    "# plt.ylim(YLIM)\n",
    "\n",
    "plt.xlabel('contrast')\n",
    "plt.ylabel(col)\n",
    "remove_box()"
   ]
  },
  {
   "cell_type": "code",
   "execution_count": 14,
   "metadata": {},
   "outputs": [
    {
     "data": {
      "text/plain": [
       "Text(0.5, 1.0, 'ANOVA p=0.00')"
      ]
     },
     "execution_count": 14,
     "metadata": {},
     "output_type": "execute_result"
    },
    {
     "data": {
      "image/png": "[encoded data removed]",
      "text/plain": [
       "<Figure size 432x288 with 1 Axes>"
      ]
     },
     "metadata": {
      "needs_background": "light"
     },
     "output_type": "display_data"
    }
   ],
   "source": [
    "infos['ratio'] =  np.log(infos['sta peak difference']) / np.log(infos['number of spikes'])\n",
    "\n",
    "col = 'ratio'\n",
    "infos.boxplot(col, by='contrast', grid=False)\n",
    "plt.title(None)\n",
    "plt.ylabel(col)\n",
    "remove_box()\n",
    "\n",
    "val, p = do_anova(infos, col)\n",
    "\n",
    "plt.suptitle('')\n",
    "plt.title ('ANOVA p={:.2f}'.format(p))\n"
   ]
  },
  {
   "cell_type": "code",
   "execution_count": 15,
   "metadata": {},
   "outputs": [
    {
     "data": {
      "text/html": [
       "<div>\n",
       "<style scoped>\n",
       "    .dataframe tbody tr th:only-of-type {\n",
       "        vertical-align: middle;\n",
       "    }\n",
       "\n",
       "    .dataframe tbody tr th {\n",
       "        vertical-align: top;\n",
       "    }\n",
       "\n",
       "    .dataframe thead th {\n",
       "        text-align: right;\n",
       "    }\n",
       "</style>\n",
       "<table border=\"1\" class=\"dataframe\">\n",
       "  <thead>\n",
       "    <tr style=\"text-align: right;\">\n",
       "      <th></th>\n",
       "      <th>number of spikes</th>\n",
       "      <th>sta std</th>\n",
       "      <th>sta max</th>\n",
       "      <th>sta min</th>\n",
       "      <th>sta peak difference</th>\n",
       "      <th>ratio</th>\n",
       "    </tr>\n",
       "    <tr>\n",
       "      <th>contrast</th>\n",
       "      <th></th>\n",
       "      <th></th>\n",
       "      <th></th>\n",
       "      <th></th>\n",
       "      <th></th>\n",
       "      <th></th>\n",
       "    </tr>\n",
       "  </thead>\n",
       "  <tbody>\n",
       "    <tr>\n",
       "      <th>50</th>\n",
       "      <td>12845.150943</td>\n",
       "      <td>0.005625</td>\n",
       "      <td>0.559004</td>\n",
       "      <td>0.478657</td>\n",
       "      <td>0.080346</td>\n",
       "      <td>-0.306407</td>\n",
       "    </tr>\n",
       "    <tr>\n",
       "      <th>80</th>\n",
       "      <td>12580.179245</td>\n",
       "      <td>0.008174</td>\n",
       "      <td>0.589892</td>\n",
       "      <td>0.459955</td>\n",
       "      <td>0.129937</td>\n",
       "      <td>-0.253893</td>\n",
       "    </tr>\n",
       "    <tr>\n",
       "      <th>100</th>\n",
       "      <td>11859.971698</td>\n",
       "      <td>0.009973</td>\n",
       "      <td>0.604062</td>\n",
       "      <td>0.445438</td>\n",
       "      <td>0.158624</td>\n",
       "      <td>-0.235332</td>\n",
       "    </tr>\n",
       "  </tbody>\n",
       "</table>\n",
       "</div>"
      ],
      "text/plain": [
       "          number of spikes   sta std   sta max   sta min  sta peak difference  \\\n",
       "contrast                                                                        \n",
       "50            12845.150943  0.005625  0.559004  0.478657             0.080346   \n",
       "80            12580.179245  0.008174  0.589892  0.459955             0.129937   \n",
       "100           11859.971698  0.009973  0.604062  0.445438             0.158624   \n",
       "\n",
       "             ratio  \n",
       "contrast            \n",
       "50       -0.306407  \n",
       "80       -0.253893  \n",
       "100      -0.235332  "
      ]
     },
     "execution_count": 15,
     "metadata": {},
     "output_type": "execute_result"
    }
   ],
   "source": [
    "infos.groupby('contrast').mean()"
   ]
  },
  {
   "cell_type": "code",
   "execution_count": 16,
   "metadata": {},
   "outputs": [
    {
     "data": {
      "text/html": [
       "<div>\n",
       "<style scoped>\n",
       "    .dataframe tbody tr th:only-of-type {\n",
       "        vertical-align: middle;\n",
       "    }\n",
       "\n",
       "    .dataframe tbody tr th {\n",
       "        vertical-align: top;\n",
       "    }\n",
       "\n",
       "    .dataframe thead th {\n",
       "        text-align: right;\n",
       "    }\n",
       "</style>\n",
       "<table border=\"1\" class=\"dataframe\">\n",
       "  <thead>\n",
       "    <tr style=\"text-align: right;\">\n",
       "      <th></th>\n",
       "      <th>cell type</th>\n",
       "      <th>channel</th>\n",
       "      <th>number of spikes</th>\n",
       "      <th>ratio</th>\n",
       "      <th>sta max</th>\n",
       "      <th>sta min</th>\n",
       "      <th>sta peak difference</th>\n",
       "      <th>sta std</th>\n",
       "    </tr>\n",
       "    <tr>\n",
       "      <th>contrast</th>\n",
       "      <th></th>\n",
       "      <th></th>\n",
       "      <th></th>\n",
       "      <th></th>\n",
       "      <th></th>\n",
       "      <th></th>\n",
       "      <th></th>\n",
       "      <th></th>\n",
       "    </tr>\n",
       "  </thead>\n",
       "  <tbody>\n",
       "    <tr>\n",
       "      <th>50</th>\n",
       "      <td>NaN</td>\n",
       "      <td>NaN</td>\n",
       "      <td>1011.492719</td>\n",
       "      <td>0.007245</td>\n",
       "      <td>0.004520</td>\n",
       "      <td>0.001776</td>\n",
       "      <td>0.005786</td>\n",
       "      <td>0.000432</td>\n",
       "    </tr>\n",
       "    <tr>\n",
       "      <th>80</th>\n",
       "      <td>NaN</td>\n",
       "      <td>NaN</td>\n",
       "      <td>976.052526</td>\n",
       "      <td>0.007404</td>\n",
       "      <td>0.006659</td>\n",
       "      <td>0.002955</td>\n",
       "      <td>0.008784</td>\n",
       "      <td>0.000454</td>\n",
       "    </tr>\n",
       "    <tr>\n",
       "      <th>100</th>\n",
       "      <td>NaN</td>\n",
       "      <td>NaN</td>\n",
       "      <td>946.834290</td>\n",
       "      <td>0.007668</td>\n",
       "      <td>0.007844</td>\n",
       "      <td>0.004009</td>\n",
       "      <td>0.010762</td>\n",
       "      <td>0.000524</td>\n",
       "    </tr>\n",
       "  </tbody>\n",
       "</table>\n",
       "</div>"
      ],
      "text/plain": [
       "          cell type  channel  number of spikes     ratio   sta max   sta min  \\\n",
       "contrast                                                                       \n",
       "50              NaN      NaN       1011.492719  0.007245  0.004520  0.001776   \n",
       "80              NaN      NaN        976.052526  0.007404  0.006659  0.002955   \n",
       "100             NaN      NaN        946.834290  0.007668  0.007844  0.004009   \n",
       "\n",
       "          sta peak difference   sta std  \n",
       "contrast                                 \n",
       "50                   0.005786  0.000432  \n",
       "80                   0.008784  0.000454  \n",
       "100                  0.010762  0.000524  "
      ]
     },
     "execution_count": 16,
     "metadata": {},
     "output_type": "execute_result"
    }
   ],
   "source": [
    "infos.groupby('contrast').sem()"
   ]
  },
  {
   "cell_type": "markdown",
   "metadata": {},
   "source": [
    "## Are `number of spikes` different for different contrast levels?"
   ]
  },
  {
   "cell_type": "code",
   "execution_count": 17,
   "metadata": {},
   "outputs": [
    {
     "data": {
      "text/plain": [
       "ON         126\n",
       "ON-OFF     102\n",
       "OFF         51\n",
       "Unknown     39\n",
       "Name: cell type, dtype: int64"
      ]
     },
     "execution_count": 17,
     "metadata": {},
     "output_type": "execute_result"
    }
   ],
   "source": [
    "idx_on = infos['cell type']=='ON'\n",
    "idx_off = infos['cell type']=='OFF'\n",
    "idx_on_off = infos['cell type']== 'ON-OFF'\n",
    "\n",
    "infos['cell type'].value_counts()"
   ]
  },
  {
   "cell_type": "code",
   "execution_count": 18,
   "metadata": {},
   "outputs": [
    {
     "name": "stdout",
     "output_type": "stream",
     "text": [
      "F_onewayResult(statistic=0.10130558312669492, pvalue=0.90373216777671)\n",
      "F_onewayResult(statistic=0.10664669940342711, pvalue=0.8990555543448764)\n",
      "F_onewayResult(statistic=0.09253104141457348, pvalue=0.9116996591460084)\n"
     ]
    },
    {
     "data": {
      "image/png": "[encoded data removed]",
      "text/plain": [
       "<Figure size 432x288 with 1 Axes>"
      ]
     },
     "metadata": {
      "needs_background": "light"
     },
     "output_type": "display_data"
    }
   ],
   "source": [
    "key = 'contrast'\n",
    "col = 'number of spikes'\n",
    "\n",
    "colors = ['r','b','g']\n",
    "for i, idx in enumerate([idx_on, idx_off, idx_on_off]):\n",
    "    plt.errorbar([50, 80, 100], infos.loc[idx,:].groupby(key)[col].mean(), infos.loc[idx,:].groupby(key)[col].sem(),\n",
    "                 color=colors[i], capsize=5)\n",
    "\n",
    "plt.xlabel('contrast')\n",
    "plt.ylabel(col)\n",
    "plt.legend(['ON', 'OFF', 'ON-OFF'])\n",
    "\n",
    "\n",
    "print(do_anova(infos.loc[idx_on,:], col))\n",
    "print(do_anova(infos.loc[idx_off,:], col))\n",
    "print(do_anova(infos.loc[idx_on_off,:], col))\n",
    "remove_box()"
   ]
  },
  {
   "cell_type": "code",
   "execution_count": 19,
   "metadata": {},
   "outputs": [
    {
     "name": "stdout",
     "output_type": "stream",
     "text": [
      "F_onewayResult(statistic=6.432935178763816, pvalue=0.002202298977801334)\n",
      "F_onewayResult(statistic=7.77711271292906, pvalue=0.0011866519989934753)\n",
      "F_onewayResult(statistic=30.979613055767746, pvalue=3.56046159094592e-11)\n"
     ]
    },
    {
     "data": {
      "image/png": "[encoded data removed]",
      "text/plain": [
       "<Figure size 432x288 with 1 Axes>"
      ]
     },
     "metadata": {
      "needs_background": "light"
     },
     "output_type": "display_data"
    }
   ],
   "source": [
    "key = 'contrast'\n",
    "col = 'sta std'\n",
    "\n",
    "colors = ['r','b','g']\n",
    "for i, idx in enumerate([idx_on, idx_off, idx_on_off]):\n",
    "    plt.errorbar([50, 80, 100], infos.loc[idx,:].groupby(key)[col].mean(), infos.loc[idx,:].groupby(key)[col].sem(),\n",
    "                 color=colors[i], capsize=5)\n",
    "\n",
    "plt.xlabel('contrast')\n",
    "plt.ylabel(col)\n",
    "plt.legend(['ON', 'OFF', 'ON-OFF'])\n",
    "\n",
    "\n",
    "print(do_anova(infos.loc[idx_on,:], col))\n",
    "print(do_anova(infos.loc[idx_off,:], col))\n",
    "print(do_anova(infos.loc[idx_on_off,:], col))\n",
    "remove_box()"
   ]
  },
  {
   "cell_type": "markdown",
   "metadata": {},
   "source": [
    "## Are `sta peak difference` different for different contrast levels?"
   ]
  },
  {
   "cell_type": "code",
   "execution_count": 28,
   "metadata": {},
   "outputs": [
    {
     "name": "stdout",
     "output_type": "stream",
     "text": [
      "[0.00238452163564422, 0.008819364493262658, 1.2238596355484607e-06]\n"
     ]
    },
    {
     "data": {
      "image/png": "[encoded data removed]",
      "text/plain": [
       "<Figure size 360x252 with 1 Axes>"
      ]
     },
     "metadata": {
      "needs_background": "light"
     },
     "output_type": "display_data"
    }
   ],
   "source": [
    "key = 'contrast'\n",
    "col = 'sta peak difference'\n",
    "\n",
    "ps = list()\n",
    "tmp, p = do_anova(infos.loc[idx_on,:], col)\n",
    "ps.append(p)\n",
    "tmp, p = do_anova(infos.loc[idx_off,:], col)\n",
    "ps.append(p)\n",
    "tmp, p = do_anova(infos.loc[idx_on_off,:], col)\n",
    "ps.append(p)\n",
    "\n",
    "print(ps)\n",
    "\n",
    "# plt.figure(figsize=(8,6))\n",
    "plt.figure(figsize=(5,3.5))\n",
    "colors = ['r','b','g']\n",
    "for i, idx in enumerate([idx_on, idx_off, idx_on_off]):\n",
    "    plt.errorbar([50, 80, 100], infos.loc[idx,:].groupby(key)[col].mean(), infos.loc[idx,:].groupby(key)[col].sem(),\n",
    "                 color=colors[i], capsize=5)\n",
    "\n",
    "plt.xlabel('contrast')\n",
    "plt.ylabel(col)\n",
    "plt.legend(['ON (p={:.2f})'.format(ps[0]), 'OFF (p={:.2f})'.format(ps[1]), 'ON-OFF (p={:.2f})'.format(ps[2])])\n",
    "\n",
    "plt.ylim([0, 0.2])\n",
    "\n",
    "plt.ylabel('peak-to-peak difference')\n",
    "\n",
    "remove_box()\n",
    "\n",
    "plt.savefig(os.path.join(data_path, 'figure', 'sta_p2p_vs_contrast_by_cell_type.png'), dpi=150)"
   ]
  },
  {
   "cell_type": "code",
   "execution_count": null,
   "metadata": {},
   "outputs": [],
   "source": []
  },
  {
   "cell_type": "code",
   "execution_count": 21,
   "metadata": {},
   "outputs": [
    {
     "data": {
      "text/html": [
       "<div>\n",
       "<style scoped>\n",
       "    .dataframe tbody tr th:only-of-type {\n",
       "        vertical-align: middle;\n",
       "    }\n",
       "\n",
       "    .dataframe tbody tr th {\n",
       "        vertical-align: top;\n",
       "    }\n",
       "\n",
       "    .dataframe thead th {\n",
       "        text-align: right;\n",
       "    }\n",
       "</style>\n",
       "<table border=\"1\" class=\"dataframe\">\n",
       "  <thead>\n",
       "    <tr style=\"text-align: right;\">\n",
       "      <th></th>\n",
       "      <th>number of spikes</th>\n",
       "      <th>sta std</th>\n",
       "      <th>sta max</th>\n",
       "      <th>sta min</th>\n",
       "      <th>sta peak difference</th>\n",
       "      <th>ratio</th>\n",
       "    </tr>\n",
       "    <tr>\n",
       "      <th>contrast</th>\n",
       "      <th></th>\n",
       "      <th></th>\n",
       "      <th></th>\n",
       "      <th></th>\n",
       "      <th></th>\n",
       "      <th></th>\n",
       "    </tr>\n",
       "  </thead>\n",
       "  <tbody>\n",
       "    <tr>\n",
       "      <th>50</th>\n",
       "      <td>9806.666667</td>\n",
       "      <td>0.006572</td>\n",
       "      <td>0.571325</td>\n",
       "      <td>0.475239</td>\n",
       "      <td>0.096086</td>\n",
       "      <td>-0.305017</td>\n",
       "    </tr>\n",
       "    <tr>\n",
       "      <th>80</th>\n",
       "      <td>9468.214286</td>\n",
       "      <td>0.009273</td>\n",
       "      <td>0.602732</td>\n",
       "      <td>0.456337</td>\n",
       "      <td>0.146395</td>\n",
       "      <td>-0.256457</td>\n",
       "    </tr>\n",
       "    <tr>\n",
       "      <th>100</th>\n",
       "      <td>8980.523810</td>\n",
       "      <td>0.011152</td>\n",
       "      <td>0.620176</td>\n",
       "      <td>0.442516</td>\n",
       "      <td>0.177660</td>\n",
       "      <td>-0.235164</td>\n",
       "    </tr>\n",
       "  </tbody>\n",
       "</table>\n",
       "</div>"
      ],
      "text/plain": [
       "          number of spikes   sta std   sta max   sta min  sta peak difference  \\\n",
       "contrast                                                                        \n",
       "50             9806.666667  0.006572  0.571325  0.475239             0.096086   \n",
       "80             9468.214286  0.009273  0.602732  0.456337             0.146395   \n",
       "100            8980.523810  0.011152  0.620176  0.442516             0.177660   \n",
       "\n",
       "             ratio  \n",
       "contrast            \n",
       "50       -0.305017  \n",
       "80       -0.256457  \n",
       "100      -0.235164  "
      ]
     },
     "execution_count": 21,
     "metadata": {},
     "output_type": "execute_result"
    }
   ],
   "source": [
    "# ON cells\n",
    "infos.loc[idx_on,:].groupby('contrast').mean()"
   ]
  },
  {
   "cell_type": "code",
   "execution_count": 22,
   "metadata": {},
   "outputs": [
    {
     "data": {
      "text/html": [
       "<div>\n",
       "<style scoped>\n",
       "    .dataframe tbody tr th:only-of-type {\n",
       "        vertical-align: middle;\n",
       "    }\n",
       "\n",
       "    .dataframe tbody tr th {\n",
       "        vertical-align: top;\n",
       "    }\n",
       "\n",
       "    .dataframe thead th {\n",
       "        text-align: right;\n",
       "    }\n",
       "</style>\n",
       "<table border=\"1\" class=\"dataframe\">\n",
       "  <thead>\n",
       "    <tr style=\"text-align: right;\">\n",
       "      <th></th>\n",
       "      <th>number of spikes</th>\n",
       "      <th>sta std</th>\n",
       "      <th>sta max</th>\n",
       "      <th>sta min</th>\n",
       "      <th>sta peak difference</th>\n",
       "      <th>ratio</th>\n",
       "    </tr>\n",
       "    <tr>\n",
       "      <th>contrast</th>\n",
       "      <th></th>\n",
       "      <th></th>\n",
       "      <th></th>\n",
       "      <th></th>\n",
       "      <th></th>\n",
       "      <th></th>\n",
       "    </tr>\n",
       "  </thead>\n",
       "  <tbody>\n",
       "    <tr>\n",
       "      <th>50</th>\n",
       "      <td>8742.136686</td>\n",
       "      <td>0.005913</td>\n",
       "      <td>0.059677</td>\n",
       "      <td>0.022771</td>\n",
       "      <td>0.075754</td>\n",
       "      <td>0.087610</td>\n",
       "    </tr>\n",
       "    <tr>\n",
       "      <th>80</th>\n",
       "      <td>8195.461542</td>\n",
       "      <td>0.005649</td>\n",
       "      <td>0.083418</td>\n",
       "      <td>0.036695</td>\n",
       "      <td>0.108066</td>\n",
       "      <td>0.089928</td>\n",
       "    </tr>\n",
       "    <tr>\n",
       "      <th>100</th>\n",
       "      <td>8422.496621</td>\n",
       "      <td>0.006077</td>\n",
       "      <td>0.095818</td>\n",
       "      <td>0.048471</td>\n",
       "      <td>0.127350</td>\n",
       "      <td>0.090979</td>\n",
       "    </tr>\n",
       "  </tbody>\n",
       "</table>\n",
       "</div>"
      ],
      "text/plain": [
       "          number of spikes   sta std   sta max   sta min  sta peak difference  \\\n",
       "contrast                                                                        \n",
       "50             8742.136686  0.005913  0.059677  0.022771             0.075754   \n",
       "80             8195.461542  0.005649  0.083418  0.036695             0.108066   \n",
       "100            8422.496621  0.006077  0.095818  0.048471             0.127350   \n",
       "\n",
       "             ratio  \n",
       "contrast            \n",
       "50        0.087610  \n",
       "80        0.089928  \n",
       "100       0.090979  "
      ]
     },
     "execution_count": 22,
     "metadata": {},
     "output_type": "execute_result"
    }
   ],
   "source": [
    "# ON cells\n",
    "infos.loc[idx_on,:].groupby('contrast').std()"
   ]
  },
  {
   "cell_type": "code",
   "execution_count": 23,
   "metadata": {},
   "outputs": [
    {
     "data": {
      "text/html": [
       "<div>\n",
       "<style scoped>\n",
       "    .dataframe tbody tr th:only-of-type {\n",
       "        vertical-align: middle;\n",
       "    }\n",
       "\n",
       "    .dataframe tbody tr th {\n",
       "        vertical-align: top;\n",
       "    }\n",
       "\n",
       "    .dataframe thead th {\n",
       "        text-align: right;\n",
       "    }\n",
       "</style>\n",
       "<table border=\"1\" class=\"dataframe\">\n",
       "  <thead>\n",
       "    <tr style=\"text-align: right;\">\n",
       "      <th></th>\n",
       "      <th>number of spikes</th>\n",
       "      <th>sta std</th>\n",
       "      <th>sta max</th>\n",
       "      <th>sta min</th>\n",
       "      <th>sta peak difference</th>\n",
       "      <th>ratio</th>\n",
       "    </tr>\n",
       "    <tr>\n",
       "      <th>contrast</th>\n",
       "      <th></th>\n",
       "      <th></th>\n",
       "      <th></th>\n",
       "      <th></th>\n",
       "      <th></th>\n",
       "      <th></th>\n",
       "    </tr>\n",
       "  </thead>\n",
       "  <tbody>\n",
       "    <tr>\n",
       "      <th>50</th>\n",
       "      <td>13750.235294</td>\n",
       "      <td>0.005475</td>\n",
       "      <td>0.570038</td>\n",
       "      <td>0.476554</td>\n",
       "      <td>0.093484</td>\n",
       "      <td>-0.280232</td>\n",
       "    </tr>\n",
       "    <tr>\n",
       "      <th>80</th>\n",
       "      <td>15451.000000</td>\n",
       "      <td>0.007887</td>\n",
       "      <td>0.596292</td>\n",
       "      <td>0.452510</td>\n",
       "      <td>0.143782</td>\n",
       "      <td>-0.226285</td>\n",
       "    </tr>\n",
       "    <tr>\n",
       "      <th>100</th>\n",
       "      <td>14488.588235</td>\n",
       "      <td>0.009704</td>\n",
       "      <td>0.613810</td>\n",
       "      <td>0.434200</td>\n",
       "      <td>0.179610</td>\n",
       "      <td>-0.200932</td>\n",
       "    </tr>\n",
       "  </tbody>\n",
       "</table>\n",
       "</div>"
      ],
      "text/plain": [
       "          number of spikes   sta std   sta max   sta min  sta peak difference  \\\n",
       "contrast                                                                        \n",
       "50            13750.235294  0.005475  0.570038  0.476554             0.093484   \n",
       "80            15451.000000  0.007887  0.596292  0.452510             0.143782   \n",
       "100           14488.588235  0.009704  0.613810  0.434200             0.179610   \n",
       "\n",
       "             ratio  \n",
       "contrast            \n",
       "50       -0.280232  \n",
       "80       -0.226285  \n",
       "100      -0.200932  "
      ]
     },
     "execution_count": 23,
     "metadata": {},
     "output_type": "execute_result"
    }
   ],
   "source": [
    "# OFF cells\n",
    "infos.loc[idx_off,:].groupby('contrast').mean()"
   ]
  },
  {
   "cell_type": "code",
   "execution_count": 24,
   "metadata": {},
   "outputs": [
    {
     "data": {
      "text/html": [
       "<div>\n",
       "<style scoped>\n",
       "    .dataframe tbody tr th:only-of-type {\n",
       "        vertical-align: middle;\n",
       "    }\n",
       "\n",
       "    .dataframe tbody tr th {\n",
       "        vertical-align: top;\n",
       "    }\n",
       "\n",
       "    .dataframe thead th {\n",
       "        text-align: right;\n",
       "    }\n",
       "</style>\n",
       "<table border=\"1\" class=\"dataframe\">\n",
       "  <thead>\n",
       "    <tr style=\"text-align: right;\">\n",
       "      <th></th>\n",
       "      <th>number of spikes</th>\n",
       "      <th>sta std</th>\n",
       "      <th>sta max</th>\n",
       "      <th>sta min</th>\n",
       "      <th>sta peak difference</th>\n",
       "      <th>ratio</th>\n",
       "    </tr>\n",
       "    <tr>\n",
       "      <th>contrast</th>\n",
       "      <th></th>\n",
       "      <th></th>\n",
       "      <th></th>\n",
       "      <th></th>\n",
       "      <th></th>\n",
       "      <th></th>\n",
       "    </tr>\n",
       "  </thead>\n",
       "  <tbody>\n",
       "    <tr>\n",
       "      <th>50</th>\n",
       "      <td>11071.754674</td>\n",
       "      <td>0.002479</td>\n",
       "      <td>0.051351</td>\n",
       "      <td>0.015764</td>\n",
       "      <td>0.065911</td>\n",
       "      <td>0.073784</td>\n",
       "    </tr>\n",
       "    <tr>\n",
       "      <th>80</th>\n",
       "      <td>10985.698578</td>\n",
       "      <td>0.003146</td>\n",
       "      <td>0.055227</td>\n",
       "      <td>0.026095</td>\n",
       "      <td>0.078845</td>\n",
       "      <td>0.068373</td>\n",
       "    </tr>\n",
       "    <tr>\n",
       "      <th>100</th>\n",
       "      <td>10225.076956</td>\n",
       "      <td>0.003671</td>\n",
       "      <td>0.060314</td>\n",
       "      <td>0.032226</td>\n",
       "      <td>0.087723</td>\n",
       "      <td>0.064058</td>\n",
       "    </tr>\n",
       "  </tbody>\n",
       "</table>\n",
       "</div>"
      ],
      "text/plain": [
       "          number of spikes   sta std   sta max   sta min  sta peak difference  \\\n",
       "contrast                                                                        \n",
       "50            11071.754674  0.002479  0.051351  0.015764             0.065911   \n",
       "80            10985.698578  0.003146  0.055227  0.026095             0.078845   \n",
       "100           10225.076956  0.003671  0.060314  0.032226             0.087723   \n",
       "\n",
       "             ratio  \n",
       "contrast            \n",
       "50        0.073784  \n",
       "80        0.068373  \n",
       "100       0.064058  "
      ]
     },
     "execution_count": 24,
     "metadata": {},
     "output_type": "execute_result"
    }
   ],
   "source": [
    "# OFF cells\n",
    "infos.loc[idx_off,:].groupby('contrast').std()"
   ]
  },
  {
   "cell_type": "code",
   "execution_count": 25,
   "metadata": {},
   "outputs": [
    {
     "data": {
      "text/html": [
       "<div>\n",
       "<style scoped>\n",
       "    .dataframe tbody tr th:only-of-type {\n",
       "        vertical-align: middle;\n",
       "    }\n",
       "\n",
       "    .dataframe tbody tr th {\n",
       "        vertical-align: top;\n",
       "    }\n",
       "\n",
       "    .dataframe thead th {\n",
       "        text-align: right;\n",
       "    }\n",
       "</style>\n",
       "<table border=\"1\" class=\"dataframe\">\n",
       "  <thead>\n",
       "    <tr style=\"text-align: right;\">\n",
       "      <th></th>\n",
       "      <th>number of spikes</th>\n",
       "      <th>sta std</th>\n",
       "      <th>sta max</th>\n",
       "      <th>sta min</th>\n",
       "      <th>sta peak difference</th>\n",
       "      <th>ratio</th>\n",
       "    </tr>\n",
       "    <tr>\n",
       "      <th>contrast</th>\n",
       "      <th></th>\n",
       "      <th></th>\n",
       "      <th></th>\n",
       "      <th></th>\n",
       "      <th></th>\n",
       "      <th></th>\n",
       "    </tr>\n",
       "  </thead>\n",
       "  <tbody>\n",
       "    <tr>\n",
       "      <th>50</th>\n",
       "      <td>17696.264706</td>\n",
       "      <td>0.004184</td>\n",
       "      <td>0.543793</td>\n",
       "      <td>0.487995</td>\n",
       "      <td>0.055798</td>\n",
       "      <td>-0.315867</td>\n",
       "    </tr>\n",
       "    <tr>\n",
       "      <th>80</th>\n",
       "      <td>17278.852941</td>\n",
       "      <td>0.005950</td>\n",
       "      <td>0.562631</td>\n",
       "      <td>0.473268</td>\n",
       "      <td>0.089364</td>\n",
       "      <td>-0.266398</td>\n",
       "    </tr>\n",
       "    <tr>\n",
       "      <th>100</th>\n",
       "      <td>16609.382353</td>\n",
       "      <td>0.007116</td>\n",
       "      <td>0.569409</td>\n",
       "      <td>0.462052</td>\n",
       "      <td>0.107356</td>\n",
       "      <td>-0.250370</td>\n",
       "    </tr>\n",
       "  </tbody>\n",
       "</table>\n",
       "</div>"
      ],
      "text/plain": [
       "          number of spikes   sta std   sta max   sta min  sta peak difference  \\\n",
       "contrast                                                                        \n",
       "50            17696.264706  0.004184  0.543793  0.487995             0.055798   \n",
       "80            17278.852941  0.005950  0.562631  0.473268             0.089364   \n",
       "100           16609.382353  0.007116  0.569409  0.462052             0.107356   \n",
       "\n",
       "             ratio  \n",
       "contrast            \n",
       "50       -0.315867  \n",
       "80       -0.266398  \n",
       "100      -0.250370  "
      ]
     },
     "execution_count": 25,
     "metadata": {},
     "output_type": "execute_result"
    }
   ],
   "source": [
    "# ON-OFF cells\n",
    "infos.loc[idx_on_off,:].groupby('contrast').mean()"
   ]
  },
  {
   "cell_type": "code",
   "execution_count": 26,
   "metadata": {},
   "outputs": [
    {
     "data": {
      "text/html": [
       "<div>\n",
       "<style scoped>\n",
       "    .dataframe tbody tr th:only-of-type {\n",
       "        vertical-align: middle;\n",
       "    }\n",
       "\n",
       "    .dataframe tbody tr th {\n",
       "        vertical-align: top;\n",
       "    }\n",
       "\n",
       "    .dataframe thead th {\n",
       "        text-align: right;\n",
       "    }\n",
       "</style>\n",
       "<table border=\"1\" class=\"dataframe\">\n",
       "  <thead>\n",
       "    <tr style=\"text-align: right;\">\n",
       "      <th></th>\n",
       "      <th>number of spikes</th>\n",
       "      <th>sta std</th>\n",
       "      <th>sta max</th>\n",
       "      <th>sta min</th>\n",
       "      <th>sta peak difference</th>\n",
       "      <th>ratio</th>\n",
       "    </tr>\n",
       "    <tr>\n",
       "      <th>contrast</th>\n",
       "      <th></th>\n",
       "      <th></th>\n",
       "      <th></th>\n",
       "      <th></th>\n",
       "      <th></th>\n",
       "      <th></th>\n",
       "    </tr>\n",
       "  </thead>\n",
       "  <tbody>\n",
       "    <tr>\n",
       "      <th>50</th>\n",
       "      <td>11434.857393</td>\n",
       "      <td>0.001084</td>\n",
       "      <td>0.020553</td>\n",
       "      <td>0.004187</td>\n",
       "      <td>0.021414</td>\n",
       "      <td>0.060722</td>\n",
       "    </tr>\n",
       "    <tr>\n",
       "      <th>80</th>\n",
       "      <td>10337.212402</td>\n",
       "      <td>0.001484</td>\n",
       "      <td>0.029821</td>\n",
       "      <td>0.011104</td>\n",
       "      <td>0.038386</td>\n",
       "      <td>0.057789</td>\n",
       "    </tr>\n",
       "    <tr>\n",
       "      <th>100</th>\n",
       "      <td>9683.616270</td>\n",
       "      <td>0.001948</td>\n",
       "      <td>0.034947</td>\n",
       "      <td>0.019902</td>\n",
       "      <td>0.050254</td>\n",
       "      <td>0.060489</td>\n",
       "    </tr>\n",
       "  </tbody>\n",
       "</table>\n",
       "</div>"
      ],
      "text/plain": [
       "          number of spikes   sta std   sta max   sta min  sta peak difference  \\\n",
       "contrast                                                                        \n",
       "50            11434.857393  0.001084  0.020553  0.004187             0.021414   \n",
       "80            10337.212402  0.001484  0.029821  0.011104             0.038386   \n",
       "100            9683.616270  0.001948  0.034947  0.019902             0.050254   \n",
       "\n",
       "             ratio  \n",
       "contrast            \n",
       "50        0.060722  \n",
       "80        0.057789  \n",
       "100       0.060489  "
      ]
     },
     "execution_count": 26,
     "metadata": {},
     "output_type": "execute_result"
    }
   ],
   "source": [
    "# ON-OFF cells\n",
    "infos.loc[idx_on_off,:].groupby('contrast').std()"
   ]
  },
  {
   "cell_type": "code",
   "execution_count": null,
   "metadata": {},
   "outputs": [],
   "source": []
  },
  {
   "cell_type": "code",
   "execution_count": null,
   "metadata": {},
   "outputs": [],
   "source": []
  },
  {
   "cell_type": "code",
   "execution_count": null,
   "metadata": {},
   "outputs": [],
   "source": []
  }
 ],
 "metadata": {
  "kernelspec": {
   "display_name": "Python 3",
   "language": "python",
   "name": "python3"
  },
  "language_info": {
   "codemirror_mode": {
    "name": "ipython",
    "version": 3
   },
   "file_extension": ".py",
   "mimetype": "text/x-python",
   "name": "python",
   "nbconvert_exporter": "python",
   "pygments_lexer": "ipython3",
   "version": "3.7.6"
  },
  "pycharm": {
   "stem_cell": {
    "cell_type": "raw",
    "metadata": {
     "collapsed": false
    },
    "source": []
   }
  }
 },
 "nbformat": 4,
 "nbformat_minor": 2
}
