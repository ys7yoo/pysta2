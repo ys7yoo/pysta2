{
 "cells": [
  {
   "cell_type": "code",
   "execution_count": 49,
   "metadata": {},
   "outputs": [
    {
     "name": "stdout",
     "output_type": "stream",
     "text": [
      "The autoreload extension is already loaded. To reload it, use:\n",
      "  %reload_ext autoreload\n"
     ]
    }
   ],
   "source": [
    "import pandas as pd\n",
    "import numpy as np\n",
    "import matplotlib.pyplot as plt\n",
    "import os\n",
    "\n",
    "import pysta\n",
    "import stc\n",
    "import stcl\n",
    "%load_ext autoreload\n",
    "%autoreload 2"
   ]
  },
  {
   "cell_type": "markdown",
   "metadata": {},
   "source": [
    "## load mat file and save to npz"
   ]
  },
  {
   "cell_type": "code",
   "execution_count": 61,
   "metadata": {},
   "outputs": [
    {
     "name": "stdout",
     "output_type": "stream",
     "text": [
      "List of arrays in this file: \n",
      " <KeysViewHDF5 ['#refs#', 'channel_names', 'height', 'sampling_rate', 'spike_train', 'stim', 'width']>\n",
      "Shape of the array stim:  (64, 9000)\n",
      "Shape of the array spike_train:  (115, 9000)\n",
      "length of the list channel_names:  115\n",
      "sampling_rate:  10.0\n",
      "['12a', '13a', '13b', '13c', '14a', '14b', '16a', '16b', '17a', '17b', '17c', '21a', '21b', '22a', '22b', '22c', '22d', '23a', '23b', '23c', '23d', '25a', '25b', '25c', '26a', '26b', '26c', '27a', '27b', '28a', '28b', '31a', '31b', '32a', '32b', '33a', '33b', '33c', '34a', '34b', '34c', '36a', '36b', '36c', '36d', '36e', '37a', '37b', '37c', '38a', '38b', '38c', '38d', '41a', '41b', '41c', '42a', '42b', '43a', '43b', '43c', '43d', '43e', '45a', '45b', '45c', '45d', '46a', '46b', '47a', '47b', '47c', '47d', '51a', '51b', '51c', '53a', '61a', '61b', '61c', '61d', '62a', '62b', '62c', '62d', '62e', '62f', '63a', '63b', '63c', '67a', '67b', '67c', '67d', '71a', '71b', '71c', '71d', '72a', '72b', '72c', '76a', '76b', '77a', '77b', '83a', '83b', '83c', '85a', '85b', '85c', '86a', '86b', '87a', '87b']\n"
     ]
    }
   ],
   "source": [
    "# load stim and spike data\n",
    "# dataset_name = \"20180618\"\n",
    "dataset_name = \"20180621\"\n",
    "# dataset_name = \"20180626\"\n",
    "# dataset_name = \"20180828\"\n",
    "data_filename = \"data/{}.mat\".format(dataset_name)\n",
    "\n",
    "stim, spike_train, info = pysta.load_data_mat(data_filename)\n",
    "\n",
    "print(info[\"channel_names\"])\n",
    "\n",
    "dt = 1000/info[\"sampling_rate\"] # in ms"
   ]
  },
  {
   "cell_type": "code",
   "execution_count": 62,
   "metadata": {},
   "outputs": [],
   "source": [
    "# save to npz file\n",
    "np.savez(dataset_name, dataset_name=dataset_name, stim=stim, spike_train=spike_train, info=info)"
   ]
  },
  {
   "cell_type": "code",
   "execution_count": null,
   "metadata": {},
   "outputs": [],
   "source": []
  },
  {
   "cell_type": "markdown",
   "metadata": {
    "pycharm": {
     "name": "#%% md\n"
    }
   },
   "source": [
    "## test load"
   ]
  },
  {
   "cell_type": "code",
   "execution_count": 52,
   "metadata": {},
   "outputs": [],
   "source": [
    "# np.load(dataset_name + \".npz\")"
   ]
  },
  {
   "cell_type": "code",
   "execution_count": 53,
   "metadata": {},
   "outputs": [
    {
     "data": {
      "text/html": [
       "<div>\n",
       "<style scoped>\n",
       "    .dataframe tbody tr th:only-of-type {\n",
       "        vertical-align: middle;\n",
       "    }\n",
       "\n",
       "    .dataframe tbody tr th {\n",
       "        vertical-align: top;\n",
       "    }\n",
       "\n",
       "    .dataframe thead th {\n",
       "        text-align: right;\n",
       "    }\n",
       "</style>\n",
       "<table border=\"1\" class=\"dataframe\">\n",
       "  <thead>\n",
       "    <tr style=\"text-align: right;\">\n",
       "      <th></th>\n",
       "      <th>channel_name</th>\n",
       "      <th>cell_type</th>\n",
       "    </tr>\n",
       "  </thead>\n",
       "  <tbody>\n",
       "    <tr>\n",
       "      <th>0</th>\n",
       "      <td>12a</td>\n",
       "      <td>OFF</td>\n",
       "    </tr>\n",
       "    <tr>\n",
       "      <th>1</th>\n",
       "      <td>12b</td>\n",
       "      <td>OFF</td>\n",
       "    </tr>\n",
       "    <tr>\n",
       "      <th>2</th>\n",
       "      <td>12c</td>\n",
       "      <td>ON</td>\n",
       "    </tr>\n",
       "    <tr>\n",
       "      <th>3</th>\n",
       "      <td>12d</td>\n",
       "      <td>ON</td>\n",
       "    </tr>\n",
       "    <tr>\n",
       "      <th>4</th>\n",
       "      <td>13a</td>\n",
       "      <td>OFF</td>\n",
       "    </tr>\n",
       "    <tr>\n",
       "      <th>...</th>\n",
       "      <td>...</td>\n",
       "      <td>...</td>\n",
       "    </tr>\n",
       "    <tr>\n",
       "      <th>89</th>\n",
       "      <td>83a</td>\n",
       "      <td>unknown</td>\n",
       "    </tr>\n",
       "    <tr>\n",
       "      <th>90</th>\n",
       "      <td>83b</td>\n",
       "      <td>unknown</td>\n",
       "    </tr>\n",
       "    <tr>\n",
       "      <th>91</th>\n",
       "      <td>83c</td>\n",
       "      <td>unknown</td>\n",
       "    </tr>\n",
       "    <tr>\n",
       "      <th>92</th>\n",
       "      <td>86a</td>\n",
       "      <td>unknown</td>\n",
       "    </tr>\n",
       "    <tr>\n",
       "      <th>93</th>\n",
       "      <td>87a</td>\n",
       "      <td>unknown</td>\n",
       "    </tr>\n",
       "  </tbody>\n",
       "</table>\n",
       "<p>94 rows × 2 columns</p>\n",
       "</div>"
      ],
      "text/plain": [
       "   channel_name cell_type\n",
       "0           12a       OFF\n",
       "1           12b       OFF\n",
       "2           12c        ON\n",
       "3           12d        ON\n",
       "4           13a       OFF\n",
       "..          ...       ...\n",
       "89          83a   unknown\n",
       "90          83b   unknown\n",
       "91          83c   unknown\n",
       "92          86a   unknown\n",
       "93          87a   unknown\n",
       "\n",
       "[94 rows x 2 columns]"
      ]
     },
     "execution_count": 53,
     "metadata": {},
     "output_type": "execute_result"
    }
   ],
   "source": [
    "## load cell types\n",
    "cell_types_df = pysta.load_cell_type(dataset_name, \"data\")\n",
    "cell_types_df"
   ]
  },
  {
   "cell_type": "code",
   "execution_count": 54,
   "metadata": {},
   "outputs": [
    {
     "data": {
      "text/html": [
       "<div>\n",
       "<style scoped>\n",
       "    .dataframe tbody tr th:only-of-type {\n",
       "        vertical-align: middle;\n",
       "    }\n",
       "\n",
       "    .dataframe tbody tr th {\n",
       "        vertical-align: top;\n",
       "    }\n",
       "\n",
       "    .dataframe thead th {\n",
       "        text-align: right;\n",
       "    }\n",
       "</style>\n",
       "<table border=\"1\" class=\"dataframe\">\n",
       "  <thead>\n",
       "    <tr style=\"text-align: right;\">\n",
       "      <th></th>\n",
       "      <th>channel_name</th>\n",
       "      <th>cell_type</th>\n",
       "    </tr>\n",
       "  </thead>\n",
       "  <tbody>\n",
       "  </tbody>\n",
       "</table>\n",
       "</div>"
      ],
      "text/plain": [
       "Empty DataFrame\n",
       "Columns: [channel_name, cell_type]\n",
       "Index: []"
      ]
     },
     "execution_count": 54,
     "metadata": {},
     "output_type": "execute_result"
    }
   ],
   "source": [
    "# idx_diff = info[\"channel_names\"] != cell_types_df[\"channel_name\"]\n",
    "# cell_types_df.loc[idx_diff,:]"
   ]
  },
  {
   "cell_type": "code",
   "execution_count": 56,
   "metadata": {},
   "outputs": [],
   "source": [
    "# info[\"channel_names\"][84]"
   ]
  },
  {
   "cell_type": "markdown",
   "metadata": {},
   "source": [
    "## combine load data and cell type"
   ]
  },
  {
   "cell_type": "code",
   "execution_count": 18,
   "metadata": {},
   "outputs": [
    {
     "name": "stdout",
     "output_type": "stream",
     "text": [
      "['dataset_name', 'stim', 'spike_train', 'info']\n",
      "(64, 9000)\n",
      "(156, 9000)\n",
      "{'channel_names': ['12a', '12b', '12c', '13a', '13b', '13c', '13d', '13e', '14a', '14b', '14c', '14d', '16a', '16b', '16c', '17a', '17b', '17c', '17d', '21a', '21b', '21c', '21d', '21e', '22a', '22b', '23a', '23b', '23c', '23d', '25a', '25b', '25c', '26a', '26b', '26c', '26d', '27a', '27b', '27c', '27d', '28a', '28b', '28c', '31a', '31b', '31c', '31d', '32a', '32b', '32c', '33a', '33b', '33c', '33d', '35a', '35b', '35c', '35d', '35e', '35f', '35g', '36a', '36b', '36c', '36d', '37a', '37b', '37c', '37d', '37e', '38a', '41a', '41b', '41c', '41d', '42a', '42b', '42c', '43a', '43b', '43c', '45a', '45b', '45c', '46a', '46b', '47a', '48a', '48b', '48c', '48d', '48e', '51a', '51b', '53a', '53b', '53c', '53d', '54a', '54b', '54c', '54d', '56a', '56b', '58a', '61a', '61b', '62a', '62b', '63a', '63b', '63c', '63d', '63e', '64a', '65a', '65b', '65c', '68a', '68b', '71a', '71b', '71c', '72a', '72b', '72c', '72d', '72e', '73a', '73b', '73c', '74a', '74b', '74c', '74d', '75a', '76a', '76b', '76c', '77a', '82a', '82b', '82c', '83a', '83b', '83c', '85a', '85b', '86a', '86b', '86c', '86d', '87a', '87b', '87c'], 'sampling_rate': 10.0, 'cell_types': ['ON', 'OFF', 'OFF', 'OFF', 'OFF', 'ON', 'unknown', 'unknown', 'OFF', 'OFF', 'ON', 'unknown', 'unknown', 'unknown', 'unknown', 'ON', 'unknown', 'unknown', 'unknown', 'OFF', 'unknown', 'unknown', 'unknown', 'ON', 'ON', 'unknown', 'unknown', 'OFF', 'OFF', 'OFF', 'ON', 'ON', 'OFF', 'OFF', 'ON', 'OFF', 'unknown', 'OFF', 'ON', 'ON', 'OFF', 'OFF', 'ON', 'ON', 'OFF', 'ON', 'ON', 'ON', 'OFF', 'ON', 'unknown', 'ON', 'OFF', 'unknown', 'unknown', 'OFF', 'OFF', 'unknown', 'OFF', 'OFF', 'OFF', 'unknown', 'OFF', 'OFF', 'unknown', 'OFF', 'OFF', 'OFF', 'ON', 'OFF', 'OFF', 'OFF', 'OFF', 'unknown', 'unknown', 'unknown', 'unknown', 'OFF', 'unknown', 'OFF', 'unknown', 'OFF', 'ON', 'ON', 'OFF', 'OFF', 'OFF', 'OFF', 'unknown', 'ON', 'unknown', 'unknown', 'unknown', 'OFF', 'unknown', 'unknown', 'unknown', 'unknown', 'OFF', 'OFF', 'OFF', 'unknown', 'unknown', 'OFF', 'unknown', 'unknown', 'OFF', 'unknown', 'unknown', 'OFF', 'OFF', 'OFF', 'unknown', 'OFF', 'unknown', 'OFF', 'OFF', 'ON', 'unknown', 'unknown', 'unknown', 'OFF', 'ON', 'ON', 'OFF', 'OFF', 'ON', 'OFF', 'unknown', 'ON', 'ON', 'ON', 'OFF', 'OFF', 'unknown', 'OFF', 'OFF', 'unknown', 'unknown', 'unknown', 'OFF', 'ON', 'OFF', 'OFF', 'OFF', 'OFF', 'OFF', 'OFF', 'OFF', 'ON', 'unknown', 'ON', 'ON', 'OFF', 'ON', 'OFF']}\n"
     ]
    }
   ],
   "source": [
    "folder_name = \"data\"\n",
    "\n",
    "#dataset_name = \"20180618\"\n",
    "#dataset_name = \"20180621\"\n",
    "dataset_name = \"20180626\"\n",
    "#dataset_name = \"20180828\"\n",
    "\n",
    "stim, spike_train, info = pysta.load_data(dataset_name, folder_name)\n",
    "\n",
    "info[\"channel_names\"]\n",
    "\n",
    "dt = 1000/info[\"sampling_rate\"] # in ms"
   ]
  },
  {
   "cell_type": "code",
   "execution_count": 36,
   "metadata": {},
   "outputs": [
    {
     "data": {
      "text/plain": [
       "False"
      ]
     },
     "execution_count": 36,
     "metadata": {},
     "output_type": "execute_result"
    }
   ],
   "source": [
    "info[\"cell_types\"][64] is \"unknown\""
   ]
  },
  {
   "cell_type": "code",
   "execution_count": null,
   "metadata": {
    "pycharm": {
     "name": "#%%\n"
    }
   },
   "outputs": [],
   "source": [
    "info[\"cell_types\"][0] is 'unknown'"
   ]
  },
  {
   "cell_type": "code",
   "execution_count": 37,
   "metadata": {},
   "outputs": [
    {
     "data": {
      "text/plain": [
       "True"
      ]
     },
     "execution_count": 37,
     "metadata": {},
     "output_type": "execute_result"
    }
   ],
   "source": []
  },
  {
   "cell_type": "code",
   "execution_count": null,
   "metadata": {},
   "outputs": [],
   "source": []
  }
 ],
 "metadata": {
  "kernelspec": {
   "display_name": "Python 3",
   "language": "python",
   "name": "python3"
  },
  "language_info": {
   "codemirror_mode": {
    "name": "ipython",
    "version": 3
   },
   "file_extension": ".py",
   "mimetype": "text/x-python",
   "name": "python",
   "nbconvert_exporter": "python",
   "pygments_lexer": "ipython3",
   "version": "3.7.5"
  },
  "pycharm": {
   "stem_cell": {
    "cell_type": "raw",
    "metadata": {
     "collapsed": false
    },
    "source": []
   }
  }
 },
 "nbformat": 4,
 "nbformat_minor": 2
}
