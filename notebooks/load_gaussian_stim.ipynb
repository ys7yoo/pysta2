{
 "cells": [
  {
   "cell_type": "code",
   "execution_count": 28,
   "metadata": {},
   "outputs": [
    {
     "name": "stdout",
     "output_type": "stream",
     "text": [
      "The autoreload extension is already loaded. To reload it, use:\n",
      "  %reload_ext autoreload\n"
     ]
    }
   ],
   "source": [
    "import pandas as pd\n",
    "import numpy as np\n",
    "import matplotlib.pyplot as plt\n",
    "import os\n",
    "\n",
    "# add root path (parent folder) to path\n",
    "import os\n",
    "import sys\n",
    "cwd = os.getcwd()\n",
    "root_path = os.path.abspath(os.path.join(cwd, os.pardir))\n",
    "sys.path.insert(0, root_path)\n",
    "\n",
    "import pysta\n",
    "import stc\n",
    "import stcl\n",
    "%load_ext autoreload\n",
    "%autoreload 2"
   ]
  },
  {
   "cell_type": "code",
   "execution_count": 4,
   "metadata": {},
   "outputs": [],
   "source": [
    "def remove_box():\n",
    "    # remove top & right box\n",
    "    # https://stackoverflow.com/a/28720127\n",
    "    ax=plt.gca()\n",
    "    ax.spines['top'].set_visible(False)\n",
    "    ax.spines['right'].set_visible(False)"
   ]
  },
  {
   "cell_type": "markdown",
   "metadata": {},
   "source": [
    "## load raw data in mat and save to npz\n",
    "\n",
    "Under `data`\n",
    "\n",
    "```\n",
    "ln -s ~/data/gaussian_stim_data_mat .\n",
    "```\n",
    "\n",
    "```\n",
    "ln -s ~/data/gaussian_stim_data .\n",
    "```"
   ]
  },
  {
   "cell_type": "code",
   "execution_count": 7,
   "metadata": {},
   "outputs": [
    {
     "name": "stdout",
     "output_type": "stream",
     "text": [
      "ON         42\n",
      "ON-OFF     34\n",
      "OFF        17\n",
      "Unknown    13\n",
      "Name: cell type, dtype: int64\n"
     ]
    },
    {
     "data": {
      "text/html": [
       "<div>\n",
       "<style scoped>\n",
       "    .dataframe tbody tr th:only-of-type {\n",
       "        vertical-align: middle;\n",
       "    }\n",
       "\n",
       "    .dataframe tbody tr th {\n",
       "        vertical-align: top;\n",
       "    }\n",
       "\n",
       "    .dataframe thead th {\n",
       "        text-align: right;\n",
       "    }\n",
       "</style>\n",
       "<table border=\"1\" class=\"dataframe\">\n",
       "  <thead>\n",
       "    <tr style=\"text-align: right;\">\n",
       "      <th></th>\n",
       "      <th>channel</th>\n",
       "      <th>cell type</th>\n",
       "    </tr>\n",
       "  </thead>\n",
       "  <tbody>\n",
       "    <tr>\n",
       "      <th>0</th>\n",
       "      <td>ch_12a</td>\n",
       "      <td>ON-OFF</td>\n",
       "    </tr>\n",
       "    <tr>\n",
       "      <th>1</th>\n",
       "      <td>ch_13a</td>\n",
       "      <td>ON</td>\n",
       "    </tr>\n",
       "    <tr>\n",
       "      <th>2</th>\n",
       "      <td>ch_13b</td>\n",
       "      <td>ON</td>\n",
       "    </tr>\n",
       "    <tr>\n",
       "      <th>3</th>\n",
       "      <td>ch_14a</td>\n",
       "      <td>ON</td>\n",
       "    </tr>\n",
       "    <tr>\n",
       "      <th>4</th>\n",
       "      <td>ch_14b</td>\n",
       "      <td>ON-OFF</td>\n",
       "    </tr>\n",
       "    <tr>\n",
       "      <th>...</th>\n",
       "      <td>...</td>\n",
       "      <td>...</td>\n",
       "    </tr>\n",
       "    <tr>\n",
       "      <th>101</th>\n",
       "      <td>ch_86a</td>\n",
       "      <td>OFF</td>\n",
       "    </tr>\n",
       "    <tr>\n",
       "      <th>102</th>\n",
       "      <td>ch_86b</td>\n",
       "      <td>OFF</td>\n",
       "    </tr>\n",
       "    <tr>\n",
       "      <th>103</th>\n",
       "      <td>ch_87a</td>\n",
       "      <td>ON-OFF</td>\n",
       "    </tr>\n",
       "    <tr>\n",
       "      <th>104</th>\n",
       "      <td>ch_87b</td>\n",
       "      <td>ON-OFF</td>\n",
       "    </tr>\n",
       "    <tr>\n",
       "      <th>105</th>\n",
       "      <td>ch_87c</td>\n",
       "      <td>ON</td>\n",
       "    </tr>\n",
       "  </tbody>\n",
       "</table>\n",
       "<p>106 rows × 2 columns</p>\n",
       "</div>"
      ],
      "text/plain": [
       "    channel cell type\n",
       "0    ch_12a    ON-OFF\n",
       "1    ch_13a        ON\n",
       "2    ch_13b        ON\n",
       "3    ch_14a        ON\n",
       "4    ch_14b    ON-OFF\n",
       "..      ...       ...\n",
       "101  ch_86a       OFF\n",
       "102  ch_86b       OFF\n",
       "103  ch_87a    ON-OFF\n",
       "104  ch_87b    ON-OFF\n",
       "105  ch_87c        ON\n",
       "\n",
       "[106 rows x 2 columns]"
      ]
     },
     "execution_count": 7,
     "metadata": {},
     "output_type": "execute_result"
    }
   ],
   "source": [
    "# load cell type info\n",
    "mat_data_path = os.path.join(root_path,'data/gaussian_stim_data_mat')\n",
    "cell_types = pd.read_csv(os.path.join(mat_data_path, 'cell_type.csv'))\n",
    "# cell_types['cell type'].replace('-','Unknown', inplace=True)\n",
    "print(cell_types['cell type'].value_counts())\n",
    "\n",
    "cell_types\n",
    "# cell_types.to_csv(os.path.join(data_path, 'cell_type.csv'), index=None)\n",
    "# cell_types.drop(columns='Unnamed: 0').to_csv(os.path.join(data_path, 'cell_type.csv'), index=None)"
   ]
  },
  {
   "cell_type": "code",
   "execution_count": 8,
   "metadata": {},
   "outputs": [
    {
     "name": "stderr",
     "output_type": "stream",
     "text": [
      "\r",
      "  0%|          | 0/106 [00:00<?, ?it/s]"
     ]
    },
    {
     "name": "stdout",
     "output_type": "stream",
     "text": [
      "/Users/yyoo/src/pysta2/data/gaussian_stim_data_mat/Stimulus/StimInfo_8pix_200um_Gaussian_10Hz_15min_contrast50\n",
      "/Users/yyoo/src/pysta2/data/gaussian_stim_data_mat/Spike_Timestamp/Contrast_50/A1a.mat\n"
     ]
    },
    {
     "name": "stderr",
     "output_type": "stream",
     "text": [
      " 23%|██▎       | 24/106 [00:13<00:54,  1.51it/s]"
     ]
    },
    {
     "ename": "KeyboardInterrupt",
     "evalue": "",
     "output_type": "error",
     "traceback": [
      "\u001b[0;31m---------------------------------------------------------------------------\u001b[0m",
      "\u001b[0;31mKeyboardInterrupt\u001b[0m                         Traceback (most recent call last)",
      "\u001b[0;32m<ipython-input-8-51d2845d0111>\u001b[0m in \u001b[0;36m<module>\u001b[0;34m\u001b[0m\n\u001b[1;32m      8\u001b[0m \u001b[0mplt\u001b[0m\u001b[0;34m.\u001b[0m\u001b[0mfigure\u001b[0m\u001b[0;34m(\u001b[0m\u001b[0mfigsize\u001b[0m\u001b[0;34m=\u001b[0m\u001b[0;34m(\u001b[0m\u001b[0;36m13\u001b[0m\u001b[0;34m,\u001b[0m\u001b[0;36m4\u001b[0m\u001b[0;34m)\u001b[0m\u001b[0;34m)\u001b[0m\u001b[0;34m\u001b[0m\u001b[0;34m\u001b[0m\u001b[0m\n\u001b[1;32m      9\u001b[0m \u001b[0;32mfor\u001b[0m \u001b[0mi\u001b[0m\u001b[0;34m,\u001b[0m \u001b[0mcontrast\u001b[0m \u001b[0;32min\u001b[0m \u001b[0menumerate\u001b[0m\u001b[0;34m(\u001b[0m\u001b[0;34m[\u001b[0m\u001b[0;36m50\u001b[0m\u001b[0;34m,\u001b[0m \u001b[0;36m80\u001b[0m\u001b[0;34m,\u001b[0m \u001b[0;36m100\u001b[0m\u001b[0;34m]\u001b[0m\u001b[0;34m)\u001b[0m\u001b[0;34m:\u001b[0m\u001b[0;34m\u001b[0m\u001b[0;34m\u001b[0m\u001b[0m\n\u001b[0;32m---> 10\u001b[0;31m     \u001b[0mstim\u001b[0m\u001b[0;34m,\u001b[0m \u001b[0mspike_counts\u001b[0m\u001b[0;34m,\u001b[0m \u001b[0mcell_types\u001b[0m \u001b[0;34m=\u001b[0m \u001b[0mpysta\u001b[0m\u001b[0;34m.\u001b[0m\u001b[0mload_gaussian_stim_data_mat\u001b[0m\u001b[0;34m(\u001b[0m\u001b[0mdata_path\u001b[0m\u001b[0;34m,\u001b[0m \u001b[0;34m'Gaussian'\u001b[0m\u001b[0;34m,\u001b[0m \u001b[0mcontrast\u001b[0m\u001b[0;34m)\u001b[0m\u001b[0;34m\u001b[0m\u001b[0;34m\u001b[0m\u001b[0m\n\u001b[0m\u001b[1;32m     11\u001b[0m \u001b[0;34m\u001b[0m\u001b[0m\n\u001b[1;32m     12\u001b[0m     \u001b[0mprint\u001b[0m\u001b[0;34m(\u001b[0m\u001b[0mstim\u001b[0m\u001b[0;34m.\u001b[0m\u001b[0mshape\u001b[0m\u001b[0;34m,\u001b[0m \u001b[0mspike_counts\u001b[0m\u001b[0;34m.\u001b[0m\u001b[0mshape\u001b[0m\u001b[0;34m)\u001b[0m\u001b[0;34m\u001b[0m\u001b[0;34m\u001b[0m\u001b[0m\n",
      "\u001b[0;32m~/src/pysta2/pysta.py\u001b[0m in \u001b[0;36mload_gaussian_stim_data_mat\u001b[0;34m(data_path, stim_type, contrast)\u001b[0m\n\u001b[1;32m    136\u001b[0m \u001b[0;34m\u001b[0m\u001b[0m\n\u001b[1;32m    137\u001b[0m         \u001b[0;31m# count spikes\u001b[0m\u001b[0;34m\u001b[0m\u001b[0;34m\u001b[0m\u001b[0;34m\u001b[0m\u001b[0m\n\u001b[0;32m--> 138\u001b[0;31m         \u001b[0mspike_counts\u001b[0m\u001b[0;34m.\u001b[0m\u001b[0mappend\u001b[0m\u001b[0;34m(\u001b[0m\u001b[0mcount_spikes\u001b[0m\u001b[0;34m(\u001b[0m\u001b[0mspike_time\u001b[0m\u001b[0;34m,\u001b[0m \u001b[0mts\u001b[0m\u001b[0;34m)\u001b[0m\u001b[0;34m)\u001b[0m\u001b[0;34m\u001b[0m\u001b[0;34m\u001b[0m\u001b[0m\n\u001b[0m\u001b[1;32m    139\u001b[0m \u001b[0;34m\u001b[0m\u001b[0m\n\u001b[1;32m    140\u001b[0m     \u001b[0mspike_counts\u001b[0m \u001b[0;34m=\u001b[0m \u001b[0mnp\u001b[0m\u001b[0;34m.\u001b[0m\u001b[0marray\u001b[0m\u001b[0;34m(\u001b[0m\u001b[0mspike_counts\u001b[0m\u001b[0;34m)\u001b[0m\u001b[0;34m\u001b[0m\u001b[0;34m\u001b[0m\u001b[0m\n",
      "\u001b[0;32m~/src/pysta2/pysta.py\u001b[0m in \u001b[0;36mcount_spikes\u001b[0;34m(spike_times, bins, timestamp_start)\u001b[0m\n\u001b[1;32m     91\u001b[0m             \u001b[0;32mcontinue\u001b[0m\u001b[0;34m\u001b[0m\u001b[0;34m\u001b[0m\u001b[0m\n\u001b[1;32m     92\u001b[0m \u001b[0;34m\u001b[0m\u001b[0m\n\u001b[0;32m---> 93\u001b[0;31m         \u001b[0mspike_count\u001b[0m\u001b[0;34m[\u001b[0m\u001b[0mi\u001b[0m\u001b[0;34m]\u001b[0m \u001b[0;34m=\u001b[0m \u001b[0mnp\u001b[0m\u001b[0;34m.\u001b[0m\u001b[0msum\u001b[0m\u001b[0;34m(\u001b[0m\u001b[0mnp\u001b[0m\u001b[0;34m.\u001b[0m\u001b[0mlogical_and\u001b[0m\u001b[0;34m(\u001b[0m\u001b[0mspike_times\u001b[0m \u001b[0;34m>=\u001b[0m \u001b[0mtimestamp_start\u001b[0m \u001b[0;34m+\u001b[0m \u001b[0mbins\u001b[0m\u001b[0;34m[\u001b[0m\u001b[0mi\u001b[0m\u001b[0;34m-\u001b[0m\u001b[0;36m1\u001b[0m\u001b[0;34m]\u001b[0m\u001b[0;34m,\u001b[0m \u001b[0mspike_times\u001b[0m \u001b[0;34m<\u001b[0m \u001b[0mtimestamp_start\u001b[0m \u001b[0;34m+\u001b[0m \u001b[0mbins\u001b[0m\u001b[0;34m[\u001b[0m\u001b[0mi\u001b[0m\u001b[0;34m]\u001b[0m\u001b[0;34m)\u001b[0m\u001b[0;34m)\u001b[0m\u001b[0;34m\u001b[0m\u001b[0;34m\u001b[0m\u001b[0m\n\u001b[0m\u001b[1;32m     94\u001b[0m     \u001b[0;32mreturn\u001b[0m \u001b[0mspike_count\u001b[0m\u001b[0;34m\u001b[0m\u001b[0;34m\u001b[0m\u001b[0m\n\u001b[1;32m     95\u001b[0m \u001b[0;34m\u001b[0m\u001b[0m\n",
      "\u001b[0;32m<__array_function__ internals>\u001b[0m in \u001b[0;36msum\u001b[0;34m(*args, **kwargs)\u001b[0m\n",
      "\u001b[0;32m~/opt/anaconda3/lib/python3.7/site-packages/numpy/core/fromnumeric.py\u001b[0m in \u001b[0;36msum\u001b[0;34m(a, axis, dtype, out, keepdims, initial, where)\u001b[0m\n\u001b[1;32m   2227\u001b[0m \u001b[0;34m\u001b[0m\u001b[0m\n\u001b[1;32m   2228\u001b[0m     return _wrapreduction(a, np.add, 'sum', axis, dtype, out, keepdims=keepdims,\n\u001b[0;32m-> 2229\u001b[0;31m                           initial=initial, where=where)\n\u001b[0m\u001b[1;32m   2230\u001b[0m \u001b[0;34m\u001b[0m\u001b[0m\n\u001b[1;32m   2231\u001b[0m \u001b[0;34m\u001b[0m\u001b[0m\n",
      "\u001b[0;32m~/opt/anaconda3/lib/python3.7/site-packages/numpy/core/fromnumeric.py\u001b[0m in \u001b[0;36m_wrapreduction\u001b[0;34m(obj, ufunc, method, axis, dtype, out, **kwargs)\u001b[0m\n\u001b[1;32m     88\u001b[0m                 \u001b[0;32mreturn\u001b[0m \u001b[0mreduction\u001b[0m\u001b[0;34m(\u001b[0m\u001b[0maxis\u001b[0m\u001b[0;34m=\u001b[0m\u001b[0maxis\u001b[0m\u001b[0;34m,\u001b[0m \u001b[0mout\u001b[0m\u001b[0;34m=\u001b[0m\u001b[0mout\u001b[0m\u001b[0;34m,\u001b[0m \u001b[0;34m**\u001b[0m\u001b[0mpasskwargs\u001b[0m\u001b[0;34m)\u001b[0m\u001b[0;34m\u001b[0m\u001b[0;34m\u001b[0m\u001b[0m\n\u001b[1;32m     89\u001b[0m \u001b[0;34m\u001b[0m\u001b[0m\n\u001b[0;32m---> 90\u001b[0;31m     \u001b[0;32mreturn\u001b[0m \u001b[0mufunc\u001b[0m\u001b[0;34m.\u001b[0m\u001b[0mreduce\u001b[0m\u001b[0;34m(\u001b[0m\u001b[0mobj\u001b[0m\u001b[0;34m,\u001b[0m \u001b[0maxis\u001b[0m\u001b[0;34m,\u001b[0m \u001b[0mdtype\u001b[0m\u001b[0;34m,\u001b[0m \u001b[0mout\u001b[0m\u001b[0;34m,\u001b[0m \u001b[0;34m**\u001b[0m\u001b[0mpasskwargs\u001b[0m\u001b[0;34m)\u001b[0m\u001b[0;34m\u001b[0m\u001b[0;34m\u001b[0m\u001b[0m\n\u001b[0m\u001b[1;32m     91\u001b[0m \u001b[0;34m\u001b[0m\u001b[0m\n\u001b[1;32m     92\u001b[0m \u001b[0;34m\u001b[0m\u001b[0m\n",
      "\u001b[0;31mKeyboardInterrupt\u001b[0m: "
     ]
    },
    {
     "data": {
      "text/plain": [
       "<Figure size 936x288 with 0 Axes>"
      ]
     },
     "metadata": {},
     "output_type": "display_data"
    }
   ],
   "source": [
    "# load all data for a given contrast level\n",
    "\n",
    "\n",
    "# contrast = 50\n",
    "# contrast = 80\n",
    "# contrast = 100\n",
    "\n",
    "plt.figure(figsize=(13,4))\n",
    "for i, contrast in enumerate([50, 80, 100]):\n",
    "    stim, spike_counts, cell_types = pysta.load_gaussian_stim_data_mat(data_path, 'Gaussian', contrast)\n",
    "\n",
    "    print(stim.shape, spike_counts.shape)\n",
    "    \n",
    "    # plot stim\n",
    "#     plt.figure()\n",
    "#     plt.imshow(stim[0,:].reshape(8,8), cmap='gray')\n",
    "#     plt.figure()\n",
    "#     plt.imshow(stim[1,:].reshape(8,8), cmap='gray')\n",
    "#     plt.figure()\n",
    "#     plt.imshow(stim[2,:].reshape(8,8), cmap='gray')\n",
    "\n",
    "    \n",
    "    \n",
    "    sig = np.std(stim)\n",
    "    print('std=', sig)\n",
    "\n",
    "    plt.subplot(1,3,i+1)\n",
    "    plt.hist(stim.ravel())\n",
    "    plt.title('contrast={}, $\\sigma$={:.2f}'.format(contrast, sig))\n",
    "    plt.xlabel('stim')\n",
    "    plt.ylabel('count')\n",
    "    remove_box()\n",
    "    \n",
    "    # save to numpy\n",
    "    filename = os.path.join('data/gaussian_stim_data/contrast{}'.format(contrast))\n",
    "    np.savez_compressed(filename, stim=stim,  spike_counts=spike_counts)\n",
    "\n",
    "    # filename = 'fullfield_data/contrast{}.csv'.format(contrast)\n",
    "    # info.to_csv(filename, index=None)\n",
    "\n",
    "plt.savefig('stim_info.png')\n",
    "plt.savefig('stim_info.pdf')"
   ]
  },
  {
   "cell_type": "code",
   "execution_count": 9,
   "metadata": {},
   "outputs": [
    {
     "data": {
      "text/plain": [
       "Text(0.5, 1.0, '')"
      ]
     },
     "execution_count": 9,
     "metadata": {},
     "output_type": "execute_result"
    },
    {
     "data": {
      "image/png": "[encoded data removed]",
      "text/plain": [
       "<Figure size 432x288 with 1 Axes>"
      ]
     },
     "metadata": {
      "needs_background": "light"
     },
     "output_type": "display_data"
    }
   ],
   "source": [
    "plt.hist(stim.ravel())\n",
    "plt.title('')"
   ]
  },
  {
   "cell_type": "code",
   "execution_count": 10,
   "metadata": {},
   "outputs": [
    {
     "data": {
      "text/plain": [
       "<matplotlib.image.AxesImage at 0x7ffeddf79790>"
      ]
     },
     "execution_count": 10,
     "metadata": {},
     "output_type": "execute_result"
    },
    {
     "data": {
      "image/png": "[encoded data removed]",
      "text/plain": [
       "<Figure size 936x288 with 3 Axes>"
      ]
     },
     "metadata": {
      "needs_background": "light"
     },
     "output_type": "display_data"
    }
   ],
   "source": [
    "plt.figure(figsize=(13,4))\n",
    "plt.subplot(131)\n",
    "plt.imshow(stim[0,:].reshape(8,8), cmap='gray', vmin=0, vmax=1)\n",
    "plt.subplot(132)\n",
    "plt.imshow(stim[1,:].reshape(8,8), cmap='gray', vmin=0, vmax=1)\n",
    "plt.subplot(133)\n",
    "plt.imshow(stim[2,:].reshape(8,8), cmap='gray', vmin=0, vmax=1)\n",
    "\n"
   ]
  },
  {
   "cell_type": "code",
   "execution_count": null,
   "metadata": {},
   "outputs": [],
   "source": []
  },
  {
   "cell_type": "code",
   "execution_count": null,
   "metadata": {},
   "outputs": [],
   "source": []
  },
  {
   "cell_type": "markdown",
   "metadata": {},
   "source": [
    "## load saved data"
   ]
  },
  {
   "cell_type": "code",
   "execution_count": 10,
   "metadata": {},
   "outputs": [
    {
     "name": "stdout",
     "output_type": "stream",
     "text": [
      "(9000, 64) (106, 9000)\n"
     ]
    }
   ],
   "source": [
    "\n",
    "# contrast = 50\n",
    "contrast = 80\n",
    "# contrast = 100\n",
    "\n",
    "data_path = os.path.join(root_path,'data/gaussian_stim_data')\n",
    "data = np.load(os.path.join(data_path,'contrast{}.npz'.format(contrast)))\n",
    "\n",
    "stim = data['stim']\n",
    "spike_counts = data['spike_counts']\n",
    "\n",
    "print(stim.shape, spike_counts.shape)\n",
    "\n",
    "# info = pd.read_csv('fullfield_data/contrast{}.csv'.format(contrast))\n",
    "# info"
   ]
  },
  {
   "cell_type": "code",
   "execution_count": 11,
   "metadata": {},
   "outputs": [],
   "source": [
    "# calc STA\n",
    "tap = 10\n",
    "stas = list()\n",
    "sta_min = list()\n",
    "sta_max = list()\n",
    "sta_std = list()\n",
    "num_spikes = list()\n",
    "\n",
    "for i in range(spike_counts.shape[0]):\n",
    "    spike_triggered_stim, spike_count = pysta.grab_spike_triggered_stim(stim.T, spike_counts[i,:], tap=tap)\n",
    "    sta = np.average(np.array(spike_triggered_stim), weights=spike_count, axis=0)\n",
    "#     plt.plot(sta.T)\n",
    "    \n",
    "    num_spikes.append(np.sum(spike_count))\n",
    "    sta_max.append(np.max(sta))\n",
    "    sta_min.append(np.min(sta))\n",
    "    sta_std.append(np.std(sta))    \n",
    "\n",
    "    stas.append(sta)"
   ]
  },
  {
   "cell_type": "code",
   "execution_count": 12,
   "metadata": {},
   "outputs": [
    {
     "data": {
      "text/plain": [
       "((2792, 64, 10), (2792,))"
      ]
     },
     "execution_count": 12,
     "metadata": {},
     "output_type": "execute_result"
    }
   ],
   "source": [
    "spike_triggered_stim.shape, spike_count.shape"
   ]
  },
  {
   "cell_type": "code",
   "execution_count": 15,
   "metadata": {},
   "outputs": [],
   "source": [
    "sta_info = cell_types\n",
    "sta_info['number of spikes'] = num_spikes    \n",
    "sta_info['sta std'] = sta_std\n",
    "sta_info['sta max'] = sta_max\n",
    "sta_info['sta min'] = sta_min\n",
    "\n",
    "# info\n",
    "sta_info.to_csv(os.path.join(np_data_path,'contrast{}_sta.csv'.format(contrast)), index=None)"
   ]
  },
  {
   "cell_type": "code",
   "execution_count": 16,
   "metadata": {},
   "outputs": [
    {
     "data": {
      "text/plain": [
       "Text(0, 0.5, 'STA std')"
      ]
     },
     "execution_count": 16,
     "metadata": {},
     "output_type": "execute_result"
    },
    {
     "data": {
      "image/png": "[encoded data removed]",
      "text/plain": [
       "<Figure size 432x288 with 1 Axes>"
      ]
     },
     "metadata": {
      "needs_background": "light"
     },
     "output_type": "display_data"
    }
   ],
   "source": [
    "plt.plot(sta_info['number of spikes'], sta_info['sta std'], 'o')\n",
    "plt.xlabel('number of spikes')\n",
    "plt.ylabel('STA std')"
   ]
  },
  {
   "cell_type": "code",
   "execution_count": 17,
   "metadata": {},
   "outputs": [
    {
     "data": {
      "text/plain": [
       "Text(0, 0.5, 'peak-to-peak')"
      ]
     },
     "execution_count": 17,
     "metadata": {},
     "output_type": "execute_result"
    },
    {
     "data": {
      "image/png": "[encoded data removed]",
      "text/plain": [
       "<Figure size 432x288 with 1 Axes>"
      ]
     },
     "metadata": {
      "needs_background": "light"
     },
     "output_type": "display_data"
    }
   ],
   "source": [
    "plt.plot(sta_info['number of spikes'], sta_info['sta max'] - sta_info['sta min'], 'o')\n",
    "plt.xlabel('number of spikes')\n",
    "plt.ylabel('peak-to-peak')"
   ]
  },
  {
   "cell_type": "code",
   "execution_count": 18,
   "metadata": {},
   "outputs": [
    {
     "data": {
      "text/plain": [
       "80"
      ]
     },
     "execution_count": 18,
     "metadata": {},
     "output_type": "execute_result"
    }
   ],
   "source": [
    "contrast"
   ]
  },
  {
   "cell_type": "markdown",
   "metadata": {},
   "source": [
    "## plot some STAs"
   ]
  },
  {
   "cell_type": "code",
   "execution_count": 19,
   "metadata": {},
   "outputs": [
    {
     "data": {
      "text/html": [
       "<div>\n",
       "<style scoped>\n",
       "    .dataframe tbody tr th:only-of-type {\n",
       "        vertical-align: middle;\n",
       "    }\n",
       "\n",
       "    .dataframe tbody tr th {\n",
       "        vertical-align: top;\n",
       "    }\n",
       "\n",
       "    .dataframe thead th {\n",
       "        text-align: right;\n",
       "    }\n",
       "</style>\n",
       "<table border=\"1\" class=\"dataframe\">\n",
       "  <thead>\n",
       "    <tr style=\"text-align: right;\">\n",
       "      <th></th>\n",
       "      <th>channel</th>\n",
       "      <th>cell type</th>\n",
       "      <th>number of spikes</th>\n",
       "      <th>sta std</th>\n",
       "      <th>sta max</th>\n",
       "      <th>sta min</th>\n",
       "      <th>sta peak difference</th>\n",
       "    </tr>\n",
       "  </thead>\n",
       "  <tbody>\n",
       "    <tr>\n",
       "      <th>70</th>\n",
       "      <td>ch_51a</td>\n",
       "      <td>Unknown</td>\n",
       "      <td>1397</td>\n",
       "      <td>0.017934</td>\n",
       "      <td>0.848836</td>\n",
       "      <td>0.414161</td>\n",
       "      <td>0.434676</td>\n",
       "    </tr>\n",
       "    <tr>\n",
       "      <th>52</th>\n",
       "      <td>ch_41b</td>\n",
       "      <td>ON</td>\n",
       "      <td>1887</td>\n",
       "      <td>0.017451</td>\n",
       "      <td>0.827700</td>\n",
       "      <td>0.461734</td>\n",
       "      <td>0.365966</td>\n",
       "    </tr>\n",
       "    <tr>\n",
       "      <th>68</th>\n",
       "      <td>ch_48d</td>\n",
       "      <td>ON</td>\n",
       "      <td>4152</td>\n",
       "      <td>0.013960</td>\n",
       "      <td>0.777201</td>\n",
       "      <td>0.440824</td>\n",
       "      <td>0.336378</td>\n",
       "    </tr>\n",
       "    <tr>\n",
       "      <th>87</th>\n",
       "      <td>ch_71b</td>\n",
       "      <td>OFF</td>\n",
       "      <td>2130</td>\n",
       "      <td>0.016150</td>\n",
       "      <td>0.730430</td>\n",
       "      <td>0.398501</td>\n",
       "      <td>0.331928</td>\n",
       "    </tr>\n",
       "    <tr>\n",
       "      <th>51</th>\n",
       "      <td>ch_41a</td>\n",
       "      <td>ON</td>\n",
       "      <td>6283</td>\n",
       "      <td>0.013079</td>\n",
       "      <td>0.724389</td>\n",
       "      <td>0.398520</td>\n",
       "      <td>0.325869</td>\n",
       "    </tr>\n",
       "  </tbody>\n",
       "</table>\n",
       "</div>"
      ],
      "text/plain": [
       "   channel cell type  number of spikes   sta std   sta max   sta min  \\\n",
       "70  ch_51a   Unknown              1397  0.017934  0.848836  0.414161   \n",
       "52  ch_41b        ON              1887  0.017451  0.827700  0.461734   \n",
       "68  ch_48d        ON              4152  0.013960  0.777201  0.440824   \n",
       "87  ch_71b       OFF              2130  0.016150  0.730430  0.398501   \n",
       "51  ch_41a        ON              6283  0.013079  0.724389  0.398520   \n",
       "\n",
       "    sta peak difference  \n",
       "70             0.434676  \n",
       "52             0.365966  \n",
       "68             0.336378  \n",
       "87             0.331928  \n",
       "51             0.325869  "
      ]
     },
     "execution_count": 19,
     "metadata": {},
     "output_type": "execute_result"
    }
   ],
   "source": [
    "sta_info['sta peak difference'] = sta_info['sta max'] - sta_info['sta min']\n",
    "\n",
    "sta_info.sort_values(by='sta peak difference', ascending=False).head()"
   ]
  },
  {
   "cell_type": "code",
   "execution_count": 20,
   "metadata": {},
   "outputs": [
    {
     "data": {
      "text/plain": [
       "channel                   ch_41b\n",
       "cell type                     ON\n",
       "number of spikes            1887\n",
       "sta std                0.0174511\n",
       "sta max                   0.8277\n",
       "sta min                 0.461734\n",
       "sta peak difference     0.365966\n",
       "Name: 52, dtype: object"
      ]
     },
     "execution_count": 20,
     "metadata": {},
     "output_type": "execute_result"
    },
    {
     "data": {
      "image/png": "[encoded data removed]",
      "text/plain": [
       "<Figure size 432x288 with 1 Axes>"
      ]
     },
     "metadata": {
      "needs_background": "light"
     },
     "output_type": "display_data"
    }
   ],
   "source": [
    "# ch_idx = 13\n",
    "# ch_idx = 14\n",
    "# ch_idx = 32\n",
    "ch_idx = 52\n",
    "\n",
    "sta = stas[ch_idx]\n",
    "\n",
    "plt.plot(sta.T)\n",
    "plt.title('contrast={}, {}, {}'.format(contrast, sta_info.iloc[ch_idx]['channel'], sta_info.iloc[ch_idx]['cell type']))\n",
    "sta_info.iloc[ch_idx]"
   ]
  },
  {
   "cell_type": "code",
   "execution_count": 21,
   "metadata": {},
   "outputs": [
    {
     "data": {
      "text/plain": [
       "[<matplotlib.axes._subplots.AxesSubplot at 0x7fc0a9ffb850>,\n",
       " <matplotlib.axes._subplots.AxesSubplot at 0x7fc0e1331d50>,\n",
       " <matplotlib.axes._subplots.AxesSubplot at 0x7fc0aa05be50>,\n",
       " <matplotlib.axes._subplots.AxesSubplot at 0x7fc0aa1899d0>,\n",
       " <matplotlib.axes._subplots.AxesSubplot at 0x7fc0aa1c7550>,\n",
       " <matplotlib.axes._subplots.AxesSubplot at 0x7fc0aa208cd0>,\n",
       " <matplotlib.axes._subplots.AxesSubplot at 0x7fc0aa23dc50>,\n",
       " <matplotlib.axes._subplots.AxesSubplot at 0x7fc0aa27f7d0>,\n",
       " <matplotlib.axes._subplots.AxesSubplot at 0x7fc0aa289310>,\n",
       " <matplotlib.axes._subplots.AxesSubplot at 0x7fc0aa2080d0>]"
      ]
     },
     "execution_count": 21,
     "metadata": {},
     "output_type": "execute_result"
    },
    {
     "data": {
      "image/png": "[encoded data removed]",
      "text/plain": [
       "<Figure size 576x288 with 10 Axes>"
      ]
     },
     "metadata": {
      "needs_background": "light"
     },
     "output_type": "display_data"
    }
   ],
   "source": [
    "pysta.plot_stim_slices(sta)"
   ]
  },
  {
   "cell_type": "code",
   "execution_count": null,
   "metadata": {},
   "outputs": [],
   "source": []
  },
  {
   "cell_type": "code",
   "execution_count": null,
   "metadata": {},
   "outputs": [],
   "source": []
  },
  {
   "cell_type": "code",
   "execution_count": null,
   "metadata": {},
   "outputs": [],
   "source": []
  },
  {
   "cell_type": "code",
   "execution_count": null,
   "metadata": {},
   "outputs": [],
   "source": []
  },
  {
   "cell_type": "code",
   "execution_count": null,
   "metadata": {},
   "outputs": [],
   "source": []
  },
  {
   "cell_type": "code",
   "execution_count": 22,
   "metadata": {},
   "outputs": [],
   "source": [
    "def grab_spike_triggered_stim(stim, spike, tap):\n",
    "\n",
    "    num_time_bin = stim.shape[1]\n",
    "    assert(stim.shape[1] == spike.shape[0])\n",
    "    \n",
    "    spike_trigered_stim = list()\n",
    "    spike_count = list()\n",
    "    for t in range(num_time_bin):\n",
    "        if t<tap:\n",
    "            continue\n",
    "        sp = spike[t]\n",
    "        if sp > 0:\n",
    "            #print(t, sp)\n",
    "            \n",
    "            spike_trigered_stim.append(np.array(stim[:,t-tap+1:t+1]))\n",
    "            spike_count.append(sp)\n",
    "            \n",
    "            # spike\n",
    "    \n",
    "    return np.array(spike_trigered_stim), np.array(spike_count).astype(int)"
   ]
  },
  {
   "cell_type": "code",
   "execution_count": 23,
   "metadata": {},
   "outputs": [],
   "source": [
    "tap=8"
   ]
  },
  {
   "cell_type": "code",
   "execution_count": 24,
   "metadata": {},
   "outputs": [
    {
     "data": {
      "image/png": "[encoded data removed]",
      "text/plain": [
       "<Figure size 432x288 with 1 Axes>"
      ]
     },
     "metadata": {
      "needs_background": "light"
     },
     "output_type": "display_data"
    }
   ],
   "source": [
    "dt = 0.1\n",
    "xt = np.array(range(tap))*dt\n",
    "\n",
    "# for ON cells\n",
    "info_on = sta_info[sta_info['cell type'] == 'ON']\n",
    "idx_on = info_on.index\n",
    "# on_spike_counts = spike_counts[idx_on,:]\n",
    "# on_spike_counts.shape\n",
    "for i in idx_on:\n",
    "    spike_triggered_stim, spike_count = grab_spike_triggered_stim(stim.T, spike_counts[i,:], tap=tap)\n",
    "    sta = np.average(np.array(spike_triggered_stim), weights=spike_count, axis=0)\n",
    "    plt.plot(xt, sta.T)\n",
    "    plt.xticks(xt, labels=['{:.1f}'.format(-x) for x in xt[::-1]])\n",
    "# len(spike_triggered_stim)\n",
    "# plt.hist(spike_count)\n",
    "\n",
    "# plt.legend(info_on['channel name'], loc='upper left')\n",
    "# plt.ylim((0.45,0.55))\n",
    "remove_box()"
   ]
  },
  {
   "cell_type": "code",
   "execution_count": 25,
   "metadata": {},
   "outputs": [
    {
     "data": {
      "text/plain": [
       "[<matplotlib.axes._subplots.AxesSubplot at 0x7fc0aec82090>,\n",
       " <matplotlib.axes._subplots.AxesSubplot at 0x7fc0aada2750>,\n",
       " <matplotlib.axes._subplots.AxesSubplot at 0x7fc0aad66d90>,\n",
       " <matplotlib.axes._subplots.AxesSubplot at 0x7fc0ae2a5dd0>,\n",
       " <matplotlib.axes._subplots.AxesSubplot at 0x7fc0ae2e8950>,\n",
       " <matplotlib.axes._subplots.AxesSubplot at 0x7fc0aaca3fd0>,\n",
       " <matplotlib.axes._subplots.AxesSubplot at 0x7fc0aace0090>,\n",
       " <matplotlib.axes._subplots.AxesSubplot at 0x7fc0a8f91bd0>]"
      ]
     },
     "execution_count": 25,
     "metadata": {},
     "output_type": "execute_result"
    },
    {
     "data": {
      "image/png": "[encoded data removed]",
      "text/plain": [
       "<Figure size 576x288 with 8 Axes>"
      ]
     },
     "metadata": {
      "needs_background": "light"
     },
     "output_type": "display_data"
    }
   ],
   "source": [
    "pysta.plot_stim_slices(sta)"
   ]
  },
  {
   "cell_type": "code",
   "execution_count": null,
   "metadata": {},
   "outputs": [],
   "source": []
  },
  {
   "cell_type": "code",
   "execution_count": null,
   "metadata": {},
   "outputs": [],
   "source": []
  },
  {
   "cell_type": "code",
   "execution_count": null,
   "metadata": {},
   "outputs": [],
   "source": []
  },
  {
   "cell_type": "code",
   "execution_count": 26,
   "metadata": {},
   "outputs": [],
   "source": [
    "def calc_and_plot_sta(stim, spike_counts, tap, dt=0.2, labels=None):\n",
    "    xt = np.array(range(tap))*dt\n",
    "    \n",
    "    for i in range(spike_counts.shape[0]):\n",
    "        spike_triggered_stim, spike_count = grab_spike_triggered_stim(stim, spike_counts[i,:], tap=tap)\n",
    "        sta = np.average(np.array(spike_triggered_stim), weights=spike_count, axis=0)\n",
    "        plt.plot(xt, sta.T)\n",
    "        plt.xticks(xt, labels=['{:.1f}'.format(-x) for x in xt[::-1]])\n",
    "\n",
    "    plt.xlabel('time to spike')\n",
    "    plt.ylabel('STA')\n",
    "    \n",
    "    if labels is not None:\n",
    "        if len(labels)<10:\n",
    "            plt.legend(labels, loc='upper left')\n",
    "            \n",
    "\n",
    "    remove_box()"
   ]
  },
  {
   "cell_type": "code",
   "execution_count": 27,
   "metadata": {},
   "outputs": [
    {
     "ename": "NameError",
     "evalue": "name 'info' is not defined",
     "output_type": "error",
     "traceback": [
      "\u001b[0;31m---------------------------------------------------------------------------\u001b[0m",
      "\u001b[0;31mNameError\u001b[0m                                 Traceback (most recent call last)",
      "\u001b[0;32m<ipython-input-27-97b7220f6eff>\u001b[0m in \u001b[0;36m<module>\u001b[0;34m\u001b[0m\n\u001b[1;32m      2\u001b[0m \u001b[0;34m\u001b[0m\u001b[0m\n\u001b[1;32m      3\u001b[0m \u001b[0;31m# STA for ON cells\u001b[0m\u001b[0;34m\u001b[0m\u001b[0;34m\u001b[0m\u001b[0;34m\u001b[0m\u001b[0m\n\u001b[0;32m----> 4\u001b[0;31m \u001b[0minfo_on\u001b[0m \u001b[0;34m=\u001b[0m \u001b[0minfo\u001b[0m\u001b[0;34m[\u001b[0m\u001b[0minfo\u001b[0m\u001b[0;34m[\u001b[0m\u001b[0;34m'cell_type'\u001b[0m\u001b[0;34m]\u001b[0m \u001b[0;34m==\u001b[0m \u001b[0;34m'ON'\u001b[0m\u001b[0;34m]\u001b[0m\u001b[0;34m\u001b[0m\u001b[0;34m\u001b[0m\u001b[0m\n\u001b[0m\u001b[1;32m      5\u001b[0m \u001b[0mspike_counts_on\u001b[0m \u001b[0;34m=\u001b[0m \u001b[0mspike_counts\u001b[0m\u001b[0;34m[\u001b[0m\u001b[0minfo_on\u001b[0m\u001b[0;34m.\u001b[0m\u001b[0mindex\u001b[0m\u001b[0;34m,\u001b[0m\u001b[0;34m:\u001b[0m\u001b[0;34m]\u001b[0m\u001b[0;34m\u001b[0m\u001b[0;34m\u001b[0m\u001b[0m\n\u001b[1;32m      6\u001b[0m \u001b[0;34m\u001b[0m\u001b[0m\n",
      "\u001b[0;31mNameError\u001b[0m: name 'info' is not defined"
     ]
    }
   ],
   "source": [
    "tap = 6\n",
    "\n",
    "# STA for ON cells\n",
    "info_on = info[info['cell_type'] == 'ON']\n",
    "spike_counts_on = spike_counts[info_on.index,:]\n",
    "    \n",
    "calc_and_plot_sta(stim, spike_counts_on, tap=tap, dt=0.2, labels=info_on['channel_name'])\n",
    "plt.ylim((0.45,0.55))\n",
    "\n",
    "plt.title('ON RGCs')\n",
    "\n",
    "info_on"
   ]
  },
  {
   "cell_type": "code",
   "execution_count": 46,
   "metadata": {},
   "outputs": [
    {
     "ename": "NameError",
     "evalue": "name 'info' is not defined",
     "output_type": "error",
     "traceback": [
      "\u001b[0;31m---------------------------------------------------------------------------\u001b[0m",
      "\u001b[0;31mNameError\u001b[0m                                 Traceback (most recent call last)",
      "\u001b[0;32m<ipython-input-46-0ef68078e35a>\u001b[0m in \u001b[0;36m<module>\u001b[0;34m\u001b[0m\n\u001b[1;32m      1\u001b[0m \u001b[0;31m# STA for OFF cells\u001b[0m\u001b[0;34m\u001b[0m\u001b[0;34m\u001b[0m\u001b[0;34m\u001b[0m\u001b[0m\n\u001b[0;32m----> 2\u001b[0;31m \u001b[0minfo_off\u001b[0m \u001b[0;34m=\u001b[0m \u001b[0minfo\u001b[0m\u001b[0;34m[\u001b[0m\u001b[0minfo\u001b[0m\u001b[0;34m[\u001b[0m\u001b[0;34m'cell_type'\u001b[0m\u001b[0;34m]\u001b[0m \u001b[0;34m==\u001b[0m \u001b[0;34m'OFF'\u001b[0m\u001b[0;34m]\u001b[0m\u001b[0;34m\u001b[0m\u001b[0;34m\u001b[0m\u001b[0m\n\u001b[0m\u001b[1;32m      3\u001b[0m \u001b[0mspike_counts_off\u001b[0m \u001b[0;34m=\u001b[0m \u001b[0mspike_counts\u001b[0m\u001b[0;34m[\u001b[0m\u001b[0minfo_off\u001b[0m\u001b[0;34m.\u001b[0m\u001b[0mindex\u001b[0m\u001b[0;34m,\u001b[0m\u001b[0;34m:\u001b[0m\u001b[0;34m]\u001b[0m\u001b[0;34m\u001b[0m\u001b[0;34m\u001b[0m\u001b[0m\n\u001b[1;32m      4\u001b[0m \u001b[0;34m\u001b[0m\u001b[0m\n\u001b[1;32m      5\u001b[0m \u001b[0mcalc_and_plot_sta\u001b[0m\u001b[0;34m(\u001b[0m\u001b[0mstim\u001b[0m\u001b[0;34m,\u001b[0m \u001b[0mspike_counts_off\u001b[0m\u001b[0;34m,\u001b[0m \u001b[0mtap\u001b[0m\u001b[0;34m=\u001b[0m\u001b[0mtap\u001b[0m\u001b[0;34m,\u001b[0m \u001b[0mdt\u001b[0m\u001b[0;34m=\u001b[0m\u001b[0;36m0.2\u001b[0m\u001b[0;34m,\u001b[0m \u001b[0mlabels\u001b[0m\u001b[0;34m=\u001b[0m\u001b[0minfo_off\u001b[0m\u001b[0;34m[\u001b[0m\u001b[0;34m'channel_name'\u001b[0m\u001b[0;34m]\u001b[0m\u001b[0;34m)\u001b[0m\u001b[0;34m\u001b[0m\u001b[0;34m\u001b[0m\u001b[0m\n",
      "\u001b[0;31mNameError\u001b[0m: name 'info' is not defined"
     ]
    }
   ],
   "source": [
    "# STA for OFF cells\n",
    "info_off = info[info['cell_type'] == 'OFF']\n",
    "spike_counts_off = spike_counts[info_off.index,:]\n",
    "    \n",
    "calc_and_plot_sta(stim, spike_counts_off, tap=tap, dt=0.2, labels=info_off['channel_name'])\n",
    "plt.ylim((0.45,0.55))\n",
    "\n",
    "plt.title('OFF RGCs')\n",
    "\n",
    "info_off"
   ]
  },
  {
   "cell_type": "code",
   "execution_count": null,
   "metadata": {},
   "outputs": [],
   "source": [
    "# STA for ON-OFF cells\n",
    "info_on_off = info[info['cell_type'] == 'ON-OFF']\n",
    "spike_counts_on_off = spike_counts[info_on_off.index,:]\n",
    "    \n",
    "calc_and_plot_sta(stim, spike_counts_on_off, tap=tap, dt=0.2, labels=info_on_off['channel_name'])\n",
    "plt.ylim((0.45,0.55))\n",
    "\n",
    "plt.title('ON-OFF RGCs')\n",
    "\n",
    "info_on"
   ]
  },
  {
   "cell_type": "code",
   "execution_count": null,
   "metadata": {},
   "outputs": [],
   "source": []
  },
  {
   "cell_type": "code",
   "execution_count": null,
   "metadata": {},
   "outputs": [],
   "source": [
    "# one more abstraction!\n",
    "def plot_sta_by_cell_type(info, spike_counts, key='cell_type', key_value='ON'):\n",
    "    info_on_off = info[info[key] == key_value]\n",
    "    spike_counts_on_off = spike_counts[info_on_off.index,:]\n",
    "\n",
    "    calc_and_plot_sta(stim, spike_counts_on_off, tap=tap, dt=0.2, labels=info_on_off['channel_name'])\n",
    "    plt.ylim((0.45,0.55))\n",
    "\n",
    "    plt.title('{} RGCs'.format(key_value))\n",
    "\n",
    "    info_on\n",
    "    \n",
    "plt.figure(figsize=(15,4))\n",
    "plt.subplot(131)    \n",
    "plot_sta_by_cell_type(info, spike_counts, 'cell_type', 'ON')\n",
    "plt.subplot(132)    \n",
    "plot_sta_by_cell_type(info, spike_counts, 'cell_type', 'OFF')\n",
    "plt.subplot(133)    \n",
    "plot_sta_by_cell_type(info, spike_counts, 'cell_type', 'ON-OFF')\n",
    "\n",
    "plt.savefig('sta_by_cell_type_c{}.png'.format(contrast))"
   ]
  },
  {
   "cell_type": "code",
   "execution_count": null,
   "metadata": {},
   "outputs": [],
   "source": []
  },
  {
   "cell_type": "code",
   "execution_count": null,
   "metadata": {},
   "outputs": [],
   "source": []
  },
  {
   "cell_type": "code",
   "execution_count": null,
   "metadata": {},
   "outputs": [],
   "source": []
  }
 ],
 "metadata": {
  "kernelspec": {
   "display_name": "Python 3",
   "language": "python",
   "name": "python3"
  },
  "language_info": {
   "codemirror_mode": {
    "name": "ipython",
    "version": 3
   },
   "file_extension": ".py",
   "mimetype": "text/x-python",
   "name": "python",
   "nbconvert_exporter": "python",
   "pygments_lexer": "ipython3",
   "version": "3.7.6"
  },
  "pycharm": {
   "stem_cell": {
    "cell_type": "raw",
    "metadata": {
     "collapsed": false
    },
    "source": []
   }
  }
 },
 "nbformat": 4,
 "nbformat_minor": 2
}
