{
 "cells": [
  {
   "cell_type": "code",
   "execution_count": 1,
   "metadata": {},
   "outputs": [],
   "source": [
    "import pandas as pd\n",
    "import numpy as np\n",
    "import matplotlib.pyplot as plt\n",
    "\n",
    "import pysta\n",
    "import stc\n",
    "%load_ext autoreload\n",
    "%autoreload 2"
   ]
  },
  {
   "cell_type": "code",
   "execution_count": null,
   "metadata": {},
   "outputs": [],
   "source": [
    "# clean up \n",
    "# pd.read_csv(\"data/0626_PSTH_CellType.csv\")[[\"channel_name\",\"cell_type\"]].to_csv(\"data/0626_CellType.csv\", index=None)\n"
   ]
  },
  {
   "cell_type": "code",
   "execution_count": null,
   "metadata": {},
   "outputs": [],
   "source": [
    "cell_type = pd.read_csv(\"data/0626_CellType.csv\")"
   ]
  },
  {
   "cell_type": "code",
   "execution_count": null,
   "metadata": {},
   "outputs": [],
   "source": [
    "idx_on = cell_type[\"cell_type\"]== \"ON\"\n",
    "idx_off = cell_type[\"cell_type\"]== \"OFF\"\n",
    "idx_on_off = cell_type[\"cell_type\"]== \"ON/OFF\"\n",
    "\n",
    "print(np.sum(idx_on))\n",
    "print(np.sum(idx_off))\n",
    "print(np.sum(idx_on_off))\n",
    "\n",
    "print(np.sum(idx_on) / len(cell_type))\n",
    "print(np.sum(idx_off) / len(cell_type))\n",
    "print(np.sum(idx_on_off) / len(cell_type))\n"
   ]
  },
  {
   "cell_type": "code",
   "execution_count": null,
   "metadata": {},
   "outputs": [],
   "source": [
    "cell_type.loc[idx_on][\"channel_name\"].to_csv(\"data/0626_on.txt\", header=False, index=None)\n",
    "cell_type.loc[idx_off][\"channel_name\"].to_csv(\"data/0626_off.txt\", header=False, index=None)\n",
    "cell_type.loc[idx_on_off][\"channel_name\"].to_csv(\"data/0626_on_off.txt\", header=False, index=None)"
   ]
  },
  {
   "attachments": {},
   "cell_type": "markdown",
   "metadata": {},
   "source": [
    "## 추가 정보 (Data_PSTH_CellType.xlsx)\n",
    "\t\t\t\t\t\t\t\t\t\t\t\t\t\t\t\t\t\t\n",
    "7\t11\t24\t\t\t8\t7\t27\t\t\t8\t14\t19\t\t\t8\t5\t3\n",
    "    "
   ]
  },
  {
   "cell_type": "code",
   "execution_count": 63,
   "metadata": {},
   "outputs": [
    {
     "name": "stdout",
     "output_type": "stream",
     "text": [
      "20180828\n"
     ]
    },
    {
     "data": {
      "text/html": [
       "<div>\n",
       "<style scoped>\n",
       "    .dataframe tbody tr th:only-of-type {\n",
       "        vertical-align: middle;\n",
       "    }\n",
       "\n",
       "    .dataframe tbody tr th {\n",
       "        vertical-align: top;\n",
       "    }\n",
       "\n",
       "    .dataframe thead th {\n",
       "        text-align: right;\n",
       "    }\n",
       "</style>\n",
       "<table border=\"1\" class=\"dataframe\">\n",
       "  <thead>\n",
       "    <tr style=\"text-align: right;\">\n",
       "      <th></th>\n",
       "      <th>channel_name</th>\n",
       "      <th>ON</th>\n",
       "      <th>OFF</th>\n",
       "      <th>ON/OFF</th>\n",
       "    </tr>\n",
       "  </thead>\n",
       "  <tbody>\n",
       "    <tr>\n",
       "      <th>0</th>\n",
       "      <td>12a</td>\n",
       "      <td>NaN</td>\n",
       "      <td>O</td>\n",
       "      <td>NaN</td>\n",
       "    </tr>\n",
       "    <tr>\n",
       "      <th>1</th>\n",
       "      <td>12c</td>\n",
       "      <td>O</td>\n",
       "      <td>NaN</td>\n",
       "      <td>NaN</td>\n",
       "    </tr>\n",
       "    <tr>\n",
       "      <th>2</th>\n",
       "      <td>12d</td>\n",
       "      <td>O</td>\n",
       "      <td>NaN</td>\n",
       "      <td>NaN</td>\n",
       "    </tr>\n",
       "    <tr>\n",
       "      <th>3</th>\n",
       "      <td>13a</td>\n",
       "      <td>NaN</td>\n",
       "      <td>NaN</td>\n",
       "      <td>O</td>\n",
       "    </tr>\n",
       "    <tr>\n",
       "      <th>4</th>\n",
       "      <td>14a</td>\n",
       "      <td>O</td>\n",
       "      <td>NaN</td>\n",
       "      <td>NaN</td>\n",
       "    </tr>\n",
       "    <tr>\n",
       "      <th>5</th>\n",
       "      <td>22a</td>\n",
       "      <td>O</td>\n",
       "      <td>NaN</td>\n",
       "      <td>NaN</td>\n",
       "    </tr>\n",
       "    <tr>\n",
       "      <th>6</th>\n",
       "      <td>22b</td>\n",
       "      <td>NaN</td>\n",
       "      <td>O</td>\n",
       "      <td>NaN</td>\n",
       "    </tr>\n",
       "    <tr>\n",
       "      <th>7</th>\n",
       "      <td>23c</td>\n",
       "      <td>O</td>\n",
       "      <td>NaN</td>\n",
       "      <td>NaN</td>\n",
       "    </tr>\n",
       "    <tr>\n",
       "      <th>8</th>\n",
       "      <td>23d</td>\n",
       "      <td>O</td>\n",
       "      <td>NaN</td>\n",
       "      <td>NaN</td>\n",
       "    </tr>\n",
       "    <tr>\n",
       "      <th>9</th>\n",
       "      <td>25c</td>\n",
       "      <td>NaN</td>\n",
       "      <td>O</td>\n",
       "      <td>NaN</td>\n",
       "    </tr>\n",
       "    <tr>\n",
       "      <th>10</th>\n",
       "      <td>27c</td>\n",
       "      <td>NaN</td>\n",
       "      <td>O</td>\n",
       "      <td>NaN</td>\n",
       "    </tr>\n",
       "    <tr>\n",
       "      <th>11</th>\n",
       "      <td>31b</td>\n",
       "      <td>O</td>\n",
       "      <td>NaN</td>\n",
       "      <td>NaN</td>\n",
       "    </tr>\n",
       "    <tr>\n",
       "      <th>12</th>\n",
       "      <td>31c</td>\n",
       "      <td>NaN</td>\n",
       "      <td>O</td>\n",
       "      <td>NaN</td>\n",
       "    </tr>\n",
       "    <tr>\n",
       "      <th>13</th>\n",
       "      <td>31d</td>\n",
       "      <td>O</td>\n",
       "      <td>NaN</td>\n",
       "      <td>NaN</td>\n",
       "    </tr>\n",
       "    <tr>\n",
       "      <th>14</th>\n",
       "      <td>32c</td>\n",
       "      <td>NaN</td>\n",
       "      <td>NaN</td>\n",
       "      <td>O</td>\n",
       "    </tr>\n",
       "    <tr>\n",
       "      <th>15</th>\n",
       "      <td>32d</td>\n",
       "      <td>NaN</td>\n",
       "      <td>NaN</td>\n",
       "      <td>O</td>\n",
       "    </tr>\n",
       "  </tbody>\n",
       "</table>\n",
       "</div>"
      ],
      "text/plain": [
       "   channel_name   ON  OFF ON/OFF\n",
       "0           12a  NaN    O    NaN\n",
       "1           12c    O  NaN    NaN\n",
       "2           12d    O  NaN    NaN\n",
       "3           13a  NaN  NaN      O\n",
       "4           14a    O  NaN    NaN\n",
       "5           22a    O  NaN    NaN\n",
       "6           22b  NaN    O    NaN\n",
       "7           23c    O  NaN    NaN\n",
       "8           23d    O  NaN    NaN\n",
       "9           25c  NaN    O    NaN\n",
       "10          27c  NaN    O    NaN\n",
       "11          31b    O  NaN    NaN\n",
       "12          31c  NaN    O    NaN\n",
       "13          31d    O  NaN    NaN\n",
       "14          32c  NaN  NaN      O\n",
       "15          32d  NaN  NaN      O"
      ]
     },
     "execution_count": 63,
     "metadata": {},
     "output_type": "execute_result"
    }
   ],
   "source": [
    "# 1st set \n",
    "#data = pd.read_excel(\"data/cell_type.xlsx\", usecols=\"A:D\")  # 20180618\n",
    "#data = pd.read_excel(\"data/cell_type.xlsx\", usecols=\"F:I\")   # 20190621\n",
    "data = pd.read_excel(\"data/cell_type.xlsx\", usecols=\"P:S\")   # 20180626\n",
    "# data.head()\n",
    "\n",
    "columns = list(data.columns)\n",
    "\n",
    "dataset_name = columns[0]\n",
    "print(dataset_name)\n",
    "\n",
    "columns[0] = \"channel_name\"\n",
    "\n",
    "# remove \".XXX\"\n",
    "for i, col in enumerate(columns):\n",
    "    idx = col.find(\".\")\n",
    "    #print(idx)\n",
    "    \n",
    "    if idx > 0:\n",
    "        columns[i] = col[:idx]\n",
    "        #print(col[:idx])\n",
    "\n",
    "data.columns = columns\n",
    "\n",
    "# remove empty row\n",
    "idx = pd.isna(data[\"channel_name\"])\n",
    "idx\n",
    "data.drop(data.index[idx], inplace=True)\n",
    "\n",
    "data"
   ]
  },
  {
   "cell_type": "code",
   "execution_count": 64,
   "metadata": {},
   "outputs": [],
   "source": [
    "idx_on = data[\"ON\"] == \"O\"\n",
    "idx_off = data[\"OFF\"] == \"O\"\n",
    "idx_on_off = data[\"ON/OFF\"] == \"O\"\n"
   ]
  },
  {
   "cell_type": "code",
   "execution_count": 65,
   "metadata": {},
   "outputs": [
    {
     "data": {
      "text/html": [
       "<div>\n",
       "<style scoped>\n",
       "    .dataframe tbody tr th:only-of-type {\n",
       "        vertical-align: middle;\n",
       "    }\n",
       "\n",
       "    .dataframe tbody tr th {\n",
       "        vertical-align: top;\n",
       "    }\n",
       "\n",
       "    .dataframe thead th {\n",
       "        text-align: right;\n",
       "    }\n",
       "</style>\n",
       "<table border=\"1\" class=\"dataframe\">\n",
       "  <thead>\n",
       "    <tr style=\"text-align: right;\">\n",
       "      <th></th>\n",
       "      <th>channel_name</th>\n",
       "      <th>ON</th>\n",
       "      <th>OFF</th>\n",
       "      <th>ON/OFF</th>\n",
       "      <th>cell_type</th>\n",
       "    </tr>\n",
       "  </thead>\n",
       "  <tbody>\n",
       "    <tr>\n",
       "      <th>0</th>\n",
       "      <td>12a</td>\n",
       "      <td>NaN</td>\n",
       "      <td>O</td>\n",
       "      <td>NaN</td>\n",
       "      <td>OFF</td>\n",
       "    </tr>\n",
       "    <tr>\n",
       "      <th>1</th>\n",
       "      <td>12c</td>\n",
       "      <td>O</td>\n",
       "      <td>NaN</td>\n",
       "      <td>NaN</td>\n",
       "      <td>ON</td>\n",
       "    </tr>\n",
       "    <tr>\n",
       "      <th>2</th>\n",
       "      <td>12d</td>\n",
       "      <td>O</td>\n",
       "      <td>NaN</td>\n",
       "      <td>NaN</td>\n",
       "      <td>ON</td>\n",
       "    </tr>\n",
       "    <tr>\n",
       "      <th>3</th>\n",
       "      <td>13a</td>\n",
       "      <td>NaN</td>\n",
       "      <td>NaN</td>\n",
       "      <td>O</td>\n",
       "      <td>ON/OFF</td>\n",
       "    </tr>\n",
       "    <tr>\n",
       "      <th>4</th>\n",
       "      <td>14a</td>\n",
       "      <td>O</td>\n",
       "      <td>NaN</td>\n",
       "      <td>NaN</td>\n",
       "      <td>ON</td>\n",
       "    </tr>\n",
       "  </tbody>\n",
       "</table>\n",
       "</div>"
      ],
      "text/plain": [
       "  channel_name   ON  OFF ON/OFF cell_type\n",
       "0          12a  NaN    O    NaN       OFF\n",
       "1          12c    O  NaN    NaN        ON\n",
       "2          12d    O  NaN    NaN        ON\n",
       "3          13a  NaN  NaN      O    ON/OFF\n",
       "4          14a    O  NaN    NaN        ON"
      ]
     },
     "execution_count": 65,
     "metadata": {},
     "output_type": "execute_result"
    }
   ],
   "source": [
    "# generate \"cell_type\" column\n",
    "data[\"cell_type\"] = \"unknown\"\n",
    "\n",
    "data.loc[idx_on,\"cell_type\"] = \"ON\"\n",
    "data.loc[idx_off,\"cell_type\"] = \"OFF\"\n",
    "data.loc[idx_on_off,\"cell_type\"] = \"ON/OFF\"\n",
    "\n",
    "data.head()\n"
   ]
  },
  {
   "cell_type": "code",
   "execution_count": 66,
   "metadata": {},
   "outputs": [
    {
     "data": {
      "text/plain": [
       "<matplotlib.axes._subplots.AxesSubplot at 0x1a20b92450>"
      ]
     },
     "execution_count": 66,
     "metadata": {},
     "output_type": "execute_result"
    },
    {
     "data": {
      "image/png": "[encoded data removed]",
      "text/plain": [
       "<Figure size 432x288 with 1 Axes>"
      ]
     },
     "metadata": {
      "needs_background": "light"
     },
     "output_type": "display_data"
    }
   ],
   "source": [
    "data[\"cell_type\"].hist()"
   ]
  },
  {
   "cell_type": "code",
   "execution_count": 67,
   "metadata": {},
   "outputs": [],
   "source": [
    "# save \n",
    "data.to_csv(\"data/{}_cell_type.csv\".format(dataset_name), columns=[\"channel_name\",\"cell_type\"], index=None)"
   ]
  },
  {
   "cell_type": "code",
   "execution_count": null,
   "metadata": {},
   "outputs": [],
   "source": []
  },
  {
   "cell_type": "code",
   "execution_count": null,
   "metadata": {},
   "outputs": [],
   "source": []
  }
 ],
 "metadata": {
  "kernelspec": {
   "display_name": "Python 3",
   "language": "python",
   "name": "python3"
  },
  "language_info": {
   "codemirror_mode": {
    "name": "ipython",
    "version": 3
   },
   "file_extension": ".py",
   "mimetype": "text/x-python",
   "name": "python",
   "nbconvert_exporter": "python",
   "pygments_lexer": "ipython3",
   "version": "3.7.5"
  }
 },
 "nbformat": 4,
 "nbformat_minor": 2
}
