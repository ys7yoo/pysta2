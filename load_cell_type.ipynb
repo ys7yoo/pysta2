{
 "cells": [
  {
   "cell_type": "code",
   "execution_count": 1,
   "metadata": {},
   "outputs": [],
   "source": [
    "import pandas as pd\n",
    "import numpy as np\n",
    "import matplotlib.pyplot as plt\n",
    "\n",
    "import pysta\n",
    "import stc\n",
    "%load_ext autoreload\n",
    "%autoreload 2"
   ]
  },
  {
   "cell_type": "markdown",
   "metadata": {},
   "source": [
    "## Updated cell types\n",
    "* 20180618 (2020. 3. 4)\n",
    "  * ON         20\n",
    "  * OFF        53\n",
    "  * unknown    45\n",
    "  \n",
    "* 20180621 (2020. 3. 4)\n",
    "  * ON         37\n",
    "  * OFF        46\n",
    "  * unknown    32\n",
    "\n",
    "* 20180626 (2020. 1.23)\n",
    "  * ON         34\n",
    "  * OFF        70\n",
    "  * unknown    52\n",
    "\n",
    "* 20180828 (2020. 3. 4)\n",
    "  * ON         25\n",
    "  * OFF        30\n",
    "  * unknown    39"
   ]
  },
  {
   "cell_type": "code",
   "execution_count": 10,
   "metadata": {},
   "outputs": [
    {
     "data": {
      "text/html": [
       "<div>\n",
       "<style scoped>\n",
       "    .dataframe tbody tr th:only-of-type {\n",
       "        vertical-align: middle;\n",
       "    }\n",
       "\n",
       "    .dataframe tbody tr th {\n",
       "        vertical-align: top;\n",
       "    }\n",
       "\n",
       "    .dataframe thead th {\n",
       "        text-align: right;\n",
       "    }\n",
       "</style>\n",
       "<table border=\"1\" class=\"dataframe\">\n",
       "  <thead>\n",
       "    <tr style=\"text-align: right;\">\n",
       "      <th></th>\n",
       "      <th>channel_name</th>\n",
       "      <th>ON</th>\n",
       "      <th>OFF</th>\n",
       "      <th>ON/OFF</th>\n",
       "      <th>Unknown</th>\n",
       "    </tr>\n",
       "  </thead>\n",
       "  <tbody>\n",
       "    <tr>\n",
       "      <th>0</th>\n",
       "      <td>12a</td>\n",
       "      <td>NaN</td>\n",
       "      <td>O</td>\n",
       "      <td>NaN</td>\n",
       "      <td>NaN</td>\n",
       "    </tr>\n",
       "    <tr>\n",
       "      <th>1</th>\n",
       "      <td>12b</td>\n",
       "      <td>NaN</td>\n",
       "      <td>O</td>\n",
       "      <td>NaN</td>\n",
       "      <td>NaN</td>\n",
       "    </tr>\n",
       "    <tr>\n",
       "      <th>2</th>\n",
       "      <td>12c</td>\n",
       "      <td>O</td>\n",
       "      <td>NaN</td>\n",
       "      <td>NaN</td>\n",
       "      <td>NaN</td>\n",
       "    </tr>\n",
       "    <tr>\n",
       "      <th>3</th>\n",
       "      <td>12d</td>\n",
       "      <td>O</td>\n",
       "      <td>NaN</td>\n",
       "      <td>NaN</td>\n",
       "      <td>NaN</td>\n",
       "    </tr>\n",
       "    <tr>\n",
       "      <th>4</th>\n",
       "      <td>13a</td>\n",
       "      <td>NaN</td>\n",
       "      <td>O</td>\n",
       "      <td>NaN</td>\n",
       "      <td>NaN</td>\n",
       "    </tr>\n",
       "    <tr>\n",
       "      <th>...</th>\n",
       "      <td>...</td>\n",
       "      <td>...</td>\n",
       "      <td>...</td>\n",
       "      <td>...</td>\n",
       "      <td>...</td>\n",
       "    </tr>\n",
       "    <tr>\n",
       "      <th>89</th>\n",
       "      <td>83a</td>\n",
       "      <td>NaN</td>\n",
       "      <td>NaN</td>\n",
       "      <td>NaN</td>\n",
       "      <td>O</td>\n",
       "    </tr>\n",
       "    <tr>\n",
       "      <th>90</th>\n",
       "      <td>83b</td>\n",
       "      <td>NaN</td>\n",
       "      <td>NaN</td>\n",
       "      <td>NaN</td>\n",
       "      <td>O</td>\n",
       "    </tr>\n",
       "    <tr>\n",
       "      <th>91</th>\n",
       "      <td>83c</td>\n",
       "      <td>NaN</td>\n",
       "      <td>NaN</td>\n",
       "      <td>NaN</td>\n",
       "      <td>O</td>\n",
       "    </tr>\n",
       "    <tr>\n",
       "      <th>92</th>\n",
       "      <td>86a</td>\n",
       "      <td>NaN</td>\n",
       "      <td>NaN</td>\n",
       "      <td>NaN</td>\n",
       "      <td>O</td>\n",
       "    </tr>\n",
       "    <tr>\n",
       "      <th>93</th>\n",
       "      <td>87a</td>\n",
       "      <td>NaN</td>\n",
       "      <td>NaN</td>\n",
       "      <td>NaN</td>\n",
       "      <td>O</td>\n",
       "    </tr>\n",
       "  </tbody>\n",
       "</table>\n",
       "<p>94 rows × 5 columns</p>\n",
       "</div>"
      ],
      "text/plain": [
       "   channel_name   ON  OFF  ON/OFF Unknown\n",
       "0           12a  NaN    O     NaN     NaN\n",
       "1           12b  NaN    O     NaN     NaN\n",
       "2           12c    O  NaN     NaN     NaN\n",
       "3           12d    O  NaN     NaN     NaN\n",
       "4           13a  NaN    O     NaN     NaN\n",
       "..          ...  ...  ...     ...     ...\n",
       "89          83a  NaN  NaN     NaN       O\n",
       "90          83b  NaN  NaN     NaN       O\n",
       "91          83c  NaN  NaN     NaN       O\n",
       "92          86a  NaN  NaN     NaN       O\n",
       "93          87a  NaN  NaN     NaN       O\n",
       "\n",
       "[94 rows x 5 columns]"
      ]
     },
     "execution_count": 10,
     "metadata": {},
     "output_type": "execute_result"
    }
   ],
   "source": [
    "# dataset_name = \"20180618\"\n",
    "# dataset_name = \"20180621\"\n",
    "# dataset_name = \"20180626\"\n",
    "dataset_name = \"20180828\"\n",
    "data = pd.read_excel(\"data/STA_CellType.xlsx\", sheet_name=dataset_name, skiprows=[0])\n",
    "\n",
    "# set column names\n",
    "columns = list(data.columns)\n",
    "columns[0] = \"channel_name\"\n",
    "data.columns = columns\n",
    "\n",
    "# drop the last row\n",
    "data.drop(data.index[len(data)-1], inplace=True)\n",
    "\n",
    "data"
   ]
  },
  {
   "cell_type": "code",
   "execution_count": 11,
   "metadata": {},
   "outputs": [],
   "source": [
    "# data = pd.read_excel(\"data/20180626_cell_type.xlsx\", skiprows=[0])\n",
    "\n",
    "# columns = list(data.columns)\n",
    "\n",
    "# dataset_name = columns[0]\n",
    "# print(dataset_name)\n",
    "\n",
    "# columns[0] = \"channel_name\"\n",
    "\n",
    "# data.columns = columns\n",
    "\n",
    "# data\n",
    "\n",
    "# # drop the last row\n",
    "# data.drop(data.index[len(data)-1], inplace=True)\n"
   ]
  },
  {
   "cell_type": "code",
   "execution_count": 12,
   "metadata": {},
   "outputs": [
    {
     "data": {
      "text/html": [
       "<div>\n",
       "<style scoped>\n",
       "    .dataframe tbody tr th:only-of-type {\n",
       "        vertical-align: middle;\n",
       "    }\n",
       "\n",
       "    .dataframe tbody tr th {\n",
       "        vertical-align: top;\n",
       "    }\n",
       "\n",
       "    .dataframe thead th {\n",
       "        text-align: right;\n",
       "    }\n",
       "</style>\n",
       "<table border=\"1\" class=\"dataframe\">\n",
       "  <thead>\n",
       "    <tr style=\"text-align: right;\">\n",
       "      <th></th>\n",
       "      <th>channel_name</th>\n",
       "      <th>ON</th>\n",
       "      <th>OFF</th>\n",
       "      <th>ON/OFF</th>\n",
       "      <th>Unknown</th>\n",
       "      <th>cell_type</th>\n",
       "    </tr>\n",
       "  </thead>\n",
       "  <tbody>\n",
       "    <tr>\n",
       "      <th>0</th>\n",
       "      <td>12a</td>\n",
       "      <td>NaN</td>\n",
       "      <td>O</td>\n",
       "      <td>NaN</td>\n",
       "      <td>NaN</td>\n",
       "      <td>unknown</td>\n",
       "    </tr>\n",
       "    <tr>\n",
       "      <th>1</th>\n",
       "      <td>12b</td>\n",
       "      <td>NaN</td>\n",
       "      <td>O</td>\n",
       "      <td>NaN</td>\n",
       "      <td>NaN</td>\n",
       "      <td>unknown</td>\n",
       "    </tr>\n",
       "    <tr>\n",
       "      <th>2</th>\n",
       "      <td>12c</td>\n",
       "      <td>O</td>\n",
       "      <td>NaN</td>\n",
       "      <td>NaN</td>\n",
       "      <td>NaN</td>\n",
       "      <td>unknown</td>\n",
       "    </tr>\n",
       "    <tr>\n",
       "      <th>3</th>\n",
       "      <td>12d</td>\n",
       "      <td>O</td>\n",
       "      <td>NaN</td>\n",
       "      <td>NaN</td>\n",
       "      <td>NaN</td>\n",
       "      <td>unknown</td>\n",
       "    </tr>\n",
       "    <tr>\n",
       "      <th>4</th>\n",
       "      <td>13a</td>\n",
       "      <td>NaN</td>\n",
       "      <td>O</td>\n",
       "      <td>NaN</td>\n",
       "      <td>NaN</td>\n",
       "      <td>unknown</td>\n",
       "    </tr>\n",
       "  </tbody>\n",
       "</table>\n",
       "</div>"
      ],
      "text/plain": [
       "  channel_name   ON  OFF  ON/OFF Unknown cell_type\n",
       "0          12a  NaN    O     NaN     NaN   unknown\n",
       "1          12b  NaN    O     NaN     NaN   unknown\n",
       "2          12c    O  NaN     NaN     NaN   unknown\n",
       "3          12d    O  NaN     NaN     NaN   unknown\n",
       "4          13a  NaN    O     NaN     NaN   unknown"
      ]
     },
     "execution_count": 12,
     "metadata": {},
     "output_type": "execute_result"
    }
   ],
   "source": [
    "# generate \"cell_type\" column\n",
    "data[\"cell_type\"] = \"unknown\"\n",
    "data.head()"
   ]
  },
  {
   "cell_type": "code",
   "execution_count": 13,
   "metadata": {},
   "outputs": [
    {
     "data": {
      "text/html": [
       "<div>\n",
       "<style scoped>\n",
       "    .dataframe tbody tr th:only-of-type {\n",
       "        vertical-align: middle;\n",
       "    }\n",
       "\n",
       "    .dataframe tbody tr th {\n",
       "        vertical-align: top;\n",
       "    }\n",
       "\n",
       "    .dataframe thead th {\n",
       "        text-align: right;\n",
       "    }\n",
       "</style>\n",
       "<table border=\"1\" class=\"dataframe\">\n",
       "  <thead>\n",
       "    <tr style=\"text-align: right;\">\n",
       "      <th></th>\n",
       "      <th>channel_name</th>\n",
       "      <th>ON</th>\n",
       "      <th>OFF</th>\n",
       "      <th>ON/OFF</th>\n",
       "      <th>Unknown</th>\n",
       "      <th>cell_type</th>\n",
       "    </tr>\n",
       "  </thead>\n",
       "  <tbody>\n",
       "    <tr>\n",
       "      <th>0</th>\n",
       "      <td>12a</td>\n",
       "      <td>NaN</td>\n",
       "      <td>O</td>\n",
       "      <td>NaN</td>\n",
       "      <td>NaN</td>\n",
       "      <td>OFF</td>\n",
       "    </tr>\n",
       "    <tr>\n",
       "      <th>1</th>\n",
       "      <td>12b</td>\n",
       "      <td>NaN</td>\n",
       "      <td>O</td>\n",
       "      <td>NaN</td>\n",
       "      <td>NaN</td>\n",
       "      <td>OFF</td>\n",
       "    </tr>\n",
       "    <tr>\n",
       "      <th>2</th>\n",
       "      <td>12c</td>\n",
       "      <td>O</td>\n",
       "      <td>NaN</td>\n",
       "      <td>NaN</td>\n",
       "      <td>NaN</td>\n",
       "      <td>ON</td>\n",
       "    </tr>\n",
       "    <tr>\n",
       "      <th>3</th>\n",
       "      <td>12d</td>\n",
       "      <td>O</td>\n",
       "      <td>NaN</td>\n",
       "      <td>NaN</td>\n",
       "      <td>NaN</td>\n",
       "      <td>ON</td>\n",
       "    </tr>\n",
       "    <tr>\n",
       "      <th>4</th>\n",
       "      <td>13a</td>\n",
       "      <td>NaN</td>\n",
       "      <td>O</td>\n",
       "      <td>NaN</td>\n",
       "      <td>NaN</td>\n",
       "      <td>OFF</td>\n",
       "    </tr>\n",
       "    <tr>\n",
       "      <th>...</th>\n",
       "      <td>...</td>\n",
       "      <td>...</td>\n",
       "      <td>...</td>\n",
       "      <td>...</td>\n",
       "      <td>...</td>\n",
       "      <td>...</td>\n",
       "    </tr>\n",
       "    <tr>\n",
       "      <th>89</th>\n",
       "      <td>83a</td>\n",
       "      <td>NaN</td>\n",
       "      <td>NaN</td>\n",
       "      <td>NaN</td>\n",
       "      <td>O</td>\n",
       "      <td>unknown</td>\n",
       "    </tr>\n",
       "    <tr>\n",
       "      <th>90</th>\n",
       "      <td>83b</td>\n",
       "      <td>NaN</td>\n",
       "      <td>NaN</td>\n",
       "      <td>NaN</td>\n",
       "      <td>O</td>\n",
       "      <td>unknown</td>\n",
       "    </tr>\n",
       "    <tr>\n",
       "      <th>91</th>\n",
       "      <td>83c</td>\n",
       "      <td>NaN</td>\n",
       "      <td>NaN</td>\n",
       "      <td>NaN</td>\n",
       "      <td>O</td>\n",
       "      <td>unknown</td>\n",
       "    </tr>\n",
       "    <tr>\n",
       "      <th>92</th>\n",
       "      <td>86a</td>\n",
       "      <td>NaN</td>\n",
       "      <td>NaN</td>\n",
       "      <td>NaN</td>\n",
       "      <td>O</td>\n",
       "      <td>unknown</td>\n",
       "    </tr>\n",
       "    <tr>\n",
       "      <th>93</th>\n",
       "      <td>87a</td>\n",
       "      <td>NaN</td>\n",
       "      <td>NaN</td>\n",
       "      <td>NaN</td>\n",
       "      <td>O</td>\n",
       "      <td>unknown</td>\n",
       "    </tr>\n",
       "  </tbody>\n",
       "</table>\n",
       "<p>94 rows × 6 columns</p>\n",
       "</div>"
      ],
      "text/plain": [
       "   channel_name   ON  OFF  ON/OFF Unknown cell_type\n",
       "0           12a  NaN    O     NaN     NaN       OFF\n",
       "1           12b  NaN    O     NaN     NaN       OFF\n",
       "2           12c    O  NaN     NaN     NaN        ON\n",
       "3           12d    O  NaN     NaN     NaN        ON\n",
       "4           13a  NaN    O     NaN     NaN       OFF\n",
       "..          ...  ...  ...     ...     ...       ...\n",
       "89          83a  NaN  NaN     NaN       O   unknown\n",
       "90          83b  NaN  NaN     NaN       O   unknown\n",
       "91          83c  NaN  NaN     NaN       O   unknown\n",
       "92          86a  NaN  NaN     NaN       O   unknown\n",
       "93          87a  NaN  NaN     NaN       O   unknown\n",
       "\n",
       "[94 rows x 6 columns]"
      ]
     },
     "execution_count": 13,
     "metadata": {},
     "output_type": "execute_result"
    }
   ],
   "source": [
    "idx_ON = data[\"ON\"]==\"O\"\n",
    "data.loc[idx_ON,:]\n",
    "\n",
    "idx_OFF = data[\"OFF\"]==\"O\"\n",
    "data.loc[idx_OFF,:]\n",
    "\n",
    "# idx_ON_OFF = data[\"ON/OFF\"]==\"O\"  # NONE\n",
    "#data.loc[idx_ON_OFF,:]\n",
    "\n",
    "data.loc[idx_ON,\"cell_type\"] = \"ON\"\n",
    "data.loc[idx_OFF,\"cell_type\"] = \"OFF\"\n",
    "\n",
    "data"
   ]
  },
  {
   "cell_type": "code",
   "execution_count": 14,
   "metadata": {},
   "outputs": [],
   "source": [
    "# check unknows\n",
    "idx_Unknown = data[\"Unknown\"]==\"O\"\n",
    "idx_unknown = data[\"cell_type\"]==\"unknown\"\n",
    "\n",
    "# idx_unknown\n",
    "assert((idx_Unknown == idx_unknown).all())"
   ]
  },
  {
   "cell_type": "code",
   "execution_count": 15,
   "metadata": {},
   "outputs": [
    {
     "data": {
      "text/html": [
       "<div>\n",
       "<style scoped>\n",
       "    .dataframe tbody tr th:only-of-type {\n",
       "        vertical-align: middle;\n",
       "    }\n",
       "\n",
       "    .dataframe tbody tr th {\n",
       "        vertical-align: top;\n",
       "    }\n",
       "\n",
       "    .dataframe thead th {\n",
       "        text-align: right;\n",
       "    }\n",
       "</style>\n",
       "<table border=\"1\" class=\"dataframe\">\n",
       "  <thead>\n",
       "    <tr style=\"text-align: right;\">\n",
       "      <th></th>\n",
       "      <th>channel_name</th>\n",
       "      <th>ON</th>\n",
       "      <th>OFF</th>\n",
       "      <th>ON/OFF</th>\n",
       "      <th>Unknown</th>\n",
       "      <th>cell_type</th>\n",
       "    </tr>\n",
       "  </thead>\n",
       "  <tbody>\n",
       "  </tbody>\n",
       "</table>\n",
       "</div>"
      ],
      "text/plain": [
       "Empty DataFrame\n",
       "Columns: [channel_name, ON, OFF, ON/OFF, Unknown, cell_type]\n",
       "Index: []"
      ]
     },
     "execution_count": 15,
     "metadata": {},
     "output_type": "execute_result"
    }
   ],
   "source": [
    "idx_mismatch = idx_Unknown != idx_unknown\n",
    "data.loc[idx_mismatch,:]"
   ]
  },
  {
   "cell_type": "code",
   "execution_count": 16,
   "metadata": {},
   "outputs": [
    {
     "data": {
      "text/plain": [
       "unknown    39\n",
       "OFF        30\n",
       "ON         25\n",
       "Name: cell_type, dtype: int64"
      ]
     },
     "execution_count": 16,
     "metadata": {},
     "output_type": "execute_result"
    },
    {
     "data": {
      "image/png": "[encoded data removed]",
      "text/plain": [
       "<Figure size 432x288 with 1 Axes>"
      ]
     },
     "metadata": {
      "needs_background": "light"
     },
     "output_type": "display_data"
    }
   ],
   "source": [
    "data[\"cell_type\"].hist()\n",
    "data[\"cell_type\"].value_counts()"
   ]
  },
  {
   "cell_type": "code",
   "execution_count": 17,
   "metadata": {},
   "outputs": [],
   "source": [
    "data.to_csv(\"data/{}_cell_type.csv\".format(dataset_name), columns=[\"channel_name\",\"cell_type\"], index=None)"
   ]
  },
  {
   "cell_type": "code",
   "execution_count": null,
   "metadata": {},
   "outputs": [],
   "source": []
  },
  {
   "cell_type": "markdown",
   "metadata": {},
   "source": [
    "## cell type의 histogram을 한 번에 그리기"
   ]
  },
  {
   "cell_type": "code",
   "execution_count": 10,
   "metadata": {},
   "outputs": [
    {
     "data": {
      "image/png": "[encoded data removed]",
      "text/plain": [
       "<Figure size 864x648 with 4 Axes>"
      ]
     },
     "metadata": {
      "needs_background": "light"
     },
     "output_type": "display_data"
    }
   ],
   "source": [
    "dataset_names = [\"20180618\", \"20180621\", \"20180626\", \"20180828\"]\n",
    "types = [\"ON\", \"OFF\", \"unknown\"]\n",
    "\n",
    "plt.figure(figsize=(12,9))\n",
    "type_counts_all = list()\n",
    "for i, dataset_name in enumerate(dataset_names):\n",
    "    data = pd.read_csv(\"data/{}_cell_type.csv\".format(dataset_name))\n",
    "    \n",
    "    plt.subplot(2,2,i+1)\n",
    "    type_counts = pysta.plot_hist(data[\"cell_type\"], types)\n",
    "    plt.title(\"{} {}\".format(dataset_name, type_counts))\n",
    "\n",
    "    type_counts_all.append(type_counts)\n",
    "    \n",
    "type_counts_all = np.array(type_counts_all)    \n",
    "\n",
    "plt.savefig(\"figure/cell_type_hist.pdf\")\n",
    "plt.savefig(\"figure/cell_type_hist.png\")"
   ]
  },
  {
   "cell_type": "code",
   "execution_count": 20,
   "metadata": {},
   "outputs": [
    {
     "data": {
      "text/plain": [
       "array([0.24016563, 0.41200828, 0.34782609])"
      ]
     },
     "execution_count": 20,
     "metadata": {},
     "output_type": "execute_result"
    },
    {
     "data": {
      "image/png": "[encoded data removed]",
      "text/plain": [
       "<Figure size 432x288 with 1 Axes>"
      ]
     },
     "metadata": {
      "needs_background": "light"
     },
     "output_type": "display_data"
    }
   ],
   "source": [
    "# all patches combined\n",
    "plt.bar(types, np.sum(type_counts_all, axis=0), width=0.3)\n",
    "plt.ylabel('count')\n",
    "plt.title(\"{} out of {}\".format(np.sum(type_counts_all, axis=0), np.sum(type_counts_all)))\n",
    "\n",
    "plt.savefig(\"figure/cell_type_hist_all.pdf\")\n",
    "plt.savefig(\"figure/cell_type_hist_all.png\")\n",
    "\n",
    "# ratio\n",
    "np.sum(type_counts_all, axis=0) / np.sum(type_counts_all)"
   ]
  },
  {
   "cell_type": "code",
   "execution_count": 36,
   "metadata": {},
   "outputs": [
    {
     "data": {
      "text/plain": [
       "array([[0.16949153, 0.44915254, 0.38135593],\n",
       "       [0.32173913, 0.4       , 0.27826087],\n",
       "       [0.21794872, 0.44871795, 0.33333333],\n",
       "       [0.26595745, 0.31914894, 0.41489362]])"
      ]
     },
     "execution_count": 36,
     "metadata": {},
     "output_type": "execute_result"
    },
    {
     "data": {
      "image/png": "[encoded data removed]",
      "text/plain": [
       "<Figure size 432x288 with 1 Axes>"
      ]
     },
     "metadata": {
      "needs_background": "light"
     },
     "output_type": "display_data"
    }
   ],
   "source": [
    "# calc weighted average of ratios (not much difference)\n",
    "type_counts_all_ratio = type_counts_all / np.sum(type_counts_all, axis=1, keepdims=True)\n",
    "\n",
    "plt.bar(types, np.mean(type_counts_all_ratio, axis=0), width=0.3)\n",
    "plt.ylabel('ratio')\n",
    "plt.title(\"{} (total {} cells)\".format(np.mean(type_counts_all_ratio, axis=0), np.sum(type_counts_all)))\n",
    "\n",
    "type_counts_all_ratio"
   ]
  },
  {
   "cell_type": "code",
   "execution_count": 37,
   "metadata": {},
   "outputs": [
    {
     "data": {
      "text/plain": [
       "<ErrorbarContainer object of 3 artists>"
      ]
     },
     "execution_count": 37,
     "metadata": {},
     "output_type": "execute_result"
    },
    {
     "data": {
      "image/png": "[encoded data removed]",
      "text/plain": [
       "<Figure size 432x288 with 1 Axes>"
      ]
     },
     "metadata": {
      "needs_background": "light"
     },
     "output_type": "display_data"
    }
   ],
   "source": [
    "plt.errorbar(types, np.mean(type_counts_all_ratio, axis=0), np.std(type_counts_all_ratio, axis=0))"
   ]
  },
  {
   "cell_type": "code",
   "execution_count": null,
   "metadata": {},
   "outputs": [],
   "source": []
  },
  {
   "cell_type": "markdown",
   "metadata": {},
   "source": [
    "## 추가 정보 (Data_PSTH_CellType.xlsx)\n",
    "\t\t\t\t\t\t\t\t\t\t\t\t\t\t\t\t\t\t\n",
    "7\t11\t24\t\t\t8\t7\t27\t\t\t8\t14\t19\t\t\t8\t5\t3\n",
    "    "
   ]
  },
  {
   "cell_type": "code",
   "execution_count": null,
   "metadata": {},
   "outputs": [],
   "source": [
    "# 1st set \n",
    "#data = pd.read_excel(\"data/cell_type.xlsx\", usecols=\"A:D\")  # 20180618\n",
    "#data = pd.read_excel(\"data/cell_type.xlsx\", usecols=\"F:I\")   # 20190621\n",
    "data = pd.read_excel(\"data/cell_type.xlsx\", usecols=\"P:S\")   # 20180626\n",
    "# data.head()\n",
    "\n",
    "columns = list(data.columns)\n",
    "\n",
    "dataset_name = columns[0]\n",
    "print(dataset_name)\n",
    "\n",
    "columns[0] = \"channel_name\"\n",
    "\n",
    "# remove \".XXX\"\n",
    "for i, col in enumerate(columns):\n",
    "    idx = col.find(\".\")\n",
    "    #print(idx)\n",
    "    \n",
    "    if idx > 0:\n",
    "        columns[i] = col[:idx]\n",
    "        #print(col[:idx])\n",
    "\n",
    "data.columns = columns\n",
    "\n",
    "# remove empty row\n",
    "idx = pd.isna(data[\"channel_name\"])\n",
    "idx\n",
    "data.drop(data.index[idx], inplace=True)\n",
    "\n",
    "data"
   ]
  },
  {
   "cell_type": "code",
   "execution_count": null,
   "metadata": {},
   "outputs": [],
   "source": [
    "idx_on = data[\"ON\"] == \"O\"\n",
    "idx_off = data[\"OFF\"] == \"O\"\n",
    "idx_on_off = data[\"ON/OFF\"] == \"O\"\n"
   ]
  },
  {
   "cell_type": "code",
   "execution_count": null,
   "metadata": {},
   "outputs": [],
   "source": [
    "# generate \"cell_type\" column\n",
    "data[\"cell_type\"] = \"unknown\"\n",
    "\n",
    "data.loc[idx_on,\"cell_type\"] = \"ON\"\n",
    "data.loc[idx_off,\"cell_type\"] = \"OFF\"\n",
    "data.loc[idx_on_off,\"cell_type\"] = \"ON/OFF\"\n",
    "\n",
    "data.head()\n"
   ]
  },
  {
   "cell_type": "code",
   "execution_count": null,
   "metadata": {},
   "outputs": [],
   "source": [
    "data[\"cell_type\"].hist()"
   ]
  },
  {
   "cell_type": "code",
   "execution_count": null,
   "metadata": {},
   "outputs": [],
   "source": [
    "# save \n",
    "data.to_csv(\"data/{}_cell_type.csv\".format(dataset_name), columns=[\"channel_name\",\"cell_type\"], index=None)"
   ]
  },
  {
   "cell_type": "code",
   "execution_count": null,
   "metadata": {},
   "outputs": [],
   "source": []
  },
  {
   "cell_type": "markdown",
   "metadata": {},
   "source": [
    "## more cell types"
   ]
  },
  {
   "cell_type": "code",
   "execution_count": null,
   "metadata": {},
   "outputs": [],
   "source": []
  }
 ],
 "metadata": {
  "kernelspec": {
   "display_name": "Python 3",
   "language": "python",
   "name": "python3"
  },
  "language_info": {
   "codemirror_mode": {
    "name": "ipython",
    "version": 3
   },
   "file_extension": ".py",
   "mimetype": "text/x-python",
   "name": "python",
   "nbconvert_exporter": "python",
   "pygments_lexer": "ipython3",
   "version": "3.7.5"
  }
 },
 "nbformat": 4,
 "nbformat_minor": 2
}
