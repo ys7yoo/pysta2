{
 "cells": [
  {
   "cell_type": "code",
   "execution_count": 1,
   "metadata": {},
   "outputs": [],
   "source": [
    "import pandas as pd\n",
    "import numpy as np\n",
    "import matplotlib.pyplot as plt\n",
    "import os\n",
    "\n",
    "import pysta\n",
    "import stc\n",
    "import stcl\n",
    "%load_ext autoreload\n",
    "%autoreload 2"
   ]
  },
  {
   "cell_type": "markdown",
   "metadata": {},
   "source": [
    "## load mat file and save it to npz"
   ]
  },
  {
   "cell_type": "code",
   "execution_count": null,
   "metadata": {},
   "outputs": [],
   "source": [
    "# load stim and spike data\n",
    "dataset_name = \"20180618\"\n",
    "# dataset_name = \"20180621\"\n",
    "# dataset_name = \"20180626\"\n",
    "# dataset_name = \"20180828\"\n",
    "data_filename = \"data/{}.mat\".format(dataset_name)\n",
    "\n",
    "stim, spike_train, info = pysta.load_data_mat(data_filename)\n",
    "\n",
    "info[\"channel_names\"]\n",
    "\n",
    "dt = 1000/info[\"sampling_rate\"] # in ms"
   ]
  },
  {
   "cell_type": "code",
   "execution_count": null,
   "metadata": {},
   "outputs": [],
   "source": [
    "# save to npz file\n",
    "np.savez(dataset_name, dataset_name=dataset_name, stim=stim, spike_train=spike_train, info=info)"
   ]
  },
  {
   "cell_type": "markdown",
   "metadata": {},
   "source": [
    "## to load data"
   ]
  },
  {
   "cell_type": "code",
   "execution_count": null,
   "metadata": {},
   "outputs": [],
   "source": [
    "import numpy as np\n",
    "\n",
    "data=np.load(\"20180626.npz\")\n",
    "data.files"
   ]
  },
  {
   "cell_type": "code",
   "execution_count": null,
   "metadata": {},
   "outputs": [],
   "source": [
    "def load_stim_data(dataset_name):\n",
    "    with np.load(dataset_name+\".npz\", allow_pickle=True) as data:\n",
    "        print(data.files)\n",
    "        stim=data[\"stim\"]\n",
    "        spike_train=data[\"spike_train\"]\n",
    "        info=data[\"info\"].item()\n",
    "    print(stim.shape)\n",
    "    print(spike_train.shape)\n",
    "    print(info)\n",
    "    \n",
    "    return stim, spike_train, info\n",
    "\n",
    "dataset_name = \"20180626\"\n",
    "stim, spike_train, info = load_stim_data(dataset_name)"
   ]
  },
  {
   "cell_type": "code",
   "execution_count": null,
   "metadata": {},
   "outputs": [],
   "source": [
    "info[\"channel_names\"]"
   ]
  },
  {
   "cell_type": "code",
   "execution_count": null,
   "metadata": {},
   "outputs": [],
   "source": []
  },
  {
   "cell_type": "markdown",
   "metadata": {},
   "source": [
    "## moved to pysta"
   ]
  },
  {
   "cell_type": "code",
   "execution_count": 5,
   "metadata": {},
   "outputs": [
    {
     "name": "stdout",
     "output_type": "stream",
     "text": [
      "['dataset_name', 'stim', 'spike_train', 'info']\n",
      "(64, 9000)\n",
      "(156, 9000)\n",
      "{'channel_names': ['ch_12a', 'ch_12b', 'ch_12c', 'ch_13a', 'ch_13b', 'ch_13c', 'ch_13d', 'ch_13e', 'ch_14a', 'ch_14b', 'ch_14c', 'ch_14d', 'ch_16a', 'ch_16b', 'ch_16c', 'ch_17a', 'ch_17b', 'ch_17c', 'ch_17d', 'ch_21a', 'ch_21b', 'ch_21c', 'ch_21d', 'ch_21e', 'ch_22a', 'ch_22b', 'ch_23a', 'ch_23b', 'ch_23c', 'ch_23d', 'ch_25a', 'ch_25b', 'ch_25c', 'ch_26a', 'ch_26b', 'ch_26c', 'ch_26d', 'ch_27a', 'ch_27b', 'ch_27c', 'ch_27d', 'ch_28a', 'ch_28b', 'ch_28c', 'ch_31a', 'ch_31b', 'ch_31c', 'ch_31d', 'ch_32a', 'ch_32b', 'ch_32c', 'ch_33a', 'ch_33b', 'ch_33c', 'ch_33d', 'ch_35a', 'ch_35b', 'ch_35c', 'ch_35d', 'ch_35e', 'ch_35f', 'ch_35g', 'ch_36a', 'ch_36b', 'ch_36c', 'ch_36d', 'ch_37a', 'ch_37b', 'ch_37c', 'ch_37d', 'ch_37e', 'ch_38a', 'ch_41a', 'ch_41b', 'ch_41c', 'ch_41d', 'ch_42a', 'ch_42b', 'ch_42c', 'ch_43a', 'ch_43b', 'ch_43c', 'ch_45a', 'ch_45b', 'ch_45c', 'ch_46a', 'ch_46b', 'ch_47a', 'ch_48a', 'ch_48b', 'ch_48c', 'ch_48d', 'ch_48e', 'ch_51a', 'ch_51b', 'ch_53a', 'ch_53b', 'ch_53c', 'ch_53d', 'ch_54a', 'ch_54b', 'ch_54c', 'ch_54d', 'ch_56a', 'ch_56b', 'ch_58a', 'ch_61a', 'ch_61b', 'ch_62a', 'ch_62b', 'ch_63a', 'ch_63b', 'ch_63c', 'ch_63d', 'ch_63e', 'ch_64a', 'ch_65a', 'ch_65b', 'ch_65c', 'ch_68a', 'ch_68b', 'ch_71a', 'ch_71b', 'ch_71c', 'ch_72a', 'ch_72b', 'ch_72c', 'ch_72d', 'ch_72e', 'ch_73a', 'ch_73b', 'ch_73c', 'ch_74a', 'ch_74b', 'ch_74c', 'ch_74d', 'ch_75a', 'ch_76a', 'ch_76b', 'ch_76c', 'ch_77a', 'ch_82a', 'ch_82b', 'ch_82c', 'ch_83a', 'ch_83b', 'ch_83c', 'ch_85a', 'ch_85b', 'ch_86a', 'ch_86b', 'ch_86c', 'ch_86d', 'ch_87a', 'ch_87b', 'ch_87c'], 'sampling_rate': 10.0}\n"
     ]
    },
    {
     "data": {
      "text/html": [
       "<div>\n",
       "<style scoped>\n",
       "    .dataframe tbody tr th:only-of-type {\n",
       "        vertical-align: middle;\n",
       "    }\n",
       "\n",
       "    .dataframe tbody tr th {\n",
       "        vertical-align: top;\n",
       "    }\n",
       "\n",
       "    .dataframe thead th {\n",
       "        text-align: right;\n",
       "    }\n",
       "</style>\n",
       "<table border=\"1\" class=\"dataframe\">\n",
       "  <thead>\n",
       "    <tr style=\"text-align: right;\">\n",
       "      <th></th>\n",
       "      <th>channel_name</th>\n",
       "      <th>cell_type</th>\n",
       "    </tr>\n",
       "  </thead>\n",
       "  <tbody>\n",
       "    <tr>\n",
       "      <th>0</th>\n",
       "      <td>12b</td>\n",
       "      <td>OFF</td>\n",
       "    </tr>\n",
       "    <tr>\n",
       "      <th>1</th>\n",
       "      <td>14a</td>\n",
       "      <td>OFF</td>\n",
       "    </tr>\n",
       "    <tr>\n",
       "      <th>2</th>\n",
       "      <td>14b</td>\n",
       "      <td>OFF</td>\n",
       "    </tr>\n",
       "    <tr>\n",
       "      <th>3</th>\n",
       "      <td>17a</td>\n",
       "      <td>ON</td>\n",
       "    </tr>\n",
       "    <tr>\n",
       "      <th>4</th>\n",
       "      <td>21a</td>\n",
       "      <td>OFF</td>\n",
       "    </tr>\n",
       "  </tbody>\n",
       "</table>\n",
       "</div>"
      ],
      "text/plain": [
       "  channel_name cell_type\n",
       "0          12b       OFF\n",
       "1          14a       OFF\n",
       "2          14b       OFF\n",
       "3          17a        ON\n",
       "4          21a       OFF"
      ]
     },
     "execution_count": 5,
     "metadata": {},
     "output_type": "execute_result"
    }
   ],
   "source": [
    "folder_name = \"data\"\n",
    "\n",
    "#dataset_name = \"20180618\"\n",
    "#dataset_name = \"20180621\"\n",
    "dataset_name = \"20180626\"\n",
    "#dataset_name = \"20180828\"\n",
    "\n",
    "stim, spike_train, info = pysta.load_data(dataset_name, folder_name)\n",
    "\n",
    "info[\"channel_names\"]\n",
    "\n",
    "dt = 1000/info[\"sampling_rate\"] # in ms\n",
    "\n",
    "# load cell type\n",
    "# cell_types_df = pd.read_csv(os.path.join(folder_name, \"{}_cell_type.csv\".format(dataset_name)))\n",
    "cell_types = pysta.load_cell_type(dataset_name, folder_name)\n",
    "cell_types.head()"
   ]
  },
  {
   "cell_type": "code",
   "execution_count": null,
   "metadata": {},
   "outputs": [],
   "source": [
    "channel_names = [ch.replace(\"ch_\",\"\") for ch in info[\"channel_names\"]]\n",
    "\n",
    "channel_names_df = pd.DataFrame({\"channel_name\": channel_names})\n",
    "channel_names_df.head()"
   ]
  },
  {
   "cell_type": "code",
   "execution_count": null,
   "metadata": {},
   "outputs": [],
   "source": [
    "cell_types_df.head()"
   ]
  },
  {
   "cell_type": "code",
   "execution_count": null,
   "metadata": {},
   "outputs": [],
   "source": [
    "info[\"cell_type\"] = list(channel_names_df.merge(cell_types_df, on=\"channel_name\", how=\"outer\")[\"cell_type\"])"
   ]
  },
  {
   "cell_type": "code",
   "execution_count": null,
   "metadata": {},
   "outputs": [],
   "source": [
    "info[\"cell_type\"]"
   ]
  },
  {
   "cell_type": "markdown",
   "metadata": {},
   "source": [
    "## combine load data and cell type"
   ]
  },
  {
   "cell_type": "code",
   "execution_count": 26,
   "metadata": {},
   "outputs": [
    {
     "name": "stdout",
     "output_type": "stream",
     "text": [
      "['dataset_name', 'stim', 'spike_train', 'info']\n",
      "(64, 9000)\n",
      "(156, 9000)\n",
      "{'channel_names': ['ch_12a', 'ch_12b', 'ch_12c', 'ch_13a', 'ch_13b', 'ch_13c', 'ch_13d', 'ch_13e', 'ch_14a', 'ch_14b', 'ch_14c', 'ch_14d', 'ch_16a', 'ch_16b', 'ch_16c', 'ch_17a', 'ch_17b', 'ch_17c', 'ch_17d', 'ch_21a', 'ch_21b', 'ch_21c', 'ch_21d', 'ch_21e', 'ch_22a', 'ch_22b', 'ch_23a', 'ch_23b', 'ch_23c', 'ch_23d', 'ch_25a', 'ch_25b', 'ch_25c', 'ch_26a', 'ch_26b', 'ch_26c', 'ch_26d', 'ch_27a', 'ch_27b', 'ch_27c', 'ch_27d', 'ch_28a', 'ch_28b', 'ch_28c', 'ch_31a', 'ch_31b', 'ch_31c', 'ch_31d', 'ch_32a', 'ch_32b', 'ch_32c', 'ch_33a', 'ch_33b', 'ch_33c', 'ch_33d', 'ch_35a', 'ch_35b', 'ch_35c', 'ch_35d', 'ch_35e', 'ch_35f', 'ch_35g', 'ch_36a', 'ch_36b', 'ch_36c', 'ch_36d', 'ch_37a', 'ch_37b', 'ch_37c', 'ch_37d', 'ch_37e', 'ch_38a', 'ch_41a', 'ch_41b', 'ch_41c', 'ch_41d', 'ch_42a', 'ch_42b', 'ch_42c', 'ch_43a', 'ch_43b', 'ch_43c', 'ch_45a', 'ch_45b', 'ch_45c', 'ch_46a', 'ch_46b', 'ch_47a', 'ch_48a', 'ch_48b', 'ch_48c', 'ch_48d', 'ch_48e', 'ch_51a', 'ch_51b', 'ch_53a', 'ch_53b', 'ch_53c', 'ch_53d', 'ch_54a', 'ch_54b', 'ch_54c', 'ch_54d', 'ch_56a', 'ch_56b', 'ch_58a', 'ch_61a', 'ch_61b', 'ch_62a', 'ch_62b', 'ch_63a', 'ch_63b', 'ch_63c', 'ch_63d', 'ch_63e', 'ch_64a', 'ch_65a', 'ch_65b', 'ch_65c', 'ch_68a', 'ch_68b', 'ch_71a', 'ch_71b', 'ch_71c', 'ch_72a', 'ch_72b', 'ch_72c', 'ch_72d', 'ch_72e', 'ch_73a', 'ch_73b', 'ch_73c', 'ch_74a', 'ch_74b', 'ch_74c', 'ch_74d', 'ch_75a', 'ch_76a', 'ch_76b', 'ch_76c', 'ch_77a', 'ch_82a', 'ch_82b', 'ch_82c', 'ch_83a', 'ch_83b', 'ch_83c', 'ch_85a', 'ch_85b', 'ch_86a', 'ch_86b', 'ch_86c', 'ch_86d', 'ch_87a', 'ch_87b', 'ch_87c'], 'sampling_rate': 10.0, 'cell_types': ['unknown', 'OFF', 'unknown', 'unknown', 'unknown', 'unknown', 'unknown', 'unknown', 'OFF', 'OFF', 'unknown', 'unknown', 'unknown', 'unknown', 'unknown', 'ON', 'unknown', 'unknown', 'unknown', 'OFF', 'unknown', 'unknown', 'unknown', 'unknown', 'ON/OFF', 'ON/OFF', 'unknown', 'ON/OFF', 'unknown', 'unknown', 'ON', 'ON/OFF', 'unknown', 'ON/OFF', 'ON/OFF', 'unknown', 'unknown', 'ON/OFF', 'ON', 'unknown', 'unknown', 'unknown', 'unknown', 'ON', 'unknown', 'ON', 'unknown', 'unknown', 'unknown', 'unknown', 'unknown', 'ON', 'ON/OFF', 'unknown', 'unknown', 'unknown', 'unknown', 'unknown', 'unknown', 'unknown', 'unknown', 'unknown', 'unknown', 'unknown', 'ON/OFF', 'unknown', 'unknown', 'ON/OFF', 'ON/OFF', 'unknown', 'unknown', 'unknown', 'OFF', 'unknown', 'unknown', 'unknown', 'unknown', 'unknown', 'unknown', 'unknown', 'unknown', 'unknown', 'ON', 'unknown', 'unknown', 'unknown', 'unknown', 'OFF', 'unknown', 'unknown', 'unknown', 'unknown', 'unknown', 'unknown', 'unknown', 'unknown', 'unknown', 'unknown', 'unknown', 'OFF', 'unknown', 'unknown', 'unknown', 'OFF', 'unknown', 'unknown', 'OFF', 'unknown', 'unknown', 'unknown', 'OFF', 'unknown', 'unknown', 'unknown', 'unknown', 'unknown', 'OFF', 'unknown', 'unknown', 'unknown', 'unknown', 'unknown', 'ON/OFF', 'ON/OFF', 'OFF', 'unknown', 'unknown', 'unknown', 'unknown', 'ON', 'unknown', 'unknown', 'OFF', 'OFF', 'unknown', 'unknown', 'ON/OFF', 'unknown', 'unknown', 'unknown', 'unknown', 'unknown', 'ON/OFF', 'unknown', 'ON/OFF', 'unknown', 'ON/OFF', 'unknown', 'unknown', 'ON/OFF', 'unknown', 'unknown', 'unknown', 'ON/OFF', 'unknown', 'unknown']}\n"
     ]
    }
   ],
   "source": [
    "folder_name = \"data\"\n",
    "\n",
    "#dataset_name = \"20180618\"\n",
    "#dataset_name = \"20180621\"\n",
    "dataset_name = \"20180626\"\n",
    "#dataset_name = \"20180828\"\n",
    "\n",
    "stim, spike_train, info = pysta.load_data(dataset_name, folder_name)\n",
    "\n",
    "info[\"channel_names\"]\n",
    "\n",
    "dt = 1000/info[\"sampling_rate\"] # in ms"
   ]
  },
  {
   "cell_type": "code",
   "execution_count": 36,
   "metadata": {},
   "outputs": [
    {
     "data": {
      "text/plain": [
       "False"
      ]
     },
     "execution_count": 36,
     "metadata": {},
     "output_type": "execute_result"
    }
   ],
   "source": [
    "info[\"cell_types\"][64] is \"unknown\""
   ]
  },
  {
   "cell_type": "code",
   "execution_count": 37,
   "metadata": {},
   "outputs": [
    {
     "data": {
      "text/plain": [
       "True"
      ]
     },
     "execution_count": 37,
     "metadata": {},
     "output_type": "execute_result"
    }
   ],
   "source": [
    "info[\"cell_types\"][0] is 'unknown'"
   ]
  },
  {
   "cell_type": "code",
   "execution_count": null,
   "metadata": {},
   "outputs": [],
   "source": []
  }
 ],
 "metadata": {
  "kernelspec": {
   "display_name": "Python 3",
   "language": "python",
   "name": "python3"
  },
  "language_info": {
   "codemirror_mode": {
    "name": "ipython",
    "version": 3
   },
   "file_extension": ".py",
   "mimetype": "text/x-python",
   "name": "python",
   "nbconvert_exporter": "python",
   "pygments_lexer": "ipython3",
   "version": "3.6.9"
  }
 },
 "nbformat": 4,
 "nbformat_minor": 2
}
