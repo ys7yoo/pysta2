{
 "cells": [
  {
   "cell_type": "code",
   "execution_count": 1,
   "metadata": {},
   "outputs": [],
   "source": [
    "import pandas as pd\n",
    "import numpy as np\n",
    "import matplotlib.pyplot as plt\n",
    "import seaborn as sns\n",
    "\n",
    "import pysta\n",
    "import stcl\n",
    "\n",
    "import os\n",
    "\n",
    "%load_ext autoreload\n",
    "%autoreload 2"
   ]
  },
  {
   "cell_type": "code",
   "execution_count": 2,
   "metadata": {},
   "outputs": [],
   "source": [
    "def remove_box():\n",
    "    # remove top & right box\n",
    "    # https://stackoverflow.com/a/28720127\n",
    "    ax=plt.gca()\n",
    "    ax.spines['top'].set_visible(False)\n",
    "    ax.spines['right'].set_visible(False)\n",
    "# ANOVA\n",
    "# https://www.pythonfordatascience.org/anova-python/\n",
    "from scipy import stats\n",
    "def do_anova(df, col, key='contrast', key_values=[50, 80, 100]):\n",
    "    return stats.f_oneway(df[col][df[key] == key_values[0]],\n",
    "                           df[col][df[key] == key_values[1]],\n",
    "                           df[col][df[key] == key_values[2]])"
   ]
  },
  {
   "cell_type": "markdown",
   "metadata": {},
   "source": [
    "## run for all cells (OFF LINE)\n",
    "\n",
    "datasets: Gaussian stim with diffent contrasts\n",
    "\n",
    "run\n",
    "```\n",
    "python3 stcl_batch.py --contrast 50\n",
    "python3 stcl_batch.py --contrast 80\n",
    "python3 stcl_batch.py --contrast 100\n",
    "```"
   ]
  },
  {
   "cell_type": "markdown",
   "metadata": {},
   "source": [
    "## read clustering results"
   ]
  },
  {
   "cell_type": "code",
   "execution_count": 3,
   "metadata": {},
   "outputs": [],
   "source": [
    "contrasts = [50, 80, 100]\n",
    "tap = 8 # -700 ms ~ 0\n",
    "cluster_dim = 2\n",
    "\n",
    "dfs = []\n",
    "for contrast in contrasts:\n",
    "\n",
    "    folder_name = \"results/gaussian_stim_contrast{}_tap{}_cluster_dim{}\".format(contrast, tap, cluster_dim)\n",
    "    filename = os.path.join(folder_name, \"clusters.csv\")\n",
    "\n",
    "    clusters = pd.read_csv(filename)\n",
    "    # weights\n",
    "    # weights.head()\n",
    "\n",
    "    clusters['contrast'] = contrast\n",
    "    clusters[\"max_weight\"] = np.maximum(clusters[\"weight1\"], clusters[\"weight2\"])\n",
    "    \n",
    "    \n",
    "    dfs.append(clusters)\n",
    "\n",
    "    \n",
    "clusters_all = pd.concat(dfs)\n",
    "# # combine number of samples\n",
    "# clusters = clusters.merge(num_samples_df, on=\"channel_name\") #, how=\"outer\")\n",
    "\n",
    "# # combine largest eigen values\n",
    "# clusters = clusters.merge(largest_eigen_values_df, on=\"channel_name\", how=\"outer\")\n",
    "\n",
    "\n",
    "# filename = os.path.join(folder_name, \"clusters_combined.csv\")\n",
    "# clusters.to_csv(filename, index=None)"
   ]
  },
  {
   "cell_type": "code",
   "execution_count": 4,
   "metadata": {},
   "outputs": [
    {
     "data": {
      "text/plain": [
       "Text(0.5, 1.0, 'ANOVA p=0.00')"
      ]
     },
     "execution_count": 4,
     "metadata": {},
     "output_type": "execute_result"
    },
    {
     "data": {
      "image/png": "[encoded data removed]",
      "text/plain": [
       "<Figure size 432x288 with 1 Axes>"
      ]
     },
     "metadata": {
      "needs_background": "light"
     },
     "output_type": "display_data"
    }
   ],
   "source": [
    "col = 'sta_p2p'\n",
    "clusters_all.boxplot(col, by='contrast', grid=False)\n",
    "plt.title(None)\n",
    "plt.ylabel(col)\n",
    "# remove_box()\n",
    "\n",
    "val, p = do_anova(clusters_all, col)\n",
    "plt.suptitle('')\n",
    "plt.title ('ANOVA p={:.2f}'.format(p))\n",
    "\n",
    "# plt.savefig(os.path.join(data_path, 'figure', 'sta_p2p_vs_contrast.png'), dpi=150)"
   ]
  },
  {
   "cell_type": "code",
   "execution_count": 5,
   "metadata": {},
   "outputs": [],
   "source": [
    "# print(len(clusters_all)/3)\n",
    "# clusters_all['cell_type'].value_counts()"
   ]
  },
  {
   "cell_type": "code",
   "execution_count": 6,
   "metadata": {},
   "outputs": [],
   "source": [
    "idx_on = clusters_all['cell_type']=='ON'\n",
    "idx_off = clusters_all['cell_type']=='OFF'\n",
    "idx_on_off = clusters_all['cell_type']== 'ON-OFF'\n",
    "\n"
   ]
  },
  {
   "cell_type": "code",
   "execution_count": 7,
   "metadata": {},
   "outputs": [
    {
     "data": {
      "image/png": "[encoded data removed]",
      "text/plain": [
       "<Figure size 360x252 with 1 Axes>"
      ]
     },
     "metadata": {
      "needs_background": "light"
     },
     "output_type": "display_data"
    }
   ],
   "source": [
    "plt.figure(figsize=(5,3.5))\n",
    "\n",
    "key = 'contrast'\n",
    "col = 'sta_p2p'\n",
    "\n",
    "colors = ['r','b','g']\n",
    "linestyles = [':', ':', '--']\n",
    "for i, idx in enumerate([idx_on, idx_off, idx_on_off]):\n",
    "    plt.errorbar([50, 80, 100], clusters_all.loc[idx,:].groupby(key)[col].mean(), clusters_all.loc[idx,:].groupby(key)[col].sem(),\n",
    "                 linestyle=linestyles[i], color=colors[i], capsize=5)\n",
    "\n",
    "# all centers \n",
    "# combine two centers\n",
    "centers_all = pd.concat([clusters_all[['channel_name', 'cell_type', 'contrast', 'center0_p2p']].rename(columns={'center0_p2p': 'center_p2p'}),\n",
    "                        clusters_all[['channel_name', 'cell_type', 'contrast', 'center1_p2p']].rename(columns={'center1_p2p': 'center_p2p'})])\n",
    "\n",
    "idx = centers_all['cell_type'] == 'ON-OFF'\n",
    "\n",
    "col = 'center_p2p'\n",
    "plt.errorbar([50, 80, 100], centers_all.loc[idx,:].groupby(key)[col].mean(), centers_all.loc[idx,:].groupby(key)[col].sem(),\n",
    "             color=colors[i], capsize=5)\n",
    "\n",
    "# col = 'center0_p2p'\n",
    "# plt.errorbar([50, 80, 100], clusters_all.loc[idx,:].groupby(key)[col].mean(), clusters_all.loc[idx,:].groupby(key)[col].sem(),\n",
    "#              color=colors[i], capsize=5)\n",
    "\n",
    "# col = 'center1_p2p'\n",
    "# plt.errorbar([50, 80, 100], clusters_all.loc[idx,:].groupby(key)[col].mean(), clusters_all.loc[idx,:].groupby(key)[col].sem(),\n",
    "#              color=colors[i], capsize=5)\n",
    "    \n",
    "plt.xlabel('contrast')\n",
    "plt.ylabel(col)\n",
    "plt.legend(['STA of ON ', 'STA of OFF', 'STA of ON-OFF', 'STCL of ON-OFF'])\n",
    "\n",
    "\n",
    "# print(do_anova(clusters_all.loc[idx_on,:], col))\n",
    "# print(do_anova(clusters_all.loc[idx_off,:], col))\n",
    "# print(do_anova(clusters_all.loc[idx_on_off,:], col))\n",
    "remove_box()\n",
    "\n",
    "plt.ylabel('peak to peak')\n",
    "\n",
    "plt.savefig('figure/contrast_vs_peak_diff.png')\n",
    "plt.savefig('figure/contrast_vs_peak_diff.pdf')"
   ]
  },
  {
   "cell_type": "markdown",
   "metadata": {},
   "source": [
    "## statistical test for each contrast\n",
    "\n",
    "ON or OFF vs. ON-OFF"
   ]
  },
  {
   "cell_type": "code",
   "execution_count": 20,
   "metadata": {},
   "outputs": [
    {
     "data": {
      "text/html": [
       "<div>\n",
       "<style scoped>\n",
       "    .dataframe tbody tr th:only-of-type {\n",
       "        vertical-align: middle;\n",
       "    }\n",
       "\n",
       "    .dataframe tbody tr th {\n",
       "        vertical-align: top;\n",
       "    }\n",
       "\n",
       "    .dataframe thead th {\n",
       "        text-align: right;\n",
       "    }\n",
       "</style>\n",
       "<table border=\"1\" class=\"dataframe\">\n",
       "  <thead>\n",
       "    <tr style=\"text-align: right;\">\n",
       "      <th></th>\n",
       "      <th>channel_name</th>\n",
       "      <th>num_spikes</th>\n",
       "      <th>cell_type</th>\n",
       "      <th>sta_p2p</th>\n",
       "      <th>sta_std</th>\n",
       "      <th>eig1</th>\n",
       "      <th>eig2</th>\n",
       "      <th>eig3</th>\n",
       "      <th>converged</th>\n",
       "      <th>center0_p2p</th>\n",
       "      <th>center0_std</th>\n",
       "      <th>center1_p2p</th>\n",
       "      <th>center1_std</th>\n",
       "      <th>weight1</th>\n",
       "      <th>weight2</th>\n",
       "      <th>inner_product</th>\n",
       "      <th>contrast</th>\n",
       "      <th>max_weight</th>\n",
       "    </tr>\n",
       "  </thead>\n",
       "  <tbody>\n",
       "    <tr>\n",
       "      <th>1</th>\n",
       "      <td>ch_13a</td>\n",
       "      <td>23449</td>\n",
       "      <td>ON</td>\n",
       "      <td>0.015210</td>\n",
       "      <td>0.002606</td>\n",
       "      <td>0.096227</td>\n",
       "      <td>0.096015</td>\n",
       "      <td>0.095343</td>\n",
       "      <td>True</td>\n",
       "      <td>0.070105</td>\n",
       "      <td>0.010932</td>\n",
       "      <td>0.071305</td>\n",
       "      <td>0.011778</td>\n",
       "      <td>0.509035</td>\n",
       "      <td>0.490965</td>\n",
       "      <td>-0.058905</td>\n",
       "      <td>50</td>\n",
       "      <td>0.509035</td>\n",
       "    </tr>\n",
       "    <tr>\n",
       "      <th>2</th>\n",
       "      <td>ch_13b</td>\n",
       "      <td>8303</td>\n",
       "      <td>ON</td>\n",
       "      <td>0.027597</td>\n",
       "      <td>0.003773</td>\n",
       "      <td>0.107500</td>\n",
       "      <td>0.106082</td>\n",
       "      <td>0.105627</td>\n",
       "      <td>True</td>\n",
       "      <td>0.071176</td>\n",
       "      <td>0.012111</td>\n",
       "      <td>0.088342</td>\n",
       "      <td>0.012329</td>\n",
       "      <td>0.502551</td>\n",
       "      <td>0.497449</td>\n",
       "      <td>-0.061810</td>\n",
       "      <td>50</td>\n",
       "      <td>0.502551</td>\n",
       "    </tr>\n",
       "    <tr>\n",
       "      <th>3</th>\n",
       "      <td>ch_14a</td>\n",
       "      <td>15924</td>\n",
       "      <td>ON</td>\n",
       "      <td>0.015764</td>\n",
       "      <td>0.002658</td>\n",
       "      <td>0.095412</td>\n",
       "      <td>0.094184</td>\n",
       "      <td>0.093359</td>\n",
       "      <td>True</td>\n",
       "      <td>0.065309</td>\n",
       "      <td>0.011196</td>\n",
       "      <td>0.067404</td>\n",
       "      <td>0.011326</td>\n",
       "      <td>0.497300</td>\n",
       "      <td>0.502700</td>\n",
       "      <td>-0.057665</td>\n",
       "      <td>50</td>\n",
       "      <td>0.502700</td>\n",
       "    </tr>\n",
       "    <tr>\n",
       "      <th>5</th>\n",
       "      <td>ch_14c</td>\n",
       "      <td>3866</td>\n",
       "      <td>OFF</td>\n",
       "      <td>0.029373</td>\n",
       "      <td>0.004820</td>\n",
       "      <td>0.126926</td>\n",
       "      <td>0.126190</td>\n",
       "      <td>0.125348</td>\n",
       "      <td>True</td>\n",
       "      <td>0.093517</td>\n",
       "      <td>0.013733</td>\n",
       "      <td>0.084839</td>\n",
       "      <td>0.013304</td>\n",
       "      <td>0.485738</td>\n",
       "      <td>0.514262</td>\n",
       "      <td>-0.069757</td>\n",
       "      <td>50</td>\n",
       "      <td>0.514262</td>\n",
       "    </tr>\n",
       "    <tr>\n",
       "      <th>6</th>\n",
       "      <td>ch_16a</td>\n",
       "      <td>18372</td>\n",
       "      <td>ON</td>\n",
       "      <td>0.016734</td>\n",
       "      <td>0.002264</td>\n",
       "      <td>0.091721</td>\n",
       "      <td>0.091266</td>\n",
       "      <td>0.090291</td>\n",
       "      <td>True</td>\n",
       "      <td>0.073861</td>\n",
       "      <td>0.010783</td>\n",
       "      <td>0.070855</td>\n",
       "      <td>0.011217</td>\n",
       "      <td>0.506555</td>\n",
       "      <td>0.493445</td>\n",
       "      <td>-0.056643</td>\n",
       "      <td>50</td>\n",
       "      <td>0.506555</td>\n",
       "    </tr>\n",
       "  </tbody>\n",
       "</table>\n",
       "</div>"
      ],
      "text/plain": [
       "  channel_name  num_spikes cell_type   sta_p2p   sta_std      eig1      eig2  \\\n",
       "1       ch_13a       23449        ON  0.015210  0.002606  0.096227  0.096015   \n",
       "2       ch_13b        8303        ON  0.027597  0.003773  0.107500  0.106082   \n",
       "3       ch_14a       15924        ON  0.015764  0.002658  0.095412  0.094184   \n",
       "5       ch_14c        3866       OFF  0.029373  0.004820  0.126926  0.126190   \n",
       "6       ch_16a       18372        ON  0.016734  0.002264  0.091721  0.091266   \n",
       "\n",
       "       eig3  converged  center0_p2p  center0_std  center1_p2p  center1_std  \\\n",
       "1  0.095343       True     0.070105     0.010932     0.071305     0.011778   \n",
       "2  0.105627       True     0.071176     0.012111     0.088342     0.012329   \n",
       "3  0.093359       True     0.065309     0.011196     0.067404     0.011326   \n",
       "5  0.125348       True     0.093517     0.013733     0.084839     0.013304   \n",
       "6  0.090291       True     0.073861     0.010783     0.070855     0.011217   \n",
       "\n",
       "    weight1   weight2  inner_product  contrast  max_weight  \n",
       "1  0.509035  0.490965      -0.058905        50    0.509035  \n",
       "2  0.502551  0.497449      -0.061810        50    0.502551  \n",
       "3  0.497300  0.502700      -0.057665        50    0.502700  \n",
       "5  0.485738  0.514262      -0.069757        50    0.514262  \n",
       "6  0.506555  0.493445      -0.056643        50    0.506555  "
      ]
     },
     "execution_count": 20,
     "metadata": {},
     "output_type": "execute_result"
    }
   ],
   "source": [
    "idx_on_or_off = np.logical_or(idx_on, idx_off)\n",
    "np.sum(idx_on), np.sum(idx_off), np.sum(idx_on_or_off)\n",
    "clusters_on_or_off = clusters_all.loc[idx_on_or_off]\n",
    "clusters_on_or_off.head()"
   ]
  },
  {
   "cell_type": "code",
   "execution_count": 56,
   "metadata": {},
   "outputs": [
    {
     "name": "stdout",
     "output_type": "stream",
     "text": [
      "0.095080948125564 0.009424104816820654  vs  0.13798588417875882 0.006792451276445197\n",
      "p= nan\n",
      "0.14554212709945083 0.012998198100019936  vs  0.17573721419846547 0.007654605720267443\n",
      "p= 0.04797541171319076\n",
      "0.1780799361508884 0.0151762301212536  vs  0.2224956928916773 0.011349799773927275\n",
      "p= 0.02061012151311318\n"
     ]
    },
    {
     "data": {
      "image/png": "[encoded data removed]",
      "text/plain": [
       "<Figure size 432x288 with 1 Axes>"
      ]
     },
     "metadata": {
      "needs_background": "light"
     },
     "output_type": "display_data"
    },
    {
     "data": {
      "image/png": "[encoded data removed]",
      "text/plain": [
       "<Figure size 432x288 with 1 Axes>"
      ]
     },
     "metadata": {
      "needs_background": "light"
     },
     "output_type": "display_data"
    },
    {
     "data": {
      "image/png": "[encoded data removed]",
      "text/plain": [
       "<Figure size 432x288 with 1 Axes>"
      ]
     },
     "metadata": {
      "needs_background": "light"
     },
     "output_type": "display_data"
    }
   ],
   "source": [
    "ps = list()\n",
    "for contrast in contrasts:\n",
    "    data1 = clusters_on_or_off.loc[clusters_on_or_off['contrast']==contrast,'sta_p2p']\n",
    "    data2 = centers_all.loc[centers_all['contrast']==contrast, 'center_p2p']\n",
    "\n",
    "    plt.figure()\n",
    "    plt.hist([data1, data2])\n",
    "\n",
    "    print(data1.mean(), data1.sem(), ' vs ', data2.mean(), data2.sem())\n",
    "    tmp, p = stats.ttest_ind(data1.to_list(), data2.to_list(), equal_var=False)\n",
    "    #tmp, p = stats.ttest_ind_from_stats(data1.mean(), data1.std(), len(data1), data2.mean(), data2.std(), len(data2), equal_var=False)\n",
    "    print ('p=', p)\n",
    "    ps.append(p)"
   ]
  },
  {
   "cell_type": "code",
   "execution_count": 50,
   "metadata": {},
   "outputs": [
    {
     "data": {
      "text/plain": [
       "[0.038107985677287286,\n",
       " 0.08192728879898943,\n",
       " 0.024114607052421026,\n",
       " 0.06313080227619161,\n",
       " 0.023494438129761097,\n",
       " 0.03968665728471588,\n",
       " 0.037126994182982265,\n",
       " 0.06065177066624955,\n",
       " 0.07918971539429083,\n",
       " 0.20666782536873024,\n",
       " 0.2416565375812187,\n",
       " 0.08154483045308075,\n",
       " 0.15963983391675307,\n",
       " 0.09969610681961427,\n",
       " 0.3529027287878658,\n",
       " 0.07094126901432185,\n",
       " 0.21137575716090803,\n",
       " 0.07485432748818455,\n",
       " 0.16120798774695433,\n",
       " 0.09809938548140727,\n",
       " 0.07678445146936291,\n",
       " 0.22211176777071667,\n",
       " 0.15663822123833654,\n",
       " 0.2297016080114148,\n",
       " 0.1476657829176204,\n",
       " 0.053339955763703366,\n",
       " 0.3679613822271014,\n",
       " 0.22491714926329104,\n",
       " 0.15940776945776713,\n",
       " 0.3746439460909328,\n",
       " 0.27308541804465586,\n",
       " 0.3625197669327892,\n",
       " 0.44632738389653936,\n",
       " 0.08337243643565534,\n",
       " 0.14367311893246593,\n",
       " 0.20998458040986545,\n",
       " 0.11635923078819282,\n",
       " 0.3222373318398591,\n",
       " 0.0937405244842417,\n",
       " 0.08903707950267009,\n",
       " 0.06333185541180353,\n",
       " 0.2846748673180467,\n",
       " 0.3994550518907895,\n",
       " 0.24177739503495665,\n",
       " 0.16800908386564295,\n",
       " 0.08075667392055047,\n",
       " 0.2664344662973939,\n",
       " 0.16989607072267415,\n",
       " 0.07622294054106615,\n",
       " 0.3862625406886477,\n",
       " 0.07622153094905937,\n",
       " 0.2287288637287633,\n",
       " 0.3891761305210544,\n",
       " 0.17029145611282415,\n",
       " 0.09336721694721606,\n",
       " 0.23610299333629345,\n",
       " 0.29340274248600035,\n",
       " 0.12771756862010716,\n",
       " 0.3953610297504136]"
      ]
     },
     "execution_count": 50,
     "metadata": {},
     "output_type": "execute_result"
    }
   ],
   "source": [
    "data1.to_list()"
   ]
  },
  {
   "cell_type": "code",
   "execution_count": 42,
   "metadata": {},
   "outputs": [
    {
     "data": {
      "text/plain": [
       "(0.13798588417875882, 0.006792451276445197)"
      ]
     },
     "execution_count": 42,
     "metadata": {},
     "output_type": "execute_result"
    }
   ],
   "source": [
    "data2.mean(), data2.sem()"
   ]
  },
  {
   "cell_type": "code",
   "execution_count": 30,
   "metadata": {},
   "outputs": [
    {
     "data": {
      "text/plain": [
       "1      0.015210\n",
       "2      0.027597\n",
       "3      0.015764\n",
       "5      0.029373\n",
       "6      0.016734\n",
       "7      0.027752\n",
       "9      0.027688\n",
       "10     0.019887\n",
       "11     0.040265\n",
       "13     0.032370\n",
       "14     0.268989\n",
       "16     0.037941\n",
       "17     0.059091\n",
       "18     0.016864\n",
       "19     0.238594\n",
       "22     0.029036\n",
       "23     0.068864\n",
       "24     0.054909\n",
       "25     0.069023\n",
       "27     0.025262\n",
       "28     0.065270\n",
       "30     0.120968\n",
       "34     0.077060\n",
       "36     0.136638\n",
       "38     0.106498\n",
       "39     0.028924\n",
       "41     0.246357\n",
       "44     0.105499\n",
       "46     0.082743\n",
       "47     0.211096\n",
       "49     0.171832\n",
       "51     0.238775\n",
       "52     0.142002\n",
       "53     0.028950\n",
       "54     0.096627\n",
       "55     0.153121\n",
       "57     0.073225\n",
       "58     0.149827\n",
       "60     0.098464\n",
       "61     0.029237\n",
       "63     0.046579\n",
       "64     0.074333\n",
       "68     0.214827\n",
       "69     0.148655\n",
       "71     0.160451\n",
       "73     0.052642\n",
       "74     0.129651\n",
       "80     0.069923\n",
       "83     0.036184\n",
       "87     0.288377\n",
       "88     0.036700\n",
       "91     0.094598\n",
       "92     0.152979\n",
       "93     0.072049\n",
       "95     0.044517\n",
       "97     0.112608\n",
       "101    0.157858\n",
       "102    0.052656\n",
       "105    0.179860\n",
       "Name: sta_p2p, dtype: float64"
      ]
     },
     "execution_count": 30,
     "metadata": {},
     "output_type": "execute_result"
    }
   ],
   "source": [
    "data1['sta_p2p']\n",
    "# data2['center_p2p']"
   ]
  },
  {
   "cell_type": "code",
   "execution_count": null,
   "metadata": {},
   "outputs": [],
   "source": [
    "clusters_all.loc[idx,:].groupby(key)[col]"
   ]
  },
  {
   "cell_type": "code",
   "execution_count": null,
   "metadata": {},
   "outputs": [],
   "source": [
    "key = 'contrast'\n",
    "col = 'center0_p2p'\n",
    "\n",
    "colors = ['r','b','g']\n",
    "for i, idx in enumerate([idx_on, idx_off, idx_on_off]):\n",
    "    plt.errorbar([50, 80, 100], clusters_all.loc[idx,:].groupby(key)[col].mean(), clusters_all.loc[idx,:].groupby(key)[col].sem(),\n",
    "                 color=colors[i], capsize=5)\n",
    "\n",
    "plt.xlabel('contrast')\n",
    "plt.ylabel(col)\n",
    "plt.legend(['ON', 'OFF', 'ON-OFF'])\n",
    "\n",
    "\n",
    "print(do_anova(clusters_all.loc[idx_on,:], col))\n",
    "print(do_anova(clusters_all.loc[idx_off,:], col))\n",
    "print(do_anova(clusters_all.loc[idx_on_off,:], col))\n",
    "remove_box()"
   ]
  },
  {
   "cell_type": "code",
   "execution_count": null,
   "metadata": {},
   "outputs": [],
   "source": [
    "key = 'contrast'\n",
    "col = 'center1_p2p'\n",
    "\n",
    "colors = ['r','b','g']\n",
    "for i, idx in enumerate([idx_on, idx_off, idx_on_off]):\n",
    "    plt.errorbar([50, 80, 100], clusters_all.loc[idx,:].groupby(key)[col].mean(), clusters_all.loc[idx,:].groupby(key)[col].sem(),\n",
    "                 color=colors[i], capsize=5)\n",
    "\n",
    "plt.xlabel('contrast')\n",
    "plt.ylabel(col)\n",
    "plt.legend(['ON', 'OFF', 'ON-OFF'])\n",
    "\n",
    "\n",
    "print(do_anova(clusters_all.loc[idx_on,:], col))\n",
    "print(do_anova(clusters_all.loc[idx_off,:], col))\n",
    "print(do_anova(clusters_all.loc[idx_on_off,:], col))\n",
    "remove_box()"
   ]
  },
  {
   "cell_type": "code",
   "execution_count": null,
   "metadata": {},
   "outputs": [],
   "source": [
    "for group, data in clusters_all.groupby('cell_type', sort=False):\n",
    "    print(group)\n",
    "    print(data.mean())"
   ]
  },
  {
   "cell_type": "code",
   "execution_count": null,
   "metadata": {},
   "outputs": [],
   "source": [
    "clusters.plot.scatter(\"PSNR\", \"PSNR1\")\n",
    "plt.plot([5,25], [5,25], 'k--')\n",
    "clusters.plot.scatter(\"PSNR\", \"PSNR2\")\n",
    "plt.plot([5,25], [5,25], 'k--')"
   ]
  },
  {
   "cell_type": "code",
   "execution_count": null,
   "metadata": {},
   "outputs": [],
   "source": [
    "idx_PSNR1_increased = np.where(clusters[\"PSNR\"] < clusters[\"PSNR1\"])\n",
    "idx_PSNR2_increased = np.where(clusters[\"PSNR\"] < clusters[\"PSNR2\"])\n",
    "\n",
    "clusters.iloc[np.union1d(idx_PSNR1_increased, idx_PSNR2_increased)]"
   ]
  },
  {
   "cell_type": "code",
   "execution_count": null,
   "metadata": {},
   "outputs": [],
   "source": [
    "clusters.iloc[np.intersect1d(idx_PSNR1_increased, idx_PSNR2_increased)]"
   ]
  },
  {
   "cell_type": "code",
   "execution_count": null,
   "metadata": {},
   "outputs": [],
   "source": [
    "clusters_with_negative_inner_product = clusters.loc[clusters[\"inner_product\"]<0,:]\n",
    "\n",
    "print(len(clusters_with_negative_inner_product), len(clusters))\n",
    "clusters_with_negative_inner_product.sort_values('inner_product').head(20)"
   ]
  },
  {
   "cell_type": "code",
   "execution_count": null,
   "metadata": {},
   "outputs": [],
   "source": [
    "#plt.plot(clusters_with_negative_inner_product[])\n",
    "clusters_with_negative_inner_product.plot.scatter(\"PSNR\", \"PSNR1\")\n",
    "plt.plot([5,25], [5,25], 'k--')\n",
    "clusters_with_negative_inner_product.plot.scatter(\"PSNR\", \"PSNR2\")\n",
    "plt.plot([5,25], [5,25], 'k--')"
   ]
  },
  {
   "cell_type": "code",
   "execution_count": null,
   "metadata": {},
   "outputs": [],
   "source": [
    "bins = np.linspace(0.5, 1, 20)\n",
    "plt.hist(clusters[\"max_weight\"], bins=bins)\n",
    "#clusters[\"max_weight\"].hist()\n",
    "#plt.\n",
    "plt.savefig(\"{}/max_weight_hist.png\".format(folder_name))"
   ]
  },
  {
   "cell_type": "code",
   "execution_count": null,
   "metadata": {},
   "outputs": [],
   "source": [
    "# clusters[\"inner_product\"].hist()\n",
    "# plt.savefig(\"{}/inner_product_hist.png\".format(folder_name))"
   ]
  },
  {
   "cell_type": "markdown",
   "metadata": {},
   "source": [
    "### histogram of  innerproduct for each cell type"
   ]
  },
  {
   "cell_type": "code",
   "execution_count": null,
   "metadata": {},
   "outputs": [],
   "source": [
    "## Combine with cell type info\n",
    "# cell_type = pd.DataFrame({\"channel_name\": info[\"channel_names\"],\n",
    "#                           \"cell_type\":   info[\"cell_types\"]})\n",
    "# cell_type\n",
    "\n",
    "# clusters = clusters.merge(cell_type, on=\"channel_name\", how=\"outer\")\n",
    "\n",
    "# filename = os.path.join(folder_name, \"clusters_combined.csv\")\n",
    "# clusters.to_csv(filename, index=None)"
   ]
  },
  {
   "cell_type": "code",
   "execution_count": null,
   "metadata": {},
   "outputs": [],
   "source": [
    "# clusters\n",
    "#info[\"cell_types\"]\n",
    "#clusters.groupby(\"cell_type\").hist()\n",
    "clusters[\"inner_product\"].hist(by=clusters[\"cell_type\"])"
   ]
  },
  {
   "cell_type": "code",
   "execution_count": null,
   "metadata": {},
   "outputs": [],
   "source": [
    "plt.figure(figsize=(15,10))\n",
    "plt.subplot(221)\n",
    "# pysta.plot_histogram_by_cell_type(clusters, \"num_spikes\")\n",
    "pysta.plot_hist_by_group(clusters, \"num_spikes\", 'cell_type')\n",
    "plt.subplot(222)\n",
    "# pysta.plot_histogram_by_cell_type(clusters, \"eig1\")\n",
    "pysta.plot_hist_by_group(clusters, \"eig1\", 'cell_type')\n",
    "plt.subplot(223)\n",
    "# pysta.plot_histogram_by_cell_type(clusters, \"PSNR\")\n",
    "pysta.plot_hist_by_group(clusters, \"PSNR\", 'cell_type')\n",
    "plt.subplot(224)\n",
    "pysta.plot_hist_by_group(clusters, \"inner_product\", 'cell_type')\n",
    "# pysta.plot_histogram_by_cell_type(clusters, \"inner_product\")\n",
    "# pysta.plot_histogram_by_cell_type(clusters, \"max_weight\")\n",
    "\n",
    "plt.savefig(\"figure/{}_tap{}_cluster_dim{}_stat.pdf\".format(contrast, tap, cluster_dim))\n",
    "plt.savefig(\"figure/{}_tap{}_cluster_dim{}_stat.png\".format(contrast, tap, cluster_dim))"
   ]
  },
  {
   "cell_type": "markdown",
   "metadata": {},
   "source": [
    "## Focus on data with enough samples"
   ]
  },
  {
   "cell_type": "code",
   "execution_count": null,
   "metadata": {},
   "outputs": [],
   "source": [
    "clusters.num_spikes.hist()"
   ]
  },
  {
   "cell_type": "code",
   "execution_count": null,
   "metadata": {},
   "outputs": [],
   "source": [
    "idx_enough_samples = clusters[\"num_spikes\"]>512*4\n",
    "clusters_with_enough_samples = clusters.loc[idx_enough_samples]\n",
    "\n",
    "print(len(clusters_with_enough_samples))\n",
    "\n",
    "print(clusters_with_enough_samples[\"cell_type\"].value_counts())\n",
    "\n",
    "clusters_with_enough_samples[\"cell_type\"].hist()"
   ]
  },
  {
   "cell_type": "code",
   "execution_count": null,
   "metadata": {},
   "outputs": [],
   "source": [
    "idx_unknown = clusters_with_enough_samples[\"cell_type\"]==\"unknown\"\n",
    "\n",
    "clusters_with_enough_samples.loc[idx_unknown]\n",
    "\n",
    "# clusters_with_enough_samples.loc[idx_unknown].to_csv(\"{}_tap{}_cluster_with_enough_samples_dim{}_unknown.csv\".format(dataset_name, tap, dim))"
   ]
  },
  {
   "cell_type": "code",
   "execution_count": null,
   "metadata": {},
   "outputs": [],
   "source": [
    "plt.figure(figsize=(15,10))\n",
    "plt.subplot(221)\n",
    "pysta.plot_hist_by_group(clusters_with_enough_samples, \"num_spikes\", 'cell_type')\n",
    "plt.subplot(222)\n",
    "pysta.plot_hist_by_group(clusters_with_enough_samples, \"eig1\", 'cell_type')\n",
    "plt.subplot(223)\n",
    "pysta.plot_hist_by_group(clusters_with_enough_samples, \"PSNR\", 'cell_type')\n",
    "plt.subplot(224)\n",
    "pysta.plot_hist_by_group(clusters_with_enough_samples, \"inner_product\", 'cell_type')\n",
    "\n",
    "plt.savefig(\"figure/{}_tap{}_cluster_dim{}_enough_samples_stat.pdf\".format(contrast, tap, cluster_dim))\n",
    "plt.savefig(\"figure/{}_tap{}_cluster_dim{}_enough_samples_stat.png\".format(contrast, tap, cluster_dim))"
   ]
  },
  {
   "cell_type": "code",
   "execution_count": null,
   "metadata": {},
   "outputs": [],
   "source": [
    "# plot inner product only\n",
    "pysta.plot_hist_by_group(clusters_with_enough_samples, \"inner_product\", 'cell_type')\n",
    "# pysta.plot_histogram_by_cell_type(clusters_with_enough_samples, \"inner_product\")\n",
    "# plt.savefig(\"figure/{}_tap{}_cluster_dim{}_inner_product_hist.png\".format(dataset_name, tap, cluster_dim))\n",
    "# plt.savefig(\"figure/{}_tap{}_cluster_dim{}_inner_product_hist.pdf\".format(dataset_name, tap, cluster_dim))"
   ]
  },
  {
   "cell_type": "code",
   "execution_count": null,
   "metadata": {},
   "outputs": [],
   "source": []
  },
  {
   "cell_type": "markdown",
   "metadata": {},
   "source": [
    "## paired t-test\n",
    "\n",
    "https://docs.scipy.org/doc/scipy/reference/generated/scipy.stats.ttest_rel.html"
   ]
  },
  {
   "cell_type": "code",
   "execution_count": null,
   "metadata": {},
   "outputs": [],
   "source": [
    "# from scipy import stats"
   ]
  },
  {
   "cell_type": "code",
   "execution_count": null,
   "metadata": {},
   "outputs": [],
   "source": [
    "# stats.ttest_rel(clusters_dim2[\"max_weight\"], clusters_dim2[\"max_weight\"])"
   ]
  },
  {
   "cell_type": "code",
   "execution_count": null,
   "metadata": {},
   "outputs": [],
   "source": [
    "# stats.ttest_rel(clusters_dim2[\"inner_product\"], clusters_dim2[\"inner_product\"])"
   ]
  },
  {
   "cell_type": "code",
   "execution_count": null,
   "metadata": {},
   "outputs": [],
   "source": []
  }
 ],
 "metadata": {
  "kernelspec": {
   "display_name": "Python 3",
   "language": "python",
   "name": "python3"
  },
  "language_info": {
   "codemirror_mode": {
    "name": "ipython",
    "version": 3
   },
   "file_extension": ".py",
   "mimetype": "text/x-python",
   "name": "python",
   "nbconvert_exporter": "python",
   "pygments_lexer": "ipython3",
   "version": "3.7.6"
  }
 },
 "nbformat": 4,
 "nbformat_minor": 2
}
