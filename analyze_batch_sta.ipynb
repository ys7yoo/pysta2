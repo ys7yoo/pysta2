{
 "cells": [
  {
   "cell_type": "code",
   "execution_count": 17,
   "metadata": {},
   "outputs": [
    {
     "name": "stdout",
     "output_type": "stream",
     "text": [
      "The autoreload extension is already loaded. To reload it, use:\n",
      "  %reload_ext autoreload\n"
     ]
    }
   ],
   "source": [
    "import pandas as pd\n",
    "import numpy as np\n",
    "import matplotlib.pyplot as plt\n",
    "import seaborn as sns\n",
    "\n",
    "import pysta\n",
    "import stc\n",
    "\n",
    "import os\n",
    "\n",
    "%load_ext autoreload\n",
    "%autoreload 2"
   ]
  },
  {
   "cell_type": "markdown",
   "metadata": {},
   "source": [
    "# run for all cells (OFF LINE)\n",
    "\n",
    "run \n",
    "```\n",
    "python3 sta_batch.py [DATASET] --tap 8\n",
    "```\n",
    "\n",
    "datasets\n",
    "* 20180618\n",
    "* 20180621\n",
    "* 20180626\n",
    "* 20180828"
   ]
  },
  {
   "cell_type": "markdown",
   "metadata": {},
   "source": [
    "## load stim and spike data"
   ]
  },
  {
   "cell_type": "code",
   "execution_count": 18,
   "metadata": {},
   "outputs": [
    {
     "name": "stdout",
     "output_type": "stream",
     "text": [
      "['dataset_name', 'stim', 'spike_train', 'info']\n",
      "(64, 9000)\n",
      "(156, 9000)\n",
      "{'channel_names': ['12a', '12b', '12c', '13a', '13b', '13c', '13d', '13e', '14a', '14b', '14c', '14d', '16a', '16b', '16c', '17a', '17b', '17c', '17d', '21a', '21b', '21c', '21d', '21e', '22a', '22b', '23a', '23b', '23c', '23d', '25a', '25b', '25c', '26a', '26b', '26c', '26d', '27a', '27b', '27c', '27d', '28a', '28b', '28c', '31a', '31b', '31c', '31d', '32a', '32b', '32c', '33a', '33b', '33c', '33d', '35a', '35b', '35c', '35d', '35e', '35f', '35g', '36a', '36b', '36c', '36d', '37a', '37b', '37c', '37d', '37e', '38a', '41a', '41b', '41c', '41d', '42a', '42b', '42c', '43a', '43b', '43c', '45a', '45b', '45c', '46a', '46b', '47a', '48a', '48b', '48c', '48d', '48e', '51a', '51b', '53a', '53b', '53c', '53d', '54a', '54b', '54c', '54d', '56a', '56b', '58a', '61a', '61b', '62a', '62b', '63a', '63b', '63c', '63d', '63e', '64a', '65a', '65b', '65c', '68a', '68b', '71a', '71b', '71c', '72a', '72b', '72c', '72d', '72e', '73a', '73b', '73c', '74a', '74b', '74c', '74d', '75a', '76a', '76b', '76c', '77a', '82a', '82b', '82c', '83a', '83b', '83c', '85a', '85b', '86a', '86b', '86c', '86d', '87a', '87b', '87c'], 'sampling_rate': 10.0, 'cell_types': ['ON', 'OFF', 'OFF', 'OFF', 'OFF', 'ON', 'unknown', 'unknown', 'OFF', 'OFF', 'ON', 'unknown', 'unknown', 'unknown', 'unknown', 'ON', 'unknown', 'unknown', 'unknown', 'OFF', 'unknown', 'unknown', 'unknown', 'ON', 'ON', 'unknown', 'unknown', 'OFF', 'OFF', 'OFF', 'ON', 'ON', 'OFF', 'OFF', 'ON', 'OFF', 'unknown', 'OFF', 'ON', 'ON', 'OFF', 'OFF', 'ON', 'ON', 'OFF', 'ON', 'ON', 'ON', 'OFF', 'ON', 'unknown', 'ON', 'OFF', 'unknown', 'unknown', 'OFF', 'OFF', 'unknown', 'OFF', 'OFF', 'OFF', 'unknown', 'OFF', 'OFF', 'unknown', 'OFF', 'OFF', 'OFF', 'ON', 'OFF', 'OFF', 'OFF', 'OFF', 'unknown', 'unknown', 'unknown', 'unknown', 'OFF', 'unknown', 'OFF', 'unknown', 'OFF', 'ON', 'ON', 'OFF', 'OFF', 'OFF', 'OFF', 'unknown', 'ON', 'unknown', 'unknown', 'unknown', 'OFF', 'unknown', 'unknown', 'unknown', 'unknown', 'OFF', 'OFF', 'OFF', 'unknown', 'unknown', 'OFF', 'unknown', 'unknown', 'OFF', 'unknown', 'unknown', 'OFF', 'OFF', 'OFF', 'unknown', 'OFF', 'unknown', 'OFF', 'OFF', 'ON', 'unknown', 'unknown', 'unknown', 'OFF', 'ON', 'ON', 'OFF', 'OFF', 'ON', 'OFF', 'unknown', 'ON', 'ON', 'ON', 'OFF', 'OFF', 'unknown', 'OFF', 'OFF', 'unknown', 'unknown', 'unknown', 'OFF', 'ON', 'OFF', 'OFF', 'OFF', 'OFF', 'OFF', 'OFF', 'OFF', 'ON', 'unknown', 'ON', 'ON', 'OFF', 'ON', 'OFF']}\n"
     ]
    }
   ],
   "source": [
    "folder_name = \"data\"\n",
    "\n",
    "#dataset_name = \"20180618\"\n",
    "#dataset_name = \"20180621\"\n",
    "dataset_name = \"20180626\"\n",
    "# dataset_name = \"20180828\"\n",
    "\n",
    "stim, spike_train, info = pysta.load_data(dataset_name, folder_name)\n",
    "\n",
    "# channel_names = [ch.replace(\"ch_\",\"\") for ch in info[\"channel_names\"]]   # NOT NEEDED ANYMORE\n",
    "# info[\"channel_names\"]\n",
    "# info[\"cell_types\"]\n"
   ]
  },
  {
   "cell_type": "markdown",
   "metadata": {},
   "source": [
    "## read some statistics of sta\n",
    "\n"
   ]
  },
  {
   "cell_type": "code",
   "execution_count": 19,
   "metadata": {},
   "outputs": [
    {
     "data": {
      "text/html": [
       "<div>\n",
       "<style scoped>\n",
       "    .dataframe tbody tr th:only-of-type {\n",
       "        vertical-align: middle;\n",
       "    }\n",
       "\n",
       "    .dataframe tbody tr th {\n",
       "        vertical-align: top;\n",
       "    }\n",
       "\n",
       "    .dataframe thead th {\n",
       "        text-align: right;\n",
       "    }\n",
       "</style>\n",
       "<table border=\"1\" class=\"dataframe\">\n",
       "  <thead>\n",
       "    <tr style=\"text-align: right;\">\n",
       "      <th></th>\n",
       "      <th>channel_name</th>\n",
       "      <th>num_samples</th>\n",
       "      <th>num_spikes</th>\n",
       "      <th>max</th>\n",
       "      <th>max_time_bin</th>\n",
       "      <th>min</th>\n",
       "      <th>min_time_bin</th>\n",
       "      <th>sigma</th>\n",
       "      <th>peak_diff</th>\n",
       "      <th>polarity</th>\n",
       "      <th>PSNR</th>\n",
       "      <th>cell_type</th>\n",
       "    </tr>\n",
       "  </thead>\n",
       "  <tbody>\n",
       "    <tr>\n",
       "      <th>0</th>\n",
       "      <td>12a</td>\n",
       "      <td>2868</td>\n",
       "      <td>4173</td>\n",
       "      <td>0.104361</td>\n",
       "      <td>5</td>\n",
       "      <td>-0.197819</td>\n",
       "      <td>4</td>\n",
       "      <td>0.019981</td>\n",
       "      <td>0.302181</td>\n",
       "      <td>-1.895522</td>\n",
       "      <td>15.123475</td>\n",
       "      <td>ON</td>\n",
       "    </tr>\n",
       "    <tr>\n",
       "      <th>1</th>\n",
       "      <td>12b</td>\n",
       "      <td>1123</td>\n",
       "      <td>1239</td>\n",
       "      <td>0.203793</td>\n",
       "      <td>3</td>\n",
       "      <td>-0.286118</td>\n",
       "      <td>5</td>\n",
       "      <td>0.026305</td>\n",
       "      <td>0.489911</td>\n",
       "      <td>-1.403960</td>\n",
       "      <td>18.624368</td>\n",
       "      <td>OFF</td>\n",
       "    </tr>\n",
       "    <tr>\n",
       "      <th>2</th>\n",
       "      <td>12c</td>\n",
       "      <td>80</td>\n",
       "      <td>80</td>\n",
       "      <td>0.262500</td>\n",
       "      <td>3</td>\n",
       "      <td>-0.337500</td>\n",
       "      <td>5</td>\n",
       "      <td>0.062627</td>\n",
       "      <td>0.600000</td>\n",
       "      <td>-1.285714</td>\n",
       "      <td>9.580539</td>\n",
       "      <td>OFF</td>\n",
       "    </tr>\n",
       "    <tr>\n",
       "      <th>3</th>\n",
       "      <td>13a</td>\n",
       "      <td>6610</td>\n",
       "      <td>8830</td>\n",
       "      <td>0.082220</td>\n",
       "      <td>4</td>\n",
       "      <td>-0.101359</td>\n",
       "      <td>5</td>\n",
       "      <td>0.011100</td>\n",
       "      <td>0.183579</td>\n",
       "      <td>-1.232782</td>\n",
       "      <td>16.538420</td>\n",
       "      <td>OFF</td>\n",
       "    </tr>\n",
       "    <tr>\n",
       "      <th>4</th>\n",
       "      <td>13b</td>\n",
       "      <td>648</td>\n",
       "      <td>998</td>\n",
       "      <td>0.222445</td>\n",
       "      <td>3</td>\n",
       "      <td>-0.366733</td>\n",
       "      <td>5</td>\n",
       "      <td>0.034582</td>\n",
       "      <td>0.589178</td>\n",
       "      <td>-1.648649</td>\n",
       "      <td>17.037106</td>\n",
       "      <td>OFF</td>\n",
       "    </tr>\n",
       "    <tr>\n",
       "      <th>...</th>\n",
       "      <td>...</td>\n",
       "      <td>...</td>\n",
       "      <td>...</td>\n",
       "      <td>...</td>\n",
       "      <td>...</td>\n",
       "      <td>...</td>\n",
       "      <td>...</td>\n",
       "      <td>...</td>\n",
       "      <td>...</td>\n",
       "      <td>...</td>\n",
       "      <td>...</td>\n",
       "      <td>...</td>\n",
       "    </tr>\n",
       "    <tr>\n",
       "      <th>151</th>\n",
       "      <td>86c</td>\n",
       "      <td>526</td>\n",
       "      <td>705</td>\n",
       "      <td>0.203546</td>\n",
       "      <td>5</td>\n",
       "      <td>-0.073050</td>\n",
       "      <td>4</td>\n",
       "      <td>0.027016</td>\n",
       "      <td>0.276596</td>\n",
       "      <td>2.786408</td>\n",
       "      <td>10.238226</td>\n",
       "      <td>ON</td>\n",
       "    </tr>\n",
       "    <tr>\n",
       "      <th>152</th>\n",
       "      <td>86d</td>\n",
       "      <td>149</td>\n",
       "      <td>151</td>\n",
       "      <td>0.228477</td>\n",
       "      <td>5</td>\n",
       "      <td>-0.175497</td>\n",
       "      <td>3</td>\n",
       "      <td>0.046548</td>\n",
       "      <td>0.403974</td>\n",
       "      <td>1.301887</td>\n",
       "      <td>8.678597</td>\n",
       "      <td>ON</td>\n",
       "    </tr>\n",
       "    <tr>\n",
       "      <th>153</th>\n",
       "      <td>87a</td>\n",
       "      <td>3872</td>\n",
       "      <td>9120</td>\n",
       "      <td>0.216118</td>\n",
       "      <td>4</td>\n",
       "      <td>-0.386513</td>\n",
       "      <td>5</td>\n",
       "      <td>0.027801</td>\n",
       "      <td>0.602632</td>\n",
       "      <td>-1.788432</td>\n",
       "      <td>21.676952</td>\n",
       "      <td>OFF</td>\n",
       "    </tr>\n",
       "    <tr>\n",
       "      <th>154</th>\n",
       "      <td>87b</td>\n",
       "      <td>3512</td>\n",
       "      <td>3797</td>\n",
       "      <td>0.244799</td>\n",
       "      <td>5</td>\n",
       "      <td>-0.076508</td>\n",
       "      <td>3</td>\n",
       "      <td>0.019283</td>\n",
       "      <td>0.321306</td>\n",
       "      <td>3.199656</td>\n",
       "      <td>16.662341</td>\n",
       "      <td>ON</td>\n",
       "    </tr>\n",
       "    <tr>\n",
       "      <th>155</th>\n",
       "      <td>87c</td>\n",
       "      <td>535</td>\n",
       "      <td>595</td>\n",
       "      <td>0.091597</td>\n",
       "      <td>3</td>\n",
       "      <td>-0.178992</td>\n",
       "      <td>5</td>\n",
       "      <td>0.026295</td>\n",
       "      <td>0.270588</td>\n",
       "      <td>-1.954128</td>\n",
       "      <td>10.290554</td>\n",
       "      <td>OFF</td>\n",
       "    </tr>\n",
       "  </tbody>\n",
       "</table>\n",
       "<p>156 rows × 12 columns</p>\n",
       "</div>"
      ],
      "text/plain": [
       "    channel_name  num_samples  num_spikes       max  max_time_bin       min  \\\n",
       "0            12a         2868        4173  0.104361             5 -0.197819   \n",
       "1            12b         1123        1239  0.203793             3 -0.286118   \n",
       "2            12c           80          80  0.262500             3 -0.337500   \n",
       "3            13a         6610        8830  0.082220             4 -0.101359   \n",
       "4            13b          648         998  0.222445             3 -0.366733   \n",
       "..           ...          ...         ...       ...           ...       ...   \n",
       "151          86c          526         705  0.203546             5 -0.073050   \n",
       "152          86d          149         151  0.228477             5 -0.175497   \n",
       "153          87a         3872        9120  0.216118             4 -0.386513   \n",
       "154          87b         3512        3797  0.244799             5 -0.076508   \n",
       "155          87c          535         595  0.091597             3 -0.178992   \n",
       "\n",
       "     min_time_bin     sigma  peak_diff  polarity       PSNR cell_type  \n",
       "0               4  0.019981   0.302181 -1.895522  15.123475        ON  \n",
       "1               5  0.026305   0.489911 -1.403960  18.624368       OFF  \n",
       "2               5  0.062627   0.600000 -1.285714   9.580539       OFF  \n",
       "3               5  0.011100   0.183579 -1.232782  16.538420       OFF  \n",
       "4               5  0.034582   0.589178 -1.648649  17.037106       OFF  \n",
       "..            ...       ...        ...       ...        ...       ...  \n",
       "151             4  0.027016   0.276596  2.786408  10.238226        ON  \n",
       "152             3  0.046548   0.403974  1.301887   8.678597        ON  \n",
       "153             5  0.027801   0.602632 -1.788432  21.676952       OFF  \n",
       "154             3  0.019283   0.321306  3.199656  16.662341        ON  \n",
       "155             5  0.026295   0.270588 -1.954128  10.290554       OFF  \n",
       "\n",
       "[156 rows x 12 columns]"
      ]
     },
     "execution_count": 19,
     "metadata": {},
     "output_type": "execute_result"
    }
   ],
   "source": [
    "tap = 8\n",
    "folder_name = \"{}_tap{}_sta\".format(dataset_name, tap)\n",
    "sta_stat = pd.read_csv(os.path.join(folder_name, \"stat.csv\"))\n",
    "\n",
    "# subtract center from min,max\n",
    "sta_stat[\"min\"] -= 0.5\n",
    "sta_stat[\"max\"] -= 0.5\n",
    "\n",
    "sta_stat[\"peak_diff\"] = sta_stat[\"max\"] - sta_stat[\"min\"] \n",
    "\n",
    "# calc polarity\n",
    "pos = np.abs(sta_stat[\"max\"])\n",
    "neg = np.abs(sta_stat[\"min\"])\n",
    "\n",
    "#sta_result[\"polarity\"] = (pos - neg) / np.sqrt(pos) / np.sqrt(neg)\n",
    "# sta_result[\"polarity\"] = (pos - neg) / np.minimum(pos, neg)\n",
    "sta_stat[\"polarity\"] = np.maximum(pos, neg) / np.minimum(pos, neg) * np.sign(pos-neg)\n",
    "\n",
    "# calc d_prime\n",
    "sta_stat[\"PSNR\"] = (sta_stat[\"max\"] - sta_stat[\"min\"]) / sta_stat[\"sigma\"]\n",
    "\n",
    "\n",
    "# add cell type (from PSTH)\n",
    "sta_stat[\"cell_type\"] = info[\"cell_types\"]\n",
    "sta_stat.to_csv(os.path.join(folder_name, \"stat_more.csv\"), index=None)\n",
    "\n",
    "sta_stat"
   ]
  },
  {
   "cell_type": "code",
   "execution_count": 20,
   "metadata": {},
   "outputs": [
    {
     "data": {
      "text/plain": [
       "Text(0, 0.5, 'count')"
      ]
     },
     "execution_count": 20,
     "metadata": {},
     "output_type": "execute_result"
    },
    {
     "data": {
      "image/png": "[encoded data removed]",
      "text/plain": [
       "<Figure size 864x576 with 4 Axes>"
      ]
     },
     "metadata": {
      "needs_background": "light"
     },
     "output_type": "display_data"
    }
   ],
   "source": [
    "num_bins = 50\n",
    "plt.figure(figsize=(12,8))\n",
    "\n",
    "plt.subplot(221)\n",
    "plt.hist(sta_stat[\"max\"], num_bins)\n",
    "plt.xlabel(\"max or min\")\n",
    "plt.ylabel(\"count\")\n",
    "\n",
    "# plt.subplot(222)\n",
    "plt.hist(sta_stat[\"min\"], num_bins)\n",
    "plt.xlabel(\"min\")\n",
    "plt.ylabel(\"count\")\n",
    "\n",
    "plt.subplot(222)\n",
    "plt.hist(sta_stat[\"max\"] - sta_stat[\"min\"], num_bins)\n",
    "plt.xlabel(\"max - min\")\n",
    "plt.ylabel(\"count\")\n",
    "\n",
    "\n",
    "plt.subplot(223)\n",
    "plt.hist(sta_stat[\"polarity\"], num_bins)\n",
    "plt.xlabel(\"polarity (1st peak / 2nd peak * sign(1st peak))\")\n",
    "plt.ylabel(\"count\")\n",
    "\n",
    "plt.subplot(224)\n",
    "plt.hist(sta_stat[\"PSNR\"], num_bins)\n",
    "plt.xlabel(\"PSNR\")\n",
    "plt.ylabel(\"count\")"
   ]
  },
  {
   "cell_type": "markdown",
   "metadata": {},
   "source": [
    "## plot for each cell type"
   ]
  },
  {
   "cell_type": "code",
   "execution_count": 21,
   "metadata": {},
   "outputs": [],
   "source": [
    "# helper function to plot histograms of a column by cell_type\n",
    "def plot_histogram_by_cell_type(clusters, col_name, alpha=0.5):\n",
    "    idx_on = clusters[\"cell_type\"] == \"ON\"\n",
    "    clusters.loc[idx_on, col_name].hist(alpha=alpha)\n",
    "\n",
    "    idx_on = clusters[\"cell_type\"] == \"OFF\"\n",
    "    clusters.loc[idx_on, col_name].hist(alpha=alpha)\n",
    "\n",
    "    idx_unknown = clusters[\"cell_type\"] == \"unknown\"\n",
    "    clusters.loc[idx_unknown, col_name].hist(alpha=alpha)\n",
    "\n",
    "    plt.xlabel(col_name)\n",
    "    plt.ylabel(\"count\")\n",
    "    plt.legend([\"ON\", \"OFF\", \"unknown\"])"
   ]
  },
  {
   "cell_type": "code",
   "execution_count": 30,
   "metadata": {},
   "outputs": [
    {
     "data": {
      "image/png": "[encoded data removed]",
      "text/plain": [
       "<Figure size 864x360 with 2 Axes>"
      ]
     },
     "metadata": {
      "needs_background": "light"
     },
     "output_type": "display_data"
    }
   ],
   "source": [
    "plt.figure(figsize=(12,5))\n",
    "plt.subplot(121)\n",
    "plot_histogram_by_cell_type(sta_stat, \"max\")\n",
    "plt.subplot(122)\n",
    "plot_histogram_by_cell_type(sta_stat, \"max_time_bin\")"
   ]
  },
  {
   "cell_type": "code",
   "execution_count": 31,
   "metadata": {},
   "outputs": [
    {
     "data": {
      "image/png": "[encoded data removed]",
      "text/plain": [
       "<Figure size 864x360 with 2 Axes>"
      ]
     },
     "metadata": {
      "needs_background": "light"
     },
     "output_type": "display_data"
    }
   ],
   "source": [
    "plt.figure(figsize=(12,5))\n",
    "plt.subplot(121)\n",
    "plot_histogram_by_cell_type(sta_stat, \"min\")\n",
    "plt.subplot(122)\n",
    "plot_histogram_by_cell_type(sta_stat, \"min_time_bin\")"
   ]
  },
  {
   "cell_type": "code",
   "execution_count": 22,
   "metadata": {},
   "outputs": [
    {
     "data": {
      "image/png": "[encoded data removed]",
      "text/plain": [
       "<Figure size 432x288 with 1 Axes>"
      ]
     },
     "metadata": {
      "needs_background": "light"
     },
     "output_type": "display_data"
    }
   ],
   "source": [
    "plot_histogram_by_cell_type(sta_stat, \"peak_diff\")"
   ]
  },
  {
   "cell_type": "code",
   "execution_count": 23,
   "metadata": {},
   "outputs": [
    {
     "data": {
      "image/png": "[encoded data removed]",
      "text/plain": [
       "<Figure size 432x288 with 1 Axes>"
      ]
     },
     "metadata": {
      "needs_background": "light"
     },
     "output_type": "display_data"
    }
   ],
   "source": [
    "plot_histogram_by_cell_type(sta_stat, \"sigma\")"
   ]
  },
  {
   "cell_type": "code",
   "execution_count": 24,
   "metadata": {},
   "outputs": [
    {
     "data": {
      "image/png": "[encoded data removed]",
      "text/plain": [
       "<Figure size 432x288 with 1 Axes>"
      ]
     },
     "metadata": {
      "needs_background": "light"
     },
     "output_type": "display_data"
    }
   ],
   "source": [
    "plot_histogram_by_cell_type(sta_stat, \"PSNR\")"
   ]
  },
  {
   "cell_type": "markdown",
   "metadata": {},
   "source": [
    "## plot some examples"
   ]
  },
  {
   "cell_type": "code",
   "execution_count": 25,
   "metadata": {},
   "outputs": [
    {
     "data": {
      "text/html": [
       "<div>\n",
       "<style scoped>\n",
       "    .dataframe tbody tr th:only-of-type {\n",
       "        vertical-align: middle;\n",
       "    }\n",
       "\n",
       "    .dataframe tbody tr th {\n",
       "        vertical-align: top;\n",
       "    }\n",
       "\n",
       "    .dataframe thead th {\n",
       "        text-align: right;\n",
       "    }\n",
       "</style>\n",
       "<table border=\"1\" class=\"dataframe\">\n",
       "  <thead>\n",
       "    <tr style=\"text-align: right;\">\n",
       "      <th></th>\n",
       "      <th>channel_name</th>\n",
       "      <th>num_samples</th>\n",
       "      <th>num_spikes</th>\n",
       "      <th>max</th>\n",
       "      <th>max_time_bin</th>\n",
       "      <th>min</th>\n",
       "      <th>min_time_bin</th>\n",
       "      <th>sigma</th>\n",
       "      <th>peak_diff</th>\n",
       "      <th>polarity</th>\n",
       "      <th>PSNR</th>\n",
       "      <th>cell_type</th>\n",
       "    </tr>\n",
       "  </thead>\n",
       "  <tbody>\n",
       "    <tr>\n",
       "      <th>154</th>\n",
       "      <td>87b</td>\n",
       "      <td>3512</td>\n",
       "      <td>3797</td>\n",
       "      <td>0.244799</td>\n",
       "      <td>5</td>\n",
       "      <td>-0.076508</td>\n",
       "      <td>3</td>\n",
       "      <td>0.019283</td>\n",
       "      <td>0.321306</td>\n",
       "      <td>3.199656</td>\n",
       "      <td>16.662341</td>\n",
       "      <td>ON</td>\n",
       "    </tr>\n",
       "  </tbody>\n",
       "</table>\n",
       "</div>"
      ],
      "text/plain": [
       "    channel_name  num_samples  num_spikes       max  max_time_bin       min  \\\n",
       "154          87b         3512        3797  0.244799             5 -0.076508   \n",
       "\n",
       "     min_time_bin     sigma  peak_diff  polarity       PSNR cell_type  \n",
       "154             3  0.019283   0.321306  3.199656  16.662341        ON  "
      ]
     },
     "execution_count": 25,
     "metadata": {},
     "output_type": "execute_result"
    },
    {
     "data": {
      "image/png": "[encoded data removed]",
      "text/plain": [
       "<Figure size 864x720 with 2 Axes>"
      ]
     },
     "metadata": {
      "needs_background": "light"
     },
     "output_type": "display_data"
    }
   ],
   "source": [
    "\n",
    "#channel_name = \"14b\"\n",
    "# channel_name = \"36c\"\n",
    "channel_name = \"87b\"\n",
    "\n",
    "plt.figure(figsize=(12,10))\n",
    "\n",
    "plt.subplot(211)\n",
    "plt.imshow(plt.imread(\"{}_tap8_sta/{}_sta.png\".format(dataset_name, channel_name)))\n",
    "plt.axis(\"off\")\n",
    "\n",
    "plt.subplot(212)\n",
    "plt.imshow(plt.imread(\"{}_tap8_sta/{}_sta_temp.png\".format(dataset_name, channel_name)))\n",
    "plt.axis(\"off\")\n",
    "\n",
    "idx = sta_stat[\"channel_name\"] == channel_name\n",
    "sta_stat.loc[idx,:]"
   ]
  },
  {
   "cell_type": "markdown",
   "metadata": {},
   "source": [
    "## further analysis"
   ]
  }
 ],
 "metadata": {
  "kernelspec": {
   "display_name": "Python 3",
   "language": "python",
   "name": "python3"
  },
  "language_info": {
   "codemirror_mode": {
    "name": "ipython",
    "version": 3
   },
   "file_extension": ".py",
   "mimetype": "text/x-python",
   "name": "python",
   "nbconvert_exporter": "python",
   "pygments_lexer": "ipython3",
   "version": "3.6.9"
  }
 },
 "nbformat": 4,
 "nbformat_minor": 2
}
